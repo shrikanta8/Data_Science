{
 "cells": [
  {
   "cell_type": "code",
   "execution_count": 1,
   "id": "6ba681e2-3de6-4413-8626-9c8950baa0e1",
   "metadata": {},
   "outputs": [],
   "source": [
    "# sort, search, count functions"
   ]
  },
  {
   "cell_type": "code",
   "execution_count": 2,
   "id": "9c7da467-b166-4216-ba18-b9a2ed9f0f70",
   "metadata": {},
   "outputs": [],
   "source": [
    "import numpy as np"
   ]
  },
  {
   "cell_type": "code",
   "execution_count": 3,
   "id": "11cae81b-fba9-4078-aa59-817d52442a01",
   "metadata": {},
   "outputs": [],
   "source": [
    "arr = np.array([4,8,2,1,16,8])"
   ]
  },
  {
   "cell_type": "code",
   "execution_count": 4,
   "id": "fa8f3963-e3bb-4da1-b919-37450c7801f1",
   "metadata": {},
   "outputs": [
    {
     "data": {
      "text/plain": [
       "array([ 4,  8,  2,  1, 16,  8])"
      ]
     },
     "execution_count": 4,
     "metadata": {},
     "output_type": "execute_result"
    }
   ],
   "source": [
    "arr"
   ]
  },
  {
   "cell_type": "code",
   "execution_count": 5,
   "id": "8c8c9da5-227b-47a0-90e6-8c3b565ee396",
   "metadata": {},
   "outputs": [],
   "source": [
    "arr1 = np.sort(arr)"
   ]
  },
  {
   "cell_type": "code",
   "execution_count": null,
   "id": "4d9577cd-3fee-4b06-807b-aa9b86592522",
   "metadata": {},
   "outputs": [],
   "source": []
  },
  {
   "cell_type": "code",
   "execution_count": 6,
   "id": "093ba964-1778-4b88-a40f-04316ae38761",
   "metadata": {},
   "outputs": [
    {
     "data": {
      "text/plain": [
       "array([ 1,  2,  4,  8,  8, 16])"
      ]
     },
     "execution_count": 6,
     "metadata": {},
     "output_type": "execute_result"
    }
   ],
   "source": [
    "arr1"
   ]
  },
  {
   "cell_type": "code",
   "execution_count": 7,
   "id": "08b6ba00-273f-4dcb-9800-7afcf7edf659",
   "metadata": {},
   "outputs": [
    {
     "data": {
      "text/plain": [
       "3"
      ]
     },
     "execution_count": 7,
     "metadata": {},
     "output_type": "execute_result"
    }
   ],
   "source": [
    "np.searchsorted(arr1,5)"
   ]
  },
  {
   "cell_type": "code",
   "execution_count": null,
   "id": "305a3ff8-632e-4b29-8970-082ef9914cae",
   "metadata": {},
   "outputs": [],
   "source": []
  },
  {
   "cell_type": "code",
   "execution_count": 8,
   "id": "d10a4b88-450a-4f8a-86a9-1f12794e4352",
   "metadata": {},
   "outputs": [],
   "source": [
    "arr2 = np.array([0,4,0,6,22,0,0,5])"
   ]
  },
  {
   "cell_type": "code",
   "execution_count": 9,
   "id": "19e3e110-c287-4db7-bbf3-fda03c583fe4",
   "metadata": {},
   "outputs": [
    {
     "data": {
      "text/plain": [
       "4"
      ]
     },
     "execution_count": 9,
     "metadata": {},
     "output_type": "execute_result"
    }
   ],
   "source": [
    "np.count_nonzero(arr2)"
   ]
  },
  {
   "cell_type": "code",
   "execution_count": null,
   "id": "fc91212b-f1c3-4dfc-aff1-1b0d5c867f25",
   "metadata": {},
   "outputs": [],
   "source": []
  },
  {
   "cell_type": "code",
   "execution_count": 10,
   "id": "897d3fad-97fc-400c-aea1-ced74177cf69",
   "metadata": {},
   "outputs": [
    {
     "data": {
      "text/plain": [
       "array([ 4,  8,  2,  1, 16,  8])"
      ]
     },
     "execution_count": 10,
     "metadata": {},
     "output_type": "execute_result"
    }
   ],
   "source": [
    "arr"
   ]
  },
  {
   "cell_type": "code",
   "execution_count": 11,
   "id": "3b0c3674-aa74-4f9a-8242-ab5d3c5a2790",
   "metadata": {},
   "outputs": [
    {
     "data": {
      "text/plain": [
       "(array([1, 4, 5]),)"
      ]
     },
     "execution_count": 11,
     "metadata": {},
     "output_type": "execute_result"
    }
   ],
   "source": [
    "np.where(arr > 4)  # indices where values are > 4"
   ]
  },
  {
   "cell_type": "code",
   "execution_count": 12,
   "id": "4b309673-f40e-43f1-bca2-b87de6e005ee",
   "metadata": {},
   "outputs": [
    {
     "data": {
      "text/plain": [
       "array([ 8, 16,  8])"
      ]
     },
     "execution_count": 12,
     "metadata": {},
     "output_type": "execute_result"
    }
   ],
   "source": [
    "np.extract(arr > 7,arr)"
   ]
  },
  {
   "cell_type": "code",
   "execution_count": 13,
   "id": "f7a46329-4519-449f-afd9-d1b36dd2db33",
   "metadata": {},
   "outputs": [
    {
     "data": {
      "text/plain": [
       "array([ 288230376151711744,  576460752303423488,  144115188075855872,\n",
       "         72057594037927936, 1152921504606846976,  576460752303423488])"
      ]
     },
     "execution_count": 13,
     "metadata": {},
     "output_type": "execute_result"
    }
   ],
   "source": [
    "arr.byteswap()"
   ]
  },
  {
   "cell_type": "code",
   "execution_count": null,
   "id": "b0996d5c-bb22-4d8a-b979-5a9930bd3bf7",
   "metadata": {},
   "outputs": [],
   "source": []
  },
  {
   "cell_type": "code",
   "execution_count": 14,
   "id": "97b2991a-4c68-4632-b56e-11e0495515d5",
   "metadata": {},
   "outputs": [],
   "source": [
    "# copies and views"
   ]
  },
  {
   "cell_type": "code",
   "execution_count": 15,
   "id": "8d8d2511-8adb-4024-992e-ae91052c804d",
   "metadata": {},
   "outputs": [
    {
     "data": {
      "text/plain": [
       "array([ 4,  8,  2,  1, 16,  8])"
      ]
     },
     "execution_count": 15,
     "metadata": {},
     "output_type": "execute_result"
    }
   ],
   "source": [
    "arr"
   ]
  },
  {
   "cell_type": "code",
   "execution_count": 16,
   "id": "11902f01-bcb6-4d8f-b455-ab0bccf0d096",
   "metadata": {},
   "outputs": [],
   "source": [
    "a = np.copy(arr)      # deep copy"
   ]
  },
  {
   "cell_type": "code",
   "execution_count": 17,
   "id": "436977bf-1b52-4a2d-9547-b9ec5ac8b1f5",
   "metadata": {},
   "outputs": [],
   "source": [
    "b = arr.view()         # shallow copy (b==arr)"
   ]
  },
  {
   "cell_type": "code",
   "execution_count": 18,
   "id": "fba0c069-6152-4c4b-bd86-fccf09753cf3",
   "metadata": {},
   "outputs": [
    {
     "data": {
      "text/plain": [
       "array([ 4,  8,  2,  1, 16,  8])"
      ]
     },
     "execution_count": 18,
     "metadata": {},
     "output_type": "execute_result"
    }
   ],
   "source": [
    "b"
   ]
  },
  {
   "cell_type": "code",
   "execution_count": 19,
   "id": "f62941de-2cab-4a07-b4b6-8a4e86e34bcd",
   "metadata": {},
   "outputs": [
    {
     "data": {
      "text/plain": [
       "array([ 4,  8,  2,  1, 16,  8])"
      ]
     },
     "execution_count": 19,
     "metadata": {},
     "output_type": "execute_result"
    }
   ],
   "source": [
    "arr"
   ]
  },
  {
   "cell_type": "code",
   "execution_count": 20,
   "id": "ed099300-da27-4bcf-aef9-e589aae8fc17",
   "metadata": {},
   "outputs": [],
   "source": [
    "b[0] = 67"
   ]
  },
  {
   "cell_type": "code",
   "execution_count": 21,
   "id": "db3e51d2-08f5-4989-b1ac-3213e0374478",
   "metadata": {},
   "outputs": [
    {
     "data": {
      "text/plain": [
       "array([67,  8,  2,  1, 16,  8])"
      ]
     },
     "execution_count": 21,
     "metadata": {},
     "output_type": "execute_result"
    }
   ],
   "source": [
    "b"
   ]
  },
  {
   "cell_type": "code",
   "execution_count": 22,
   "id": "674ef018-219c-47d7-91e5-630aec61f08c",
   "metadata": {},
   "outputs": [
    {
     "data": {
      "text/plain": [
       "array([67,  8,  2,  1, 16,  8])"
      ]
     },
     "execution_count": 22,
     "metadata": {},
     "output_type": "execute_result"
    }
   ],
   "source": [
    "arr"
   ]
  },
  {
   "cell_type": "code",
   "execution_count": 23,
   "id": "f52248ab-1092-41ea-a1e1-c78bb79a7ecd",
   "metadata": {},
   "outputs": [],
   "source": [
    "a[0] = 99"
   ]
  },
  {
   "cell_type": "code",
   "execution_count": 24,
   "id": "0cfdfbc0-ca20-4a56-b86e-5401ff26b5cc",
   "metadata": {},
   "outputs": [
    {
     "data": {
      "text/plain": [
       "array([99,  8,  2,  1, 16,  8])"
      ]
     },
     "execution_count": 24,
     "metadata": {},
     "output_type": "execute_result"
    }
   ],
   "source": [
    "a"
   ]
  },
  {
   "cell_type": "code",
   "execution_count": 25,
   "id": "0a90dfc9-c8fb-4fc9-9033-fce8c2529c53",
   "metadata": {},
   "outputs": [
    {
     "data": {
      "text/plain": [
       "array([67,  8,  2,  1, 16,  8])"
      ]
     },
     "execution_count": 25,
     "metadata": {},
     "output_type": "execute_result"
    }
   ],
   "source": [
    "arr"
   ]
  },
  {
   "cell_type": "code",
   "execution_count": null,
   "id": "f6939c51-7a9a-4ad2-aa40-78a455f9f8d9",
   "metadata": {},
   "outputs": [],
   "source": []
  },
  {
   "cell_type": "code",
   "execution_count": 26,
   "id": "dc60a6e4-8ffd-43c2-ab7b-861aa06f724c",
   "metadata": {},
   "outputs": [],
   "source": [
    "# matrix library"
   ]
  },
  {
   "cell_type": "code",
   "execution_count": 27,
   "id": "c48f1a96-42ee-4ccf-841f-54e836171c7d",
   "metadata": {},
   "outputs": [],
   "source": [
    "import numpy.matlib as nm"
   ]
  },
  {
   "cell_type": "code",
   "execution_count": 28,
   "id": "91d8ba8b-ec95-4ecf-821a-6ba2316047b5",
   "metadata": {},
   "outputs": [
    {
     "data": {
      "text/plain": [
       "matrix([[0., 0., 0., 0., 0.]])"
      ]
     },
     "execution_count": 28,
     "metadata": {},
     "output_type": "execute_result"
    }
   ],
   "source": [
    "nm.zeros(5)"
   ]
  },
  {
   "cell_type": "code",
   "execution_count": 29,
   "id": "126adf31-7c93-4c52-a78f-831563e89a29",
   "metadata": {},
   "outputs": [
    {
     "data": {
      "text/plain": [
       "matrix([[1., 1., 1., 1.],\n",
       "        [1., 1., 1., 1.],\n",
       "        [1., 1., 1., 1.]])"
      ]
     },
     "execution_count": 29,
     "metadata": {},
     "output_type": "execute_result"
    }
   ],
   "source": [
    "nm.ones((3,4))"
   ]
  },
  {
   "cell_type": "code",
   "execution_count": 30,
   "id": "560942a4-4ddf-4582-a2f2-2f6c8d779999",
   "metadata": {},
   "outputs": [
    {
     "data": {
      "text/plain": [
       "matrix([[1., 0., 0., 0., 0.],\n",
       "        [0., 1., 0., 0., 0.],\n",
       "        [0., 0., 1., 0., 0.],\n",
       "        [0., 0., 0., 1., 0.],\n",
       "        [0., 0., 0., 0., 1.]])"
      ]
     },
     "execution_count": 30,
     "metadata": {},
     "output_type": "execute_result"
    }
   ],
   "source": [
    "nm.eye(5)        # identity matrix"
   ]
  },
  {
   "cell_type": "code",
   "execution_count": null,
   "id": "dc09d154-77da-4c64-bb7b-096e36d69b4b",
   "metadata": {},
   "outputs": [],
   "source": []
  },
  {
   "cell_type": "code",
   "execution_count": 31,
   "id": "412e885c-c9c7-4b6a-8131-fab6f44edd07",
   "metadata": {},
   "outputs": [],
   "source": [
    "# linear algebra"
   ]
  },
  {
   "cell_type": "code",
   "execution_count": 53,
   "id": "12ab6c90-7e39-44f6-b118-98306bf51e8b",
   "metadata": {},
   "outputs": [],
   "source": [
    "arr3 = np.random.randint([[2,3], [4,5]])"
   ]
  },
  {
   "cell_type": "code",
   "execution_count": 54,
   "id": "03c3ae69-1e09-4faf-ac11-cfedb994f923",
   "metadata": {},
   "outputs": [],
   "source": [
    "arr4 = np.random.randint([[5,3], [2,5]])"
   ]
  },
  {
   "cell_type": "code",
   "execution_count": 55,
   "id": "2b137711-2281-49bf-af35-f99a82139846",
   "metadata": {},
   "outputs": [
    {
     "data": {
      "text/plain": [
       "array([[1, 1],\n",
       "       [3, 2]])"
      ]
     },
     "execution_count": 55,
     "metadata": {},
     "output_type": "execute_result"
    }
   ],
   "source": [
    "arr3"
   ]
  },
  {
   "cell_type": "code",
   "execution_count": 56,
   "id": "71c82140-666a-41d3-a0a8-e19804b2d21f",
   "metadata": {},
   "outputs": [
    {
     "data": {
      "text/plain": [
       "array([[1, 0],\n",
       "       [1, 3]])"
      ]
     },
     "execution_count": 56,
     "metadata": {},
     "output_type": "execute_result"
    }
   ],
   "source": [
    "arr4"
   ]
  },
  {
   "cell_type": "code",
   "execution_count": 57,
   "id": "f50a987e-cb7d-4666-bd6f-063f423818bc",
   "metadata": {},
   "outputs": [
    {
     "data": {
      "text/plain": [
       "array([[2, 3],\n",
       "       [5, 6]])"
      ]
     },
     "execution_count": 57,
     "metadata": {},
     "output_type": "execute_result"
    }
   ],
   "source": [
    "np.dot(arr3,arr4)"
   ]
  },
  {
   "cell_type": "code",
   "execution_count": 58,
   "id": "92639af5-c555-4342-bd8e-8f6158301ea7",
   "metadata": {},
   "outputs": [
    {
     "data": {
      "text/plain": [
       "array([[2, 3],\n",
       "       [5, 6]])"
      ]
     },
     "execution_count": 58,
     "metadata": {},
     "output_type": "execute_result"
    }
   ],
   "source": [
    "arr3@arr4     # matrix mul"
   ]
  },
  {
   "cell_type": "code",
   "execution_count": null,
   "id": "d3f654a7-fcb1-4e61-aca4-86bb10f8fbd9",
   "metadata": {},
   "outputs": [],
   "source": []
  }
 ],
 "metadata": {
  "kernelspec": {
   "display_name": "Python 3 (ipykernel)",
   "language": "python",
   "name": "python3"
  },
  "language_info": {
   "codemirror_mode": {
    "name": "ipython",
    "version": 3
   },
   "file_extension": ".py",
   "mimetype": "text/x-python",
   "name": "python",
   "nbconvert_exporter": "python",
   "pygments_lexer": "ipython3",
   "version": "3.10.8"
  }
 },
 "nbformat": 4,
 "nbformat_minor": 5
}
