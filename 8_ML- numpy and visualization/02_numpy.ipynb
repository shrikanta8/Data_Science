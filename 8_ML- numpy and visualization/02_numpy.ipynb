{
 "cells": [
  {
   "cell_type": "code",
   "execution_count": 1,
   "id": "de18f568-18fd-44a1-a852-6b3476acfb4a",
   "metadata": {},
   "outputs": [],
   "source": [
    "import numpy as np"
   ]
  },
  {
   "cell_type": "code",
   "execution_count": 2,
   "id": "3c819cd7-d9e0-4101-be47-a5fe20242679",
   "metadata": {},
   "outputs": [],
   "source": [
    "arr = np.random.randint(1,10, (3,4))"
   ]
  },
  {
   "cell_type": "code",
   "execution_count": 3,
   "id": "1b40a170-e674-40bc-b6a0-3d3b283f2c5c",
   "metadata": {},
   "outputs": [
    {
     "data": {
      "text/plain": [
       "array([[7, 5, 1, 2],\n",
       "       [8, 9, 2, 1],\n",
       "       [9, 6, 3, 3]])"
      ]
     },
     "execution_count": 3,
     "metadata": {},
     "output_type": "execute_result"
    }
   ],
   "source": [
    "arr"
   ]
  },
  {
   "cell_type": "code",
   "execution_count": 4,
   "id": "e84adb65-0925-4818-acd3-0c2e0e7c2710",
   "metadata": {},
   "outputs": [
    {
     "data": {
      "text/plain": [
       "array([[7, 5],\n",
       "       [1, 2],\n",
       "       [8, 9],\n",
       "       [2, 1],\n",
       "       [9, 6],\n",
       "       [3, 3]])"
      ]
     },
     "execution_count": 4,
     "metadata": {},
     "output_type": "execute_result"
    }
   ],
   "source": [
    "arr.reshape(6,2)"
   ]
  },
  {
   "cell_type": "code",
   "execution_count": 5,
   "id": "a4077689-a9de-489d-bcf7-bdeda2158cb7",
   "metadata": {},
   "outputs": [
    {
     "data": {
      "text/plain": [
       "array([[7, 8, 9],\n",
       "       [5, 9, 6],\n",
       "       [1, 2, 3],\n",
       "       [2, 1, 3]])"
      ]
     },
     "execution_count": 5,
     "metadata": {},
     "output_type": "execute_result"
    }
   ],
   "source": [
    "arr.T"
   ]
  },
  {
   "cell_type": "code",
   "execution_count": 6,
   "id": "20c90084-90ef-4f39-acfd-ae0701d23ac6",
   "metadata": {},
   "outputs": [
    {
     "data": {
      "text/plain": [
       "array([7, 5, 1, 2, 8, 9, 2, 1, 9, 6, 3, 3])"
      ]
     },
     "execution_count": 6,
     "metadata": {},
     "output_type": "execute_result"
    }
   ],
   "source": [
    "arr.flatten()"
   ]
  },
  {
   "cell_type": "code",
   "execution_count": null,
   "id": "935bc450-6065-46db-ad1b-f8cf4731d7f2",
   "metadata": {},
   "outputs": [],
   "source": []
  },
  {
   "cell_type": "code",
   "execution_count": 7,
   "id": "03df44a2-41d9-4bd3-a91e-8accf5f8d576",
   "metadata": {},
   "outputs": [],
   "source": [
    "arr1 = np.array([5,6,7,8,9])"
   ]
  },
  {
   "cell_type": "code",
   "execution_count": 8,
   "id": "d5eab811-4402-43f0-b2ad-85050582d154",
   "metadata": {},
   "outputs": [
    {
     "data": {
      "text/plain": [
       "1"
      ]
     },
     "execution_count": 8,
     "metadata": {},
     "output_type": "execute_result"
    }
   ],
   "source": [
    "arr1.ndim"
   ]
  },
  {
   "cell_type": "code",
   "execution_count": 9,
   "id": "6fb5bae2-23bc-4c4b-9392-be450c8e6dd9",
   "metadata": {},
   "outputs": [
    {
     "data": {
      "text/plain": [
       "array([[5, 6, 7, 8, 9]])"
      ]
     },
     "execution_count": 9,
     "metadata": {},
     "output_type": "execute_result"
    }
   ],
   "source": [
    "np.expand_dims(arr1,axis=0)   # it expands the dimension in row by 1"
   ]
  },
  {
   "cell_type": "code",
   "execution_count": 10,
   "id": "9309bb25-a48f-4b9a-ad32-80d21cd10d26",
   "metadata": {},
   "outputs": [
    {
     "data": {
      "text/plain": [
       "array([[5],\n",
       "       [6],\n",
       "       [7],\n",
       "       [8],\n",
       "       [9]])"
      ]
     },
     "execution_count": 10,
     "metadata": {},
     "output_type": "execute_result"
    }
   ],
   "source": [
    "np.expand_dims(arr1,axis=1)   # it expands the dimension by 1"
   ]
  },
  {
   "cell_type": "code",
   "execution_count": null,
   "id": "bfaddda8-8701-47df-9088-b7113947090e",
   "metadata": {},
   "outputs": [],
   "source": []
  },
  {
   "cell_type": "code",
   "execution_count": 11,
   "id": "a9abd3da-d6e2-4b59-ab03-7a0406f12584",
   "metadata": {},
   "outputs": [
    {
     "data": {
      "text/plain": [
       "array([[7, 5, 1, 2],\n",
       "       [8, 9, 2, 1],\n",
       "       [9, 6, 3, 3]])"
      ]
     },
     "execution_count": 11,
     "metadata": {},
     "output_type": "execute_result"
    }
   ],
   "source": [
    "arr"
   ]
  },
  {
   "cell_type": "code",
   "execution_count": 12,
   "id": "c337eda0-33b2-4264-9c14-e9b60f69db33",
   "metadata": {},
   "outputs": [
    {
     "data": {
      "text/plain": [
       "array([[7, 5, 1, 2],\n",
       "       [8, 9, 2, 1],\n",
       "       [9, 6, 3, 3]])"
      ]
     },
     "execution_count": 12,
     "metadata": {},
     "output_type": "execute_result"
    }
   ],
   "source": [
    "np.squeeze(arr)    #works on size 1, refer info"
   ]
  },
  {
   "cell_type": "code",
   "execution_count": 13,
   "id": "a8f70e8e-5f31-4683-9073-ee67fc376cc5",
   "metadata": {},
   "outputs": [],
   "source": [
    "arr2 = np.array([[1],[2],[3]])"
   ]
  },
  {
   "cell_type": "code",
   "execution_count": 14,
   "id": "0ca958d8-e722-41b1-8f59-edd052859907",
   "metadata": {},
   "outputs": [
    {
     "data": {
      "text/plain": [
       "array([[1],\n",
       "       [2],\n",
       "       [3]])"
      ]
     },
     "execution_count": 14,
     "metadata": {},
     "output_type": "execute_result"
    }
   ],
   "source": [
    "arr2"
   ]
  },
  {
   "cell_type": "code",
   "execution_count": 15,
   "id": "f8cb09c1-c146-4503-826f-45f35e0d41fb",
   "metadata": {},
   "outputs": [
    {
     "data": {
      "text/plain": [
       "array([1, 2, 3])"
      ]
     },
     "execution_count": 15,
     "metadata": {},
     "output_type": "execute_result"
    }
   ],
   "source": [
    "np.squeeze(arr2)"
   ]
  },
  {
   "cell_type": "code",
   "execution_count": null,
   "id": "46b3f157-3f1e-4be6-bb61-b80d0ebfe825",
   "metadata": {},
   "outputs": [],
   "source": []
  },
  {
   "cell_type": "code",
   "execution_count": 16,
   "id": "9d58785a-db58-46a8-8d8f-5b86d52a9398",
   "metadata": {},
   "outputs": [
    {
     "data": {
      "text/plain": [
       "array([5, 6, 7, 8, 9])"
      ]
     },
     "execution_count": 16,
     "metadata": {},
     "output_type": "execute_result"
    }
   ],
   "source": [
    "arr1"
   ]
  },
  {
   "cell_type": "code",
   "execution_count": 17,
   "id": "c0a3499b-0f42-4338-9dc9-32b8ea124cbc",
   "metadata": {},
   "outputs": [
    {
     "data": {
      "text/plain": [
       "array([5, 5, 5, 6, 6, 6, 7, 7, 7, 8, 8, 8, 9, 9, 9])"
      ]
     },
     "execution_count": 17,
     "metadata": {},
     "output_type": "execute_result"
    }
   ],
   "source": [
    "np.repeat(arr1,3)"
   ]
  },
  {
   "cell_type": "code",
   "execution_count": 18,
   "id": "314e3edf-06fe-4cc2-9336-d3f56e701903",
   "metadata": {},
   "outputs": [
    {
     "data": {
      "text/plain": [
       "array([8, 9, 5, 6, 7])"
      ]
     },
     "execution_count": 18,
     "metadata": {},
     "output_type": "execute_result"
    }
   ],
   "source": [
    "np.roll(arr1,shift=2)"
   ]
  },
  {
   "cell_type": "code",
   "execution_count": 19,
   "id": "91d3fb40-e67a-42bd-a480-b7329b51ad90",
   "metadata": {},
   "outputs": [
    {
     "data": {
      "text/plain": [
       "array([5, 6, 7, 8, 9])"
      ]
     },
     "execution_count": 19,
     "metadata": {},
     "output_type": "execute_result"
    }
   ],
   "source": [
    "arr1"
   ]
  },
  {
   "cell_type": "code",
   "execution_count": 20,
   "id": "07410f94-4409-4818-87c3-71af651c82af",
   "metadata": {},
   "outputs": [
    {
     "data": {
      "text/plain": [
       "array([[5, 0, 0, 0, 0],\n",
       "       [0, 6, 0, 0, 0],\n",
       "       [0, 0, 7, 0, 0],\n",
       "       [0, 0, 0, 8, 0],\n",
       "       [0, 0, 0, 0, 9]])"
      ]
     },
     "execution_count": 20,
     "metadata": {},
     "output_type": "execute_result"
    }
   ],
   "source": [
    "np.diag(arr1)"
   ]
  },
  {
   "cell_type": "code",
   "execution_count": null,
   "id": "e982c98b-3b43-4372-b36c-404b832b52fa",
   "metadata": {},
   "outputs": [],
   "source": []
  },
  {
   "cell_type": "code",
   "execution_count": 21,
   "id": "18ff4320-0d7b-4dac-aac4-8236f04da6fc",
   "metadata": {},
   "outputs": [],
   "source": [
    "# binary operators"
   ]
  },
  {
   "cell_type": "code",
   "execution_count": 22,
   "id": "63ec1fd8-483e-4193-88cb-4b77676a2b5e",
   "metadata": {},
   "outputs": [],
   "source": [
    "arr3 = np.random.randint(2,7,(3,4))"
   ]
  },
  {
   "cell_type": "code",
   "execution_count": 23,
   "id": "1dfc572c-fa14-445f-ac6f-92de6b3915ab",
   "metadata": {},
   "outputs": [],
   "source": [
    "arr4 = np.random.randint(2,7,(3,4))"
   ]
  },
  {
   "cell_type": "code",
   "execution_count": 24,
   "id": "4f699ab2-67f3-4f04-8c08-37201ac36338",
   "metadata": {},
   "outputs": [
    {
     "data": {
      "text/plain": [
       "array([[3, 5, 5, 6],\n",
       "       [6, 5, 5, 6],\n",
       "       [4, 6, 6, 3]])"
      ]
     },
     "execution_count": 24,
     "metadata": {},
     "output_type": "execute_result"
    }
   ],
   "source": [
    "arr3"
   ]
  },
  {
   "cell_type": "code",
   "execution_count": 25,
   "id": "7d690437-0634-4f69-847f-4867fb61e39d",
   "metadata": {},
   "outputs": [
    {
     "data": {
      "text/plain": [
       "array([[2, 6, 2, 5],\n",
       "       [4, 2, 5, 4],\n",
       "       [3, 6, 6, 3]])"
      ]
     },
     "execution_count": 25,
     "metadata": {},
     "output_type": "execute_result"
    }
   ],
   "source": [
    "arr4"
   ]
  },
  {
   "cell_type": "code",
   "execution_count": 26,
   "id": "7146663d-cd0d-48f4-b8ab-a99d82579dd2",
   "metadata": {},
   "outputs": [
    {
     "data": {
      "text/plain": [
       "array([[2, 4, 0, 4],\n",
       "       [4, 0, 5, 4],\n",
       "       [0, 6, 6, 3]])"
      ]
     },
     "execution_count": 26,
     "metadata": {},
     "output_type": "execute_result"
    }
   ],
   "source": [
    "arr3 & arr4"
   ]
  },
  {
   "cell_type": "code",
   "execution_count": 27,
   "id": "c0f1f906-8d8e-4e13-bc30-d12e2d0321ad",
   "metadata": {},
   "outputs": [
    {
     "data": {
      "text/plain": [
       "array([[-4, -6, -6, -7],\n",
       "       [-7, -6, -6, -7],\n",
       "       [-5, -7, -7, -4]])"
      ]
     },
     "execution_count": 27,
     "metadata": {},
     "output_type": "execute_result"
    }
   ],
   "source": [
    "~arr3         "
   ]
  },
  {
   "cell_type": "code",
   "execution_count": 28,
   "id": "9ea89526-61da-49c6-8db4-50efbdc9614e",
   "metadata": {},
   "outputs": [
    {
     "data": {
      "text/plain": [
       "array([[3, 7, 7, 7],\n",
       "       [6, 7, 5, 6],\n",
       "       [7, 6, 6, 3]])"
      ]
     },
     "execution_count": 28,
     "metadata": {},
     "output_type": "execute_result"
    }
   ],
   "source": [
    "arr3 | arr4"
   ]
  },
  {
   "cell_type": "code",
   "execution_count": 29,
   "id": "331b9f36-45c5-42d5-adab-d7398ec2ad5c",
   "metadata": {},
   "outputs": [
    {
     "data": {
      "text/plain": [
       "array([[ True, False,  True,  True],\n",
       "       [ True,  True, False,  True],\n",
       "       [ True, False, False, False]])"
      ]
     },
     "execution_count": 29,
     "metadata": {},
     "output_type": "execute_result"
    }
   ],
   "source": [
    "arr3 > arr4"
   ]
  },
  {
   "cell_type": "code",
   "execution_count": null,
   "id": "4098d5dc-7952-4f8d-811b-85ba84f17e03",
   "metadata": {},
   "outputs": [],
   "source": []
  },
  {
   "cell_type": "code",
   "execution_count": 30,
   "id": "86d032ab-6cbd-4438-a019-d4dd2f5f7c7c",
   "metadata": {},
   "outputs": [],
   "source": [
    "# string functions"
   ]
  },
  {
   "cell_type": "code",
   "execution_count": 31,
   "id": "93c1ab03-dcf0-40a8-ae12-dc2743e7207b",
   "metadata": {},
   "outputs": [],
   "source": [
    "arr5 = np.array(['shri','kuresh'])"
   ]
  },
  {
   "cell_type": "code",
   "execution_count": 32,
   "id": "9733690d-d6b9-49bc-a748-35740b448166",
   "metadata": {},
   "outputs": [
    {
     "data": {
      "text/plain": [
       "array(['SHRI', 'KURESH'], dtype='<U6')"
      ]
     },
     "execution_count": 32,
     "metadata": {},
     "output_type": "execute_result"
    }
   ],
   "source": [
    "np.char.upper(arr5)"
   ]
  },
  {
   "cell_type": "code",
   "execution_count": 34,
   "id": "a2061dbf-cdac-4754-84b1-5f8b4fffd6a0",
   "metadata": {},
   "outputs": [
    {
     "data": {
      "text/plain": [
       "array(['Shri', 'Kuresh'], dtype='<U6')"
      ]
     },
     "execution_count": 34,
     "metadata": {},
     "output_type": "execute_result"
    }
   ],
   "source": [
    "np.char.title(arr5)"
   ]
  },
  {
   "cell_type": "code",
   "execution_count": 35,
   "id": "a122b041-07e4-47c5-bc72-9ddb5fac7e30",
   "metadata": {},
   "outputs": [
    {
     "data": {
      "text/plain": [
       "array(['Shri', 'Kuresh'], dtype='<U6')"
      ]
     },
     "execution_count": 35,
     "metadata": {},
     "output_type": "execute_result"
    }
   ],
   "source": [
    "np.char.capitalize(arr5)"
   ]
  },
  {
   "cell_type": "code",
   "execution_count": null,
   "id": "1aab5f33-9caf-42c0-a4f0-d8af808f0824",
   "metadata": {},
   "outputs": [],
   "source": []
  },
  {
   "cell_type": "code",
   "execution_count": 36,
   "id": "6e0bf42f-db9e-4c9a-bd8a-6b549175cea2",
   "metadata": {},
   "outputs": [],
   "source": [
    "# mathematical functions"
   ]
  },
  {
   "cell_type": "code",
   "execution_count": 42,
   "id": "f2d87b47-9759-48f9-ad2c-46af7a9734d8",
   "metadata": {},
   "outputs": [
    {
     "data": {
      "text/plain": [
       "array([[2, 6, 2, 5],\n",
       "       [4, 2, 5, 4],\n",
       "       [3, 6, 6, 3]])"
      ]
     },
     "execution_count": 42,
     "metadata": {},
     "output_type": "execute_result"
    }
   ],
   "source": [
    "arr4"
   ]
  },
  {
   "cell_type": "code",
   "execution_count": 43,
   "id": "881918ab-2dae-4525-b4da-97928cbd449e",
   "metadata": {},
   "outputs": [
    {
     "data": {
      "text/plain": [
       "array([[ 0.90929743, -0.2794155 ,  0.90929743, -0.95892427],\n",
       "       [-0.7568025 ,  0.90929743, -0.95892427, -0.7568025 ],\n",
       "       [ 0.14112001, -0.2794155 , -0.2794155 ,  0.14112001]])"
      ]
     },
     "execution_count": 43,
     "metadata": {},
     "output_type": "execute_result"
    }
   ],
   "source": [
    "np.sin(arr4)"
   ]
  },
  {
   "cell_type": "code",
   "execution_count": 44,
   "id": "ac152943-402e-4136-84b2-b76837a04e29",
   "metadata": {},
   "outputs": [
    {
     "data": {
      "text/plain": [
       "array([[-0.41614684,  0.96017029, -0.41614684,  0.28366219],\n",
       "       [-0.65364362, -0.41614684,  0.28366219, -0.65364362],\n",
       "       [-0.9899925 ,  0.96017029,  0.96017029, -0.9899925 ]])"
      ]
     },
     "execution_count": 44,
     "metadata": {},
     "output_type": "execute_result"
    }
   ],
   "source": [
    "np.cos(arr4)"
   ]
  },
  {
   "cell_type": "code",
   "execution_count": 45,
   "id": "af4e192e-ad3b-4125-b636-2259acbd6c65",
   "metadata": {},
   "outputs": [
    {
     "data": {
      "text/plain": [
       "array([[-2.18503986, -0.29100619, -2.18503986, -3.38051501],\n",
       "       [ 1.15782128, -2.18503986, -3.38051501,  1.15782128],\n",
       "       [-0.14254654, -0.29100619, -0.29100619, -0.14254654]])"
      ]
     },
     "execution_count": 45,
     "metadata": {},
     "output_type": "execute_result"
    }
   ],
   "source": [
    "np.tan(arr4)"
   ]
  },
  {
   "cell_type": "code",
   "execution_count": 46,
   "id": "7cfdc087-2a8c-4b91-8283-4829643d6f41",
   "metadata": {},
   "outputs": [
    {
     "data": {
      "text/plain": [
       "array([[0.96402758, 0.99998771, 0.96402758, 0.9999092 ],\n",
       "       [0.9993293 , 0.96402758, 0.9999092 , 0.9993293 ],\n",
       "       [0.99505475, 0.99998771, 0.99998771, 0.99505475]])"
      ]
     },
     "execution_count": 46,
     "metadata": {},
     "output_type": "execute_result"
    }
   ],
   "source": [
    "np.tanh(arr4)"
   ]
  },
  {
   "cell_type": "code",
   "execution_count": 47,
   "id": "aabb2a2a-8c4e-47c0-89ee-1564f575e886",
   "metadata": {},
   "outputs": [
    {
     "data": {
      "text/plain": [
       "array([[0.30103   , 0.77815125, 0.30103   , 0.69897   ],\n",
       "       [0.60205999, 0.30103   , 0.69897   , 0.60205999],\n",
       "       [0.47712125, 0.77815125, 0.77815125, 0.47712125]])"
      ]
     },
     "execution_count": 47,
     "metadata": {},
     "output_type": "execute_result"
    }
   ],
   "source": [
    "np.log10(arr4)"
   ]
  },
  {
   "cell_type": "code",
   "execution_count": 48,
   "id": "d79df825-74d5-407f-af2c-e893a1cd6a9b",
   "metadata": {},
   "outputs": [
    {
     "data": {
      "text/plain": [
       "array([[1.41421356, 2.44948974, 1.41421356, 2.23606798],\n",
       "       [2.        , 1.41421356, 2.23606798, 2.        ],\n",
       "       [1.73205081, 2.44948974, 2.44948974, 1.73205081]])"
      ]
     },
     "execution_count": 48,
     "metadata": {},
     "output_type": "execute_result"
    }
   ],
   "source": [
    "np.sqrt(arr4)"
   ]
  },
  {
   "cell_type": "code",
   "execution_count": 49,
   "id": "6958f7ab-9148-4168-b681-f6f2e678f647",
   "metadata": {},
   "outputs": [
    {
     "data": {
      "text/plain": [
       "array([[ 4, 36,  4, 25],\n",
       "       [16,  4, 25, 16],\n",
       "       [ 9, 36, 36,  9]])"
      ]
     },
     "execution_count": 49,
     "metadata": {},
     "output_type": "execute_result"
    }
   ],
   "source": [
    "np.power(arr4,2)"
   ]
  },
  {
   "cell_type": "code",
   "execution_count": null,
   "id": "07f5dab5-4619-4072-8588-57bc95cd95bf",
   "metadata": {},
   "outputs": [],
   "source": []
  },
  {
   "cell_type": "code",
   "execution_count": 50,
   "id": "fec5066a-405c-4d03-8c65-612f51c7d47d",
   "metadata": {},
   "outputs": [
    {
     "data": {
      "text/plain": [
       "4.0"
      ]
     },
     "execution_count": 50,
     "metadata": {},
     "output_type": "execute_result"
    }
   ],
   "source": [
    "np.mean(arr4)"
   ]
  },
  {
   "cell_type": "code",
   "execution_count": 52,
   "id": "bd4c0a92-7d2c-4f3b-be8f-729c8f8437fa",
   "metadata": {},
   "outputs": [
    {
     "data": {
      "text/plain": [
       "1.5275252316519468"
      ]
     },
     "execution_count": 52,
     "metadata": {},
     "output_type": "execute_result"
    }
   ],
   "source": [
    "np.std(arr4)"
   ]
  },
  {
   "cell_type": "code",
   "execution_count": 53,
   "id": "76fa9484-cd7c-41ff-a820-c5a5b7297a75",
   "metadata": {},
   "outputs": [
    {
     "data": {
      "text/plain": [
       "2.3333333333333335"
      ]
     },
     "execution_count": 53,
     "metadata": {},
     "output_type": "execute_result"
    }
   ],
   "source": [
    "np.var(arr4)"
   ]
  },
  {
   "cell_type": "code",
   "execution_count": 54,
   "id": "7f0aea33-14a0-4564-8186-a31c4913b73a",
   "metadata": {},
   "outputs": [
    {
     "data": {
      "text/plain": [
       "2"
      ]
     },
     "execution_count": 54,
     "metadata": {},
     "output_type": "execute_result"
    }
   ],
   "source": [
    "np.min(arr4)"
   ]
  },
  {
   "cell_type": "code",
   "execution_count": null,
   "id": "fdd726e1-b549-4fec-a811-4396fef3b7cb",
   "metadata": {},
   "outputs": [],
   "source": []
  }
 ],
 "metadata": {
  "kernelspec": {
   "display_name": "Python 3 (ipykernel)",
   "language": "python",
   "name": "python3"
  },
  "language_info": {
   "codemirror_mode": {
    "name": "ipython",
    "version": 3
   },
   "file_extension": ".py",
   "mimetype": "text/x-python",
   "name": "python",
   "nbconvert_exporter": "python",
   "pygments_lexer": "ipython3",
   "version": "3.10.8"
  }
 },
 "nbformat": 4,
 "nbformat_minor": 5
}
