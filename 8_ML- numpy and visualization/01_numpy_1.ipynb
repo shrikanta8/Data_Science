{
 "cells": [
  {
   "cell_type": "code",
   "execution_count": 1,
   "id": "fb363e12-53cd-4f2c-b423-a437bdda3c6d",
   "metadata": {},
   "outputs": [],
   "source": [
    "# shallow and deep copy\n",
    "# making nd array using many ways\n",
    "# data types"
   ]
  },
  {
   "cell_type": "code",
   "execution_count": null,
   "id": "47e1a730-7817-4cac-ad24-0112e3086a34",
   "metadata": {},
   "outputs": [],
   "source": []
  },
  {
   "cell_type": "code",
   "execution_count": 2,
   "id": "7dbe59f3-2d9b-4e61-a437-4c7f08c00c0e",
   "metadata": {},
   "outputs": [],
   "source": [
    "import numpy as np"
   ]
  },
  {
   "cell_type": "code",
   "execution_count": 3,
   "id": "5106c825-8759-4f53-8369-5be6ddee8660",
   "metadata": {},
   "outputs": [],
   "source": [
    "# here we deal with arrays and metrix"
   ]
  },
  {
   "cell_type": "code",
   "execution_count": 4,
   "id": "250ae869-e970-4b98-b393-69dee1ccfe80",
   "metadata": {},
   "outputs": [],
   "source": [
    "l = [1,3,4,5]"
   ]
  },
  {
   "cell_type": "code",
   "execution_count": 5,
   "id": "a39a001f-9ace-46ea-a986-481dd528166b",
   "metadata": {},
   "outputs": [],
   "source": [
    "arr = np.array(l)"
   ]
  },
  {
   "cell_type": "code",
   "execution_count": 6,
   "id": "a54c74bd-ffd7-4b09-b9a5-c50d17653b91",
   "metadata": {},
   "outputs": [
    {
     "data": {
      "text/plain": [
       "array([1, 3, 4, 5])"
      ]
     },
     "execution_count": 6,
     "metadata": {},
     "output_type": "execute_result"
    }
   ],
   "source": [
    "arr"
   ]
  },
  {
   "cell_type": "code",
   "execution_count": 7,
   "id": "ac364227-adfb-48b9-a045-adf2a8b5dd41",
   "metadata": {},
   "outputs": [
    {
     "data": {
      "text/plain": [
       "numpy.ndarray"
      ]
     },
     "execution_count": 7,
     "metadata": {},
     "output_type": "execute_result"
    }
   ],
   "source": [
    "type(arr)"
   ]
  },
  {
   "cell_type": "code",
   "execution_count": null,
   "id": "7e12cd98-1882-4764-b6e5-555e0e706318",
   "metadata": {},
   "outputs": [],
   "source": []
  },
  {
   "cell_type": "code",
   "execution_count": 8,
   "id": "632f48b3-5c45-48ed-bd6e-a9d622ddedb8",
   "metadata": {},
   "outputs": [
    {
     "data": {
      "text/plain": [
       "array([[8, 2],\n",
       "       [3, 4]])"
      ]
     },
     "execution_count": 8,
     "metadata": {},
     "output_type": "execute_result"
    }
   ],
   "source": [
    "np.array([[8,2],[3,4]])"
   ]
  },
  {
   "cell_type": "code",
   "execution_count": null,
   "id": "95c3ced0-e3e1-42d4-9025-9ee97e105221",
   "metadata": {},
   "outputs": [],
   "source": []
  },
  {
   "cell_type": "code",
   "execution_count": 9,
   "id": "f0f3e572-0a42-453c-8700-c1c098c57e33",
   "metadata": {},
   "outputs": [
    {
     "data": {
      "text/plain": [
       "array([1, 3, 4, 5])"
      ]
     },
     "execution_count": 9,
     "metadata": {},
     "output_type": "execute_result"
    }
   ],
   "source": [
    "np.asarray(l)"
   ]
  },
  {
   "cell_type": "code",
   "execution_count": 10,
   "id": "f5a7a9ec-c516-44ca-a076-3e70df22b222",
   "metadata": {},
   "outputs": [],
   "source": [
    "a = [4,6,9]"
   ]
  },
  {
   "cell_type": "code",
   "execution_count": 11,
   "id": "25d01586-1b8e-4756-a58a-3e139e2a3930",
   "metadata": {},
   "outputs": [
    {
     "data": {
      "text/plain": [
       "array([4, 6, 9])"
      ]
     },
     "execution_count": 11,
     "metadata": {},
     "output_type": "execute_result"
    }
   ],
   "source": [
    "np.asanyarray(a)"
   ]
  },
  {
   "cell_type": "code",
   "execution_count": null,
   "id": "9b7fc2c7-df88-4c4f-b198-f07355b9c0ad",
   "metadata": {},
   "outputs": [],
   "source": []
  },
  {
   "cell_type": "code",
   "execution_count": 12,
   "id": "2b5367e7-b5b4-443f-87e5-1d1c45da5e32",
   "metadata": {},
   "outputs": [],
   "source": [
    "b = np.matrix(l)"
   ]
  },
  {
   "cell_type": "code",
   "execution_count": 13,
   "id": "90f03253-8b21-4949-99a1-d169d8db4fc2",
   "metadata": {},
   "outputs": [
    {
     "data": {
      "text/plain": [
       "matrix([[1, 3, 4, 5]])"
      ]
     },
     "execution_count": 13,
     "metadata": {},
     "output_type": "execute_result"
    }
   ],
   "source": [
    "b"
   ]
  },
  {
   "cell_type": "code",
   "execution_count": 14,
   "id": "df40863a-62a6-42c2-a701-210c4894411b",
   "metadata": {},
   "outputs": [
    {
     "data": {
      "text/plain": [
       "matrix([[1, 3, 4, 5]])"
      ]
     },
     "execution_count": 14,
     "metadata": {},
     "output_type": "execute_result"
    }
   ],
   "source": [
    "np.asanyarray(b)"
   ]
  },
  {
   "cell_type": "code",
   "execution_count": null,
   "id": "8ac98d1d-e017-4bb3-8974-21112c8d2b03",
   "metadata": {},
   "outputs": [],
   "source": []
  },
  {
   "cell_type": "code",
   "execution_count": 15,
   "id": "5627305a-7105-4ff1-95e8-8eb1d553a8b2",
   "metadata": {},
   "outputs": [],
   "source": [
    "new_arr = np.array(l)"
   ]
  },
  {
   "cell_type": "code",
   "execution_count": 16,
   "id": "7bcf5723-2f67-43f7-b52d-20a7b64114ac",
   "metadata": {},
   "outputs": [
    {
     "data": {
      "text/plain": [
       "array([1, 3, 4, 5])"
      ]
     },
     "execution_count": 16,
     "metadata": {},
     "output_type": "execute_result"
    }
   ],
   "source": [
    "new_arr"
   ]
  },
  {
   "cell_type": "code",
   "execution_count": null,
   "id": "bdeb2f62-2fc8-441b-91b5-e8ab2bff2a8b",
   "metadata": {},
   "outputs": [],
   "source": []
  },
  {
   "cell_type": "code",
   "execution_count": 17,
   "id": "e72efedc-c130-4ee4-8f52-00bc252c4b50",
   "metadata": {},
   "outputs": [],
   "source": [
    "# shallow copy"
   ]
  },
  {
   "cell_type": "code",
   "execution_count": 18,
   "id": "db6e817f-a1d2-48a4-922a-080364835d37",
   "metadata": {},
   "outputs": [],
   "source": [
    "c = new_arr     # c and new_arr are pointing to same thing"
   ]
  },
  {
   "cell_type": "code",
   "execution_count": 19,
   "id": "2dcfe01c-47a9-437d-ada5-cd69333a6995",
   "metadata": {},
   "outputs": [
    {
     "data": {
      "text/plain": [
       "array([1, 3, 4, 5])"
      ]
     },
     "execution_count": 19,
     "metadata": {},
     "output_type": "execute_result"
    }
   ],
   "source": [
    "c"
   ]
  },
  {
   "cell_type": "code",
   "execution_count": 20,
   "id": "d9777ab2-2348-4d0c-8e8b-27003a711a95",
   "metadata": {},
   "outputs": [
    {
     "data": {
      "text/plain": [
       "array([1, 3, 4, 5])"
      ]
     },
     "execution_count": 20,
     "metadata": {},
     "output_type": "execute_result"
    }
   ],
   "source": [
    "new_arr"
   ]
  },
  {
   "cell_type": "code",
   "execution_count": 21,
   "id": "c26e06d0-6443-482d-9190-dcdfbac50081",
   "metadata": {},
   "outputs": [
    {
     "data": {
      "text/plain": [
       "1"
      ]
     },
     "execution_count": 21,
     "metadata": {},
     "output_type": "execute_result"
    }
   ],
   "source": [
    "c[0]"
   ]
  },
  {
   "cell_type": "code",
   "execution_count": 22,
   "id": "cb70c982-3b3d-43a6-9004-ab44a0d436df",
   "metadata": {},
   "outputs": [],
   "source": [
    "c[0] = 100"
   ]
  },
  {
   "cell_type": "code",
   "execution_count": 23,
   "id": "c8fe4dea-0b02-44e8-939b-29962c5edd64",
   "metadata": {},
   "outputs": [
    {
     "data": {
      "text/plain": [
       "array([100,   3,   4,   5])"
      ]
     },
     "execution_count": 23,
     "metadata": {},
     "output_type": "execute_result"
    }
   ],
   "source": [
    "c"
   ]
  },
  {
   "cell_type": "code",
   "execution_count": 24,
   "id": "a69307d6-1737-48ab-af6d-51ab0fe0aa6e",
   "metadata": {},
   "outputs": [
    {
     "data": {
      "text/plain": [
       "array([100,   3,   4,   5])"
      ]
     },
     "execution_count": 24,
     "metadata": {},
     "output_type": "execute_result"
    }
   ],
   "source": [
    "new_arr"
   ]
  },
  {
   "cell_type": "code",
   "execution_count": null,
   "id": "b164fbfb-2c29-46f0-928b-d1256c21a733",
   "metadata": {},
   "outputs": [],
   "source": []
  },
  {
   "cell_type": "code",
   "execution_count": 25,
   "id": "bac73d96-f8f1-413b-b599-1a8819542df9",
   "metadata": {},
   "outputs": [],
   "source": [
    "# deep copy => allocates in new location"
   ]
  },
  {
   "cell_type": "code",
   "execution_count": 26,
   "id": "28bcb98b-ecf3-4e13-9c1f-c708137f1c12",
   "metadata": {},
   "outputs": [],
   "source": [
    "d = np.copy(new_arr)"
   ]
  },
  {
   "cell_type": "code",
   "execution_count": 27,
   "id": "03f2d82d-dfc0-4ad5-a968-14077bdadb3b",
   "metadata": {},
   "outputs": [
    {
     "data": {
      "text/plain": [
       "array([100,   3,   4,   5])"
      ]
     },
     "execution_count": 27,
     "metadata": {},
     "output_type": "execute_result"
    }
   ],
   "source": [
    "d"
   ]
  },
  {
   "cell_type": "code",
   "execution_count": 28,
   "id": "441e9319-3c59-4168-93b0-832e13136264",
   "metadata": {},
   "outputs": [
    {
     "data": {
      "text/plain": [
       "array([100,   3,   4,   5])"
      ]
     },
     "execution_count": 28,
     "metadata": {},
     "output_type": "execute_result"
    }
   ],
   "source": [
    "new_arr"
   ]
  },
  {
   "cell_type": "code",
   "execution_count": 29,
   "id": "f7ce7663-7914-4eae-af39-f49804d96028",
   "metadata": {},
   "outputs": [],
   "source": [
    "new_arr[1] = 400"
   ]
  },
  {
   "cell_type": "code",
   "execution_count": 30,
   "id": "45470bd2-5f2e-4641-940f-8ff8730951af",
   "metadata": {},
   "outputs": [
    {
     "data": {
      "text/plain": [
       "array([100, 400,   4,   5])"
      ]
     },
     "execution_count": 30,
     "metadata": {},
     "output_type": "execute_result"
    }
   ],
   "source": [
    "new_arr"
   ]
  },
  {
   "cell_type": "code",
   "execution_count": 31,
   "id": "9eb2a427-1b0e-4680-a8c2-cf2a276f690e",
   "metadata": {},
   "outputs": [
    {
     "data": {
      "text/plain": [
       "array([100,   3,   4,   5])"
      ]
     },
     "execution_count": 31,
     "metadata": {},
     "output_type": "execute_result"
    }
   ],
   "source": [
    "d"
   ]
  },
  {
   "cell_type": "code",
   "execution_count": null,
   "id": "0a3c34d2-2cc7-47b5-8a6a-1b53e52eb5e8",
   "metadata": {},
   "outputs": [],
   "source": []
  },
  {
   "cell_type": "code",
   "execution_count": 32,
   "id": "7ef01cf8-12a5-4d15-9df3-62a55c9057e6",
   "metadata": {},
   "outputs": [],
   "source": [
    "# making a 3*3 array having condition i==j "
   ]
  },
  {
   "cell_type": "code",
   "execution_count": 33,
   "id": "52bd079b-c402-4333-a903-6333447cc8ca",
   "metadata": {},
   "outputs": [
    {
     "data": {
      "text/plain": [
       "array([[ True, False, False],\n",
       "       [False,  True, False],\n",
       "       [False, False,  True]])"
      ]
     },
     "execution_count": 33,
     "metadata": {},
     "output_type": "execute_result"
    }
   ],
   "source": [
    "np.fromfunction(lambda i, j: i==j, (3,3))"
   ]
  },
  {
   "cell_type": "code",
   "execution_count": 34,
   "id": "67fb7c45-013b-4fa3-b0dc-5acaf237d34a",
   "metadata": {},
   "outputs": [],
   "source": [
    "#it is doing multiplication of indices"
   ]
  },
  {
   "cell_type": "code",
   "execution_count": 35,
   "id": "2000792b-6be6-4fa3-a1c6-7ba96a72b347",
   "metadata": {},
   "outputs": [
    {
     "data": {
      "text/plain": [
       "array([[0., 0., 0.],\n",
       "       [0., 1., 2.],\n",
       "       [0., 2., 4.]])"
      ]
     },
     "execution_count": 35,
     "metadata": {},
     "output_type": "execute_result"
    }
   ],
   "source": [
    "np.fromfunction(lambda i, j: i*j, (3,3))"
   ]
  },
  {
   "cell_type": "code",
   "execution_count": null,
   "id": "a7bcf6ae-3ee4-4a68-9296-f7dcbd32bfa9",
   "metadata": {},
   "outputs": [],
   "source": []
  },
  {
   "cell_type": "code",
   "execution_count": 36,
   "id": "2040b0ba-84fa-4772-8666-ad43f9068c76",
   "metadata": {},
   "outputs": [],
   "source": [
    "# creating array from iterables"
   ]
  },
  {
   "cell_type": "code",
   "execution_count": 37,
   "id": "810d4cb4-286d-49ce-b9fa-1fbe6a101466",
   "metadata": {},
   "outputs": [],
   "source": [
    "iterable = (i*i for i in range(5))"
   ]
  },
  {
   "cell_type": "code",
   "execution_count": 38,
   "id": "a5814d7a-2d5f-44d0-8aa6-d485a8b690e8",
   "metadata": {},
   "outputs": [
    {
     "data": {
      "text/plain": [
       "array([ 0.,  1.,  4.,  9., 16.])"
      ]
     },
     "execution_count": 38,
     "metadata": {},
     "output_type": "execute_result"
    }
   ],
   "source": [
    "np.fromiter(iterable,float)"
   ]
  },
  {
   "cell_type": "code",
   "execution_count": 39,
   "id": "8e74c089-542f-4097-9e92-20f6de272e0d",
   "metadata": {},
   "outputs": [
    {
     "data": {
      "text/plain": [
       "array([80., 82., 89., 99.])"
      ]
     },
     "execution_count": 39,
     "metadata": {},
     "output_type": "execute_result"
    }
   ],
   "source": [
    "np.fromstring('80 82 89 99', sep=' ')"
   ]
  },
  {
   "cell_type": "code",
   "execution_count": 40,
   "id": "332b6433-28dd-4c50-bc8c-42aa9149ea17",
   "metadata": {},
   "outputs": [
    {
     "data": {
      "text/plain": [
       "array([ 8.,  2.,  9., 99.])"
      ]
     },
     "execution_count": 40,
     "metadata": {},
     "output_type": "execute_result"
    }
   ],
   "source": [
    "np.fromstring('8,2,9,99', sep=',')"
   ]
  },
  {
   "cell_type": "code",
   "execution_count": null,
   "id": "5b7e4cbf-bef4-4c57-bff7-01b6a5c34648",
   "metadata": {},
   "outputs": [],
   "source": []
  },
  {
   "cell_type": "code",
   "execution_count": 41,
   "id": "a570b4a8-8d86-4c14-bc5f-4326d5b527d3",
   "metadata": {},
   "outputs": [],
   "source": [
    "# data types"
   ]
  },
  {
   "cell_type": "code",
   "execution_count": 42,
   "id": "a65ac1ae-2577-4c04-98dd-f95d92d8145c",
   "metadata": {},
   "outputs": [],
   "source": [
    "l = [3,5,7,9,11]"
   ]
  },
  {
   "cell_type": "code",
   "execution_count": 43,
   "id": "455a1e82-5a25-43b2-9f58-18cba97eb0e6",
   "metadata": {},
   "outputs": [],
   "source": [
    "ar = np.array(l)"
   ]
  },
  {
   "cell_type": "code",
   "execution_count": 44,
   "id": "64f7d3d1-6139-469c-9172-53b0d8471cbb",
   "metadata": {},
   "outputs": [
    {
     "data": {
      "text/plain": [
       "array([ 3,  5,  7,  9, 11])"
      ]
     },
     "execution_count": 44,
     "metadata": {},
     "output_type": "execute_result"
    }
   ],
   "source": [
    "ar"
   ]
  },
  {
   "cell_type": "code",
   "execution_count": 45,
   "id": "c2978131-4c0f-4ef9-b422-769ce88f463b",
   "metadata": {},
   "outputs": [
    {
     "data": {
      "text/plain": [
       "1"
      ]
     },
     "execution_count": 45,
     "metadata": {},
     "output_type": "execute_result"
    }
   ],
   "source": [
    "ar.ndim     #checking dimensions"
   ]
  },
  {
   "cell_type": "code",
   "execution_count": 46,
   "id": "710124f8-512b-4e09-92f0-44e91c0f8d05",
   "metadata": {},
   "outputs": [
    {
     "data": {
      "text/plain": [
       "5"
      ]
     },
     "execution_count": 46,
     "metadata": {},
     "output_type": "execute_result"
    }
   ],
   "source": [
    "ar.size"
   ]
  },
  {
   "cell_type": "code",
   "execution_count": 47,
   "id": "50265f49-1a8f-459a-849f-180cf2d69203",
   "metadata": {},
   "outputs": [],
   "source": [
    "ar2 = np.array([[2,4,5,6],[5,6,7,8],[2,4,9,23]])"
   ]
  },
  {
   "cell_type": "code",
   "execution_count": 48,
   "id": "6717204d-e6a8-4b06-8256-fda4139f2dbf",
   "metadata": {},
   "outputs": [
    {
     "data": {
      "text/plain": [
       "array([[ 2,  4,  5,  6],\n",
       "       [ 5,  6,  7,  8],\n",
       "       [ 2,  4,  9, 23]])"
      ]
     },
     "execution_count": 48,
     "metadata": {},
     "output_type": "execute_result"
    }
   ],
   "source": [
    "ar2"
   ]
  },
  {
   "cell_type": "code",
   "execution_count": 49,
   "id": "71630ce2-cec0-44c4-abbd-63449daf78ba",
   "metadata": {},
   "outputs": [
    {
     "data": {
      "text/plain": [
       "2"
      ]
     },
     "execution_count": 49,
     "metadata": {},
     "output_type": "execute_result"
    }
   ],
   "source": [
    "ar2.ndim "
   ]
  },
  {
   "cell_type": "code",
   "execution_count": 50,
   "id": "35bbfef7-fd93-4758-ab2d-f26c3ece6a50",
   "metadata": {},
   "outputs": [
    {
     "data": {
      "text/plain": [
       "12"
      ]
     },
     "execution_count": 50,
     "metadata": {},
     "output_type": "execute_result"
    }
   ],
   "source": [
    "ar2.size"
   ]
  },
  {
   "cell_type": "code",
   "execution_count": 51,
   "id": "dca5a636-2d5a-4f03-b84b-e976dd35f2d3",
   "metadata": {},
   "outputs": [
    {
     "data": {
      "text/plain": [
       "array([ 3,  5,  7,  9, 11])"
      ]
     },
     "execution_count": 51,
     "metadata": {},
     "output_type": "execute_result"
    }
   ],
   "source": [
    "ar"
   ]
  },
  {
   "cell_type": "code",
   "execution_count": 52,
   "id": "33706b12-86d2-475a-8259-e42d94cfc379",
   "metadata": {},
   "outputs": [
    {
     "data": {
      "text/plain": [
       "array([[ 2,  4,  5,  6],\n",
       "       [ 5,  6,  7,  8],\n",
       "       [ 2,  4,  9, 23]])"
      ]
     },
     "execution_count": 52,
     "metadata": {},
     "output_type": "execute_result"
    }
   ],
   "source": [
    "ar2"
   ]
  },
  {
   "cell_type": "code",
   "execution_count": 53,
   "id": "9af016d6-695f-486f-a69b-fc32170c789a",
   "metadata": {},
   "outputs": [
    {
     "data": {
      "text/plain": [
       "(5,)"
      ]
     },
     "execution_count": 53,
     "metadata": {},
     "output_type": "execute_result"
    }
   ],
   "source": [
    "ar.shape"
   ]
  },
  {
   "cell_type": "code",
   "execution_count": 54,
   "id": "c96ba307-4770-46ac-b4d2-6aaa8f66eecd",
   "metadata": {},
   "outputs": [
    {
     "data": {
      "text/plain": [
       "(3, 4)"
      ]
     },
     "execution_count": 54,
     "metadata": {},
     "output_type": "execute_result"
    }
   ],
   "source": [
    "ar2.shape"
   ]
  },
  {
   "cell_type": "code",
   "execution_count": 55,
   "id": "372b818e-cac5-47e7-a6a1-ec2974bb2556",
   "metadata": {},
   "outputs": [
    {
     "data": {
      "text/plain": [
       "dtype('int64')"
      ]
     },
     "execution_count": 55,
     "metadata": {},
     "output_type": "execute_result"
    }
   ],
   "source": [
    "ar.dtype"
   ]
  },
  {
   "cell_type": "code",
   "execution_count": 56,
   "id": "1f335537-ff86-42ca-94ec-fac289b881d5",
   "metadata": {},
   "outputs": [
    {
     "data": {
      "text/plain": [
       "dtype('int64')"
      ]
     },
     "execution_count": 56,
     "metadata": {},
     "output_type": "execute_result"
    }
   ],
   "source": [
    "ar2.dtype"
   ]
  },
  {
   "cell_type": "code",
   "execution_count": null,
   "id": "9aa11ee3-1ee8-4155-acc7-d5d81dbbe380",
   "metadata": {},
   "outputs": [],
   "source": []
  },
  {
   "cell_type": "code",
   "execution_count": 57,
   "id": "418e97a5-df96-4f8a-b058-a78b2880d40a",
   "metadata": {},
   "outputs": [],
   "source": [
    "ar3 = np.array([(1.4,45,55), (23,45,66)])       #as one is floating point number, it will make all as floating point"
   ]
  },
  {
   "cell_type": "code",
   "execution_count": 58,
   "id": "5265b957-9071-42d8-bccb-102f1e19b255",
   "metadata": {},
   "outputs": [
    {
     "data": {
      "text/plain": [
       "array([[ 1.4, 45. , 55. ],\n",
       "       [23. , 45. , 66. ]])"
      ]
     },
     "execution_count": 58,
     "metadata": {},
     "output_type": "execute_result"
    }
   ],
   "source": [
    "ar3     "
   ]
  },
  {
   "cell_type": "code",
   "execution_count": 59,
   "id": "c297a79d-246d-42da-9ed4-71fa9a39baa1",
   "metadata": {},
   "outputs": [
    {
     "data": {
      "text/plain": [
       "dtype('float64')"
      ]
     },
     "execution_count": 59,
     "metadata": {},
     "output_type": "execute_result"
    }
   ],
   "source": [
    "ar3.dtype"
   ]
  },
  {
   "cell_type": "code",
   "execution_count": null,
   "id": "931b9f09-98fa-497f-a6c7-24e92ed23458",
   "metadata": {},
   "outputs": [],
   "source": []
  },
  {
   "cell_type": "code",
   "execution_count": 60,
   "id": "4114a651-425f-47cf-a2ef-33c05372c866",
   "metadata": {},
   "outputs": [
    {
     "data": {
      "text/plain": [
       "[0, 1, 2, 3, 4]"
      ]
     },
     "execution_count": 60,
     "metadata": {},
     "output_type": "execute_result"
    }
   ],
   "source": [
    "list(range(5))"
   ]
  },
  {
   "cell_type": "code",
   "execution_count": 61,
   "id": "f4fd3433-5a1f-4b83-849e-a1be69bc8b98",
   "metadata": {},
   "outputs": [],
   "source": [
    "# list(range(0.1,5))       # floating point is not possible here"
   ]
  },
  {
   "cell_type": "code",
   "execution_count": 62,
   "id": "1a752a64-402d-48b7-9ddb-693a9b75062b",
   "metadata": {},
   "outputs": [
    {
     "data": {
      "text/plain": [
       "array([2.3, 3.3, 4.3, 5.3])"
      ]
     },
     "execution_count": 62,
     "metadata": {},
     "output_type": "execute_result"
    }
   ],
   "source": [
    "np.arange(2.3,5.6)"
   ]
  },
  {
   "cell_type": "code",
   "execution_count": 63,
   "id": "be1f8a73-d27f-4e0f-a418-16caeaff914a",
   "metadata": {},
   "outputs": [
    {
     "data": {
      "text/plain": [
       "[2.3,\n",
       " 2.6999999999999997,\n",
       " 3.0999999999999996,\n",
       " 3.4999999999999996,\n",
       " 3.8999999999999995,\n",
       " 4.299999999999999,\n",
       " 4.699999999999999,\n",
       " 5.1,\n",
       " 5.499999999999999]"
      ]
     },
     "execution_count": 63,
     "metadata": {},
     "output_type": "execute_result"
    }
   ],
   "source": [
    "list(np.arange(2.3,5.6,0.4))"
   ]
  },
  {
   "cell_type": "code",
   "execution_count": null,
   "id": "e83882ba-5868-4fb3-bc43-a11e0c15d520",
   "metadata": {},
   "outputs": [],
   "source": []
  },
  {
   "cell_type": "code",
   "execution_count": 64,
   "id": "24718b9c-6d62-44f0-b109-ae56ee614dc3",
   "metadata": {},
   "outputs": [],
   "source": [
    "# in given interval(1-5) it will produce particular data(here 10)"
   ]
  },
  {
   "cell_type": "code",
   "execution_count": 65,
   "id": "e242c1c5-9cf2-4885-a762-377ef7d71dc2",
   "metadata": {},
   "outputs": [
    {
     "data": {
      "text/plain": [
       "array([1.        , 1.44444444, 1.88888889, 2.33333333, 2.77777778,\n",
       "       3.22222222, 3.66666667, 4.11111111, 4.55555556, 5.        ])"
      ]
     },
     "execution_count": 65,
     "metadata": {},
     "output_type": "execute_result"
    }
   ],
   "source": [
    "np.linspace(1,5,10)"
   ]
  },
  {
   "cell_type": "code",
   "execution_count": null,
   "id": "4bc53eab-8f1f-4ebf-934b-95dbbf40d046",
   "metadata": {},
   "outputs": [],
   "source": []
  },
  {
   "cell_type": "code",
   "execution_count": 66,
   "id": "0c2c6737-b77e-466f-9556-41c007bb9621",
   "metadata": {},
   "outputs": [
    {
     "data": {
      "text/plain": [
       "array([0., 0., 0., 0., 0.])"
      ]
     },
     "execution_count": 66,
     "metadata": {},
     "output_type": "execute_result"
    }
   ],
   "source": [
    "np.zeros(5)  #produce array having all values as 0"
   ]
  },
  {
   "cell_type": "code",
   "execution_count": 67,
   "id": "9157b72d-cffa-4cc4-95ef-adbe2423a69b",
   "metadata": {},
   "outputs": [
    {
     "data": {
      "text/plain": [
       "array([[0., 0., 0., 0.],\n",
       "       [0., 0., 0., 0.],\n",
       "       [0., 0., 0., 0.]])"
      ]
     },
     "execution_count": 67,
     "metadata": {},
     "output_type": "execute_result"
    }
   ],
   "source": [
    "np.zeros((3,4))"
   ]
  },
  {
   "cell_type": "code",
   "execution_count": 68,
   "id": "4231aca7-9fb2-46ee-9d0e-a1d5b6aaae3a",
   "metadata": {},
   "outputs": [
    {
     "data": {
      "text/plain": [
       "array([[[0., 0.],\n",
       "        [0., 0.],\n",
       "        [0., 0.],\n",
       "        [0., 0.]],\n",
       "\n",
       "       [[0., 0.],\n",
       "        [0., 0.],\n",
       "        [0., 0.],\n",
       "        [0., 0.]],\n",
       "\n",
       "       [[0., 0.],\n",
       "        [0., 0.],\n",
       "        [0., 0.],\n",
       "        [0., 0.]]])"
      ]
     },
     "execution_count": 68,
     "metadata": {},
     "output_type": "execute_result"
    }
   ],
   "source": [
    "np.zeros((3,4,2))"
   ]
  },
  {
   "cell_type": "code",
   "execution_count": 70,
   "id": "054ee1f7-ba0c-4b10-89dc-a498a074cb13",
   "metadata": {},
   "outputs": [],
   "source": [
    "ar4 = np.zeros((3,4,2,3))"
   ]
  },
  {
   "cell_type": "code",
   "execution_count": 71,
   "id": "99701387-4323-4f16-99f8-29cebc7dd1ef",
   "metadata": {},
   "outputs": [
    {
     "data": {
      "text/plain": [
       "4"
      ]
     },
     "execution_count": 71,
     "metadata": {},
     "output_type": "execute_result"
    }
   ],
   "source": [
    "ar4.ndim"
   ]
  },
  {
   "cell_type": "code",
   "execution_count": null,
   "id": "5ee0a624-2b4c-473b-b709-590fa7c45e39",
   "metadata": {},
   "outputs": [],
   "source": []
  },
  {
   "cell_type": "code",
   "execution_count": 73,
   "id": "9cb42ebe-f861-4cdc-9cda-e3ec0d306fd7",
   "metadata": {},
   "outputs": [
    {
     "data": {
      "text/plain": [
       "array([1., 1., 1., 1.])"
      ]
     },
     "execution_count": 73,
     "metadata": {},
     "output_type": "execute_result"
    }
   ],
   "source": [
    "np.ones(4)"
   ]
  },
  {
   "cell_type": "code",
   "execution_count": 76,
   "id": "9dc7bef7-efb3-487d-a966-8da15e90cd7c",
   "metadata": {},
   "outputs": [],
   "source": [
    "on = np.ones((2,3,2))"
   ]
  },
  {
   "cell_type": "code",
   "execution_count": 77,
   "id": "d9d508b4-4edf-4f55-b93e-4d58bbabe7bc",
   "metadata": {},
   "outputs": [
    {
     "data": {
      "text/plain": [
       "array([[[1., 1.],\n",
       "        [1., 1.],\n",
       "        [1., 1.]],\n",
       "\n",
       "       [[1., 1.],\n",
       "        [1., 1.],\n",
       "        [1., 1.]]])"
      ]
     },
     "execution_count": 77,
     "metadata": {},
     "output_type": "execute_result"
    }
   ],
   "source": [
    "on"
   ]
  },
  {
   "cell_type": "code",
   "execution_count": 78,
   "id": "71b74915-35b6-4bc2-a68b-84a11d53a4f3",
   "metadata": {},
   "outputs": [
    {
     "data": {
      "text/plain": [
       "array([[[6., 6.],\n",
       "        [6., 6.],\n",
       "        [6., 6.]],\n",
       "\n",
       "       [[6., 6.],\n",
       "        [6., 6.],\n",
       "        [6., 6.]]])"
      ]
     },
     "execution_count": 78,
     "metadata": {},
     "output_type": "execute_result"
    }
   ],
   "source": [
    "on + 5"
   ]
  },
  {
   "cell_type": "code",
   "execution_count": 79,
   "id": "1a3eb2e1-6ec6-41be-9623-adf804faf2cf",
   "metadata": {},
   "outputs": [
    {
     "data": {
      "text/plain": [
       "array([[[7., 7.],\n",
       "        [7., 7.],\n",
       "        [7., 7.]],\n",
       "\n",
       "       [[7., 7.],\n",
       "        [7., 7.],\n",
       "        [7., 7.]]])"
      ]
     },
     "execution_count": 79,
     "metadata": {},
     "output_type": "execute_result"
    }
   ],
   "source": [
    "on * 7"
   ]
  },
  {
   "cell_type": "code",
   "execution_count": null,
   "id": "a25e3a97-af1a-4f1a-86fa-7105fb3e1541",
   "metadata": {},
   "outputs": [],
   "source": []
  }
 ],
 "metadata": {
  "kernelspec": {
   "display_name": "Python 3 (ipykernel)",
   "language": "python",
   "name": "python3"
  },
  "language_info": {
   "codemirror_mode": {
    "name": "ipython",
    "version": 3
   },
   "file_extension": ".py",
   "mimetype": "text/x-python",
   "name": "python",
   "nbconvert_exporter": "python",
   "pygments_lexer": "ipython3",
   "version": "3.10.8"
  }
 },
 "nbformat": 4,
 "nbformat_minor": 5
}
