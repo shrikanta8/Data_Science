{
 "cells": [
  {
   "cell_type": "code",
   "execution_count": 1,
   "id": "b1bf96c0-54f6-41b3-8cfa-ad5657384d04",
   "metadata": {},
   "outputs": [],
   "source": [
    "# math operations\n",
    "# broadcasting"
   ]
  },
  {
   "cell_type": "code",
   "execution_count": 2,
   "id": "74286d70-c572-4890-87b5-489496d87f16",
   "metadata": {},
   "outputs": [],
   "source": [
    "import numpy as np"
   ]
  },
  {
   "cell_type": "code",
   "execution_count": 3,
   "id": "d870d137-5817-4dd3-a2f8-005a1e602267",
   "metadata": {},
   "outputs": [
    {
     "data": {
      "text/plain": [
       "array([[4.66786400e-310, 0.00000000e+000, 6.93096435e-310,\n",
       "        6.93096435e-310, 6.93096432e-310],\n",
       "       [6.93096432e-310, 6.93096338e-310, 6.93096424e-310,\n",
       "        6.93096428e-310, 6.93096435e-310],\n",
       "       [6.93096415e-310, 6.93096431e-310, 6.93096435e-310,\n",
       "        6.93096427e-310, 6.93096338e-310],\n",
       "       [6.93096436e-310, 6.93096344e-310, 6.93096410e-310,\n",
       "        6.93096428e-310, 6.93096372e-310]])"
      ]
     },
     "execution_count": 3,
     "metadata": {},
     "output_type": "execute_result"
    }
   ],
   "source": [
    "np.empty((4,5))      # Return a new array with random values"
   ]
  },
  {
   "cell_type": "code",
   "execution_count": 4,
   "id": "d253ad74-7c1f-4f86-ac16-06f17a547d30",
   "metadata": {},
   "outputs": [
    {
     "data": {
      "text/plain": [
       "array([[1., 0., 0., 0.],\n",
       "       [0., 1., 0., 0.],\n",
       "       [0., 0., 1., 0.],\n",
       "       [0., 0., 0., 1.]])"
      ]
     },
     "execution_count": 4,
     "metadata": {},
     "output_type": "execute_result"
    }
   ],
   "source": [
    "np.eye(4)     #identity matrix"
   ]
  },
  {
   "cell_type": "code",
   "execution_count": 5,
   "id": "a01e7467-e1cc-45cc-adcf-fe314bc7b0ce",
   "metadata": {},
   "outputs": [
    {
     "data": {
      "text/plain": [
       "array([2.        , 2.10526316, 2.21052632, 2.31578947, 2.42105263,\n",
       "       2.52631579, 2.63157895, 2.73684211, 2.84210526, 2.94736842,\n",
       "       3.05263158, 3.15789474, 3.26315789, 3.36842105, 3.47368421,\n",
       "       3.57894737, 3.68421053, 3.78947368, 3.89473684, 4.        ])"
      ]
     },
     "execution_count": 5,
     "metadata": {},
     "output_type": "execute_result"
    }
   ],
   "source": [
    "np.linspace(2, 4 , 20)"
   ]
  },
  {
   "cell_type": "code",
   "execution_count": 6,
   "id": "206f048f-7ef3-415a-9a1b-3e57ba58f5f1",
   "metadata": {},
   "outputs": [
    {
     "data": {
      "text/plain": [
       "array([  100.        ,   127.42749857,   162.37767392,   206.91380811,\n",
       "         263.66508987,   335.98182863,   428.13323987,   545.55947812,\n",
       "         695.19279618,   885.86679041,  1128.83789168,  1438.44988829,\n",
       "        1832.98071083,  2335.72146909,  2976.35144163,  3792.69019073,\n",
       "        4832.93023857,  6158.48211066,  7847.59970351, 10000.        ])"
      ]
     },
     "execution_count": 6,
     "metadata": {},
     "output_type": "execute_result"
    }
   ],
   "source": [
    "np.logspace(2,4,20)    # calculating log of values which we get via linspace"
   ]
  },
  {
   "cell_type": "code",
   "execution_count": 7,
   "id": "2acf1277-e12b-4988-bc7f-2ef2da7519b7",
   "metadata": {},
   "outputs": [
    {
     "data": {
      "text/plain": [
       "array([ 4.        ,  4.66611616,  5.44316   ,  6.34960421,  7.4069977 ,\n",
       "        8.64047791, 10.0793684 , 11.75787594, 13.71590373, 16.        ])"
      ]
     },
     "execution_count": 7,
     "metadata": {},
     "output_type": "execute_result"
    }
   ],
   "source": [
    "np.logspace(2,4,10,base=2)"
   ]
  },
  {
   "cell_type": "code",
   "execution_count": null,
   "id": "8cef1f20-1219-4ef2-814a-c6032cdb0149",
   "metadata": {},
   "outputs": [],
   "source": []
  },
  {
   "cell_type": "code",
   "execution_count": 8,
   "id": "b7fe4710-3c9c-4087-8ae2-5ee82a4d0d95",
   "metadata": {},
   "outputs": [],
   "source": [
    "arr = np.random.rand(3,4)      # 3*4 matrix is generated"
   ]
  },
  {
   "cell_type": "code",
   "execution_count": 9,
   "id": "01500bae-7008-4c56-b20c-59d809ad12e0",
   "metadata": {},
   "outputs": [
    {
     "data": {
      "text/plain": [
       "array([[0.28771696, 0.89059237, 0.54946054, 0.70695384],\n",
       "       [0.38267598, 0.11392332, 0.10110919, 0.53569614],\n",
       "       [0.94034245, 0.39161972, 0.59741804, 0.75556375]])"
      ]
     },
     "execution_count": 9,
     "metadata": {},
     "output_type": "execute_result"
    }
   ],
   "source": [
    "arr"
   ]
  },
  {
   "cell_type": "code",
   "execution_count": 10,
   "id": "ad260450-382e-4600-9d55-b0c12499077c",
   "metadata": {},
   "outputs": [],
   "source": [
    "import pandas as pd"
   ]
  },
  {
   "cell_type": "code",
   "execution_count": 11,
   "id": "9d3cc069-e121-4eaf-9f51-e2289cd044d2",
   "metadata": {},
   "outputs": [
    {
     "data": {
      "text/html": [
       "<div>\n",
       "<style scoped>\n",
       "    .dataframe tbody tr th:only-of-type {\n",
       "        vertical-align: middle;\n",
       "    }\n",
       "\n",
       "    .dataframe tbody tr th {\n",
       "        vertical-align: top;\n",
       "    }\n",
       "\n",
       "    .dataframe thead th {\n",
       "        text-align: right;\n",
       "    }\n",
       "</style>\n",
       "<table border=\"1\" class=\"dataframe\">\n",
       "  <thead>\n",
       "    <tr style=\"text-align: right;\">\n",
       "      <th></th>\n",
       "      <th>0</th>\n",
       "      <th>1</th>\n",
       "      <th>2</th>\n",
       "      <th>3</th>\n",
       "    </tr>\n",
       "  </thead>\n",
       "  <tbody>\n",
       "    <tr>\n",
       "      <th>0</th>\n",
       "      <td>0.287717</td>\n",
       "      <td>0.890592</td>\n",
       "      <td>0.549461</td>\n",
       "      <td>0.706954</td>\n",
       "    </tr>\n",
       "    <tr>\n",
       "      <th>1</th>\n",
       "      <td>0.382676</td>\n",
       "      <td>0.113923</td>\n",
       "      <td>0.101109</td>\n",
       "      <td>0.535696</td>\n",
       "    </tr>\n",
       "    <tr>\n",
       "      <th>2</th>\n",
       "      <td>0.940342</td>\n",
       "      <td>0.391620</td>\n",
       "      <td>0.597418</td>\n",
       "      <td>0.755564</td>\n",
       "    </tr>\n",
       "  </tbody>\n",
       "</table>\n",
       "</div>"
      ],
      "text/plain": [
       "          0         1         2         3\n",
       "0  0.287717  0.890592  0.549461  0.706954\n",
       "1  0.382676  0.113923  0.101109  0.535696\n",
       "2  0.940342  0.391620  0.597418  0.755564"
      ]
     },
     "execution_count": 11,
     "metadata": {},
     "output_type": "execute_result"
    }
   ],
   "source": [
    "pd.DataFrame(arr)"
   ]
  },
  {
   "cell_type": "code",
   "execution_count": 12,
   "id": "b42ec8e7-ce94-41b0-95ef-fd9af08d7529",
   "metadata": {},
   "outputs": [
    {
     "data": {
      "text/plain": [
       "array([[-1.15926347, -0.82637854,  0.61251317,  1.15294726],\n",
       "       [-2.11579092, -0.57001138, -1.01640084,  0.03412736],\n",
       "       [ 0.26173153, -0.54174749, -0.73735321,  1.76392875]])"
      ]
     },
     "execution_count": 12,
     "metadata": {},
     "output_type": "execute_result"
    }
   ],
   "source": [
    "np.random.randn(3,4)      # mean=0 standard_deviation=1   .....standard normal distribution"
   ]
  },
  {
   "cell_type": "code",
   "execution_count": 13,
   "id": "4ecf1d5d-d5d7-445e-b76a-c0f957e15cda",
   "metadata": {},
   "outputs": [
    {
     "data": {
      "text/plain": [
       "array([[26, 45, 49,  4],\n",
       "       [ 9, 17, 32, 10],\n",
       "       [43, 27, 17, 24]])"
      ]
     },
     "execution_count": 13,
     "metadata": {},
     "output_type": "execute_result"
    }
   ],
   "source": [
    "np.random.randint(1,50,(3,4))   #values are between 1 to 50"
   ]
  },
  {
   "cell_type": "code",
   "execution_count": 14,
   "id": "53ee7dd3-96f0-448d-bcdb-a44c29b83dd5",
   "metadata": {},
   "outputs": [],
   "source": [
    "pd.DataFrame(np.random.randint(50,150,(13,14))).to_csv('test.csv')"
   ]
  },
  {
   "cell_type": "code",
   "execution_count": null,
   "id": "1b0f8242-d2d8-4cc8-805f-121e1324b45d",
   "metadata": {},
   "outputs": [],
   "source": []
  },
  {
   "cell_type": "code",
   "execution_count": 15,
   "id": "d0dae674-146c-4c64-97ec-8ae613b0476f",
   "metadata": {},
   "outputs": [],
   "source": [
    "arr1 = np.random.rand(4,3) "
   ]
  },
  {
   "cell_type": "code",
   "execution_count": 16,
   "id": "d6878361-27d5-44e0-9d9a-125ef22b6138",
   "metadata": {},
   "outputs": [
    {
     "data": {
      "text/plain": [
       "array([[0.46451561, 0.94362637, 0.63826901],\n",
       "       [0.91641587, 0.64151474, 0.84581565],\n",
       "       [0.09406906, 0.14243622, 0.44114572],\n",
       "       [0.63231379, 0.49875809, 0.93118012]])"
      ]
     },
     "execution_count": 16,
     "metadata": {},
     "output_type": "execute_result"
    }
   ],
   "source": [
    "arr1"
   ]
  },
  {
   "cell_type": "code",
   "execution_count": 17,
   "id": "c703e77c-a6c5-40f5-a8ef-89cb3e0fe895",
   "metadata": {},
   "outputs": [],
   "source": [
    "# changing the dimensions of arr1, it should be of previous row* col size"
   ]
  },
  {
   "cell_type": "code",
   "execution_count": 18,
   "id": "aadaa861-bacc-4416-a2db-27876809d9cb",
   "metadata": {},
   "outputs": [
    {
     "data": {
      "text/plain": [
       "array([[0.46451561, 0.94362637],\n",
       "       [0.63826901, 0.91641587],\n",
       "       [0.64151474, 0.84581565],\n",
       "       [0.09406906, 0.14243622],\n",
       "       [0.44114572, 0.63231379],\n",
       "       [0.49875809, 0.93118012]])"
      ]
     },
     "execution_count": 18,
     "metadata": {},
     "output_type": "execute_result"
    }
   ],
   "source": [
    "arr1.reshape(6,2)\n",
    "# arr.reshape(2,14)      # give error"
   ]
  },
  {
   "cell_type": "code",
   "execution_count": 19,
   "id": "272e998d-163c-4083-bfa1-759bbdf61a3e",
   "metadata": {},
   "outputs": [],
   "source": [
    "arr2 = arr1.reshape(3,-143)    # negative value means understand urself"
   ]
  },
  {
   "cell_type": "code",
   "execution_count": 20,
   "id": "0fb42985-2135-4e96-84ed-36a0635238b7",
   "metadata": {},
   "outputs": [
    {
     "data": {
      "text/plain": [
       "array([[0.46451561, 0.94362637, 0.63826901, 0.91641587],\n",
       "       [0.64151474, 0.84581565, 0.09406906, 0.14243622],\n",
       "       [0.44114572, 0.63231379, 0.49875809, 0.93118012]])"
      ]
     },
     "execution_count": 20,
     "metadata": {},
     "output_type": "execute_result"
    }
   ],
   "source": [
    "arr2"
   ]
  },
  {
   "cell_type": "code",
   "execution_count": 21,
   "id": "e0db3066-3b05-4909-a23c-734bd7152580",
   "metadata": {},
   "outputs": [
    {
     "data": {
      "text/plain": [
       "array([0.84581565, 0.63231379])"
      ]
     },
     "execution_count": 21,
     "metadata": {},
     "output_type": "execute_result"
    }
   ],
   "source": [
    "arr2[1:3,1]"
   ]
  },
  {
   "cell_type": "code",
   "execution_count": null,
   "id": "87f332c7-f0b9-43ff-a6b7-fc695c4224f1",
   "metadata": {},
   "outputs": [],
   "source": []
  },
  {
   "cell_type": "code",
   "execution_count": 22,
   "id": "47ff4ce1-2a0a-4d35-8d96-dae5d16f572e",
   "metadata": {},
   "outputs": [],
   "source": [
    "arr3 = np.random.randint(1,150,(6,4))"
   ]
  },
  {
   "cell_type": "code",
   "execution_count": 23,
   "id": "91f7ff48-ae4f-422f-bdf1-c48b181af6f1",
   "metadata": {},
   "outputs": [
    {
     "data": {
      "text/plain": [
       "array([[ 49, 141,  99,  95],\n",
       "       [131,  74,  31,  13],\n",
       "       [ 49,  80, 101,  31],\n",
       "       [ 92, 126,  27,  99],\n",
       "       [ 95,  41,  61,  65],\n",
       "       [ 62,  53,  64,  71]])"
      ]
     },
     "execution_count": 23,
     "metadata": {},
     "output_type": "execute_result"
    }
   ],
   "source": [
    "arr3"
   ]
  },
  {
   "cell_type": "code",
   "execution_count": 24,
   "id": "75642e25-bcc8-4c0f-a1c6-a2003c1a5a14",
   "metadata": {},
   "outputs": [],
   "source": [
    "# take data which is > 50"
   ]
  },
  {
   "cell_type": "code",
   "execution_count": 25,
   "id": "a7f115ae-dda3-44c0-a6b0-7b3eda273879",
   "metadata": {},
   "outputs": [
    {
     "data": {
      "text/plain": [
       "array([[False,  True,  True,  True],\n",
       "       [ True,  True, False, False],\n",
       "       [False,  True,  True, False],\n",
       "       [ True,  True, False,  True],\n",
       "       [ True, False,  True,  True],\n",
       "       [ True,  True,  True,  True]])"
      ]
     },
     "execution_count": 25,
     "metadata": {},
     "output_type": "execute_result"
    }
   ],
   "source": [
    "arr3 > 50"
   ]
  },
  {
   "cell_type": "code",
   "execution_count": 26,
   "id": "3043cc56-321a-40f2-bf85-afb8c414e516",
   "metadata": {},
   "outputs": [
    {
     "data": {
      "text/plain": [
       "array([141,  99,  95, 131,  74,  80, 101,  92, 126,  99,  95,  61,  65,\n",
       "        62,  53,  64,  71])"
      ]
     },
     "execution_count": 26,
     "metadata": {},
     "output_type": "execute_result"
    }
   ],
   "source": [
    "arr3[arr3 > 50]"
   ]
  },
  {
   "cell_type": "code",
   "execution_count": 27,
   "id": "70ba9eba-df6b-4f6c-9b29-97245c627ac4",
   "metadata": {},
   "outputs": [],
   "source": [
    "# extracting the data which is in between the metrix"
   ]
  },
  {
   "cell_type": "code",
   "execution_count": 28,
   "id": "2f3bcc57-7c73-40ee-a973-796fdabc8425",
   "metadata": {},
   "outputs": [
    {
     "data": {
      "text/plain": [
       "array([[ 80, 101],\n",
       "       [126,  27]])"
      ]
     },
     "execution_count": 28,
     "metadata": {},
     "output_type": "execute_result"
    }
   ],
   "source": [
    "arr3[2:4,[1,2]]"
   ]
  },
  {
   "cell_type": "code",
   "execution_count": 29,
   "id": "577a6e71-a002-46d0-98c1-d071aa0bd9b7",
   "metadata": {},
   "outputs": [
    {
     "data": {
      "text/plain": [
       "array([[ 49, 141,  99,  95],\n",
       "       [131,  74,  31,  13],\n",
       "       [ 49,  80, 101,  31],\n",
       "       [ 92, 126,  27,  99],\n",
       "       [ 95,  41,  61,  65],\n",
       "       [ 62,  53,  64,  71]])"
      ]
     },
     "execution_count": 29,
     "metadata": {},
     "output_type": "execute_result"
    }
   ],
   "source": [
    "arr3"
   ]
  },
  {
   "cell_type": "code",
   "execution_count": 30,
   "id": "084cd49d-b6c6-490a-af2c-e419bbf4f45a",
   "metadata": {},
   "outputs": [],
   "source": [
    "arr3[0][2] = 90"
   ]
  },
  {
   "cell_type": "code",
   "execution_count": 31,
   "id": "a0b9dee5-912c-4d5f-b135-c22b3b76ae17",
   "metadata": {},
   "outputs": [
    {
     "data": {
      "text/plain": [
       "array([[ 49, 141,  90,  95],\n",
       "       [131,  74,  31,  13],\n",
       "       [ 49,  80, 101,  31],\n",
       "       [ 92, 126,  27,  99],\n",
       "       [ 95,  41,  61,  65],\n",
       "       [ 62,  53,  64,  71]])"
      ]
     },
     "execution_count": 31,
     "metadata": {},
     "output_type": "execute_result"
    }
   ],
   "source": [
    "arr3"
   ]
  },
  {
   "cell_type": "code",
   "execution_count": null,
   "id": "05be8aa6-c583-426e-b53b-c66f68162bb4",
   "metadata": {},
   "outputs": [],
   "source": []
  },
  {
   "cell_type": "code",
   "execution_count": 32,
   "id": "7ae0f2ab-01d1-4b69-995c-9a4dee306dac",
   "metadata": {},
   "outputs": [],
   "source": [
    "# math operations"
   ]
  },
  {
   "cell_type": "code",
   "execution_count": 60,
   "id": "be4d06c0-9a5b-4ad7-8bd1-f179f9584e61",
   "metadata": {},
   "outputs": [],
   "source": [
    "arr4 = np.random.randint(1,4,(3,3))\n",
    "arr5 = np.random.randint(1,4,(3,3))"
   ]
  },
  {
   "cell_type": "code",
   "execution_count": 61,
   "id": "1505d56b-8a89-4b31-9f5f-2590e9b6bcc9",
   "metadata": {},
   "outputs": [
    {
     "data": {
      "text/plain": [
       "array([[3, 2, 1],\n",
       "       [1, 3, 1],\n",
       "       [3, 3, 2]])"
      ]
     },
     "execution_count": 61,
     "metadata": {},
     "output_type": "execute_result"
    }
   ],
   "source": [
    "arr4"
   ]
  },
  {
   "cell_type": "code",
   "execution_count": 62,
   "id": "ee4fec36-07b2-4f0d-b266-76509fb9d482",
   "metadata": {},
   "outputs": [
    {
     "data": {
      "text/plain": [
       "array([[1, 3, 2],\n",
       "       [1, 1, 2],\n",
       "       [3, 2, 2]])"
      ]
     },
     "execution_count": 62,
     "metadata": {},
     "output_type": "execute_result"
    }
   ],
   "source": [
    "arr5"
   ]
  },
  {
   "cell_type": "code",
   "execution_count": 63,
   "id": "18863fb0-4a36-4366-aa2c-47e0f28fdcf3",
   "metadata": {},
   "outputs": [
    {
     "data": {
      "text/plain": [
       "array([[3, 6, 2],\n",
       "       [1, 3, 2],\n",
       "       [9, 6, 4]])"
      ]
     },
     "execution_count": 63,
     "metadata": {},
     "output_type": "execute_result"
    }
   ],
   "source": [
    "arr4*arr5      #not a matrix mul"
   ]
  },
  {
   "cell_type": "code",
   "execution_count": 64,
   "id": "a01256ed-4a6a-491f-9909-662025dc8013",
   "metadata": {},
   "outputs": [
    {
     "data": {
      "text/plain": [
       "array([[3.        , 0.66666667, 0.5       ],\n",
       "       [1.        , 3.        , 0.5       ],\n",
       "       [1.        , 1.5       , 1.        ]])"
      ]
     },
     "execution_count": 64,
     "metadata": {},
     "output_type": "execute_result"
    }
   ],
   "source": [
    "arr4/arr5"
   ]
  },
  {
   "cell_type": "code",
   "execution_count": 65,
   "id": "4e6775ae-b016-4e6e-bc3c-acfab66ac615",
   "metadata": {},
   "outputs": [
    {
     "data": {
      "text/plain": [
       "array([[4, 5, 3],\n",
       "       [2, 4, 3],\n",
       "       [6, 5, 4]])"
      ]
     },
     "execution_count": 65,
     "metadata": {},
     "output_type": "execute_result"
    }
   ],
   "source": [
    "arr4+arr5"
   ]
  },
  {
   "cell_type": "code",
   "execution_count": 66,
   "id": "e71fb2a1-a4ff-4498-b56b-09c0caff158b",
   "metadata": {},
   "outputs": [
    {
     "data": {
      "text/plain": [
       "array([[ 8, 13, 12],\n",
       "       [ 7,  8, 10],\n",
       "       [12, 16, 16]])"
      ]
     },
     "execution_count": 66,
     "metadata": {},
     "output_type": "execute_result"
    }
   ],
   "source": [
    "arr4@arr5       # matrix mul"
   ]
  },
  {
   "cell_type": "code",
   "execution_count": 67,
   "id": "7dd81e85-389e-4e72-8952-697e1c22b9c4",
   "metadata": {},
   "outputs": [
    {
     "data": {
      "text/plain": [
       "array([[0, 2, 1],\n",
       "       [0, 0, 1],\n",
       "       [0, 1, 0]])"
      ]
     },
     "execution_count": 67,
     "metadata": {},
     "output_type": "execute_result"
    }
   ],
   "source": [
    "arr4%arr5"
   ]
  },
  {
   "cell_type": "code",
   "execution_count": 40,
   "id": "d8118fad-475a-4c53-9ef0-f70d3a1e361c",
   "metadata": {},
   "outputs": [
    {
     "name": "stderr",
     "output_type": "stream",
     "text": [
      "/tmp/ipykernel_1090/1674986024.py:1: RuntimeWarning: divide by zero encountered in divide\n",
      "  arr4/0\n"
     ]
    },
    {
     "data": {
      "text/plain": [
       "array([[inf, inf, inf],\n",
       "       [inf, inf, inf],\n",
       "       [inf, inf, inf]])"
      ]
     },
     "execution_count": 40,
     "metadata": {},
     "output_type": "execute_result"
    }
   ],
   "source": [
    "arr4/0"
   ]
  },
  {
   "cell_type": "code",
   "execution_count": 41,
   "id": "68bc176e-fbcd-4bc0-9ce9-a690069219ca",
   "metadata": {},
   "outputs": [
    {
     "data": {
      "text/plain": [
       "array([[1, 1, 2],\n",
       "       [1, 1, 3],\n",
       "       [2, 3, 2]])"
      ]
     },
     "execution_count": 41,
     "metadata": {},
     "output_type": "execute_result"
    }
   ],
   "source": [
    "arr4"
   ]
  },
  {
   "cell_type": "code",
   "execution_count": 42,
   "id": "8d8c814f-5f4b-4e86-8fb2-e3290eb5aa3a",
   "metadata": {},
   "outputs": [
    {
     "data": {
      "text/plain": [
       "array([[101, 101, 102],\n",
       "       [101, 101, 103],\n",
       "       [102, 103, 102]])"
      ]
     },
     "execution_count": 42,
     "metadata": {},
     "output_type": "execute_result"
    }
   ],
   "source": [
    "arr4 + 100"
   ]
  },
  {
   "cell_type": "code",
   "execution_count": 68,
   "id": "7f39e21a-8981-4c14-ab7a-32cdc4604443",
   "metadata": {},
   "outputs": [
    {
     "data": {
      "text/plain": [
       "array([[ 3,  8,  1],\n",
       "       [ 1,  3,  1],\n",
       "       [27,  9,  4]])"
      ]
     },
     "execution_count": 68,
     "metadata": {},
     "output_type": "execute_result"
    }
   ],
   "source": [
    "arr4 ** arr5"
   ]
  },
  {
   "cell_type": "code",
   "execution_count": 43,
   "id": "967674c2-648b-4ab4-8c65-a389dca011fe",
   "metadata": {},
   "outputs": [
    {
     "data": {
      "text/plain": [
       "array([[1, 1, 4],\n",
       "       [1, 1, 9],\n",
       "       [4, 9, 4]])"
      ]
     },
     "execution_count": 43,
     "metadata": {},
     "output_type": "execute_result"
    }
   ],
   "source": [
    "arr4 ** 2"
   ]
  },
  {
   "cell_type": "code",
   "execution_count": null,
   "id": "507db027-d788-4edf-952e-c6e99ac3b185",
   "metadata": {},
   "outputs": [],
   "source": []
  },
  {
   "cell_type": "code",
   "execution_count": 44,
   "id": "3309d5db-2fa4-406d-95a1-eadbec656c4d",
   "metadata": {},
   "outputs": [],
   "source": [
    "# broadcasting row wise"
   ]
  },
  {
   "cell_type": "code",
   "execution_count": 45,
   "id": "59ff9c15-3497-4abd-8278-a3a3a379e75f",
   "metadata": {},
   "outputs": [],
   "source": [
    "arr5 = np.zeros((4,4))"
   ]
  },
  {
   "cell_type": "code",
   "execution_count": 46,
   "id": "c4e12f8b-4d15-452a-9551-546ae78444a0",
   "metadata": {},
   "outputs": [
    {
     "data": {
      "text/plain": [
       "array([[0., 0., 0., 0.],\n",
       "       [0., 0., 0., 0.],\n",
       "       [0., 0., 0., 0.],\n",
       "       [0., 0., 0., 0.]])"
      ]
     },
     "execution_count": 46,
     "metadata": {},
     "output_type": "execute_result"
    }
   ],
   "source": [
    "arr5"
   ]
  },
  {
   "cell_type": "code",
   "execution_count": 47,
   "id": "df0191e6-7b6d-4a67-bfde-91abe0e2ec17",
   "metadata": {},
   "outputs": [],
   "source": [
    "row = np.array([4,5,6,7])"
   ]
  },
  {
   "cell_type": "code",
   "execution_count": 48,
   "id": "1c17b547-03c7-48d8-9dfa-c5c623a83584",
   "metadata": {},
   "outputs": [
    {
     "data": {
      "text/plain": [
       "array([4, 5, 6, 7])"
      ]
     },
     "execution_count": 48,
     "metadata": {},
     "output_type": "execute_result"
    }
   ],
   "source": [
    "row"
   ]
  },
  {
   "cell_type": "code",
   "execution_count": 49,
   "id": "6988b584-da6c-44ad-bd70-f9285e5384e2",
   "metadata": {},
   "outputs": [
    {
     "data": {
      "text/plain": [
       "array([[4., 5., 6., 7.],\n",
       "       [4., 5., 6., 7.],\n",
       "       [4., 5., 6., 7.],\n",
       "       [4., 5., 6., 7.]])"
      ]
     },
     "execution_count": 49,
     "metadata": {},
     "output_type": "execute_result"
    }
   ],
   "source": [
    "arr5 + row"
   ]
  },
  {
   "cell_type": "code",
   "execution_count": null,
   "id": "cb6a5415-1cbe-4e35-8ea7-8d553f3d1785",
   "metadata": {},
   "outputs": [],
   "source": []
  },
  {
   "cell_type": "code",
   "execution_count": 50,
   "id": "afaf4e07-cf4d-4c72-abd7-cfce3b909c36",
   "metadata": {},
   "outputs": [
    {
     "data": {
      "text/plain": [
       "array([4, 5, 6, 7])"
      ]
     },
     "execution_count": 50,
     "metadata": {},
     "output_type": "execute_result"
    }
   ],
   "source": [
    "row.T    # 1d array can't be transposed"
   ]
  },
  {
   "cell_type": "code",
   "execution_count": null,
   "id": "8f629bdf-81fc-465d-91d2-9df4eda708a4",
   "metadata": {},
   "outputs": [],
   "source": []
  },
  {
   "cell_type": "code",
   "execution_count": 51,
   "id": "58747fa5-adcb-4232-86e1-29aa0d385554",
   "metadata": {},
   "outputs": [],
   "source": [
    "# broadcasting column wise"
   ]
  },
  {
   "cell_type": "code",
   "execution_count": 52,
   "id": "68be3e32-64aa-46b5-8344-38b4130ff881",
   "metadata": {},
   "outputs": [
    {
     "data": {
      "text/plain": [
       "array([[0., 0., 0., 0.],\n",
       "       [0., 0., 0., 0.],\n",
       "       [0., 0., 0., 0.],\n",
       "       [0., 0., 0., 0.]])"
      ]
     },
     "execution_count": 52,
     "metadata": {},
     "output_type": "execute_result"
    }
   ],
   "source": [
    "arr5"
   ]
  },
  {
   "cell_type": "code",
   "execution_count": 53,
   "id": "c095d3a1-6bc6-40bd-b8f0-974d02a433d9",
   "metadata": {},
   "outputs": [],
   "source": [
    "col = np.array([[4,5,6,7]])  # 2d array"
   ]
  },
  {
   "cell_type": "code",
   "execution_count": 54,
   "id": "37711ac4-f655-4a6b-a77b-4ed3add649e9",
   "metadata": {},
   "outputs": [
    {
     "data": {
      "text/plain": [
       "array([[4., 4., 4., 4.],\n",
       "       [5., 5., 5., 5.],\n",
       "       [6., 6., 6., 6.],\n",
       "       [7., 7., 7., 7.]])"
      ]
     },
     "execution_count": 54,
     "metadata": {},
     "output_type": "execute_result"
    }
   ],
   "source": [
    "col.T + arr5"
   ]
  },
  {
   "cell_type": "code",
   "execution_count": null,
   "id": "66f78a93-3e44-4ee6-93a5-0baf2cd90e67",
   "metadata": {},
   "outputs": [],
   "source": []
  },
  {
   "cell_type": "code",
   "execution_count": 55,
   "id": "fb7fed57-3e1f-4805-8dc6-72fc06e35254",
   "metadata": {},
   "outputs": [
    {
     "data": {
      "text/plain": [
       "array([[1, 1, 2],\n",
       "       [1, 1, 3],\n",
       "       [2, 3, 2]])"
      ]
     },
     "execution_count": 55,
     "metadata": {},
     "output_type": "execute_result"
    }
   ],
   "source": [
    "arr4"
   ]
  },
  {
   "cell_type": "code",
   "execution_count": 56,
   "id": "a0ef0e99-50cb-43be-aae1-bfd8d0b79acc",
   "metadata": {},
   "outputs": [
    {
     "data": {
      "text/plain": [
       "array([[1.        , 1.        , 1.41421356],\n",
       "       [1.        , 1.        , 1.73205081],\n",
       "       [1.41421356, 1.73205081, 1.41421356]])"
      ]
     },
     "execution_count": 56,
     "metadata": {},
     "output_type": "execute_result"
    }
   ],
   "source": [
    "np.sqrt(arr4)"
   ]
  },
  {
   "cell_type": "code",
   "execution_count": 57,
   "id": "3fe063f6-c8d9-44ca-95fa-bf5f3a41a775",
   "metadata": {},
   "outputs": [
    {
     "data": {
      "text/plain": [
       "array([[ 2.71828183,  2.71828183,  7.3890561 ],\n",
       "       [ 2.71828183,  2.71828183, 20.08553692],\n",
       "       [ 7.3890561 , 20.08553692,  7.3890561 ]])"
      ]
     },
     "execution_count": 57,
     "metadata": {},
     "output_type": "execute_result"
    }
   ],
   "source": [
    "np.exp(arr4)     # it is e power value (e is 2.7182)"
   ]
  },
  {
   "cell_type": "code",
   "execution_count": 58,
   "id": "a8c88ed5-67b8-4bfc-8cdf-6ce4028d9b26",
   "metadata": {},
   "outputs": [
    {
     "data": {
      "text/plain": [
       "array([[0.        , 0.        , 0.30103   ],\n",
       "       [0.        , 0.        , 0.47712125],\n",
       "       [0.30103   , 0.47712125, 0.30103   ]])"
      ]
     },
     "execution_count": 58,
     "metadata": {},
     "output_type": "execute_result"
    }
   ],
   "source": [
    "np.log10(arr4)"
   ]
  },
  {
   "cell_type": "code",
   "execution_count": null,
   "id": "20d80632-b23d-459c-bdae-84ef360fe4c6",
   "metadata": {},
   "outputs": [],
   "source": []
  }
 ],
 "metadata": {
  "kernelspec": {
   "display_name": "Python 3 (ipykernel)",
   "language": "python",
   "name": "python3"
  },
  "language_info": {
   "codemirror_mode": {
    "name": "ipython",
    "version": 3
   },
   "file_extension": ".py",
   "mimetype": "text/x-python",
   "name": "python",
   "nbconvert_exporter": "python",
   "pygments_lexer": "ipython3",
   "version": "3.10.8"
  }
 },
 "nbformat": 4,
 "nbformat_minor": 5
}
