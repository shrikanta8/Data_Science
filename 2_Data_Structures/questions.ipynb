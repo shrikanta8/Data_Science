{
 "cells": [
  {
   "cell_type": "raw",
   "id": "7db0e114-886e-480d-ba31-56fedbbff3be",
   "metadata": {},
   "source": [
    "Question 1"
   ]
  },
  {
   "cell_type": "code",
   "execution_count": 32,
   "id": "233d38be-1cdc-47c0-8d2c-e7f7430e1bcc",
   "metadata": {},
   "outputs": [],
   "source": [
    "#this is one line comment"
   ]
  },
  {
   "cell_type": "code",
   "execution_count": 33,
   "id": "421f8efa-891b-4bcb-95e8-523e9346f3b9",
   "metadata": {},
   "outputs": [],
   "source": [
    "# we can comment\n",
    "# this whole \n",
    "# lines using\n",
    "# ctrl + forward slash"
   ]
  },
  {
   "cell_type": "code",
   "execution_count": 34,
   "id": "a26c1782-969a-485b-9c57-db257b937bb3",
   "metadata": {},
   "outputs": [
    {
     "data": {
      "text/plain": [
       "'this is \\nmultiline \\ncomment\\nin python'"
      ]
     },
     "execution_count": 34,
     "metadata": {},
     "output_type": "execute_result"
    }
   ],
   "source": [
    "'''this is \n",
    "multiline \n",
    "comment\n",
    "in python'''"
   ]
  },
  {
   "cell_type": "code",
   "execution_count": null,
   "id": "78393289-ea42-4fcd-a509-64dc36f9d91d",
   "metadata": {},
   "outputs": [],
   "source": []
  },
  {
   "cell_type": "raw",
   "id": "dca9085f-c014-465b-a199-e10dd8a51abd",
   "metadata": {},
   "source": [
    "Question 2"
   ]
  },
  {
   "cell_type": "code",
   "execution_count": 35,
   "id": "7ed92b91-26f2-4c79-85ff-ff45875f4a66",
   "metadata": {},
   "outputs": [],
   "source": [
    "#Variable is used to denote objects"
   ]
  },
  {
   "cell_type": "code",
   "execution_count": 2,
   "id": "93ec5aab-8b90-425e-9b83-6155a21dfb9e",
   "metadata": {},
   "outputs": [],
   "source": [
    "int_val = 33"
   ]
  },
  {
   "cell_type": "code",
   "execution_count": 3,
   "id": "a13e0e3a-948d-4ed8-afe2-02ac43433e30",
   "metadata": {},
   "outputs": [
    {
     "data": {
      "text/plain": [
       "33"
      ]
     },
     "execution_count": 3,
     "metadata": {},
     "output_type": "execute_result"
    }
   ],
   "source": [
    "int_val"
   ]
  },
  {
   "cell_type": "code",
   "execution_count": 4,
   "id": "eea220e3-1cc6-43ac-a955-968a682db4c8",
   "metadata": {},
   "outputs": [],
   "source": [
    "st = \"radhe\""
   ]
  },
  {
   "cell_type": "code",
   "execution_count": 5,
   "id": "a3ddff5e-313c-4abf-a861-9f15ea723bed",
   "metadata": {},
   "outputs": [
    {
     "data": {
      "text/plain": [
       "'radhe'"
      ]
     },
     "execution_count": 5,
     "metadata": {},
     "output_type": "execute_result"
    }
   ],
   "source": [
    "st"
   ]
  },
  {
   "cell_type": "code",
   "execution_count": null,
   "id": "edeb7b5f-dade-4c4a-87e1-f4a3ca43b5e4",
   "metadata": {},
   "outputs": [],
   "source": []
  },
  {
   "cell_type": "raw",
   "id": "99caff91-246b-47a8-8bfd-b4fef71dc9c9",
   "metadata": {},
   "source": [
    "Question 3"
   ]
  },
  {
   "cell_type": "code",
   "execution_count": 6,
   "id": "2c3b8c64-a38f-4e24-9dca-10ba39fca41f",
   "metadata": {},
   "outputs": [],
   "source": [
    "#using type conversion we can convert one data type to another"
   ]
  },
  {
   "cell_type": "code",
   "execution_count": 7,
   "id": "a58296ed-4ba7-43db-ba3f-9f9e0e5da6ce",
   "metadata": {},
   "outputs": [],
   "source": [
    "s = \"55\""
   ]
  },
  {
   "cell_type": "code",
   "execution_count": 8,
   "id": "190c4a87-4265-4be5-8084-acbfb441aff3",
   "metadata": {},
   "outputs": [],
   "source": [
    "num = 15"
   ]
  },
  {
   "cell_type": "code",
   "execution_count": 9,
   "id": "d0a5efd7-32ff-40eb-9caf-f56f90b29cf3",
   "metadata": {},
   "outputs": [
    {
     "data": {
      "text/plain": [
       "70"
      ]
     },
     "execution_count": 9,
     "metadata": {},
     "output_type": "execute_result"
    }
   ],
   "source": [
    "num + int(s)"
   ]
  },
  {
   "cell_type": "code",
   "execution_count": 10,
   "id": "706cddb2-64cf-418d-abc0-57c7d1b509e6",
   "metadata": {},
   "outputs": [
    {
     "data": {
      "text/plain": [
       "'554'"
      ]
     },
     "execution_count": 10,
     "metadata": {},
     "output_type": "execute_result"
    }
   ],
   "source": [
    "s + str(4)"
   ]
  },
  {
   "cell_type": "code",
   "execution_count": null,
   "id": "bdf8d8a1-6c7e-4021-96ff-4dfb544db787",
   "metadata": {},
   "outputs": [],
   "source": []
  },
  {
   "cell_type": "raw",
   "id": "de4bda98-0a87-4a81-8518-402ef6727e03",
   "metadata": {},
   "source": [
    "Question 4"
   ]
  },
  {
   "cell_type": "code",
   "execution_count": null,
   "id": "a0a056ff-c8ea-4d43-a39d-042e6b0678a4",
   "metadata": {},
   "outputs": [],
   "source": [
    "#screenshot is attached in folder"
   ]
  },
  {
   "cell_type": "code",
   "execution_count": null,
   "id": "11406a61-3b41-433a-8972-54da5fcc005c",
   "metadata": {},
   "outputs": [],
   "source": []
  },
  {
   "cell_type": "raw",
   "id": "3794ea59-89cf-4e53-8227-89a285727e15",
   "metadata": {},
   "source": [
    "Question 5"
   ]
  },
  {
   "cell_type": "code",
   "execution_count": 11,
   "id": "1ac45daa-0a86-4245-882f-6746c54037be",
   "metadata": {},
   "outputs": [],
   "source": [
    "my_list = [1, 2, 3, 4, 5]"
   ]
  },
  {
   "cell_type": "code",
   "execution_count": 12,
   "id": "0a629e47-c772-4446-ac2b-e642d48a33cf",
   "metadata": {},
   "outputs": [
    {
     "data": {
      "text/plain": [
       "[1, 2, 3, 4, 5]"
      ]
     },
     "execution_count": 12,
     "metadata": {},
     "output_type": "execute_result"
    }
   ],
   "source": [
    "my_list "
   ]
  },
  {
   "cell_type": "code",
   "execution_count": 13,
   "id": "b86740e7-77cc-4f19-86fb-83777945438f",
   "metadata": {},
   "outputs": [
    {
     "data": {
      "text/plain": [
       "[2, 3]"
      ]
     },
     "execution_count": 13,
     "metadata": {},
     "output_type": "execute_result"
    }
   ],
   "source": [
    "my_list[1:3]"
   ]
  },
  {
   "cell_type": "code",
   "execution_count": null,
   "id": "3c0a8c6a-01d2-4f79-bc6c-0173bdc63287",
   "metadata": {},
   "outputs": [],
   "source": []
  },
  {
   "cell_type": "raw",
   "id": "de51e79e-60e8-4e05-94ea-f5ede33e5486",
   "metadata": {},
   "source": [
    "Question 6"
   ]
  },
  {
   "cell_type": "code",
   "execution_count": null,
   "id": "a1389680-7191-41e3-8554-89a06fb54fc5",
   "metadata": {},
   "outputs": [],
   "source": [
    "#Complex numbers are the numbers that are expressed in the form of a+ib where, a,b are real numbers and 'i' is an imaginary number"
   ]
  },
  {
   "cell_type": "code",
   "execution_count": 14,
   "id": "2c02270f-9c0b-4bb4-821c-89918621e663",
   "metadata": {},
   "outputs": [],
   "source": [
    "z=5+4j"
   ]
  },
  {
   "cell_type": "code",
   "execution_count": 15,
   "id": "4cdac757-0e2f-4a6b-8d94-1e10760ecdce",
   "metadata": {},
   "outputs": [
    {
     "data": {
      "text/plain": [
       "(5+4j)"
      ]
     },
     "execution_count": 15,
     "metadata": {},
     "output_type": "execute_result"
    }
   ],
   "source": [
    "z"
   ]
  },
  {
   "cell_type": "code",
   "execution_count": null,
   "id": "1ca34796-6c99-46db-aff2-6f06db4701c8",
   "metadata": {},
   "outputs": [],
   "source": [
    "e= 5+6i\n",
    "#give error"
   ]
  },
  {
   "cell_type": "code",
   "execution_count": null,
   "id": "ce1eb55a-2ef9-4cb8-afed-b088ff3006b3",
   "metadata": {},
   "outputs": [],
   "source": [
    "# j is only used in imaginary  part"
   ]
  },
  {
   "cell_type": "code",
   "execution_count": null,
   "id": "cfc53165-ba47-45fc-95ab-fd1bddee5f56",
   "metadata": {},
   "outputs": [],
   "source": []
  },
  {
   "cell_type": "raw",
   "id": "3226558e-3255-41b9-b00b-e69b55b8a32c",
   "metadata": {},
   "source": [
    "Question 7"
   ]
  },
  {
   "cell_type": "code",
   "execution_count": 16,
   "id": "22f6bbcd-5625-409e-85ab-e9d2f4ddabba",
   "metadata": {},
   "outputs": [],
   "source": [
    "age = 25"
   ]
  },
  {
   "cell_type": "code",
   "execution_count": 17,
   "id": "32b9ac09-0bc8-4b37-b082-dae93ef04416",
   "metadata": {},
   "outputs": [
    {
     "data": {
      "text/plain": [
       "25"
      ]
     },
     "execution_count": 17,
     "metadata": {},
     "output_type": "execute_result"
    }
   ],
   "source": [
    "age"
   ]
  },
  {
   "cell_type": "code",
   "execution_count": null,
   "id": "356356a6-eb2b-47b8-a1b8-1c04ff2423cb",
   "metadata": {},
   "outputs": [],
   "source": []
  },
  {
   "cell_type": "raw",
   "id": "ce312dd7-e4d9-4436-bec7-a16436db9bfc",
   "metadata": {},
   "source": [
    "Question 8"
   ]
  },
  {
   "cell_type": "code",
   "execution_count": 29,
   "id": "1ddb7bf6-e6dd-4685-abec-051da7b909aa",
   "metadata": {},
   "outputs": [],
   "source": [
    "var = 9.99"
   ]
  },
  {
   "cell_type": "code",
   "execution_count": 30,
   "id": "ccfb5758-0746-4cde-aa39-6e3095bd2d19",
   "metadata": {},
   "outputs": [
    {
     "data": {
      "text/plain": [
       "float"
      ]
     },
     "execution_count": 30,
     "metadata": {},
     "output_type": "execute_result"
    }
   ],
   "source": [
    "type(var)"
   ]
  },
  {
   "cell_type": "code",
   "execution_count": null,
   "id": "04c84eee-c877-4e29-9c33-8f8789c13bf0",
   "metadata": {},
   "outputs": [],
   "source": []
  },
  {
   "cell_type": "raw",
   "id": "59b2f177-3b4c-4104-9770-75fe45302879",
   "metadata": {},
   "source": [
    "Question 9"
   ]
  },
  {
   "cell_type": "code",
   "execution_count": 22,
   "id": "cca59f10-c1b5-44ab-96b7-115d3f06602b",
   "metadata": {},
   "outputs": [],
   "source": [
    "name = \"shrikanta ramakant kalantri\""
   ]
  },
  {
   "cell_type": "code",
   "execution_count": 23,
   "id": "adbafccc-5df2-4c5c-b64e-11561cd512d9",
   "metadata": {},
   "outputs": [
    {
     "name": "stdout",
     "output_type": "stream",
     "text": [
      "shrikanta ramakant kalantri\n"
     ]
    }
   ],
   "source": [
    "print(name)"
   ]
  },
  {
   "cell_type": "code",
   "execution_count": null,
   "id": "7d4b89f7-8a5c-4c6b-97c3-d89a12034aa0",
   "metadata": {},
   "outputs": [],
   "source": []
  },
  {
   "cell_type": "raw",
   "id": "2c96c3d2-86c0-4c2c-b7b3-3189e574e6bf",
   "metadata": {},
   "source": [
    "Question 10"
   ]
  },
  {
   "cell_type": "code",
   "execution_count": 24,
   "id": "79c7f194-4274-4fcb-80ec-6c426daebff4",
   "metadata": {},
   "outputs": [],
   "source": [
    "s= \"Hello, World!\""
   ]
  },
  {
   "cell_type": "code",
   "execution_count": 26,
   "id": "5803843a-58ed-414e-9e5a-1dc7173e6122",
   "metadata": {},
   "outputs": [
    {
     "data": {
      "text/plain": [
       "'World'"
      ]
     },
     "execution_count": 26,
     "metadata": {},
     "output_type": "execute_result"
    }
   ],
   "source": [
    "s[7:-1]"
   ]
  },
  {
   "cell_type": "code",
   "execution_count": null,
   "id": "23973791-e0a9-4fb4-8d32-079897d626bf",
   "metadata": {},
   "outputs": [],
   "source": []
  },
  {
   "cell_type": "raw",
   "id": "15038989-7d45-455f-8abb-07a4f6189a8a",
   "metadata": {},
   "source": [
    "Question 11"
   ]
  },
  {
   "cell_type": "code",
   "execution_count": 27,
   "id": "f4031716-78d5-4aa2-96ba-f92748064d3b",
   "metadata": {},
   "outputs": [],
   "source": [
    "is_student = True\n"
   ]
  },
  {
   "cell_type": "code",
   "execution_count": 28,
   "id": "8de72e57-614d-4ea4-a95a-a5b4d45a1aef",
   "metadata": {},
   "outputs": [
    {
     "data": {
      "text/plain": [
       "True"
      ]
     },
     "execution_count": 28,
     "metadata": {},
     "output_type": "execute_result"
    }
   ],
   "source": [
    "is_student"
   ]
  },
  {
   "cell_type": "code",
   "execution_count": null,
   "id": "34b7c539-ed6d-4746-9a6b-0bebaaf5c189",
   "metadata": {},
   "outputs": [],
   "source": []
  }
 ],
 "metadata": {
  "kernelspec": {
   "display_name": "Python 3 (ipykernel)",
   "language": "python",
   "name": "python3"
  },
  "language_info": {
   "codemirror_mode": {
    "name": "ipython",
    "version": 3
   },
   "file_extension": ".py",
   "mimetype": "text/x-python",
   "name": "python",
   "nbconvert_exporter": "python",
   "pygments_lexer": "ipython3",
   "version": "3.10.8"
  }
 },
 "nbformat": 4,
 "nbformat_minor": 5
}
