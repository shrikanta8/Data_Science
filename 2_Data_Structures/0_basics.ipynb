{
 "cells": [
  {
   "cell_type": "code",
   "execution_count": 3,
   "id": "9bcfc79b-7902-400f-9ee8-946f370273f4",
   "metadata": {},
   "outputs": [],
   "source": [
    "#this is comment"
   ]
  },
  {
   "cell_type": "code",
   "execution_count": null,
   "id": "355552cf-6e7b-46a5-98d5-ea3cc5c6baaa",
   "metadata": {},
   "outputs": [],
   "source": []
  },
  {
   "cell_type": "code",
   "execution_count": 2,
   "id": "1e29c3d7-bcc5-4064-9654-b216d5ffc786",
   "metadata": {},
   "outputs": [
    {
     "data": {
      "text/plain": [
       "'this is \\nmultiline comment\\nin python'"
      ]
     },
     "execution_count": 2,
     "metadata": {},
     "output_type": "execute_result"
    }
   ],
   "source": [
    "'''this is \n",
    "multiline comment\n",
    "in python'''"
   ]
  },
  {
   "cell_type": "code",
   "execution_count": null,
   "id": "3c79c3be-df99-47e1-a445-5132223e24cf",
   "metadata": {},
   "outputs": [],
   "source": []
  }
 ],
 "metadata": {
  "kernelspec": {
   "display_name": "Python 3 (ipykernel)",
   "language": "python",
   "name": "python3"
  },
  "language_info": {
   "codemirror_mode": {
    "name": "ipython",
    "version": 3
   },
   "file_extension": ".py",
   "mimetype": "text/x-python",
   "name": "python",
   "nbconvert_exporter": "python",
   "pygments_lexer": "ipython3",
   "version": "3.10.8"
  }
 },
 "nbformat": 4,
 "nbformat_minor": 5
}
