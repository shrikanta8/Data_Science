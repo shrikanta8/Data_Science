{
 "cells": [
  {
   "cell_type": "code",
   "execution_count": 8,
   "id": "2f94bdd7-af52-4710-9cab-6398c12d5dac",
   "metadata": {},
   "outputs": [],
   "source": [
    "l = [3,5,\"shri\",6.6,True,(5+8j)]\n"
   ]
  },
  {
   "cell_type": "code",
   "execution_count": 9,
   "id": "24060ddb-5d43-4262-ae30-23d74f5f23dc",
   "metadata": {},
   "outputs": [
    {
     "data": {
      "text/plain": [
       "[3, 5, 'shri', 6.6, True, (5+8j)]"
      ]
     },
     "execution_count": 9,
     "metadata": {},
     "output_type": "execute_result"
    }
   ],
   "source": [
    "l"
   ]
  },
  {
   "cell_type": "code",
   "execution_count": 10,
   "id": "0a02d94b-0116-4256-aca6-9461789d5e47",
   "metadata": {},
   "outputs": [
    {
     "data": {
      "text/plain": [
       "[(5+8j), True, 6.6, 'shri', 5, 3]"
      ]
     },
     "execution_count": 10,
     "metadata": {},
     "output_type": "execute_result"
    }
   ],
   "source": [
    "l[::-1]\n",
    "#reverse"
   ]
  },
  {
   "cell_type": "code",
   "execution_count": 11,
   "id": "b7790293-36ce-449d-af14-cae8dc625ead",
   "metadata": {},
   "outputs": [
    {
     "data": {
      "text/plain": [
       "[3, 'shri', True]"
      ]
     },
     "execution_count": 11,
     "metadata": {},
     "output_type": "execute_result"
    }
   ],
   "source": [
    "l[::2]\n",
    "#even values"
   ]
  },
  {
   "cell_type": "code",
   "execution_count": 12,
   "id": "e8f324b2-2c94-4773-b63e-45c76d0c6c67",
   "metadata": {},
   "outputs": [
    {
     "data": {
      "text/plain": [
       "(5+8j)"
      ]
     },
     "execution_count": 12,
     "metadata": {},
     "output_type": "execute_result"
    }
   ],
   "source": [
    "l[-1]"
   ]
  },
  {
   "cell_type": "code",
   "execution_count": null,
   "id": "e0272fa7-e408-4188-b86c-e40ebdb595ef",
   "metadata": {},
   "outputs": [],
   "source": []
  },
  {
   "cell_type": "code",
   "execution_count": 13,
   "id": "2d5a876b-1fa6-4a0e-938c-8bd120a799ff",
   "metadata": {},
   "outputs": [],
   "source": [
    "s = \"shriji\""
   ]
  },
  {
   "cell_type": "code",
   "execution_count": 14,
   "id": "ad87005e-e9c3-4667-9a77-3d0363e94012",
   "metadata": {},
   "outputs": [
    {
     "ename": "TypeError",
     "evalue": "can only concatenate list (not \"str\") to list",
     "output_type": "error",
     "traceback": [
      "\u001b[0;31m---------------------------------------------------------------------------\u001b[0m",
      "\u001b[0;31mTypeError\u001b[0m                                 Traceback (most recent call last)",
      "Cell \u001b[0;32mIn[14], line 1\u001b[0m\n\u001b[0;32m----> 1\u001b[0m \u001b[43ml\u001b[49m\u001b[43m \u001b[49m\u001b[38;5;241;43m+\u001b[39;49m\u001b[43m \u001b[49m\u001b[43ms\u001b[49m\n\u001b[1;32m      2\u001b[0m \u001b[38;5;66;03m#won't work!\u001b[39;00m\n",
      "\u001b[0;31mTypeError\u001b[0m: can only concatenate list (not \"str\") to list"
     ]
    }
   ],
   "source": [
    "l + s\n",
    "#won't work!"
   ]
  },
  {
   "cell_type": "code",
   "execution_count": 15,
   "id": "1a81b3e7-a499-4b02-a251-ce4e0932d691",
   "metadata": {},
   "outputs": [
    {
     "data": {
      "text/plain": [
       "['s', 'h', 'r', 'i', 'j', 'i', 3, 5, 'shri', 6.6, True, (5+8j)]"
      ]
     },
     "execution_count": 15,
     "metadata": {},
     "output_type": "execute_result"
    }
   ],
   "source": [
    "list(s) + l\n",
    "#string gets broken"
   ]
  },
  {
   "cell_type": "code",
   "execution_count": 16,
   "id": "7fe768f9-2e11-42a0-a0b6-e2ee6bb1da36",
   "metadata": {},
   "outputs": [
    {
     "data": {
      "text/plain": [
       "[3, 5, 'shri', 6.6, True, (5+8j)]"
      ]
     },
     "execution_count": 16,
     "metadata": {},
     "output_type": "execute_result"
    }
   ],
   "source": [
    "l\n"
   ]
  },
  {
   "cell_type": "code",
   "execution_count": 17,
   "id": "d1aedcb6-6560-4b3c-ad6e-393f4d5c1e97",
   "metadata": {},
   "outputs": [
    {
     "data": {
      "text/plain": [
       "'sh'"
      ]
     },
     "execution_count": 17,
     "metadata": {},
     "output_type": "execute_result"
    }
   ],
   "source": [
    "l[2][0:2]"
   ]
  },
  {
   "cell_type": "code",
   "execution_count": 18,
   "id": "6c205635-a117-4679-a17a-054cde2ffad9",
   "metadata": {},
   "outputs": [
    {
     "data": {
      "text/plain": [
       "'Tr'"
      ]
     },
     "execution_count": 18,
     "metadata": {},
     "output_type": "execute_result"
    }
   ],
   "source": [
    "str(l[4])[0:2]"
   ]
  },
  {
   "cell_type": "code",
   "execution_count": null,
   "id": "b2ca0005-218b-4819-ab9f-0d58f226d9b2",
   "metadata": {},
   "outputs": [],
   "source": []
  },
  {
   "cell_type": "code",
   "execution_count": 19,
   "id": "11c5bdbc-d80e-400a-8955-28d97dde0c68",
   "metadata": {},
   "outputs": [],
   "source": [
    "l1 = [3,4,5]"
   ]
  },
  {
   "cell_type": "code",
   "execution_count": 20,
   "id": "4f4faea5-ce15-4a9b-8233-02fbc51f61a8",
   "metadata": {},
   "outputs": [
    {
     "data": {
      "text/plain": [
       "[3, 5, 'shri', 6.6, True, (5+8j), 3, 4, 5]"
      ]
     },
     "execution_count": 20,
     "metadata": {},
     "output_type": "execute_result"
    }
   ],
   "source": [
    "l + l1"
   ]
  },
  {
   "cell_type": "code",
   "execution_count": 21,
   "id": "96c892bf-7407-4dfa-8cdd-63dc8d2f3610",
   "metadata": {},
   "outputs": [
    {
     "data": {
      "text/plain": [
       "[3, 4, 5, 3, 4, 5, 3, 4, 5]"
      ]
     },
     "execution_count": 21,
     "metadata": {},
     "output_type": "execute_result"
    }
   ],
   "source": [
    "l1 * 3"
   ]
  },
  {
   "cell_type": "code",
   "execution_count": 22,
   "id": "5deba543-c2ce-4875-b62f-b889217f1a74",
   "metadata": {},
   "outputs": [
    {
     "data": {
      "text/plain": [
       "3"
      ]
     },
     "execution_count": 22,
     "metadata": {},
     "output_type": "execute_result"
    }
   ],
   "source": [
    "len(l1)"
   ]
  },
  {
   "cell_type": "code",
   "execution_count": null,
   "id": "eb963073-6f75-4e06-9595-8e606a52efb3",
   "metadata": {},
   "outputs": [],
   "source": []
  },
  {
   "cell_type": "code",
   "execution_count": 23,
   "id": "8bb7c4bb-9605-4471-84fc-9f020c79b020",
   "metadata": {},
   "outputs": [
    {
     "data": {
      "text/plain": [
       "[3, 5, 'shri', 6.6, True, (5+8j)]"
      ]
     },
     "execution_count": 23,
     "metadata": {},
     "output_type": "execute_result"
    }
   ],
   "source": [
    "l"
   ]
  },
  {
   "cell_type": "code",
   "execution_count": 24,
   "id": "b2f6909e-44bd-4ee2-a9be-af4087fd554b",
   "metadata": {},
   "outputs": [],
   "source": [
    "l.append(5)"
   ]
  },
  {
   "cell_type": "code",
   "execution_count": 25,
   "id": "f6ea2035-02d9-435b-aa23-9e38d535b6f0",
   "metadata": {},
   "outputs": [
    {
     "data": {
      "text/plain": [
       "[3, 5, 'shri', 6.6, True, (5+8j), 5]"
      ]
     },
     "execution_count": 25,
     "metadata": {},
     "output_type": "execute_result"
    }
   ],
   "source": [
    "l"
   ]
  },
  {
   "cell_type": "code",
   "execution_count": 26,
   "id": "b80d880d-2596-4399-8668-6df0d4b9e51d",
   "metadata": {},
   "outputs": [],
   "source": [
    "l.append(\"hello\")"
   ]
  },
  {
   "cell_type": "code",
   "execution_count": 27,
   "id": "788cfd72-a702-4749-a31d-964d3b8eae8b",
   "metadata": {},
   "outputs": [
    {
     "data": {
      "text/plain": [
       "[3, 5, 'shri', 6.6, True, (5+8j), 5, 'hello']"
      ]
     },
     "execution_count": 27,
     "metadata": {},
     "output_type": "execute_result"
    }
   ],
   "source": [
    "l"
   ]
  },
  {
   "cell_type": "code",
   "execution_count": 28,
   "id": "61da6961-eb2d-4c16-bb8c-ea205089e6f0",
   "metadata": {},
   "outputs": [],
   "source": [
    "l.append(l1)"
   ]
  },
  {
   "cell_type": "code",
   "execution_count": 29,
   "id": "3b617bbe-e47d-43b6-b06b-6814f5c8d0e8",
   "metadata": {},
   "outputs": [
    {
     "data": {
      "text/plain": [
       "[3, 5, 'shri', 6.6, True, (5+8j), 5, 'hello', [3, 4, 5]]"
      ]
     },
     "execution_count": 29,
     "metadata": {},
     "output_type": "execute_result"
    }
   ],
   "source": [
    "l"
   ]
  },
  {
   "cell_type": "code",
   "execution_count": 30,
   "id": "ad10884b-7d21-4a97-a09b-9405127730fe",
   "metadata": {},
   "outputs": [
    {
     "data": {
      "text/plain": [
       "4"
      ]
     },
     "execution_count": 30,
     "metadata": {},
     "output_type": "execute_result"
    }
   ],
   "source": [
    "l[-1][1]"
   ]
  },
  {
   "cell_type": "code",
   "execution_count": 31,
   "id": "a4d4691c-75a9-403f-8e9b-ef96957ed8ac",
   "metadata": {},
   "outputs": [
    {
     "ename": "TypeError",
     "evalue": "'int' object is not iterable",
     "output_type": "error",
     "traceback": [
      "\u001b[0;31m---------------------------------------------------------------------------\u001b[0m",
      "\u001b[0;31mTypeError\u001b[0m                                 Traceback (most recent call last)",
      "Cell \u001b[0;32mIn[31], line 1\u001b[0m\n\u001b[0;32m----> 1\u001b[0m \u001b[43ml\u001b[49m\u001b[38;5;241;43m.\u001b[39;49m\u001b[43mextend\u001b[49m\u001b[43m(\u001b[49m\u001b[38;5;241;43m4\u001b[39;49m\u001b[43m)\u001b[49m\n\u001b[1;32m      2\u001b[0m \u001b[38;5;66;03m#iterables(data inside data) should be there\u001b[39;00m\n",
      "\u001b[0;31mTypeError\u001b[0m: 'int' object is not iterable"
     ]
    }
   ],
   "source": [
    "l.extend(4)\n",
    "#iterables(data inside data) should be there"
   ]
  },
  {
   "cell_type": "code",
   "execution_count": 32,
   "id": "9fa15acf-8bfe-4950-9b1e-6c4fc94ff135",
   "metadata": {},
   "outputs": [],
   "source": [
    "l.extend(\"shrii\")"
   ]
  },
  {
   "cell_type": "code",
   "execution_count": 33,
   "id": "7ee0d28c-7489-4c9b-bd5c-2ee26421ba8f",
   "metadata": {},
   "outputs": [
    {
     "data": {
      "text/plain": [
       "[3,\n",
       " 5,\n",
       " 'shri',\n",
       " 6.6,\n",
       " True,\n",
       " (5+8j),\n",
       " 5,\n",
       " 'hello',\n",
       " [3, 4, 5],\n",
       " 's',\n",
       " 'h',\n",
       " 'r',\n",
       " 'i',\n",
       " 'i']"
      ]
     },
     "execution_count": 33,
     "metadata": {},
     "output_type": "execute_result"
    }
   ],
   "source": [
    "l"
   ]
  },
  {
   "cell_type": "code",
   "execution_count": 34,
   "id": "0e1fabc6-cc04-463f-87cb-6c488b01858a",
   "metadata": {},
   "outputs": [],
   "source": [
    "l.extend([3,4,5])"
   ]
  },
  {
   "cell_type": "code",
   "execution_count": 35,
   "id": "2a44fb8c-b1fa-46cb-947a-13bf9ade6f02",
   "metadata": {},
   "outputs": [
    {
     "data": {
      "text/plain": [
       "[3,\n",
       " 5,\n",
       " 'shri',\n",
       " 6.6,\n",
       " True,\n",
       " (5+8j),\n",
       " 5,\n",
       " 'hello',\n",
       " [3, 4, 5],\n",
       " 's',\n",
       " 'h',\n",
       " 'r',\n",
       " 'i',\n",
       " 'i',\n",
       " 3,\n",
       " 4,\n",
       " 5]"
      ]
     },
     "execution_count": 35,
     "metadata": {},
     "output_type": "execute_result"
    }
   ],
   "source": [
    "l"
   ]
  },
  {
   "cell_type": "code",
   "execution_count": null,
   "id": "12636399-4abc-4896-a79f-5932117191de",
   "metadata": {},
   "outputs": [],
   "source": []
  },
  {
   "cell_type": "code",
   "execution_count": 36,
   "id": "5d8136e2-89fc-4268-94ff-261e7bb3cd55",
   "metadata": {},
   "outputs": [
    {
     "data": {
      "text/plain": [
       "[3, 4, 5]"
      ]
     },
     "execution_count": 36,
     "metadata": {},
     "output_type": "execute_result"
    }
   ],
   "source": [
    "l1"
   ]
  },
  {
   "cell_type": "code",
   "execution_count": 37,
   "id": "d5f8fbd1-8791-4948-a2b7-a8dbec11e74c",
   "metadata": {},
   "outputs": [],
   "source": [
    "l1.insert(1,\"shrikanta\")"
   ]
  },
  {
   "cell_type": "code",
   "execution_count": 38,
   "id": "ab3ae6bb-f8af-42fb-96ce-f4252205f83a",
   "metadata": {},
   "outputs": [
    {
     "data": {
      "text/plain": [
       "[3, 'shrikanta', 4, 5]"
      ]
     },
     "execution_count": 38,
     "metadata": {},
     "output_type": "execute_result"
    }
   ],
   "source": [
    "l1"
   ]
  },
  {
   "cell_type": "code",
   "execution_count": 39,
   "id": "5df7b6f3-d9a2-4f64-b68e-6e7b8128bdd7",
   "metadata": {},
   "outputs": [],
   "source": [
    "l1.insert(1,[2,3,4])"
   ]
  },
  {
   "cell_type": "code",
   "execution_count": 40,
   "id": "e61bcb4e-cc52-45d9-b84f-f3e111c335c4",
   "metadata": {},
   "outputs": [
    {
     "data": {
      "text/plain": [
       "[3, [2, 3, 4], 'shrikanta', 4, 5]"
      ]
     },
     "execution_count": 40,
     "metadata": {},
     "output_type": "execute_result"
    }
   ],
   "source": [
    "l1"
   ]
  },
  {
   "cell_type": "code",
   "execution_count": 41,
   "id": "40a5514e-c268-4072-ac97-73dfcfcd610f",
   "metadata": {},
   "outputs": [],
   "source": [
    "l1.insert(-1,77)\n",
    "#adding 77 at -1 position and shifting 5 to one position right"
   ]
  },
  {
   "cell_type": "code",
   "execution_count": 42,
   "id": "4a8d0ce6-e3bc-4178-8b75-96e18a6130cd",
   "metadata": {},
   "outputs": [
    {
     "data": {
      "text/plain": [
       "[3, [2, 3, 4], 'shrikanta', 4, 77, 5]"
      ]
     },
     "execution_count": 42,
     "metadata": {},
     "output_type": "execute_result"
    }
   ],
   "source": [
    "l1"
   ]
  },
  {
   "cell_type": "code",
   "execution_count": null,
   "id": "d03f4828-453c-4dc2-a020-10a51ad9a164",
   "metadata": {},
   "outputs": [],
   "source": []
  },
  {
   "cell_type": "code",
   "execution_count": 43,
   "id": "b4a161ba-803c-4f16-95bd-71513b60a5ba",
   "metadata": {},
   "outputs": [
    {
     "data": {
      "text/plain": [
       "5"
      ]
     },
     "execution_count": 43,
     "metadata": {},
     "output_type": "execute_result"
    }
   ],
   "source": [
    "l1.pop()"
   ]
  },
  {
   "cell_type": "code",
   "execution_count": 44,
   "id": "217d94c5-6693-4ced-8438-5c61ff6ceb71",
   "metadata": {},
   "outputs": [
    {
     "data": {
      "text/plain": [
       "[3, [2, 3, 4], 'shrikanta', 4, 77]"
      ]
     },
     "execution_count": 44,
     "metadata": {},
     "output_type": "execute_result"
    }
   ],
   "source": [
    "l1"
   ]
  },
  {
   "cell_type": "code",
   "execution_count": 45,
   "id": "52967eed-e77f-417b-84a3-f11402837596",
   "metadata": {},
   "outputs": [
    {
     "data": {
      "text/plain": [
       "4"
      ]
     },
     "execution_count": 45,
     "metadata": {},
     "output_type": "execute_result"
    }
   ],
   "source": [
    "l1.pop(3)\n",
    "#takes index"
   ]
  },
  {
   "cell_type": "code",
   "execution_count": 46,
   "id": "de4c4e05-6e70-42fc-bf63-ca6dbcb7f060",
   "metadata": {},
   "outputs": [
    {
     "data": {
      "text/plain": [
       "[3, [2, 3, 4], 'shrikanta', 77]"
      ]
     },
     "execution_count": 46,
     "metadata": {},
     "output_type": "execute_result"
    }
   ],
   "source": [
    "l1"
   ]
  },
  {
   "cell_type": "code",
   "execution_count": 47,
   "id": "95124c49-bbe2-443e-8d77-6041dd8f83fd",
   "metadata": {},
   "outputs": [],
   "source": [
    "l1.remove(77)"
   ]
  },
  {
   "cell_type": "code",
   "execution_count": 48,
   "id": "dca46cdb-4a1d-484d-9941-561ab8cf197a",
   "metadata": {},
   "outputs": [
    {
     "data": {
      "text/plain": [
       "[3, [2, 3, 4], 'shrikanta']"
      ]
     },
     "execution_count": 48,
     "metadata": {},
     "output_type": "execute_result"
    }
   ],
   "source": [
    "l1"
   ]
  },
  {
   "cell_type": "code",
   "execution_count": 49,
   "id": "ca47ffab-e4e2-4e8b-87e6-b5c7b9d7e6c6",
   "metadata": {},
   "outputs": [
    {
     "ename": "ValueError",
     "evalue": "list.remove(x): x not in list",
     "output_type": "error",
     "traceback": [
      "\u001b[0;31m---------------------------------------------------------------------------\u001b[0m",
      "\u001b[0;31mValueError\u001b[0m                                Traceback (most recent call last)",
      "Cell \u001b[0;32mIn[49], line 1\u001b[0m\n\u001b[0;32m----> 1\u001b[0m \u001b[43ml1\u001b[49m\u001b[38;5;241;43m.\u001b[39;49m\u001b[43mremove\u001b[49m\u001b[43m(\u001b[49m\u001b[38;5;241;43m233\u001b[39;49m\u001b[43m)\u001b[49m\n\u001b[1;32m      2\u001b[0m \u001b[38;5;66;03m#give error\u001b[39;00m\n",
      "\u001b[0;31mValueError\u001b[0m: list.remove(x): x not in list"
     ]
    }
   ],
   "source": [
    "l1.remove(233)\n",
    "#give error"
   ]
  },
  {
   "cell_type": "code",
   "execution_count": 50,
   "id": "b3ee53ce-8927-4dfc-a400-d03a55b0bf3d",
   "metadata": {},
   "outputs": [],
   "source": [
    "l1[1].remove(3)"
   ]
  },
  {
   "cell_type": "code",
   "execution_count": 51,
   "id": "9a1dc197-95b7-48e2-b106-50868abd6364",
   "metadata": {},
   "outputs": [
    {
     "data": {
      "text/plain": [
       "[3, [2, 4], 'shrikanta']"
      ]
     },
     "execution_count": 51,
     "metadata": {},
     "output_type": "execute_result"
    }
   ],
   "source": [
    "l1"
   ]
  },
  {
   "cell_type": "code",
   "execution_count": 52,
   "id": "5939af53-af80-4bf3-9000-bd6a09333727",
   "metadata": {},
   "outputs": [],
   "source": [
    "l1.append(3)"
   ]
  },
  {
   "cell_type": "code",
   "execution_count": 53,
   "id": "048b9536-bf37-4532-8ad5-c53be79e724d",
   "metadata": {},
   "outputs": [
    {
     "data": {
      "text/plain": [
       "[3, [2, 4], 'shrikanta', 3]"
      ]
     },
     "execution_count": 53,
     "metadata": {},
     "output_type": "execute_result"
    }
   ],
   "source": [
    "l1"
   ]
  },
  {
   "cell_type": "code",
   "execution_count": 54,
   "id": "4af7d7bf-3135-45d9-8431-cc4010616c3c",
   "metadata": {},
   "outputs": [],
   "source": [
    "l1.remove(3)\n",
    "#only remove 1 value of 3"
   ]
  },
  {
   "cell_type": "code",
   "execution_count": 55,
   "id": "e21c6921-9dac-4e5c-9fbf-af4ed495ae3c",
   "metadata": {},
   "outputs": [
    {
     "data": {
      "text/plain": [
       "[[2, 4], 'shrikanta', 3]"
      ]
     },
     "execution_count": 55,
     "metadata": {},
     "output_type": "execute_result"
    }
   ],
   "source": [
    "l1"
   ]
  },
  {
   "cell_type": "code",
   "execution_count": 56,
   "id": "c8835e14-d88c-4fb6-93ca-19a723b18d08",
   "metadata": {},
   "outputs": [
    {
     "data": {
      "text/plain": [
       "[3, 'shrikanta', [2, 4]]"
      ]
     },
     "execution_count": 56,
     "metadata": {},
     "output_type": "execute_result"
    }
   ],
   "source": [
    "l1[::-1]"
   ]
  },
  {
   "cell_type": "code",
   "execution_count": 57,
   "id": "d1440532-4d24-4698-bf4d-394d9c00628b",
   "metadata": {},
   "outputs": [
    {
     "data": {
      "text/plain": [
       "[[2, 4], 'shrikanta', 3]"
      ]
     },
     "execution_count": 57,
     "metadata": {},
     "output_type": "execute_result"
    }
   ],
   "source": [
    "l1"
   ]
  },
  {
   "cell_type": "code",
   "execution_count": 58,
   "id": "739773ef-59da-4c29-bcf8-2c4ad924c14f",
   "metadata": {},
   "outputs": [],
   "source": [
    "l1.reverse()\n",
    "#permanent reverse"
   ]
  },
  {
   "cell_type": "code",
   "execution_count": 59,
   "id": "20b306d6-1f8b-404b-8766-55dc43b3b1ee",
   "metadata": {},
   "outputs": [
    {
     "data": {
      "text/plain": [
       "[3, 'shrikanta', [2, 4]]"
      ]
     },
     "execution_count": 59,
     "metadata": {},
     "output_type": "execute_result"
    }
   ],
   "source": [
    "l1"
   ]
  },
  {
   "cell_type": "code",
   "execution_count": null,
   "id": "342a6066-688b-4b12-b40a-ec5ecc93a91e",
   "metadata": {},
   "outputs": [],
   "source": [
    "l1.sort()\n",
    "#give error"
   ]
  },
  {
   "cell_type": "code",
   "execution_count": 64,
   "id": "5e54421f-2a54-4485-9288-33aceb94b3a3",
   "metadata": {},
   "outputs": [],
   "source": [
    "l2 = [13,4,8,1,0]"
   ]
  },
  {
   "cell_type": "code",
   "execution_count": 65,
   "id": "229f1ee7-8b9c-4819-ad5c-169587ebf8d4",
   "metadata": {},
   "outputs": [],
   "source": [
    "l2.sort()"
   ]
  },
  {
   "cell_type": "code",
   "execution_count": 66,
   "id": "39b1317a-976d-4ac2-97b8-d3d61f839711",
   "metadata": {},
   "outputs": [
    {
     "data": {
      "text/plain": [
       "[0, 1, 4, 8, 13]"
      ]
     },
     "execution_count": 66,
     "metadata": {},
     "output_type": "execute_result"
    }
   ],
   "source": [
    "l2"
   ]
  },
  {
   "cell_type": "code",
   "execution_count": 67,
   "id": "c0ac5633-33c6-44eb-9a45-d79b9a9565a4",
   "metadata": {},
   "outputs": [],
   "source": [
    "l3 = [34,\"shri\",22,44,11]"
   ]
  },
  {
   "cell_type": "code",
   "execution_count": 68,
   "id": "195859c7-6a59-4a99-a946-296efb2d8343",
   "metadata": {},
   "outputs": [
    {
     "ename": "TypeError",
     "evalue": "'<' not supported between instances of 'str' and 'int'",
     "output_type": "error",
     "traceback": [
      "\u001b[0;31m---------------------------------------------------------------------------\u001b[0m",
      "\u001b[0;31mTypeError\u001b[0m                                 Traceback (most recent call last)",
      "Cell \u001b[0;32mIn[68], line 1\u001b[0m\n\u001b[0;32m----> 1\u001b[0m \u001b[43ml3\u001b[49m\u001b[38;5;241;43m.\u001b[39;49m\u001b[43msort\u001b[49m\u001b[43m(\u001b[49m\u001b[43m)\u001b[49m\n\u001b[1;32m      2\u001b[0m \u001b[38;5;66;03m#give error\u001b[39;00m\n",
      "\u001b[0;31mTypeError\u001b[0m: '<' not supported between instances of 'str' and 'int'"
     ]
    }
   ],
   "source": [
    "l3.sort()\n",
    "#give error"
   ]
  },
  {
   "cell_type": "code",
   "execution_count": 69,
   "id": "922be2c6-1655-4145-9ad6-3a129e25daaa",
   "metadata": {},
   "outputs": [],
   "source": [
    "l4 = [\"shri\",\"hello\",\"keep\",\"smiling\"]"
   ]
  },
  {
   "cell_type": "code",
   "execution_count": 72,
   "id": "d6639ee4-27c4-4648-a0f8-6566f4482c96",
   "metadata": {},
   "outputs": [],
   "source": [
    "l4.sort(reverse=True)"
   ]
  },
  {
   "cell_type": "code",
   "execution_count": 73,
   "id": "11a31bd2-4850-460d-a3f4-febaf593d244",
   "metadata": {},
   "outputs": [
    {
     "data": {
      "text/plain": [
       "['smiling', 'shri', 'keep', 'hello']"
      ]
     },
     "execution_count": 73,
     "metadata": {},
     "output_type": "execute_result"
    }
   ],
   "source": [
    "l4"
   ]
  },
  {
   "cell_type": "code",
   "execution_count": 74,
   "id": "55833f39-b38c-4896-8b7e-b9fbbd0448c6",
   "metadata": {},
   "outputs": [
    {
     "data": {
      "text/plain": [
       "2"
      ]
     },
     "execution_count": 74,
     "metadata": {},
     "output_type": "execute_result"
    }
   ],
   "source": [
    "l4.index(\"keep\")"
   ]
  },
  {
   "cell_type": "code",
   "execution_count": 75,
   "id": "cb2d0db9-c56b-4ded-9c46-b3780969e2e1",
   "metadata": {},
   "outputs": [
    {
     "data": {
      "text/plain": [
       "1"
      ]
     },
     "execution_count": 75,
     "metadata": {},
     "output_type": "execute_result"
    }
   ],
   "source": [
    "l4.count(\"hello\")"
   ]
  },
  {
   "cell_type": "code",
   "execution_count": null,
   "id": "47b738d7-56ad-41b1-a14e-5e338ef5f7cd",
   "metadata": {},
   "outputs": [],
   "source": []
  }
 ],
 "metadata": {
  "kernelspec": {
   "display_name": "Python 3 (ipykernel)",
   "language": "python",
   "name": "python3"
  },
  "language_info": {
   "codemirror_mode": {
    "name": "ipython",
    "version": 3
   },
   "file_extension": ".py",
   "mimetype": "text/x-python",
   "name": "python",
   "nbconvert_exporter": "python",
   "pygments_lexer": "ipython3",
   "version": "3.10.8"
  }
 },
 "nbformat": 4,
 "nbformat_minor": 5
}
