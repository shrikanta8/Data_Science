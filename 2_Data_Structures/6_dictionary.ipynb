{
 "cells": [
  {
   "cell_type": "code",
   "execution_count": 1,
   "id": "634c28c9-ca1d-43e1-8ff4-422e1cdd679c",
   "metadata": {},
   "outputs": [],
   "source": [
    "d = {}"
   ]
  },
  {
   "cell_type": "code",
   "execution_count": 3,
   "id": "b03f0f9c-d03f-4501-8281-2b6ab607dc77",
   "metadata": {},
   "outputs": [
    {
     "data": {
      "text/plain": [
       "dict"
      ]
     },
     "execution_count": 3,
     "metadata": {},
     "output_type": "execute_result"
    }
   ],
   "source": [
    "type(d)"
   ]
  },
  {
   "cell_type": "code",
   "execution_count": 4,
   "id": "ee5b945d-8b23-46e1-9c80-c1790a8170cd",
   "metadata": {},
   "outputs": [],
   "source": [
    "d1 = {'key':\"shriji\"}\n",
    "#key should always be unique"
   ]
  },
  {
   "cell_type": "code",
   "execution_count": 5,
   "id": "2dd912c0-4fdb-4ead-84db-652f4a04cd7b",
   "metadata": {},
   "outputs": [
    {
     "data": {
      "text/plain": [
       "{'key': 'shriji'}"
      ]
     },
     "execution_count": 5,
     "metadata": {},
     "output_type": "execute_result"
    }
   ],
   "source": [
    "d1"
   ]
  },
  {
   "cell_type": "code",
   "execution_count": 6,
   "id": "1d55ef75-1f3f-4cb8-9301-24fb67042baf",
   "metadata": {},
   "outputs": [],
   "source": [
    "d2 = {'name':\"shri\", \"email\": \"ss@gmail.com\",\"number\":123456}"
   ]
  },
  {
   "cell_type": "code",
   "execution_count": 7,
   "id": "d8861cb1-5503-45ae-8c4e-67b831feb857",
   "metadata": {},
   "outputs": [
    {
     "data": {
      "text/plain": [
       "{'name': 'shri', 'email': 'ss@gmail.com', 'number': 123456}"
      ]
     },
     "execution_count": 7,
     "metadata": {},
     "output_type": "execute_result"
    }
   ],
   "source": [
    "d2"
   ]
  },
  {
   "cell_type": "code",
   "execution_count": null,
   "id": "ea201773-faa8-4b4d-a95f-b1c2836d4d9d",
   "metadata": {},
   "outputs": [],
   "source": [
    "d3 = {234: \"shri\", @aa :\"kk\" }\n",
    "#it will give error"
   ]
  },
  {
   "cell_type": "code",
   "execution_count": 7,
   "id": "63cf542f-6761-4271-b307-97aeada83d61",
   "metadata": {},
   "outputs": [],
   "source": [
    "d4 = {234: \"shri\", \"@_aa\" :\"kk\" , True:  23435}"
   ]
  },
  {
   "cell_type": "code",
   "execution_count": 8,
   "id": "9a0e2521-5c9f-4cd0-8239-f69804bc1470",
   "metadata": {},
   "outputs": [
    {
     "data": {
      "text/plain": [
       "{234: 'shri', '@_aa': 'kk', True: 23435}"
      ]
     },
     "execution_count": 8,
     "metadata": {},
     "output_type": "execute_result"
    }
   ],
   "source": [
    "d4"
   ]
  },
  {
   "cell_type": "code",
   "execution_count": 9,
   "id": "7677ae4e-6ad2-466f-b108-e916c9360036",
   "metadata": {},
   "outputs": [
    {
     "data": {
      "text/plain": [
       "'shri'"
      ]
     },
     "execution_count": 9,
     "metadata": {},
     "output_type": "execute_result"
    }
   ],
   "source": [
    "d4[234]"
   ]
  },
  {
   "cell_type": "code",
   "execution_count": 10,
   "id": "8d23fad5-a74f-4fe2-a74e-0919a672ad5e",
   "metadata": {},
   "outputs": [
    {
     "data": {
      "text/plain": [
       "23435"
      ]
     },
     "execution_count": 10,
     "metadata": {},
     "output_type": "execute_result"
    }
   ],
   "source": [
    "d4[True]"
   ]
  },
  {
   "cell_type": "code",
   "execution_count": 11,
   "id": "77264b0e-46f5-42ce-b646-d106ed0f3253",
   "metadata": {},
   "outputs": [
    {
     "data": {
      "text/plain": [
       "23435"
      ]
     },
     "execution_count": 11,
     "metadata": {},
     "output_type": "execute_result"
    }
   ],
   "source": [
    "d4[1]\n",
    "##true is 1"
   ]
  },
  {
   "cell_type": "code",
   "execution_count": 15,
   "id": "66a345b5-df99-4d5a-ab3b-9b9daee10cb3",
   "metadata": {},
   "outputs": [],
   "source": [
    "d4 = {'name':\"shri\", \"email\": \"ss@gmail.com\",'name':\"shrikanta\"}"
   ]
  },
  {
   "cell_type": "code",
   "execution_count": 16,
   "id": "281a79d4-c96b-4101-86bf-e02be6aa070d",
   "metadata": {},
   "outputs": [
    {
     "data": {
      "text/plain": [
       "'shrikanta'"
      ]
     },
     "execution_count": 16,
     "metadata": {},
     "output_type": "execute_result"
    }
   ],
   "source": [
    "d4[\"name\"]\n",
    "#overwritten"
   ]
  },
  {
   "cell_type": "code",
   "execution_count": 17,
   "id": "8c487286-9033-4760-a311-05b888f5c80d",
   "metadata": {},
   "outputs": [],
   "source": [
    "d5 = {\"company\": \"optum\", \"course\": [\"web dev\", \"ds\", \"java\"]}"
   ]
  },
  {
   "cell_type": "code",
   "execution_count": 18,
   "id": "ee772982-8b52-4fa0-b7ec-346b186c9524",
   "metadata": {},
   "outputs": [
    {
     "data": {
      "text/plain": [
       "{'company': 'optum', 'course': ['web dev', 'ds', 'java']}"
      ]
     },
     "execution_count": 18,
     "metadata": {},
     "output_type": "execute_result"
    }
   ],
   "source": [
    "d5"
   ]
  },
  {
   "cell_type": "code",
   "execution_count": 20,
   "id": "47d8bd60-9bed-4ab9-9d77-4ba7c12d338d",
   "metadata": {},
   "outputs": [
    {
     "data": {
      "text/plain": [
       "'java'"
      ]
     },
     "execution_count": 20,
     "metadata": {},
     "output_type": "execute_result"
    }
   ],
   "source": [
    "d5[\"course\"][2]"
   ]
  },
  {
   "cell_type": "code",
   "execution_count": 23,
   "id": "f85db0d4-c25a-47ac-be08-2a02381fc542",
   "metadata": {},
   "outputs": [],
   "source": [
    "d6 = {\"number\":[2,33,44,1,22], \"assignment\": (1,3,4,5,6), \"launch_date\": {28,12,99} , \"class_time\": { \"web dev\": 8, \"ds masters\": 8, \"java system design\": 7} }"
   ]
  },
  {
   "cell_type": "code",
   "execution_count": 24,
   "id": "4078e3f1-b1e0-4fc2-aa86-7a744d2ea678",
   "metadata": {},
   "outputs": [
    {
     "data": {
      "text/plain": [
       "{'number': [2, 33, 44, 1, 22],\n",
       " 'assignment': (1, 3, 4, 5, 6),\n",
       " 'launch_date': {12, 28, 99},\n",
       " 'class_time': {'web dev': 8, 'ds masters': 8, 'java system design': 7}}"
      ]
     },
     "execution_count": 24,
     "metadata": {},
     "output_type": "execute_result"
    }
   ],
   "source": [
    "d6"
   ]
  },
  {
   "cell_type": "code",
   "execution_count": 25,
   "id": "c9e79235-ede6-4b71-8844-bddb9dc6b6c1",
   "metadata": {},
   "outputs": [],
   "source": [
    "d6[\"mentor\"] = [\"hitesh\",\"krish\",\"anurag\"]"
   ]
  },
  {
   "cell_type": "code",
   "execution_count": 26,
   "id": "54174504-37b8-48f0-9d56-1259c950a4f4",
   "metadata": {},
   "outputs": [
    {
     "data": {
      "text/plain": [
       "{'number': [2, 33, 44, 1, 22],\n",
       " 'assignment': (1, 3, 4, 5, 6),\n",
       " 'launch_date': {12, 28, 99},\n",
       " 'class_time': {'web dev': 8, 'ds masters': 8, 'java system design': 7},\n",
       " 'mentor': ['hitesh', 'krish', 'anurag']}"
      ]
     },
     "execution_count": 26,
     "metadata": {},
     "output_type": "execute_result"
    }
   ],
   "source": [
    "d6"
   ]
  },
  {
   "cell_type": "code",
   "execution_count": 27,
   "id": "6779d5c6-0c7c-47d8-ba31-fdcf72c212f4",
   "metadata": {},
   "outputs": [],
   "source": [
    "del d6[\"number\"]"
   ]
  },
  {
   "cell_type": "code",
   "execution_count": 28,
   "id": "70e9a95f-783a-45b1-9bb2-3f97e46f590c",
   "metadata": {},
   "outputs": [
    {
     "data": {
      "text/plain": [
       "{'assignment': (1, 3, 4, 5, 6),\n",
       " 'launch_date': {12, 28, 99},\n",
       " 'class_time': {'web dev': 8, 'ds masters': 8, 'java system design': 7},\n",
       " 'mentor': ['hitesh', 'krish', 'anurag']}"
      ]
     },
     "execution_count": 28,
     "metadata": {},
     "output_type": "execute_result"
    }
   ],
   "source": [
    "d6"
   ]
  },
  {
   "cell_type": "code",
   "execution_count": 30,
   "id": "eebe7ca0-948e-4534-8785-437c25f4fe2d",
   "metadata": {},
   "outputs": [
    {
     "data": {
      "text/plain": [
       "['assignment', 'launch_date', 'class_time', 'mentor']"
      ]
     },
     "execution_count": 30,
     "metadata": {},
     "output_type": "execute_result"
    }
   ],
   "source": [
    "list(d6.keys())"
   ]
  },
  {
   "cell_type": "code",
   "execution_count": 32,
   "id": "78baa838-8532-4063-9792-b03de00abea3",
   "metadata": {},
   "outputs": [
    {
     "data": {
      "text/plain": [
       "[(1, 3, 4, 5, 6),\n",
       " {12, 28, 99},\n",
       " {'web dev': 8, 'ds masters': 8, 'java system design': 7},\n",
       " ['hitesh', 'krish', 'anurag']]"
      ]
     },
     "execution_count": 32,
     "metadata": {},
     "output_type": "execute_result"
    }
   ],
   "source": [
    "list(d6.values())"
   ]
  },
  {
   "cell_type": "code",
   "execution_count": 34,
   "id": "ff47c4cb-4c3a-41bc-a072-bc05dd8ca66f",
   "metadata": {},
   "outputs": [
    {
     "data": {
      "text/plain": [
       "[('assignment', (1, 3, 4, 5, 6)),\n",
       " ('launch_date', {12, 28, 99}),\n",
       " ('class_time', {'web dev': 8, 'ds masters': 8, 'java system design': 7}),\n",
       " ('mentor', ['hitesh', 'krish', 'anurag'])]"
      ]
     },
     "execution_count": 34,
     "metadata": {},
     "output_type": "execute_result"
    }
   ],
   "source": [
    "list(d6.items())"
   ]
  },
  {
   "cell_type": "code",
   "execution_count": 35,
   "id": "bd2f7a11-afcc-40c4-83a0-7e6f70fe0cf4",
   "metadata": {},
   "outputs": [
    {
     "data": {
      "text/plain": [
       "(1, 3, 4, 5, 6)"
      ]
     },
     "execution_count": 35,
     "metadata": {},
     "output_type": "execute_result"
    }
   ],
   "source": [
    "d6.pop(\"assignment\")"
   ]
  },
  {
   "cell_type": "code",
   "execution_count": 36,
   "id": "fbb162f2-173d-48bd-9874-a1030e7f35e8",
   "metadata": {},
   "outputs": [
    {
     "data": {
      "text/plain": [
       "{'launch_date': {12, 28, 99},\n",
       " 'class_time': {'web dev': 8, 'ds masters': 8, 'java system design': 7},\n",
       " 'mentor': ['hitesh', 'krish', 'anurag']}"
      ]
     },
     "execution_count": 36,
     "metadata": {},
     "output_type": "execute_result"
    }
   ],
   "source": [
    "d6"
   ]
  },
  {
   "cell_type": "code",
   "execution_count": null,
   "id": "2c633b14-1515-48ec-91bd-0c4524dd59e6",
   "metadata": {},
   "outputs": [],
   "source": []
  },
  {
   "cell_type": "code",
   "execution_count": null,
   "id": "13766a8d-d514-4b16-b150-fa9fb715769e",
   "metadata": {},
   "outputs": [],
   "source": []
  }
 ],
 "metadata": {
  "kernelspec": {
   "display_name": "Python 3 (ipykernel)",
   "language": "python",
   "name": "python3"
  },
  "language_info": {
   "codemirror_mode": {
    "name": "ipython",
    "version": 3
   },
   "file_extension": ".py",
   "mimetype": "text/x-python",
   "name": "python",
   "nbconvert_exporter": "python",
   "pygments_lexer": "ipython3",
   "version": "3.10.8"
  }
 },
 "nbformat": 4,
 "nbformat_minor": 5
}
