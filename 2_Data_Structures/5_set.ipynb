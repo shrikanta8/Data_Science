{
 "cells": [
  {
   "cell_type": "code",
   "execution_count": 1,
   "id": "ecca9a45-43c8-405a-8694-8ca6f70da551",
   "metadata": {},
   "outputs": [],
   "source": [
    "s1 = {}"
   ]
  },
  {
   "cell_type": "code",
   "execution_count": 2,
   "id": "a154dac2-c451-4c4d-a37d-84591e61615c",
   "metadata": {},
   "outputs": [
    {
     "data": {
      "text/plain": [
       "dict"
      ]
     },
     "execution_count": 2,
     "metadata": {},
     "output_type": "execute_result"
    }
   ],
   "source": [
    "type(s1)"
   ]
  },
  {
   "cell_type": "code",
   "execution_count": null,
   "id": "e5592993-415d-4ad2-b074-9bd610466039",
   "metadata": {},
   "outputs": [],
   "source": []
  },
  {
   "cell_type": "code",
   "execution_count": 3,
   "id": "ff4459b1-e169-4463-964e-196d7fb6ea87",
   "metadata": {},
   "outputs": [],
   "source": [
    "s2 = {2,3,4,555,6}"
   ]
  },
  {
   "cell_type": "code",
   "execution_count": 4,
   "id": "23f274b4-cf38-407c-b505-a77dbd30e9ec",
   "metadata": {},
   "outputs": [
    {
     "data": {
      "text/plain": [
       "set"
      ]
     },
     "execution_count": 4,
     "metadata": {},
     "output_type": "execute_result"
    }
   ],
   "source": [
    "type(s2)"
   ]
  },
  {
   "cell_type": "code",
   "execution_count": 6,
   "id": "727ee682-7779-4133-86aa-efc244c493b2",
   "metadata": {},
   "outputs": [],
   "source": [
    "s3 = {24,345,\"shri\",3+88j}\n",
    "#keep primitive elements"
   ]
  },
  {
   "cell_type": "code",
   "execution_count": 7,
   "id": "6041551a-bdba-409d-96a8-63373c995e19",
   "metadata": {},
   "outputs": [
    {
     "data": {
      "text/plain": [
       "{(3+88j), 24, 345, 'shri'}"
      ]
     },
     "execution_count": 7,
     "metadata": {},
     "output_type": "execute_result"
    }
   ],
   "source": [
    "s3"
   ]
  },
  {
   "cell_type": "code",
   "execution_count": 8,
   "id": "178eab79-8b6d-4086-8b68-c9b14942bc60",
   "metadata": {},
   "outputs": [
    {
     "ename": "TypeError",
     "evalue": "unhashable type: 'list'",
     "output_type": "error",
     "traceback": [
      "\u001b[0;31m---------------------------------------------------------------------------\u001b[0m",
      "\u001b[0;31mTypeError\u001b[0m                                 Traceback (most recent call last)",
      "Cell \u001b[0;32mIn[8], line 1\u001b[0m\n\u001b[0;32m----> 1\u001b[0m s3 \u001b[38;5;241m=\u001b[39m {\u001b[38;5;241m24\u001b[39m,\u001b[38;5;241m345\u001b[39m,\u001b[38;5;124m\"\u001b[39m\u001b[38;5;124mshri\u001b[39m\u001b[38;5;124m\"\u001b[39m,\u001b[38;5;241m3\u001b[39m\u001b[38;5;241m+\u001b[39m\u001b[38;5;241m88\u001b[39mj,[\u001b[38;5;241m3\u001b[39m,\u001b[38;5;241m9\u001b[39m,\u001b[38;5;241m0\u001b[39m]}\n",
      "\u001b[0;31mTypeError\u001b[0m: unhashable type: 'list'"
     ]
    }
   ],
   "source": [
    "s3 = {24,345,\"shri\",3+88j,[3,9,0]}\n",
    "#gives error\n",
    "#can only keep immutable elements in set"
   ]
  },
  {
   "cell_type": "code",
   "execution_count": 9,
   "id": "36e12bd8-e647-4d6e-8c5c-51996450987a",
   "metadata": {},
   "outputs": [],
   "source": [
    "s3 = {24,345,\"shri\",3+88j,(3,9,0)}"
   ]
  },
  {
   "cell_type": "code",
   "execution_count": 10,
   "id": "72443190-107c-4492-98f2-85c3b3d86bac",
   "metadata": {},
   "outputs": [
    {
     "data": {
      "text/plain": [
       "{(3+88j), (3, 9, 0), 24, 345, 'shri'}"
      ]
     },
     "execution_count": 10,
     "metadata": {},
     "output_type": "execute_result"
    }
   ],
   "source": [
    "s3"
   ]
  },
  {
   "cell_type": "code",
   "execution_count": 13,
   "id": "80660281-17e1-424f-9ab0-cf1818ed52d0",
   "metadata": {},
   "outputs": [],
   "source": [
    " s4 = {2,3,4,6,2,1,0,8,53,3,4,9,1,2,9,3,0}"
   ]
  },
  {
   "cell_type": "code",
   "execution_count": 14,
   "id": "5b819f67-644c-4be7-a225-cd292494762a",
   "metadata": {},
   "outputs": [
    {
     "data": {
      "text/plain": [
       "{0, 1, 2, 3, 4, 6, 8, 9, 53}"
      ]
     },
     "execution_count": 14,
     "metadata": {},
     "output_type": "execute_result"
    }
   ],
   "source": [
    "s4"
   ]
  },
  {
   "cell_type": "code",
   "execution_count": 1,
   "id": "89fbe864-9137-4683-b352-cd7d9ee0caa0",
   "metadata": {},
   "outputs": [],
   "source": [
    " s5 = {2,3,4,6,2,1,0,8,53,3,4,9,1,2,9,3,0,\"Shri\",\"shri\"}"
   ]
  },
  {
   "cell_type": "code",
   "execution_count": 2,
   "id": "daf2c47b-c6c8-4e6f-b3bb-ef00283b5972",
   "metadata": {},
   "outputs": [
    {
     "data": {
      "text/plain": [
       "{0, 1, 2, 3, 4, 53, 6, 8, 9, 'Shri', 'shri'}"
      ]
     },
     "execution_count": 2,
     "metadata": {},
     "output_type": "execute_result"
    }
   ],
   "source": [
    "s5"
   ]
  },
  {
   "cell_type": "code",
   "execution_count": null,
   "id": "e74bf4cf-91a3-4900-9e3d-315b1e83bf31",
   "metadata": {},
   "outputs": [],
   "source": []
  },
  {
   "cell_type": "code",
   "execution_count": 3,
   "id": "95d75625-3c6e-43a6-a036-a0e89510a089",
   "metadata": {},
   "outputs": [],
   "source": [
    "l6 = [0, 1, 2, 3, 4, 53, 6, 8, 9, 'Shri', 'shri']"
   ]
  },
  {
   "cell_type": "code",
   "execution_count": 8,
   "id": "c6fc1a9a-f134-4ff9-b10a-9715d035241c",
   "metadata": {},
   "outputs": [],
   "source": [
    "l6 = list(set(l6))"
   ]
  },
  {
   "cell_type": "code",
   "execution_count": 9,
   "id": "1cb1a200-cb08-43c3-8c8d-a713b3a8d989",
   "metadata": {},
   "outputs": [
    {
     "data": {
      "text/plain": [
       "[0, 1, 2, 3, 4, 'Shri', 6, 8, 9, 'shri', 53]"
      ]
     },
     "execution_count": 9,
     "metadata": {},
     "output_type": "execute_result"
    }
   ],
   "source": [
    "l6"
   ]
  },
  {
   "cell_type": "code",
   "execution_count": null,
   "id": "55bf2722-1ad2-4e6d-9f94-12b348a2ecd0",
   "metadata": {},
   "outputs": [],
   "source": []
  },
  {
   "cell_type": "code",
   "execution_count": 10,
   "id": "380cc578-b1c9-4f2d-847e-003bbd3b7fad",
   "metadata": {},
   "outputs": [],
   "source": [
    "s6 = {12,45,5,4,2,\"abc\",11,5}"
   ]
  },
  {
   "cell_type": "code",
   "execution_count": 11,
   "id": "00e238ce-c2d0-46da-8c29-bf472a47f4d3",
   "metadata": {},
   "outputs": [
    {
     "data": {
      "text/plain": [
       "{11, 12, 2, 4, 45, 5, 'abc'}"
      ]
     },
     "execution_count": 11,
     "metadata": {},
     "output_type": "execute_result"
    }
   ],
   "source": [
    "s6"
   ]
  },
  {
   "cell_type": "raw",
   "id": "56fe09be-52af-4f77-bf07-d7da12b5a341",
   "metadata": {},
   "source": [
    "set don't arrange elements in ascending order!!!"
   ]
  },
  {
   "cell_type": "code",
   "execution_count": null,
   "id": "773098df-1571-4c6d-b8ef-8b6d792274b1",
   "metadata": {},
   "outputs": [],
   "source": [
    "s6[0]\n",
    "#give error. it is not accessible!"
   ]
  },
  {
   "cell_type": "code",
   "execution_count": null,
   "id": "b9b97605-22aa-48d9-bc05-e138870f8a21",
   "metadata": {},
   "outputs": [],
   "source": [
    "s6[::-1]\n",
    "#give error. "
   ]
  },
  {
   "cell_type": "code",
   "execution_count": 14,
   "id": "21636dc1-c330-4948-9495-37a7a44de995",
   "metadata": {},
   "outputs": [],
   "source": [
    "s6.add(99)"
   ]
  },
  {
   "cell_type": "code",
   "execution_count": 15,
   "id": "dc8780d6-8649-4420-ab7b-ce02ba1563b6",
   "metadata": {},
   "outputs": [
    {
     "data": {
      "text/plain": [
       "{11, 12, 2, 4, 45, 5, 99, 'abc'}"
      ]
     },
     "execution_count": 15,
     "metadata": {},
     "output_type": "execute_result"
    }
   ],
   "source": [
    "s6"
   ]
  },
  {
   "cell_type": "code",
   "execution_count": 16,
   "id": "3e163fd8-f4e8-493c-89d8-35d2f22babd5",
   "metadata": {},
   "outputs": [],
   "source": [
    "s6.add(12)"
   ]
  },
  {
   "cell_type": "code",
   "execution_count": 17,
   "id": "477ae89d-d997-43af-a293-2c69bd537beb",
   "metadata": {},
   "outputs": [
    {
     "data": {
      "text/plain": [
       "{11, 12, 2, 4, 45, 5, 99, 'abc'}"
      ]
     },
     "execution_count": 17,
     "metadata": {},
     "output_type": "execute_result"
    }
   ],
   "source": [
    "s6"
   ]
  },
  {
   "cell_type": "code",
   "execution_count": null,
   "id": "c4ad4052-a36c-4b70-965e-e9f895a734e2",
   "metadata": {},
   "outputs": [],
   "source": []
  },
  {
   "cell_type": "code",
   "execution_count": 18,
   "id": "02215dbe-b37c-44bc-aa65-52f98811746e",
   "metadata": {},
   "outputs": [],
   "source": [
    "s6.remove(2)"
   ]
  },
  {
   "cell_type": "code",
   "execution_count": 19,
   "id": "a08cbcdb-537f-40a3-90b8-c08c8f27508d",
   "metadata": {},
   "outputs": [
    {
     "data": {
      "text/plain": [
       "{11, 12, 4, 45, 5, 99, 'abc'}"
      ]
     },
     "execution_count": 19,
     "metadata": {},
     "output_type": "execute_result"
    }
   ],
   "source": [
    "s6"
   ]
  },
  {
   "cell_type": "code",
   "execution_count": null,
   "id": "a972d835-61e4-40ae-9414-9e38806f2f13",
   "metadata": {},
   "outputs": [],
   "source": []
  },
  {
   "cell_type": "code",
   "execution_count": null,
   "id": "ecdc2185-1fb7-48e0-be02-f490bd8172b6",
   "metadata": {},
   "outputs": [],
   "source": []
  }
 ],
 "metadata": {
  "kernelspec": {
   "display_name": "Python 3 (ipykernel)",
   "language": "python",
   "name": "python3"
  },
  "language_info": {
   "codemirror_mode": {
    "name": "ipython",
    "version": 3
   },
   "file_extension": ".py",
   "mimetype": "text/x-python",
   "name": "python",
   "nbconvert_exporter": "python",
   "pygments_lexer": "ipython3",
   "version": "3.10.8"
  }
 },
 "nbformat": 4,
 "nbformat_minor": 5
}
