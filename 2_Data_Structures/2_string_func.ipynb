{
 "cells": [
  {
   "cell_type": "code",
   "execution_count": 3,
   "id": "73550b63-18eb-4236-95a6-1bdb45a167cf",
   "metadata": {},
   "outputs": [],
   "source": [
    "s = \"this is my laptop\""
   ]
  },
  {
   "cell_type": "code",
   "execution_count": 4,
   "id": "1221e33a-1c9d-4f9c-8cb3-107aa48da2cb",
   "metadata": {},
   "outputs": [
    {
     "data": {
      "text/plain": [
       "'this is my laptop'"
      ]
     },
     "execution_count": 4,
     "metadata": {},
     "output_type": "execute_result"
    }
   ],
   "source": [
    "s"
   ]
  },
  {
   "cell_type": "code",
   "execution_count": 5,
   "id": "a996db1f-f753-4028-b857-0cbd5a154359",
   "metadata": {},
   "outputs": [
    {
     "data": {
      "text/plain": [
       "17"
      ]
     },
     "execution_count": 5,
     "metadata": {},
     "output_type": "execute_result"
    }
   ],
   "source": [
    "len(s)"
   ]
  },
  {
   "cell_type": "code",
   "execution_count": 6,
   "id": "c56cae8e-da6c-4977-814d-fd235c357aaa",
   "metadata": {},
   "outputs": [
    {
     "data": {
      "text/plain": [
       "8"
      ]
     },
     "execution_count": 6,
     "metadata": {},
     "output_type": "execute_result"
    }
   ],
   "source": [
    "s.find('m')"
   ]
  },
  {
   "cell_type": "code",
   "execution_count": 7,
   "id": "7f813004-bb93-400b-8c9e-996922ab2bf7",
   "metadata": {},
   "outputs": [
    {
     "data": {
      "text/plain": [
       "2"
      ]
     },
     "execution_count": 7,
     "metadata": {},
     "output_type": "execute_result"
    }
   ],
   "source": [
    "s.find('is')"
   ]
  },
  {
   "cell_type": "code",
   "execution_count": 8,
   "id": "af57d340-a297-486b-9a6d-ef8cf3d8a412",
   "metadata": {},
   "outputs": [
    {
     "data": {
      "text/plain": [
       "-1"
      ]
     },
     "execution_count": 8,
     "metadata": {},
     "output_type": "execute_result"
    }
   ],
   "source": [
    "s.find('iS')"
   ]
  },
  {
   "cell_type": "code",
   "execution_count": 9,
   "id": "37140bbc-a046-4509-a18c-d3fee28502bb",
   "metadata": {},
   "outputs": [
    {
     "data": {
      "text/plain": [
       "2"
      ]
     },
     "execution_count": 9,
     "metadata": {},
     "output_type": "execute_result"
    }
   ],
   "source": [
    "s.count('s')"
   ]
  },
  {
   "cell_type": "code",
   "execution_count": 12,
   "id": "26a733e9-4548-444e-8851-d06b9fbabea3",
   "metadata": {},
   "outputs": [
    {
     "data": {
      "text/plain": [
       "18"
      ]
     },
     "execution_count": 12,
     "metadata": {},
     "output_type": "execute_result"
    }
   ],
   "source": [
    "s.count('')"
   ]
  },
  {
   "cell_type": "code",
   "execution_count": 14,
   "id": "864fa33a-b006-4aa3-960b-bb51132888c5",
   "metadata": {},
   "outputs": [],
   "source": [
    "s2 = s.upper()"
   ]
  },
  {
   "cell_type": "code",
   "execution_count": 15,
   "id": "0a42da26-86a5-46c0-924f-9d19550e6e15",
   "metadata": {},
   "outputs": [
    {
     "data": {
      "text/plain": [
       "'THIS IS MY LAPTOP'"
      ]
     },
     "execution_count": 15,
     "metadata": {},
     "output_type": "execute_result"
    }
   ],
   "source": [
    "s2 "
   ]
  },
  {
   "cell_type": "code",
   "execution_count": 16,
   "id": "909ee86e-fafc-4552-ab76-64a0c12ed9af",
   "metadata": {},
   "outputs": [
    {
     "data": {
      "text/plain": [
       "'this is my laptop'"
      ]
     },
     "execution_count": 16,
     "metadata": {},
     "output_type": "execute_result"
    }
   ],
   "source": [
    "s2.lower()"
   ]
  },
  {
   "cell_type": "code",
   "execution_count": 18,
   "id": "f7f151a3-e0b0-4e18-9ab3-96844ecfa340",
   "metadata": {},
   "outputs": [
    {
     "data": {
      "text/plain": [
       "'This Is My Laptop'"
      ]
     },
     "execution_count": 18,
     "metadata": {},
     "output_type": "execute_result"
    }
   ],
   "source": [
    "s2.title()"
   ]
  },
  {
   "cell_type": "code",
   "execution_count": 21,
   "id": "032a524a-f35c-4b59-8693-8467e50d4a66",
   "metadata": {},
   "outputs": [
    {
     "data": {
      "text/plain": [
       "'This is my laptop'"
      ]
     },
     "execution_count": 21,
     "metadata": {},
     "output_type": "execute_result"
    }
   ],
   "source": [
    "s2.capitalize()"
   ]
  },
  {
   "cell_type": "code",
   "execution_count": 22,
   "id": "cce4c856-3eb8-45ae-838b-6d4a36b490b0",
   "metadata": {},
   "outputs": [
    {
     "ename": "TypeError",
     "evalue": "can only concatenate str (not \"int\") to str",
     "output_type": "error",
     "traceback": [
      "\u001b[0;31m---------------------------------------------------------------------------\u001b[0m",
      "\u001b[0;31mTypeError\u001b[0m                                 Traceback (most recent call last)",
      "Cell \u001b[0;32mIn[22], line 1\u001b[0m\n\u001b[0;32m----> 1\u001b[0m \u001b[43ms\u001b[49m\u001b[43m \u001b[49m\u001b[38;5;241;43m+\u001b[39;49m\u001b[43m \u001b[49m\u001b[38;5;241;43m1\u001b[39;49m\n",
      "\u001b[0;31mTypeError\u001b[0m: can only concatenate str (not \"int\") to str"
     ]
    }
   ],
   "source": [
    "s + 1"
   ]
  },
  {
   "cell_type": "code",
   "execution_count": 25,
   "id": "fe877e50-b19d-4643-ae25-6afe8121f018",
   "metadata": {},
   "outputs": [
    {
     "data": {
      "text/plain": [
       "'this is my laptop shri'"
      ]
     },
     "execution_count": 25,
     "metadata": {},
     "output_type": "execute_result"
    }
   ],
   "source": [
    "s + \" shri\""
   ]
  },
  {
   "cell_type": "code",
   "execution_count": 27,
   "id": "6b6fc5b3-0de9-4a8f-aed0-a3955fda7cbc",
   "metadata": {},
   "outputs": [
    {
     "data": {
      "text/plain": [
       "'this is my laptop1'"
      ]
     },
     "execution_count": 27,
     "metadata": {},
     "output_type": "execute_result"
    }
   ],
   "source": [
    "s + str(1)"
   ]
  },
  {
   "cell_type": "code",
   "execution_count": null,
   "id": "faa5ddcf-0bf6-433f-a503-0e02f5c79a86",
   "metadata": {},
   "outputs": [],
   "source": []
  },
  {
   "cell_type": "code",
   "execution_count": 28,
   "id": "e251560d-78c6-4e1f-aaa4-65e084f2ee58",
   "metadata": {},
   "outputs": [
    {
     "data": {
      "text/plain": [
       "'this is my laptopthis is my laptopthis is my laptop'"
      ]
     },
     "execution_count": 28,
     "metadata": {},
     "output_type": "execute_result"
    }
   ],
   "source": [
    "s*3"
   ]
  },
  {
   "cell_type": "code",
   "execution_count": 29,
   "id": "abc24b77-2fa4-4536-8086-971eecdef0be",
   "metadata": {},
   "outputs": [
    {
     "data": {
      "text/plain": [
       "'shriishriishriishrii'"
      ]
     },
     "execution_count": 29,
     "metadata": {},
     "output_type": "execute_result"
    }
   ],
   "source": [
    "\"shrii\"*4"
   ]
  },
  {
   "cell_type": "code",
   "execution_count": 30,
   "id": "b82b6a86-6db2-49d0-aeda-e73efe37acbb",
   "metadata": {},
   "outputs": [
    {
     "ename": "TypeError",
     "evalue": "unsupported operand type(s) for /: 'str' and 'int'",
     "output_type": "error",
     "traceback": [
      "\u001b[0;31m---------------------------------------------------------------------------\u001b[0m",
      "\u001b[0;31mTypeError\u001b[0m                                 Traceback (most recent call last)",
      "Cell \u001b[0;32mIn[30], line 1\u001b[0m\n\u001b[0;32m----> 1\u001b[0m \u001b[38;5;124;43m\"\u001b[39;49m\u001b[38;5;124;43mshrii\u001b[39;49m\u001b[38;5;124;43m\"\u001b[39;49m\u001b[43m \u001b[49m\u001b[38;5;241;43m/\u001b[39;49m\u001b[43m \u001b[49m\u001b[38;5;241;43m4\u001b[39;49m\n",
      "\u001b[0;31mTypeError\u001b[0m: unsupported operand type(s) for /: 'str' and 'int'"
     ]
    }
   ],
   "source": [
    "\"shrii\" / 4"
   ]
  },
  {
   "cell_type": "code",
   "execution_count": null,
   "id": "f4bceedd-dc5b-4001-82b8-34d4e6ec74bd",
   "metadata": {},
   "outputs": [],
   "source": []
  },
  {
   "cell_type": "code",
   "execution_count": 31,
   "id": "54248ff2-f0f4-4965-a2ab-7e6a6daa8cb0",
   "metadata": {},
   "outputs": [
    {
     "ename": "SyntaxError",
     "evalue": "unterminated string literal (detected at line 1) (1148690915.py, line 1)",
     "output_type": "error",
     "traceback": [
      "\u001b[0;36m  Cell \u001b[0;32mIn[31], line 1\u001b[0;36m\u001b[0m\n\u001b[0;31m    'don't do copy pasting'\u001b[0m\n\u001b[0m                          ^\u001b[0m\n\u001b[0;31mSyntaxError\u001b[0m\u001b[0;31m:\u001b[0m unterminated string literal (detected at line 1)\n"
     ]
    }
   ],
   "source": [
    "'don't do copy pasting'"
   ]
  },
  {
   "cell_type": "code",
   "execution_count": 33,
   "id": "c3b8ea11-e0da-4c02-a895-ace201219f3d",
   "metadata": {},
   "outputs": [
    {
     "data": {
      "text/plain": [
       "\"don't do copy pasting\""
      ]
     },
     "execution_count": 33,
     "metadata": {},
     "output_type": "execute_result"
    }
   ],
   "source": [
    "\"don't do copy pasting\""
   ]
  },
  {
   "cell_type": "code",
   "execution_count": null,
   "id": "1b8f48a9-e01d-4307-a64a-7016d81ec805",
   "metadata": {},
   "outputs": [],
   "source": []
  }
 ],
 "metadata": {
  "kernelspec": {
   "display_name": "Python 3 (ipykernel)",
   "language": "python",
   "name": "python3"
  },
  "language_info": {
   "codemirror_mode": {
    "name": "ipython",
    "version": 3
   },
   "file_extension": ".py",
   "mimetype": "text/x-python",
   "name": "python",
   "nbconvert_exporter": "python",
   "pygments_lexer": "ipython3",
   "version": "3.10.8"
  }
 },
 "nbformat": 4,
 "nbformat_minor": 5
}
