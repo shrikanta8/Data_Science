{
 "cells": [
  {
   "cell_type": "code",
   "execution_count": 1,
   "id": "11d0e452-acc9-4eb6-9543-c563d02c6f26",
   "metadata": {},
   "outputs": [],
   "source": [
    "n= 3\n",
    "p= 2"
   ]
  },
  {
   "cell_type": "code",
   "execution_count": 2,
   "id": "b4b17f6e-dd85-4c05-b050-9d0fe11948cd",
   "metadata": {},
   "outputs": [],
   "source": [
    "def test(n,p):\n",
    "    return n ** p"
   ]
  },
  {
   "cell_type": "code",
   "execution_count": 3,
   "id": "226e4644-4f9f-44a8-b342-447cf5a6792c",
   "metadata": {},
   "outputs": [
    {
     "data": {
      "text/plain": [
       "9"
      ]
     },
     "execution_count": 3,
     "metadata": {},
     "output_type": "execute_result"
    }
   ],
   "source": [
    "test(3,2)"
   ]
  },
  {
   "cell_type": "code",
   "execution_count": null,
   "id": "bb414dd3-4cd8-4ecc-bd0e-f38e9bb6727d",
   "metadata": {},
   "outputs": [],
   "source": []
  },
  {
   "cell_type": "code",
   "execution_count": 5,
   "id": "a7596ee8-fa30-49b2-9059-7f589b4913a7",
   "metadata": {},
   "outputs": [
    {
     "data": {
      "text/plain": [
       "<function __main__.<lambda>(n, p)>"
      ]
     },
     "execution_count": 5,
     "metadata": {},
     "output_type": "execute_result"
    }
   ],
   "source": [
    "lambda n, p : n ** p"
   ]
  },
  {
   "cell_type": "code",
   "execution_count": 6,
   "id": "045b418a-8198-4188-8a6a-d8c27bb78d96",
   "metadata": {},
   "outputs": [],
   "source": [
    "# a is here named entity"
   ]
  },
  {
   "cell_type": "code",
   "execution_count": 7,
   "id": "b8605420-6df3-4912-a251-5b238bae6661",
   "metadata": {},
   "outputs": [],
   "source": [
    "a = lambda n, p : n ** p"
   ]
  },
  {
   "cell_type": "code",
   "execution_count": 8,
   "id": "a19f551b-3689-4cd7-a989-180edef5c0a1",
   "metadata": {},
   "outputs": [
    {
     "data": {
      "text/plain": [
       "9"
      ]
     },
     "execution_count": 8,
     "metadata": {},
     "output_type": "execute_result"
    }
   ],
   "source": [
    "a(3,2)"
   ]
  },
  {
   "cell_type": "code",
   "execution_count": null,
   "id": "34a7df00-4122-4de1-ac7a-5117a54f64bf",
   "metadata": {},
   "outputs": [],
   "source": []
  },
  {
   "cell_type": "code",
   "execution_count": 9,
   "id": "5155c57e-628e-41fe-806c-a115b755c895",
   "metadata": {},
   "outputs": [],
   "source": [
    "add = lambda x,y : x+y"
   ]
  },
  {
   "cell_type": "code",
   "execution_count": 10,
   "id": "0d020a71-dd12-46af-87ee-f9eaf276694e",
   "metadata": {},
   "outputs": [
    {
     "data": {
      "text/plain": [
       "13"
      ]
     },
     "execution_count": 10,
     "metadata": {},
     "output_type": "execute_result"
    }
   ],
   "source": [
    "add(4,9)"
   ]
  },
  {
   "cell_type": "code",
   "execution_count": null,
   "id": "cd873034-88ad-4ecf-8c28-aa319c5fe84e",
   "metadata": {},
   "outputs": [],
   "source": []
  },
  {
   "cell_type": "code",
   "execution_count": 1,
   "id": "e68e104c-2330-4def-9887-b38fe86698d0",
   "metadata": {},
   "outputs": [],
   "source": [
    "finding_max = lambda x, y : x if x>y else y"
   ]
  },
  {
   "cell_type": "code",
   "execution_count": 2,
   "id": "89c6d60f-a667-4677-b539-838098f0834f",
   "metadata": {},
   "outputs": [
    {
     "data": {
      "text/plain": [
       "99"
      ]
     },
     "execution_count": 2,
     "metadata": {},
     "output_type": "execute_result"
    }
   ],
   "source": [
    "finding_max(22,99)"
   ]
  },
  {
   "cell_type": "code",
   "execution_count": null,
   "id": "b3fb592e-d6c6-4870-b17e-2c8893fd36cf",
   "metadata": {},
   "outputs": [],
   "source": []
  },
  {
   "cell_type": "code",
   "execution_count": 6,
   "id": "ceac62ea-d79c-4511-bb61-765dc7e139e2",
   "metadata": {},
   "outputs": [],
   "source": [
    "s = \"shriji\""
   ]
  },
  {
   "cell_type": "code",
   "execution_count": 7,
   "id": "76c6759c-946b-4eb2-8d2d-495e9bb938e3",
   "metadata": {},
   "outputs": [],
   "source": [
    "find_len = lambda s : len(s)"
   ]
  },
  {
   "cell_type": "code",
   "execution_count": 8,
   "id": "1fa5b7c2-a37d-4bfe-b600-08cef3596288",
   "metadata": {},
   "outputs": [
    {
     "data": {
      "text/plain": [
       "6"
      ]
     },
     "execution_count": 8,
     "metadata": {},
     "output_type": "execute_result"
    }
   ],
   "source": [
    "find_len(s)"
   ]
  },
  {
   "cell_type": "code",
   "execution_count": null,
   "id": "69dadf5a-240a-4a6c-90a3-eb23c27c3f24",
   "metadata": {},
   "outputs": [],
   "source": []
  }
 ],
 "metadata": {
  "kernelspec": {
   "display_name": "Python 3 (ipykernel)",
   "language": "python",
   "name": "python3"
  },
  "language_info": {
   "codemirror_mode": {
    "name": "ipython",
    "version": 3
   },
   "file_extension": ".py",
   "mimetype": "text/x-python",
   "name": "python",
   "nbconvert_exporter": "python",
   "pygments_lexer": "ipython3",
   "version": "3.10.8"
  }
 },
 "nbformat": 4,
 "nbformat_minor": 5
}
