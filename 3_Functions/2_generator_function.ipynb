{
 "cells": [
  {
   "cell_type": "code",
   "execution_count": 1,
   "id": "3e4eb227-da19-4524-b293-5dcc308823b1",
   "metadata": {},
   "outputs": [
    {
     "data": {
      "text/plain": [
       "range(0, 10)"
      ]
     },
     "execution_count": 1,
     "metadata": {},
     "output_type": "execute_result"
    }
   ],
   "source": [
    "range(10)"
   ]
  },
  {
   "cell_type": "code",
   "execution_count": 2,
   "id": "4f4221d9-ac2f-4a60-8ede-2f7f12e23b4d",
   "metadata": {},
   "outputs": [],
   "source": [
    "#generator function \n",
    "#optimize memory consumption\n",
    "#it simultaneously create outcome and output it"
   ]
  },
  {
   "cell_type": "code",
   "execution_count": 3,
   "id": "40462966-283f-40db-afb1-1e8455168574",
   "metadata": {},
   "outputs": [],
   "source": [
    "# yield keyword helps in  generating generator function\n",
    "#it helps in throwing data\n",
    "\n",
    "#fibonacci seq\n",
    "#aren't using return statement\n",
    "\n",
    "def test_fib(n):\n",
    "    a, b = 0, 1\n",
    "    for i in range(n):\n",
    "        yield a\n",
    "        a, b = b, a+b\n",
    "        "
   ]
  },
  {
   "cell_type": "code",
   "execution_count": 4,
   "id": "d223595b-eefa-4ac5-a402-5ed11a8a6914",
   "metadata": {},
   "outputs": [
    {
     "data": {
      "text/plain": [
       "<generator object test_fib at 0x7f6fb0518ac0>"
      ]
     },
     "execution_count": 4,
     "metadata": {},
     "output_type": "execute_result"
    }
   ],
   "source": [
    "test_fib(10)"
   ]
  },
  {
   "cell_type": "code",
   "execution_count": 5,
   "id": "0299e4ea-c10f-4846-a9a2-5efb42654838",
   "metadata": {},
   "outputs": [
    {
     "name": "stdout",
     "output_type": "stream",
     "text": [
      "0\n",
      "1\n",
      "1\n",
      "2\n",
      "3\n",
      "5\n",
      "8\n",
      "13\n",
      "21\n",
      "34\n"
     ]
    }
   ],
   "source": [
    "for i in test_fib(10):\n",
    "    print(i)"
   ]
  },
  {
   "cell_type": "code",
   "execution_count": null,
   "id": "4754de64-4e01-4c48-a0b0-b08d83595fc0",
   "metadata": {},
   "outputs": [],
   "source": []
  },
  {
   "cell_type": "code",
   "execution_count": null,
   "id": "bb922723-3df0-4e9c-8d2d-efec4642f12f",
   "metadata": {},
   "outputs": [],
   "source": [
    "#concept to understand next(), iterable, iterators"
   ]
  },
  {
   "cell_type": "code",
   "execution_count": 7,
   "id": "81da214a-4632-42e3-91eb-9435638fc517",
   "metadata": {},
   "outputs": [],
   "source": [
    "s = \"shri\"\n"
   ]
  },
  {
   "cell_type": "code",
   "execution_count": 8,
   "id": "7794f28e-d0ec-4087-8fcd-c2338bfe935a",
   "metadata": {},
   "outputs": [
    {
     "name": "stdout",
     "output_type": "stream",
     "text": [
      "s\n",
      "h\n",
      "r\n",
      "i\n"
     ]
    }
   ],
   "source": [
    "for i in s:\n",
    "    print(i)"
   ]
  },
  {
   "cell_type": "code",
   "execution_count": null,
   "id": "af10cc42-d8fe-44e3-88b6-8e8758bcd550",
   "metadata": {},
   "outputs": [],
   "source": []
  },
  {
   "cell_type": "code",
   "execution_count": 9,
   "id": "b5d17efc-7cdb-4dae-8e88-eff8b1e178a1",
   "metadata": {},
   "outputs": [
    {
     "data": {
      "text/plain": [
       "'shri'"
      ]
     },
     "execution_count": 9,
     "metadata": {},
     "output_type": "execute_result"
    }
   ],
   "source": [
    "s"
   ]
  },
  {
   "cell_type": "code",
   "execution_count": 10,
   "id": "426b1df8-742a-4521-8152-0ac14a5dbfb1",
   "metadata": {},
   "outputs": [
    {
     "ename": "TypeError",
     "evalue": "'str' object is not an iterator",
     "output_type": "error",
     "traceback": [
      "\u001b[0;31m---------------------------------------------------------------------------\u001b[0m",
      "\u001b[0;31mTypeError\u001b[0m                                 Traceback (most recent call last)",
      "Cell \u001b[0;32mIn[10], line 1\u001b[0m\n\u001b[0;32m----> 1\u001b[0m \u001b[38;5;28;43mnext\u001b[39;49m\u001b[43m(\u001b[49m\u001b[43ms\u001b[49m\u001b[43m)\u001b[49m\n",
      "\u001b[0;31mTypeError\u001b[0m: 'str' object is not an iterator"
     ]
    }
   ],
   "source": [
    "next(s)"
   ]
  },
  {
   "cell_type": "code",
   "execution_count": null,
   "id": "1a2275ab-61a3-4a75-b077-65d7a3288ca8",
   "metadata": {},
   "outputs": [],
   "source": [
    "# str object is iterable (we can iterate on) but not an iterator"
   ]
  },
  {
   "cell_type": "code",
   "execution_count": 18,
   "id": "2cbf6e62-9607-48ec-ba2d-ef91f426923d",
   "metadata": {},
   "outputs": [],
   "source": [
    "# so now we are making string as iterator\n",
    "s1 =  iter(s)"
   ]
  },
  {
   "cell_type": "code",
   "execution_count": 20,
   "id": "dfb91df8-5bb1-4915-99bb-29ffe41ca1a0",
   "metadata": {},
   "outputs": [
    {
     "data": {
      "text/plain": [
       "str_iterator"
      ]
     },
     "execution_count": 20,
     "metadata": {},
     "output_type": "execute_result"
    }
   ],
   "source": [
    "# now string s is iterator\n",
    "\n",
    "type(s1)"
   ]
  },
  {
   "cell_type": "code",
   "execution_count": 12,
   "id": "e3b4538f-9ab6-49e3-b303-3498bf7c2a06",
   "metadata": {},
   "outputs": [
    {
     "data": {
      "text/plain": [
       "'s'"
      ]
     },
     "execution_count": 12,
     "metadata": {},
     "output_type": "execute_result"
    }
   ],
   "source": [
    "next(s1)"
   ]
  },
  {
   "cell_type": "code",
   "execution_count": 13,
   "id": "d2c10083-deb0-44a7-bfe7-79ebeb33260a",
   "metadata": {},
   "outputs": [
    {
     "data": {
      "text/plain": [
       "'h'"
      ]
     },
     "execution_count": 13,
     "metadata": {},
     "output_type": "execute_result"
    }
   ],
   "source": [
    "next(s1)"
   ]
  },
  {
   "cell_type": "code",
   "execution_count": 14,
   "id": "3aad9945-3dd7-4547-a863-f4998afd74ae",
   "metadata": {},
   "outputs": [
    {
     "data": {
      "text/plain": [
       "'r'"
      ]
     },
     "execution_count": 14,
     "metadata": {},
     "output_type": "execute_result"
    }
   ],
   "source": [
    "next(s1)"
   ]
  },
  {
   "cell_type": "code",
   "execution_count": 15,
   "id": "c3a3d31d-12c1-434a-a8b8-984c1802a54a",
   "metadata": {},
   "outputs": [
    {
     "data": {
      "text/plain": [
       "'i'"
      ]
     },
     "execution_count": 15,
     "metadata": {},
     "output_type": "execute_result"
    }
   ],
   "source": [
    "next(s1)"
   ]
  },
  {
   "cell_type": "code",
   "execution_count": 16,
   "id": "a5419661-aec5-491a-a7f5-a1874a52e8c8",
   "metadata": {},
   "outputs": [
    {
     "ename": "StopIteration",
     "evalue": "",
     "output_type": "error",
     "traceback": [
      "\u001b[0;31m---------------------------------------------------------------------------\u001b[0m",
      "\u001b[0;31mStopIteration\u001b[0m                             Traceback (most recent call last)",
      "Cell \u001b[0;32mIn[16], line 1\u001b[0m\n\u001b[0;32m----> 1\u001b[0m \u001b[38;5;28;43mnext\u001b[39;49m\u001b[43m(\u001b[49m\u001b[43ms1\u001b[49m\u001b[43m)\u001b[49m\n",
      "\u001b[0;31mStopIteration\u001b[0m: "
     ]
    }
   ],
   "source": [
    "#we reached end of string\n",
    "next(s1)"
   ]
  },
  {
   "cell_type": "code",
   "execution_count": null,
   "id": "57ce5038-da29-47d5-b685-6147ecaeab7c",
   "metadata": {},
   "outputs": [],
   "source": [
    "#this is how for loop works internally\n",
    "#for loop take the length of the value and add it to iter and then iterate on it"
   ]
  },
  {
   "cell_type": "code",
   "execution_count": null,
   "id": "683afe65-da29-4c26-a5f1-f7c99bb37143",
   "metadata": {},
   "outputs": [],
   "source": []
  },
  {
   "cell_type": "code",
   "execution_count": null,
   "id": "4c753974-83b7-4b61-89b0-ac52a0bfabfd",
   "metadata": {},
   "outputs": [],
   "source": [
    "#we can only make iterator to iterable values\n",
    "# int is not iterable (list, tuple, string are iterable by default)\n"
   ]
  },
  {
   "cell_type": "code",
   "execution_count": 21,
   "id": "9c643d1a-977a-4a32-b9ba-84cbd412ba95",
   "metadata": {},
   "outputs": [
    {
     "ename": "TypeError",
     "evalue": "'int' object is not an iterator",
     "output_type": "error",
     "traceback": [
      "\u001b[0;31m---------------------------------------------------------------------------\u001b[0m",
      "\u001b[0;31mTypeError\u001b[0m                                 Traceback (most recent call last)",
      "Cell \u001b[0;32mIn[21], line 1\u001b[0m\n\u001b[0;32m----> 1\u001b[0m \u001b[38;5;28;43mnext\u001b[39;49m\u001b[43m(\u001b[49m\u001b[38;5;241;43m45\u001b[39;49m\u001b[43m)\u001b[49m\n",
      "\u001b[0;31mTypeError\u001b[0m: 'int' object is not an iterator"
     ]
    }
   ],
   "source": [
    "next(45)"
   ]
  },
  {
   "cell_type": "code",
   "execution_count": 23,
   "id": "1c2a2533-5431-43f9-9891-4211d1f9a0c5",
   "metadata": {},
   "outputs": [
    {
     "ename": "TypeError",
     "evalue": "'int' object is not iterable",
     "output_type": "error",
     "traceback": [
      "\u001b[0;31m---------------------------------------------------------------------------\u001b[0m",
      "\u001b[0;31mTypeError\u001b[0m                                 Traceback (most recent call last)",
      "Cell \u001b[0;32mIn[23], line 1\u001b[0m\n\u001b[0;32m----> 1\u001b[0m \u001b[38;5;28;43miter\u001b[39;49m\u001b[43m(\u001b[49m\u001b[38;5;241;43m45\u001b[39;49m\u001b[43m)\u001b[49m\n",
      "\u001b[0;31mTypeError\u001b[0m: 'int' object is not iterable"
     ]
    }
   ],
   "source": [
    "iter(45)"
   ]
  },
  {
   "cell_type": "code",
   "execution_count": null,
   "id": "878b00d7-d29d-452a-9975-fb78123c4bd4",
   "metadata": {},
   "outputs": [],
   "source": [
    "#iterator  => object on which we can do next()"
   ]
  },
  {
   "cell_type": "code",
   "execution_count": null,
   "id": "a3b86ac4-8792-4dde-b718-1ca84765d8fd",
   "metadata": {},
   "outputs": [],
   "source": [
    "#iterable  => data which can be converted to iterator"
   ]
  },
  {
   "cell_type": "code",
   "execution_count": null,
   "id": "03dc448a-b116-4dad-9516-fed98bcff269",
   "metadata": {},
   "outputs": [],
   "source": []
  },
  {
   "cell_type": "code",
   "execution_count": null,
   "id": "266da78a-30f9-4b56-b073-c71a762d2cc3",
   "metadata": {},
   "outputs": [],
   "source": []
  },
  {
   "cell_type": "code",
   "execution_count": 2,
   "id": "b5c375b7-e464-4038-bc4e-4bcf8b6c8fdc",
   "metadata": {},
   "outputs": [],
   "source": [
    "def test_fib1():\n",
    "    a, b = 0, 1\n",
    "    while True:\n",
    "        yield a\n",
    "        a, b = b, a+b"
   ]
  },
  {
   "cell_type": "code",
   "execution_count": 3,
   "id": "19ee1385-1cae-4611-a860-f736f777924e",
   "metadata": {},
   "outputs": [],
   "source": [
    "fib = test_fib1()"
   ]
  },
  {
   "cell_type": "code",
   "execution_count": 5,
   "id": "106cde3e-735d-4c21-9bbc-6f0e3417f8dd",
   "metadata": {},
   "outputs": [
    {
     "data": {
      "text/plain": [
       "generator"
      ]
     },
     "execution_count": 5,
     "metadata": {},
     "output_type": "execute_result"
    }
   ],
   "source": [
    "#this function is now an iterator\n",
    "type(fib)"
   ]
  },
  {
   "cell_type": "code",
   "execution_count": 6,
   "id": "f965d98e-6bda-4e89-9f40-6bc030d2bf92",
   "metadata": {},
   "outputs": [
    {
     "name": "stdout",
     "output_type": "stream",
     "text": [
      "0\n",
      "1\n",
      "1\n",
      "2\n",
      "3\n",
      "5\n",
      "8\n",
      "13\n",
      "21\n",
      "34\n"
     ]
    }
   ],
   "source": [
    "for i in range(10):\n",
    "    print(next(fib))"
   ]
  },
  {
   "cell_type": "code",
   "execution_count": null,
   "id": "9fd863fd-911e-4785-b0f7-9177557e164f",
   "metadata": {},
   "outputs": [],
   "source": []
  },
  {
   "cell_type": "code",
   "execution_count": null,
   "id": "97d9f08e-5d6e-47ec-b057-56d5d4771d9d",
   "metadata": {},
   "outputs": [],
   "source": []
  },
  {
   "cell_type": "code",
   "execution_count": 7,
   "id": "2f346166-1f30-43c3-be85-9310383c3745",
   "metadata": {},
   "outputs": [],
   "source": [
    "def count_test(n):\n",
    "    count = 1\n",
    "    while count <= n:\n",
    "        yield count\n",
    "        count = count + 1"
   ]
  },
  {
   "cell_type": "code",
   "execution_count": 8,
   "id": "6e047be9-cea6-4c78-9742-85edd7c02eb7",
   "metadata": {},
   "outputs": [],
   "source": [
    "c = count_test(5)"
   ]
  },
  {
   "cell_type": "code",
   "execution_count": 9,
   "id": "1ff403dd-21b4-4a43-b4ef-b88c57c8546f",
   "metadata": {},
   "outputs": [
    {
     "data": {
      "text/plain": [
       "generator"
      ]
     },
     "execution_count": 9,
     "metadata": {},
     "output_type": "execute_result"
    }
   ],
   "source": [
    "type(c)"
   ]
  },
  {
   "cell_type": "code",
   "execution_count": 13,
   "id": "116b82fa-c980-4eb5-9cbc-f9449c066b30",
   "metadata": {},
   "outputs": [],
   "source": [
    "for i in c:\n",
    "    print(i)"
   ]
  },
  {
   "cell_type": "code",
   "execution_count": null,
   "id": "02a6b072-4940-4909-9561-00c4d2077733",
   "metadata": {},
   "outputs": [],
   "source": []
  }
 ],
 "metadata": {
  "kernelspec": {
   "display_name": "Python 3 (ipykernel)",
   "language": "python",
   "name": "python3"
  },
  "language_info": {
   "codemirror_mode": {
    "name": "ipython",
    "version": 3
   },
   "file_extension": ".py",
   "mimetype": "text/x-python",
   "name": "python",
   "nbconvert_exporter": "python",
   "pygments_lexer": "ipython3",
   "version": "3.10.8"
  }
 },
 "nbformat": 4,
 "nbformat_minor": 5
}
