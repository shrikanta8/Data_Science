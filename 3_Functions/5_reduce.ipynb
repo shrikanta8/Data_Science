{
 "cells": [
  {
   "cell_type": "code",
   "execution_count": 3,
   "id": "5d422002-9c82-4ce9-b136-940ef13fb711",
   "metadata": {},
   "outputs": [],
   "source": [
    "from functools import reduce"
   ]
  },
  {
   "cell_type": "code",
   "execution_count": 5,
   "id": "3b9e6c45-21c5-4fcd-9065-63d57379b269",
   "metadata": {},
   "outputs": [],
   "source": [
    "l = [1,2,3,4,5,6,6]"
   ]
  },
  {
   "cell_type": "code",
   "execution_count": 6,
   "id": "bdbf0672-d60f-4e80-acdb-c9adb859bae5",
   "metadata": {},
   "outputs": [
    {
     "data": {
      "text/plain": [
       "27"
      ]
     },
     "execution_count": 6,
     "metadata": {},
     "output_type": "execute_result"
    }
   ],
   "source": [
    "reduce(lambda x,y : x+y, l)"
   ]
  },
  {
   "cell_type": "code",
   "execution_count": 7,
   "id": "56ec75c2-197d-41a0-8632-601495a03fd6",
   "metadata": {},
   "outputs": [],
   "source": [
    "# first starting two elements are x and y \n",
    "# then it's answer becomes x and next value is y"
   ]
  },
  {
   "cell_type": "code",
   "execution_count": null,
   "id": "f8ca6d47-f5ce-4cf6-8b03-df1400389472",
   "metadata": {},
   "outputs": [],
   "source": []
  },
  {
   "cell_type": "code",
   "execution_count": null,
   "id": "d970a1a9-62a3-4cae-a253-35974c276854",
   "metadata": {},
   "outputs": [],
   "source": [
    "reduce(lambda x, y, z : x+y+z, l)\n",
    "# give error\n",
    "# because z won't alwaya have values"
   ]
  },
  {
   "cell_type": "code",
   "execution_count": null,
   "id": "f549c804-4632-45b1-a0dd-b2fdd9e0d21a",
   "metadata": {},
   "outputs": [],
   "source": [
    "reduce(lambda x, y :x + y, [] )\n",
    "# give error"
   ]
  },
  {
   "cell_type": "code",
   "execution_count": 10,
   "id": "1d9aa600-8b07-40aa-b495-3d2ca1b86f75",
   "metadata": {},
   "outputs": [
    {
     "data": {
      "text/plain": [
       "1"
      ]
     },
     "execution_count": 10,
     "metadata": {},
     "output_type": "execute_result"
    }
   ],
   "source": [
    "reduce(lambda x, y :x + y, [1] )\n",
    "# exceptional case!!!"
   ]
  },
  {
   "cell_type": "code",
   "execution_count": null,
   "id": "56055251-de3b-4960-93c5-96534daefd3b",
   "metadata": {},
   "outputs": [],
   "source": []
  },
  {
   "cell_type": "code",
   "execution_count": 11,
   "id": "b98dbf9b-afe8-4aba-ba8f-227d4972fa07",
   "metadata": {},
   "outputs": [
    {
     "data": {
      "text/plain": [
       "[1, 2, 3, 4, 5, 6, 6]"
      ]
     },
     "execution_count": 11,
     "metadata": {},
     "output_type": "execute_result"
    }
   ],
   "source": [
    "l"
   ]
  },
  {
   "cell_type": "code",
   "execution_count": 15,
   "id": "98e765b9-e1b6-4451-946d-d9cd21cd9ea5",
   "metadata": {},
   "outputs": [
    {
     "data": {
      "text/plain": [
       "6"
      ]
     },
     "execution_count": 15,
     "metadata": {},
     "output_type": "execute_result"
    }
   ],
   "source": [
    "reduce(lambda x,y : x if x>y else y, l)"
   ]
  },
  {
   "cell_type": "code",
   "execution_count": null,
   "id": "c58559fb-c3ac-4e1c-8a7f-92a9ec9c6091",
   "metadata": {},
   "outputs": [],
   "source": []
  }
 ],
 "metadata": {
  "kernelspec": {
   "display_name": "Python 3 (ipykernel)",
   "language": "python",
   "name": "python3"
  },
  "language_info": {
   "codemirror_mode": {
    "name": "ipython",
    "version": 3
   },
   "file_extension": ".py",
   "mimetype": "text/x-python",
   "name": "python",
   "nbconvert_exporter": "python",
   "pygments_lexer": "ipython3",
   "version": "3.10.8"
  }
 },
 "nbformat": 4,
 "nbformat_minor": 5
}
