{
 "cells": [
  {
   "cell_type": "code",
   "execution_count": 2,
   "id": "ace475b2-aab6-416e-be54-4f73d5327965",
   "metadata": {},
   "outputs": [],
   "source": [
    "def test():\n",
    "    pass"
   ]
  },
  {
   "cell_type": "code",
   "execution_count": 3,
   "id": "026ef7c8-ab87-464c-89b8-ff6fbd19400c",
   "metadata": {},
   "outputs": [],
   "source": [
    "def test1():\n",
    "    print(\"this is my first function\")"
   ]
  },
  {
   "cell_type": "code",
   "execution_count": 6,
   "id": "ab260860-33d5-416f-865e-a67bdda8e748",
   "metadata": {},
   "outputs": [
    {
     "name": "stdout",
     "output_type": "stream",
     "text": [
      "this is my first function\n"
     ]
    }
   ],
   "source": [
    "test1() "
   ]
  },
  {
   "cell_type": "code",
   "execution_count": 7,
   "id": "1c76c299-7673-4e0d-98bb-5e6ef802c84d",
   "metadata": {},
   "outputs": [],
   "source": [
    "def test2():\n",
    "    return \"hello function\"\n",
    "# \"return\" returns our data type as it is"
   ]
  },
  {
   "cell_type": "code",
   "execution_count": 10,
   "id": "5df913fa-781f-455d-8326-69bfc1e10e1f",
   "metadata": {},
   "outputs": [
    {
     "data": {
      "text/plain": [
       "'hello function shri'"
      ]
     },
     "execution_count": 10,
     "metadata": {},
     "output_type": "execute_result"
    }
   ],
   "source": [
    "test2() + \" shri\""
   ]
  },
  {
   "cell_type": "code",
   "execution_count": null,
   "id": "3bbce11b-c9bb-4e88-aff1-bdc07242a0c1",
   "metadata": {},
   "outputs": [],
   "source": []
  },
  {
   "cell_type": "code",
   "execution_count": 11,
   "id": "0276ce49-4119-4a06-a791-f59242f08f0b",
   "metadata": {},
   "outputs": [],
   "source": [
    "def test3():\n",
    "    return \"shri\", 23, 56.4, [1,2,3]"
   ]
  },
  {
   "cell_type": "code",
   "execution_count": 12,
   "id": "70970a8a-98e8-475a-a140-7081149fd371",
   "metadata": {},
   "outputs": [
    {
     "data": {
      "text/plain": [
       "('shri', 23, 56.4, [1, 2, 3])"
      ]
     },
     "execution_count": 12,
     "metadata": {},
     "output_type": "execute_result"
    }
   ],
   "source": [
    "test3()"
   ]
  },
  {
   "cell_type": "code",
   "execution_count": 53,
   "id": "822831f0-7780-4112-980b-ae9db914d945",
   "metadata": {},
   "outputs": [
    {
     "data": {
      "text/plain": [
       "tuple"
      ]
     },
     "execution_count": 53,
     "metadata": {},
     "output_type": "execute_result"
    }
   ],
   "source": [
    "type(test3())"
   ]
  },
  {
   "cell_type": "code",
   "execution_count": 13,
   "id": "3337d178-136c-44f1-9351-d279de16bc6c",
   "metadata": {},
   "outputs": [],
   "source": [
    "a, b, c, d =test3()"
   ]
  },
  {
   "cell_type": "code",
   "execution_count": 14,
   "id": "bd1a7057-519d-4753-9355-2a19b656d97b",
   "metadata": {},
   "outputs": [
    {
     "data": {
      "text/plain": [
       "'shri'"
      ]
     },
     "execution_count": 14,
     "metadata": {},
     "output_type": "execute_result"
    }
   ],
   "source": [
    "a"
   ]
  },
  {
   "cell_type": "code",
   "execution_count": 15,
   "id": "1039bd0a-b0aa-4b76-aace-ddfaaa693121",
   "metadata": {},
   "outputs": [
    {
     "data": {
      "text/plain": [
       "23"
      ]
     },
     "execution_count": 15,
     "metadata": {},
     "output_type": "execute_result"
    }
   ],
   "source": [
    "b"
   ]
  },
  {
   "cell_type": "code",
   "execution_count": 16,
   "id": "2f925583-722f-492c-a185-c1ab5d712059",
   "metadata": {},
   "outputs": [
    {
     "data": {
      "text/plain": [
       "56.4"
      ]
     },
     "execution_count": 16,
     "metadata": {},
     "output_type": "execute_result"
    }
   ],
   "source": [
    "c"
   ]
  },
  {
   "cell_type": "code",
   "execution_count": 17,
   "id": "6d08acff-b669-4d09-8f3b-b0df4293ff59",
   "metadata": {},
   "outputs": [
    {
     "data": {
      "text/plain": [
       "[1, 2, 3]"
      ]
     },
     "execution_count": 17,
     "metadata": {},
     "output_type": "execute_result"
    }
   ],
   "source": [
    "d"
   ]
  },
  {
   "cell_type": "code",
   "execution_count": 18,
   "id": "6401d8f3-a82a-45ab-a93a-bb7cae1459ae",
   "metadata": {},
   "outputs": [],
   "source": [
    "a=1\n",
    "b=4"
   ]
  },
  {
   "cell_type": "code",
   "execution_count": 19,
   "id": "8fa37582-4c40-4810-ac76-b4a59d06dacc",
   "metadata": {},
   "outputs": [],
   "source": [
    "a,b = 1,4"
   ]
  },
  {
   "cell_type": "code",
   "execution_count": null,
   "id": "a87748a4-bbe9-4c98-86d0-d10a4c04c74a",
   "metadata": {},
   "outputs": [],
   "source": []
  },
  {
   "cell_type": "code",
   "execution_count": 20,
   "id": "cc8bf2de-1508-4395-9f71-d123e191e9cd",
   "metadata": {},
   "outputs": [],
   "source": [
    "def test4():\n",
    "    a = 5+6/7\n",
    "    return a"
   ]
  },
  {
   "cell_type": "code",
   "execution_count": 21,
   "id": "8eed0d44-645d-40ed-b757-3ccffa57b9c7",
   "metadata": {},
   "outputs": [
    {
     "data": {
      "text/plain": [
       "5.857142857142857"
      ]
     },
     "execution_count": 21,
     "metadata": {},
     "output_type": "execute_result"
    }
   ],
   "source": [
    "test4()"
   ]
  },
  {
   "cell_type": "code",
   "execution_count": null,
   "id": "ad50157d-383d-4028-889d-a7ba6f1b3a98",
   "metadata": {},
   "outputs": [],
   "source": []
  },
  {
   "cell_type": "code",
   "execution_count": 22,
   "id": "83b321ea-efff-4641-a201-4a0dddbd7c6c",
   "metadata": {},
   "outputs": [],
   "source": [
    "def test5(a, b, c):\n",
    "    d = a+b/c\n",
    "    return d"
   ]
  },
  {
   "cell_type": "code",
   "execution_count": 27,
   "id": "a823ac4b-e452-4fd1-acd6-fd74eeecdac6",
   "metadata": {},
   "outputs": [
    {
     "data": {
      "text/plain": [
       "6.727272727272727"
      ]
     },
     "execution_count": 27,
     "metadata": {},
     "output_type": "execute_result"
    }
   ],
   "source": [
    "test5(3,41,11)"
   ]
  },
  {
   "cell_type": "code",
   "execution_count": null,
   "id": "91589714-0633-419a-8211-eaf69ceddf4c",
   "metadata": {},
   "outputs": [],
   "source": []
  },
  {
   "cell_type": "code",
   "execution_count": 28,
   "id": "0f7fb8be-ce71-4c1d-a9e1-c0ab0cc205d1",
   "metadata": {},
   "outputs": [],
   "source": [
    "def test6(a,b):\n",
    "    return a+b"
   ]
  },
  {
   "cell_type": "code",
   "execution_count": 30,
   "id": "7107681b-36d4-409c-be74-9f945b3ebd56",
   "metadata": {},
   "outputs": [
    {
     "data": {
      "text/plain": [
       "7"
      ]
     },
     "execution_count": 30,
     "metadata": {},
     "output_type": "execute_result"
    }
   ],
   "source": [
    "test6(3,4)"
   ]
  },
  {
   "cell_type": "code",
   "execution_count": 32,
   "id": "683c9467-be9c-4429-8f59-56ffba5cc8f9",
   "metadata": {},
   "outputs": [
    {
     "data": {
      "text/plain": [
       "'shri kk'"
      ]
     },
     "execution_count": 32,
     "metadata": {},
     "output_type": "execute_result"
    }
   ],
   "source": [
    "test6(\"shri\",\" kk\")"
   ]
  },
  {
   "cell_type": "code",
   "execution_count": 33,
   "id": "4210cd47-23e3-4d2d-b27e-5b152a080029",
   "metadata": {},
   "outputs": [
    {
     "data": {
      "text/plain": [
       "[4, 3, 1, 8, 5, 4, 3]"
      ]
     },
     "execution_count": 33,
     "metadata": {},
     "output_type": "execute_result"
    }
   ],
   "source": [
    "test6( [4,3,1] , [8,5,4,3]) "
   ]
  },
  {
   "cell_type": "code",
   "execution_count": null,
   "id": "177d3cef-27de-488a-8ddf-729b1bbaeedd",
   "metadata": {},
   "outputs": [],
   "source": []
  },
  {
   "cell_type": "code",
   "execution_count": 34,
   "id": "f86576aa-e736-4492-8640-be91f86c8554",
   "metadata": {},
   "outputs": [],
   "source": [
    "l = [1,2,3,4,5,\"shri\",\"kk\",[1,2,3,4,5]]"
   ]
  },
  {
   "cell_type": "code",
   "execution_count": 39,
   "id": "ac82abaa-71cb-4fb0-a853-fff17798269f",
   "metadata": {},
   "outputs": [],
   "source": [
    "#it is grabbing int which is inside list\n",
    "def test7(l):\n",
    "    l1 = []\n",
    "    for i in l:\n",
    "        if type(i) == int or type(i) == float:\n",
    "            l1.append(i)\n",
    "    return l1"
   ]
  },
  {
   "cell_type": "code",
   "execution_count": 40,
   "id": "1a491023-047d-4470-808f-4414a262dcd3",
   "metadata": {},
   "outputs": [
    {
     "data": {
      "text/plain": [
       "[1, 2, 3, 4, 5]"
      ]
     },
     "execution_count": 40,
     "metadata": {},
     "output_type": "execute_result"
    }
   ],
   "source": [
    "test7(l)"
   ]
  },
  {
   "cell_type": "code",
   "execution_count": 41,
   "id": "05f763cd-62f7-4df6-b06b-8d37673a8902",
   "metadata": {},
   "outputs": [
    {
     "data": {
      "text/plain": [
       "[1, 2, 3, 4, 5, 'shri', 'kk', [1, 2, 3, 4, 5]]"
      ]
     },
     "execution_count": 41,
     "metadata": {},
     "output_type": "execute_result"
    }
   ],
   "source": [
    "l"
   ]
  },
  {
   "cell_type": "code",
   "execution_count": 42,
   "id": "8ca8e414-83ba-41ab-b06a-6457d99ee161",
   "metadata": {},
   "outputs": [],
   "source": [
    "#it is also grabbing int which is inside nested list\n",
    "def test8(a):\n",
    "    l1 = []\n",
    "    for i in a:\n",
    "        if type(i) == list:\n",
    "            for j in i:\n",
    "                l1.append(j)\n",
    "        else:\n",
    "            if type(i) == int or type(i) == float:\n",
    "                l1.append(i)\n",
    "    return l1"
   ]
  },
  {
   "cell_type": "code",
   "execution_count": 43,
   "id": "0221d900-9429-4cb3-9f7d-f776f266c04e",
   "metadata": {},
   "outputs": [
    {
     "data": {
      "text/plain": [
       "[1, 2, 3, 4, 5, 1, 2, 3, 4, 5]"
      ]
     },
     "execution_count": 43,
     "metadata": {},
     "output_type": "execute_result"
    }
   ],
   "source": [
    "test8(l)"
   ]
  },
  {
   "cell_type": "code",
   "execution_count": null,
   "id": "279c6887-229a-47c7-bd6e-17ce3046f5eb",
   "metadata": {},
   "outputs": [],
   "source": []
  },
  {
   "cell_type": "code",
   "execution_count": 44,
   "id": "587e9682-5da8-42eb-b64c-35d8a283da64",
   "metadata": {},
   "outputs": [],
   "source": [
    "def test9(a):\n",
    "    \"\"\"this is grabbing int which is inside  list and nested list\"\"\"\n",
    "    #this is docstring. click shift+tab on function name to see\n",
    "    \n",
    "    l1 = []\n",
    "    for i in a:\n",
    "        if type(i) == list:\n",
    "            for j in i:\n",
    "                l1.append(j)\n",
    "        else:\n",
    "            if type(i) == int or type(i) == float:\n",
    "                l1.append(i)\n",
    "    return l1"
   ]
  },
  {
   "cell_type": "code",
   "execution_count": 47,
   "id": "b1982dd5-f25d-4edd-ab4d-1b2b20bb8068",
   "metadata": {},
   "outputs": [
    {
     "data": {
      "text/plain": [
       "[1, 2, 3, 4, 5, 1, 2, 3, 4, 5]"
      ]
     },
     "execution_count": 47,
     "metadata": {},
     "output_type": "execute_result"
    }
   ],
   "source": [
    "test9(l)"
   ]
  },
  {
   "cell_type": "code",
   "execution_count": null,
   "id": "7ebbda88-51b0-4ec2-957c-4a4ef270b681",
   "metadata": {},
   "outputs": [],
   "source": []
  },
  {
   "cell_type": "code",
   "execution_count": 48,
   "id": "9c11ce74-1e31-4a1a-b50f-6cd73b4b3e2e",
   "metadata": {},
   "outputs": [],
   "source": [
    "def test10(a,b):\n",
    "    return a+b"
   ]
  },
  {
   "cell_type": "code",
   "execution_count": 54,
   "id": "a66f874f-e2dd-434d-972a-e0c80d614a0b",
   "metadata": {},
   "outputs": [],
   "source": [
    "#dynamic parameters"
   ]
  },
  {
   "cell_type": "code",
   "execution_count": 55,
   "id": "f0c5a8c9-cbc4-41e2-b5ae-6b90efe6e152",
   "metadata": {},
   "outputs": [],
   "source": [
    "def test11(*args):\n",
    "    return args"
   ]
  },
  {
   "cell_type": "code",
   "execution_count": null,
   "id": "bc3e45bf-ab5d-4b52-a7cb-611b530ac90c",
   "metadata": {},
   "outputs": [],
   "source": [
    "#args is not a keyword\n",
    "#you can write anything in place of args"
   ]
  },
  {
   "cell_type": "code",
   "execution_count": 56,
   "id": "22e33633-388b-457a-a81f-ca79cc8b2826",
   "metadata": {},
   "outputs": [
    {
     "data": {
      "text/plain": [
       "tuple"
      ]
     },
     "execution_count": 56,
     "metadata": {},
     "output_type": "execute_result"
    }
   ],
   "source": [
    "type(test11())"
   ]
  },
  {
   "cell_type": "code",
   "execution_count": 57,
   "id": "5641a533-01c4-4046-9088-7c6831ad1340",
   "metadata": {},
   "outputs": [
    {
     "data": {
      "text/plain": [
       "(1, 2, 3)"
      ]
     },
     "execution_count": 57,
     "metadata": {},
     "output_type": "execute_result"
    }
   ],
   "source": [
    "test11(1,2,3)"
   ]
  },
  {
   "cell_type": "code",
   "execution_count": 58,
   "id": "6e24187a-80a7-4cdd-b318-061a5f59ddba",
   "metadata": {},
   "outputs": [
    {
     "data": {
      "text/plain": [
       "(1, 2, 3, 'shri', 4.4, 'kk')"
      ]
     },
     "execution_count": 58,
     "metadata": {},
     "output_type": "execute_result"
    }
   ],
   "source": [
    "test11(1,2,3,\"shri\",4.4,\"kk\")"
   ]
  },
  {
   "cell_type": "code",
   "execution_count": null,
   "id": "fe6e0d95-f9c1-4493-929b-7985c77b725a",
   "metadata": {},
   "outputs": [],
   "source": []
  },
  {
   "cell_type": "code",
   "execution_count": 2,
   "id": "650d05bd-9e65-4c6e-97e5-88b57c5fcdbf",
   "metadata": {},
   "outputs": [],
   "source": [
    "def test13(*args, a):\n",
    "    return args, a"
   ]
  },
  {
   "cell_type": "code",
   "execution_count": 5,
   "id": "bb743332-1cff-4711-b766-ee23c6342a10",
   "metadata": {},
   "outputs": [
    {
     "data": {
      "text/plain": [
       "((1, 2, 3, 4, 5), 8)"
      ]
     },
     "execution_count": 5,
     "metadata": {},
     "output_type": "execute_result"
    }
   ],
   "source": [
    "test13(1,2,3,4,5, a=8)\n",
    "#if we won't write a=8 it will give error as it will have confusion in assigning value to a"
   ]
  },
  {
   "cell_type": "code",
   "execution_count": null,
   "id": "86ba3f45-d119-41a3-8ba6-3a36dacc8aa6",
   "metadata": {},
   "outputs": [],
   "source": []
  },
  {
   "cell_type": "code",
   "execution_count": 7,
   "id": "a6567788-fd4e-4188-a5ba-463b6801d68d",
   "metadata": {},
   "outputs": [],
   "source": [
    "#first write non default variables\n",
    "def test14(c,d,a= 23, b=1):\n",
    "    return a,b,c,d"
   ]
  },
  {
   "cell_type": "code",
   "execution_count": 10,
   "id": "b1aa7889-4d81-456d-b3b1-2203b0213e1a",
   "metadata": {},
   "outputs": [
    {
     "data": {
      "text/plain": [
       "(76, 1, 3, 4)"
      ]
     },
     "execution_count": 10,
     "metadata": {},
     "output_type": "execute_result"
    }
   ],
   "source": [
    "test14(3,4, a=76) "
   ]
  },
  {
   "cell_type": "code",
   "execution_count": null,
   "id": "1d69add8-c53f-4e29-95e2-77b722ffcbff",
   "metadata": {},
   "outputs": [],
   "source": []
  },
  {
   "cell_type": "code",
   "execution_count": 11,
   "id": "5cf567c8-4609-4d74-9019-5f00213358ed",
   "metadata": {},
   "outputs": [],
   "source": [
    "# ** for dict\n",
    "def test15(**kwargs):\n",
    "    return kwargs"
   ]
  },
  {
   "cell_type": "code",
   "execution_count": 12,
   "id": "7b8e28de-ff0d-451d-be48-f9e138fa9dd3",
   "metadata": {},
   "outputs": [
    {
     "data": {
      "text/plain": [
       "{}"
      ]
     },
     "execution_count": 12,
     "metadata": {},
     "output_type": "execute_result"
    }
   ],
   "source": [
    "test15()"
   ]
  },
  {
   "cell_type": "code",
   "execution_count": 13,
   "id": "7bd2aee8-4e50-41b4-8447-676b2c8c9a86",
   "metadata": {},
   "outputs": [
    {
     "data": {
      "text/plain": [
       "dict"
      ]
     },
     "execution_count": 13,
     "metadata": {},
     "output_type": "execute_result"
    }
   ],
   "source": [
    "type(test15())"
   ]
  },
  {
   "cell_type": "code",
   "execution_count": 14,
   "id": "6b25dea0-8e6e-4c88-952e-8aa204dd71ee",
   "metadata": {},
   "outputs": [
    {
     "data": {
      "text/plain": [
       "{'a': [1, 2, 3, 4], 'b': 'shri', 'c': 33.8}"
      ]
     },
     "execution_count": 14,
     "metadata": {},
     "output_type": "execute_result"
    }
   ],
   "source": [
    "test15( a = [1,2,3,4], b= \"shri\", c = 33.8)\n",
    "# a is key [1,2,3,4] is value"
   ]
  },
  {
   "cell_type": "code",
   "execution_count": null,
   "id": "4237d0cc-1030-4d19-b24f-7e03fe65b0bf",
   "metadata": {},
   "outputs": [],
   "source": []
  }
 ],
 "metadata": {
  "kernelspec": {
   "display_name": "Python 3 (ipykernel)",
   "language": "python",
   "name": "python3"
  },
  "language_info": {
   "codemirror_mode": {
    "name": "ipython",
    "version": 3
   },
   "file_extension": ".py",
   "mimetype": "text/x-python",
   "name": "python",
   "nbconvert_exporter": "python",
   "pygments_lexer": "ipython3",
   "version": "3.10.8"
  }
 },
 "nbformat": 4,
 "nbformat_minor": 5
}
