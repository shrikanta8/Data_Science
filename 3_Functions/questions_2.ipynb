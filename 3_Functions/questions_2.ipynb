{
 "cells": [
  {
   "cell_type": "code",
   "execution_count": 1,
   "id": "c56d225e-cdd0-48ac-94e1-3a9a8193aa99",
   "metadata": {},
   "outputs": [],
   "source": [
    "#question 1\n",
    "#program to sort the given list of tuples based on integer value using a lambda function.\n",
    "# [('Sachin Tendulkar', 34357), ('Ricky Ponting', 27483), ('Jack Kallis', 25534), ('Virat Kohli', 24936)]"
   ]
  },
  {
   "cell_type": "code",
   "execution_count": 23,
   "id": "c85b3d3c-54fe-4c25-9ca4-34c4ece05652",
   "metadata": {},
   "outputs": [],
   "source": [
    "l= [('Sachin Tendulkar', 34357), ('Ricky Ponting', 27483), ('Jack Kallis', 25534), ('Virat Kohli', 24936)]"
   ]
  },
  {
   "cell_type": "code",
   "execution_count": 24,
   "id": "35e7fdf5-54f5-465e-825a-9f6d71b39a9e",
   "metadata": {},
   "outputs": [],
   "source": [
    "l.sort(key=lambda x:x[1])"
   ]
  },
  {
   "cell_type": "code",
   "execution_count": 25,
   "id": "1f3b3b1c-6ba0-48cb-862a-a183b08ed1ff",
   "metadata": {},
   "outputs": [
    {
     "data": {
      "text/plain": [
       "[('Virat Kohli', 24936),\n",
       " ('Jack Kallis', 25534),\n",
       " ('Ricky Ponting', 27483),\n",
       " ('Sachin Tendulkar', 34357)]"
      ]
     },
     "execution_count": 25,
     "metadata": {},
     "output_type": "execute_result"
    }
   ],
   "source": [
    "l"
   ]
  },
  {
   "cell_type": "code",
   "execution_count": null,
   "id": "637c7294-e0fa-4080-a6b5-19fe375acf3b",
   "metadata": {},
   "outputs": [],
   "source": []
  },
  {
   "cell_type": "code",
   "execution_count": 2,
   "id": "b860e7a2-2ca5-446a-ac94-6aeb55f44aa2",
   "metadata": {},
   "outputs": [],
   "source": [
    "#question 2\n",
    "#find the squares of all the numbers in the given list of integers using lambda and map functions.\n"
   ]
  },
  {
   "cell_type": "code",
   "execution_count": 30,
   "id": "a07adbe8-63a5-4d9d-bb13-64c781863258",
   "metadata": {},
   "outputs": [
    {
     "data": {
      "text/plain": [
       "[1, 4, 9, 16, 25, 36, 49, 64, 81, 100]"
      ]
     },
     "execution_count": 30,
     "metadata": {},
     "output_type": "execute_result"
    }
   ],
   "source": [
    "l1 = [1, 2, 3, 4, 5, 6, 7, 8, 9, 10]\n",
    "list( map(lambda x:x*x,l1) )"
   ]
  },
  {
   "cell_type": "code",
   "execution_count": null,
   "id": "c3014167-c579-4e72-83c1-41f6fa567613",
   "metadata": {},
   "outputs": [],
   "source": []
  },
  {
   "cell_type": "code",
   "execution_count": 3,
   "id": "5564df66-8057-486b-9255-d94339be1a6b",
   "metadata": {},
   "outputs": [],
   "source": [
    "#question 3\n",
    "# convert the given list of integers into a tuple of strings. Use map and lambda functions\n",
    "# Given String: [1, 2, 3, 4, 5, 6, 7, 8, 9, 10]\n",
    "# Expected output: ('1', '2', '3', '4', '5', '6', '7', '8', '9', '10')"
   ]
  },
  {
   "cell_type": "code",
   "execution_count": 32,
   "id": "b3805e8c-584f-4fb1-9d65-52c915198d9e",
   "metadata": {},
   "outputs": [
    {
     "data": {
      "text/plain": [
       "('1', '2', '3', '4', '5', '6', '7', '8', '9', '10')"
      ]
     },
     "execution_count": 32,
     "metadata": {},
     "output_type": "execute_result"
    }
   ],
   "source": [
    "l2= [1, 2, 3, 4, 5, 6, 7, 8, 9, 10]\n",
    "tuple( map(lambda x: str(x),l2) )"
   ]
  },
  {
   "cell_type": "code",
   "execution_count": null,
   "id": "17504228-7316-42f9-bf73-8c86db6a97ab",
   "metadata": {},
   "outputs": [],
   "source": []
  },
  {
   "cell_type": "code",
   "execution_count": 4,
   "id": "c04fffb3-ede3-4703-9f7c-8917429b0fb4",
   "metadata": {},
   "outputs": [],
   "source": [
    "#question 4\n",
    "# program using reduce function to compute the product of a list containing numbers from 1 to 25."
   ]
  },
  {
   "cell_type": "code",
   "execution_count": 10,
   "id": "6278c8d0-294d-4822-be63-31ecfcc683c1",
   "metadata": {},
   "outputs": [],
   "source": [
    "l = list(range(1,26))"
   ]
  },
  {
   "cell_type": "code",
   "execution_count": 11,
   "id": "ed763da9-7e90-46d4-bb6e-a8ba3fa1f703",
   "metadata": {},
   "outputs": [
    {
     "data": {
      "text/plain": [
       "[1,\n",
       " 2,\n",
       " 3,\n",
       " 4,\n",
       " 5,\n",
       " 6,\n",
       " 7,\n",
       " 8,\n",
       " 9,\n",
       " 10,\n",
       " 11,\n",
       " 12,\n",
       " 13,\n",
       " 14,\n",
       " 15,\n",
       " 16,\n",
       " 17,\n",
       " 18,\n",
       " 19,\n",
       " 20,\n",
       " 21,\n",
       " 22,\n",
       " 23,\n",
       " 24,\n",
       " 25]"
      ]
     },
     "execution_count": 11,
     "metadata": {},
     "output_type": "execute_result"
    }
   ],
   "source": [
    "l"
   ]
  },
  {
   "cell_type": "code",
   "execution_count": 14,
   "id": "ca279d41-33c7-4832-b742-8ad4d10f3492",
   "metadata": {},
   "outputs": [
    {
     "data": {
      "text/plain": [
       "15511210043330985984000000"
      ]
     },
     "execution_count": 14,
     "metadata": {},
     "output_type": "execute_result"
    }
   ],
   "source": [
    "from functools import reduce\n",
    "reduce(lambda x,y:x*y, l)"
   ]
  },
  {
   "cell_type": "code",
   "execution_count": null,
   "id": "a6dd28f6-677b-462c-8ab4-c95947b800c2",
   "metadata": {},
   "outputs": [],
   "source": []
  },
  {
   "cell_type": "code",
   "execution_count": 5,
   "id": "aa69de76-da41-4d59-bf44-ae8bfafac8be",
   "metadata": {},
   "outputs": [],
   "source": [
    "#question 5\n",
    "# filter the numbers in a given list that are divisible by 2 and 3 using the filter function"
   ]
  },
  {
   "cell_type": "code",
   "execution_count": 15,
   "id": "174566a4-8e4a-49cd-b7d9-f4ee79f51523",
   "metadata": {},
   "outputs": [
    {
     "data": {
      "text/plain": [
       "[6, 60, 90, 120]"
      ]
     },
     "execution_count": 15,
     "metadata": {},
     "output_type": "execute_result"
    }
   ],
   "source": [
    "l1 = [2, 3, 6, 9, 27, 60, 90, 120, 55, 46]\n",
    "\n",
    "list(filter(lambda x : x%6==0, l1))"
   ]
  },
  {
   "cell_type": "code",
   "execution_count": null,
   "id": "d29e89fc-fdde-4858-a8e6-5ccccf732dba",
   "metadata": {},
   "outputs": [],
   "source": []
  },
  {
   "cell_type": "code",
   "execution_count": 16,
   "id": "f9945a88-fcf7-4457-9cd9-2859a990e018",
   "metadata": {},
   "outputs": [],
   "source": [
    "#question 6\n",
    "# program to find palindromes in the given list of strings using lambda and filter function. ['python', 'php', 'aba', 'radar', 'level']"
   ]
  },
  {
   "cell_type": "code",
   "execution_count": 27,
   "id": "49b5764f-700f-4ba6-bc30-cfefb82d95ce",
   "metadata": {},
   "outputs": [
    {
     "data": {
      "text/plain": [
       "['php', 'aba', 'radar', 'level']"
      ]
     },
     "execution_count": 27,
     "metadata": {},
     "output_type": "execute_result"
    }
   ],
   "source": [
    "l3= ['python', 'php', 'aba', 'radar', 'level']\n",
    "\n",
    "list( filter( lambda x: x == x[::-1], l3 ) )"
   ]
  },
  {
   "cell_type": "code",
   "execution_count": null,
   "id": "f559f564-c3a5-41c7-8492-e28066cf61d6",
   "metadata": {},
   "outputs": [],
   "source": []
  }
 ],
 "metadata": {
  "kernelspec": {
   "display_name": "Python 3 (ipykernel)",
   "language": "python",
   "name": "python3"
  },
  "language_info": {
   "codemirror_mode": {
    "name": "ipython",
    "version": 3
   },
   "file_extension": ".py",
   "mimetype": "text/x-python",
   "name": "python",
   "nbconvert_exporter": "python",
   "pygments_lexer": "ipython3",
   "version": "3.10.8"
  }
 },
 "nbformat": 4,
 "nbformat_minor": 5
}
