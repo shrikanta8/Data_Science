{
 "cells": [
  {
   "cell_type": "code",
   "execution_count": 1,
   "id": "0f215432-8cf0-4dea-8b6d-ef2e15471e1b",
   "metadata": {},
   "outputs": [],
   "source": [
    "l = [1,2,3,4,5,6,6]"
   ]
  },
  {
   "cell_type": "code",
   "execution_count": 5,
   "id": "cedb68c8-fb0f-4f30-8101-a99cce7cc38a",
   "metadata": {},
   "outputs": [
    {
     "data": {
      "text/plain": [
       "[2, 4, 6, 6]"
      ]
     },
     "execution_count": 5,
     "metadata": {},
     "output_type": "execute_result"
    }
   ],
   "source": [
    "list(filter(lambda x: x%2 == 0, l))"
   ]
  },
  {
   "cell_type": "code",
   "execution_count": 6,
   "id": "03a4feb2-6c11-4098-b157-c86411299ef7",
   "metadata": {},
   "outputs": [],
   "source": [
    "#it will give outcome where condition is getting true"
   ]
  },
  {
   "cell_type": "code",
   "execution_count": null,
   "id": "cd3e1e84-ffc9-423c-a9bb-de6e1f8fd28b",
   "metadata": {},
   "outputs": [],
   "source": []
  },
  {
   "cell_type": "code",
   "execution_count": 7,
   "id": "6829ec2b-334b-4cb9-bc71-f9091fe1b0fa",
   "metadata": {},
   "outputs": [],
   "source": [
    "l1 = [-2, 9, 9, 2,-4]"
   ]
  },
  {
   "cell_type": "code",
   "execution_count": 8,
   "id": "65f396db-d114-4f9c-b17a-1de3975ae3a3",
   "metadata": {},
   "outputs": [
    {
     "data": {
      "text/plain": [
       "[-2, -4]"
      ]
     },
     "execution_count": 8,
     "metadata": {},
     "output_type": "execute_result"
    }
   ],
   "source": [
    "list(filter(lambda x: x< 0, l1))"
   ]
  },
  {
   "cell_type": "code",
   "execution_count": null,
   "id": "bc599047-a7b6-4150-91d4-e6f0e43fb236",
   "metadata": {},
   "outputs": [],
   "source": []
  },
  {
   "cell_type": "code",
   "execution_count": 9,
   "id": "e52d4e8b-e4b0-464f-9bcd-43ad81fae48d",
   "metadata": {},
   "outputs": [],
   "source": [
    "l2 = [\"shri\",\"kk\",\"shrikanta\",\"mohan\"]"
   ]
  },
  {
   "cell_type": "code",
   "execution_count": 10,
   "id": "f6c9e9be-1588-4ab5-862d-b09eae9790c3",
   "metadata": {},
   "outputs": [
    {
     "data": {
      "text/plain": [
       "['shri', 'kk', 'mohan']"
      ]
     },
     "execution_count": 10,
     "metadata": {},
     "output_type": "execute_result"
    }
   ],
   "source": [
    "list(filter(lambda x: len(x) < 6 , l2))"
   ]
  },
  {
   "cell_type": "code",
   "execution_count": null,
   "id": "dd464e9b-840e-4ccd-9b8e-86a639b6c749",
   "metadata": {},
   "outputs": [],
   "source": []
  }
 ],
 "metadata": {
  "kernelspec": {
   "display_name": "Python 3 (ipykernel)",
   "language": "python",
   "name": "python3"
  },
  "language_info": {
   "codemirror_mode": {
    "name": "ipython",
    "version": 3
   },
   "file_extension": ".py",
   "mimetype": "text/x-python",
   "name": "python",
   "nbconvert_exporter": "python",
   "pygments_lexer": "ipython3",
   "version": "3.10.8"
  }
 },
 "nbformat": 4,
 "nbformat_minor": 5
}
