{
 "cells": [
  {
   "cell_type": "code",
   "execution_count": 1,
   "id": "7b5607c9-d321-450d-bdd0-d20f3c5be841",
   "metadata": {},
   "outputs": [],
   "source": [
    "#question 1"
   ]
  },
  {
   "cell_type": "code",
   "execution_count": null,
   "id": "8abeaf0e-051c-46cc-a165-bd925b7dfa68",
   "metadata": {},
   "outputs": [],
   "source": [
    "# def keyword is used to create a function"
   ]
  },
  {
   "cell_type": "code",
   "execution_count": 10,
   "id": "77332365-c672-4f71-9063-addac4b0d92d",
   "metadata": {},
   "outputs": [],
   "source": [
    "# function to return a list of odd numbers in the range of 1 to 25\n",
    "\n",
    "def odd_list():\n",
    "    l=[]\n",
    "    for i in range(26):\n",
    "        if i%2 != 0:\n",
    "            l.append(i)\n",
    "    return l\n",
    "        "
   ]
  },
  {
   "cell_type": "code",
   "execution_count": 11,
   "id": "6b728713-0b0d-4eb8-818f-664205052cab",
   "metadata": {},
   "outputs": [
    {
     "data": {
      "text/plain": [
       "[1, 3, 5, 7, 9, 11, 13, 15, 17, 19, 21, 23, 25]"
      ]
     },
     "execution_count": 11,
     "metadata": {},
     "output_type": "execute_result"
    }
   ],
   "source": [
    "odd_list()"
   ]
  },
  {
   "cell_type": "code",
   "execution_count": null,
   "id": "6d133750-a81a-4754-a69c-4de010cd306b",
   "metadata": {},
   "outputs": [],
   "source": []
  },
  {
   "cell_type": "code",
   "execution_count": 2,
   "id": "ee4d48b4-b9f8-4dc3-87a4-ade80c834133",
   "metadata": {},
   "outputs": [],
   "source": [
    "#question 2"
   ]
  },
  {
   "cell_type": "code",
   "execution_count": null,
   "id": "4826d900-6e33-47cf-914d-11836dd6e09d",
   "metadata": {},
   "outputs": [],
   "source": [
    "# *args and **kwargs are keywords which allows function to take variable length argument"
   ]
  },
  {
   "cell_type": "code",
   "execution_count": 12,
   "id": "88b07ec7-6372-4106-8bb8-027df6aeffe4",
   "metadata": {},
   "outputs": [],
   "source": [
    "def test(*args):\n",
    "    return args"
   ]
  },
  {
   "cell_type": "code",
   "execution_count": 14,
   "id": "b1c8b91e-06d2-4ed3-9cef-722ca2967393",
   "metadata": {},
   "outputs": [
    {
     "data": {
      "text/plain": [
       "(1, 2, 3, 'shri', 4.4, 'kk')"
      ]
     },
     "execution_count": 14,
     "metadata": {},
     "output_type": "execute_result"
    }
   ],
   "source": [
    "test(1,2,3,\"shri\",4.4,\"kk\")"
   ]
  },
  {
   "cell_type": "code",
   "execution_count": null,
   "id": "dc9b3117-032a-42d1-ad29-63dbbbf8367e",
   "metadata": {},
   "outputs": [],
   "source": []
  },
  {
   "cell_type": "code",
   "execution_count": 17,
   "id": "0b980df6-b2dc-4492-b21d-3bcb97d4c556",
   "metadata": {},
   "outputs": [],
   "source": [
    "# ** for dict\n",
    "def test1(**kwargs):\n",
    "    return kwargs"
   ]
  },
  {
   "cell_type": "code",
   "execution_count": 18,
   "id": "b5fee76b-8a37-4b77-bf9e-1d3ac8e3bd51",
   "metadata": {},
   "outputs": [
    {
     "data": {
      "text/plain": [
       "{'a': [1, 2, 3, 4], 'b': 'shrikanta'}"
      ]
     },
     "execution_count": 18,
     "metadata": {},
     "output_type": "execute_result"
    }
   ],
   "source": [
    "test1( a = [1,2,3,4], b= \"shrikanta\")\n",
    "# a is key and [1,2,3,4] is value"
   ]
  },
  {
   "cell_type": "code",
   "execution_count": null,
   "id": "e0d1532c-b161-4a7a-9236-f1b793f13edf",
   "metadata": {},
   "outputs": [],
   "source": []
  },
  {
   "cell_type": "code",
   "execution_count": 3,
   "id": "95ae0af2-6133-4389-858c-c7c13ab98ba9",
   "metadata": {},
   "outputs": [],
   "source": [
    "#question 3"
   ]
  },
  {
   "cell_type": "code",
   "execution_count": null,
   "id": "8524d2d1-8b9e-4d42-8ae3-ef9d4cc8c1a0",
   "metadata": {},
   "outputs": [],
   "source": [
    "# iterator is an object that allows us to iterate over collections of data\n",
    "# iter() is used to initialise the iterator object and next() method is used for iteration"
   ]
  },
  {
   "cell_type": "code",
   "execution_count": 7,
   "id": "7126e4c1-9219-4327-b347-4f2bc81a6918",
   "metadata": {},
   "outputs": [
    {
     "name": "stdout",
     "output_type": "stream",
     "text": [
      "2\n",
      "4\n",
      "6\n",
      "8\n",
      "10\n"
     ]
    }
   ],
   "source": [
    "l3= [2, 4, 6, 8, 10, 12, 14, 16, 18, 20]\n",
    "val=iter(l3)\n",
    "\n",
    "for i in range(5):\n",
    "    print(next(val))"
   ]
  },
  {
   "cell_type": "code",
   "execution_count": null,
   "id": "47f2b845-348f-4d96-acf8-1d5500e24a15",
   "metadata": {},
   "outputs": [],
   "source": []
  },
  {
   "cell_type": "code",
   "execution_count": 4,
   "id": "5c57af74-2441-495a-9dd7-9a619b277fff",
   "metadata": {},
   "outputs": [],
   "source": [
    "#question 4"
   ]
  },
  {
   "cell_type": "code",
   "execution_count": null,
   "id": "61347f63-c4f2-4174-847c-79969add980b",
   "metadata": {},
   "outputs": [],
   "source": [
    "# generator function generates a value with the yield keyword rather than return. \n",
    "# If the body of a def contains yield, the function automatically becomes a generator function.\n",
    "\n",
    "# yield is used to iterate over a sequence\n"
   ]
  },
  {
   "cell_type": "code",
   "execution_count": 32,
   "id": "47af1cc4-59dc-41fa-bba4-08503f146c68",
   "metadata": {},
   "outputs": [
    {
     "name": "stdout",
     "output_type": "stream",
     "text": [
      "0\n",
      "1\n",
      "1\n",
      "2\n",
      "3\n"
     ]
    }
   ],
   "source": [
    "# 5 fibonacci numbers\n",
    "def test_fib1():\n",
    "    a, b = 0, 1\n",
    "    while True:\n",
    "        yield a\n",
    "        a, b = b, a+b\n",
    "        \n",
    "fib = test_fib1()\n",
    "\n",
    "for i in range(5):\n",
    "    print(next(fib))"
   ]
  },
  {
   "cell_type": "code",
   "execution_count": null,
   "id": "ec4ec797-4796-4977-8018-c23aac8fae44",
   "metadata": {},
   "outputs": [],
   "source": []
  },
  {
   "cell_type": "code",
   "execution_count": 5,
   "id": "205393e3-9bc4-4374-ae73-c51938efb134",
   "metadata": {},
   "outputs": [],
   "source": [
    "#question 5\n",
    "#Create a generator function for prime numbers less than 1000. Use the next() method to print the first 20 prime numbers."
   ]
  },
  {
   "cell_type": "code",
   "execution_count": 27,
   "id": "6883799f-3c72-4b68-be26-c033d6e0723b",
   "metadata": {},
   "outputs": [],
   "source": [
    "def prime_func():\n",
    "    num=2\n",
    "    \n",
    "    while num<1000:\n",
    "        flag=True\n",
    "        for i in range(2,num):\n",
    "            if num%i == 0:\n",
    "                flag=False\n",
    "                break\n",
    "        if flag:\n",
    "            yield num\n",
    "        num += 1"
   ]
  },
  {
   "cell_type": "code",
   "execution_count": 30,
   "id": "1603f7e7-0cb9-4490-9119-fd87f5b6018b",
   "metadata": {},
   "outputs": [
    {
     "name": "stdout",
     "output_type": "stream",
     "text": [
      "2\n",
      "3\n",
      "5\n",
      "7\n",
      "11\n",
      "13\n",
      "17\n",
      "19\n",
      "23\n",
      "29\n",
      "31\n",
      "37\n",
      "41\n",
      "43\n",
      "47\n",
      "53\n",
      "59\n",
      "61\n",
      "67\n",
      "71\n"
     ]
    }
   ],
   "source": [
    "prime_num = prime_func()\n",
    "\n",
    "for i in range(20):\n",
    "    print(next(prime_num))"
   ]
  },
  {
   "cell_type": "code",
   "execution_count": null,
   "id": "00d12a7e-7ad3-4325-94a8-f88272df6438",
   "metadata": {},
   "outputs": [],
   "source": []
  },
  {
   "cell_type": "code",
   "execution_count": 6,
   "id": "ed4ad533-bb09-4e6e-b124-ebd79e8e0408",
   "metadata": {},
   "outputs": [],
   "source": [
    "# question 6\n",
    "# print the first 10 Fibonacci numbers using a while loop."
   ]
  },
  {
   "cell_type": "code",
   "execution_count": 6,
   "id": "0a75dccc-902b-4c7a-9799-10b986a8d16f",
   "metadata": {},
   "outputs": [
    {
     "name": "stdout",
     "output_type": "stream",
     "text": [
      "0\n",
      "1\n",
      "1\n",
      "2\n",
      "3\n",
      "5\n",
      "8\n",
      "13\n",
      "21\n",
      "34\n"
     ]
    }
   ],
   "source": [
    "i = 1\n",
    "a, b = 0, 1\n",
    "\n",
    "while i<=10:\n",
    "    print(a)\n",
    "    a, b = b, a+b\n",
    "    i+=1"
   ]
  },
  {
   "cell_type": "code",
   "execution_count": null,
   "id": "c1edd099-0664-4051-89af-d4e4a14f630e",
   "metadata": {},
   "outputs": [],
   "source": []
  },
  {
   "cell_type": "code",
   "execution_count": 7,
   "id": "9fbb8358-e153-4a37-9d87-9513c585ffe5",
   "metadata": {},
   "outputs": [],
   "source": [
    "#question 7\n",
    "# Write a List Comprehension to iterate through the given string: ‘pwskills’. Expected output: ['p', 'w', 's', 'k', 'i', 'l', 'l', 's']"
   ]
  },
  {
   "cell_type": "code",
   "execution_count": 8,
   "id": "150aff07-ad36-4ac0-881b-2c92b9bff785",
   "metadata": {},
   "outputs": [
    {
     "name": "stdout",
     "output_type": "stream",
     "text": [
      "['p', 'w', 's', 'k', 'i', 'l', 'l', 's']\n"
     ]
    }
   ],
   "source": [
    "ans = [val for val in \"pwskills\"]\n",
    "print(ans)"
   ]
  },
  {
   "cell_type": "code",
   "execution_count": null,
   "id": "a423af08-c3f4-46a5-b31d-502400a41bbf",
   "metadata": {},
   "outputs": [],
   "source": []
  },
  {
   "cell_type": "code",
   "execution_count": null,
   "id": "faf208c6-e61d-4a95-b428-68b542a401ac",
   "metadata": {},
   "outputs": [],
   "source": [
    "#question 8\n",
    "# check whether a given number is Palindrome or not using a while loop."
   ]
  },
  {
   "cell_type": "code",
   "execution_count": 23,
   "id": "8ec59778-41c1-4df9-b36c-0f1a2baafcef",
   "metadata": {},
   "outputs": [
    {
     "name": "stdin",
     "output_type": "stream",
     "text": [
      "enter a number 7887\n"
     ]
    },
    {
     "name": "stdout",
     "output_type": "stream",
     "text": [
      "7887 is Palindrome\n"
     ]
    }
   ],
   "source": [
    "num=input(\"enter a number\")\n",
    "\n",
    "val=str(num)\n",
    "l=len(val)\n",
    "s, e=0, l-1\n",
    "ans=True\n",
    "\n",
    "while s<=e:\n",
    "    if val[s] != val[e]:\n",
    "        ans= False\n",
    "        break\n",
    "    s+=1\n",
    "    e-=1\n",
    "\n",
    "if ans:\n",
    "    print(val + \" is Palindrome\")\n",
    "else:\n",
    "    print(val + \" is not Palindrome\")"
   ]
  },
  {
   "cell_type": "code",
   "execution_count": null,
   "id": "8258753c-d96e-4df8-b7fc-b96c9cc7d979",
   "metadata": {},
   "outputs": [],
   "source": []
  },
  {
   "cell_type": "code",
   "execution_count": 24,
   "id": "785c1277-22d2-4a27-91bd-994feb70fd5c",
   "metadata": {},
   "outputs": [],
   "source": [
    "#question 9\n",
    "# to print odd numbers from 1 to 100 using list comprehension."
   ]
  },
  {
   "cell_type": "code",
   "execution_count": 25,
   "id": "286e22bb-6309-4902-8f68-9dc8bed5b232",
   "metadata": {},
   "outputs": [
    {
     "name": "stdout",
     "output_type": "stream",
     "text": [
      "[1, 3, 5, 7, 9, 11, 13, 15, 17, 19, 21, 23, 25, 27, 29, 31, 33, 35, 37, 39, 41, 43, 45, 47, 49, 51, 53, 55, 57, 59, 61, 63, 65, 67, 69, 71, 73, 75, 77, 79, 81, 83, 85, 87, 89, 91, 93, 95, 97, 99]\n"
     ]
    }
   ],
   "source": [
    "l = [x for x in range(101) if x%2 != 0]\n",
    "print(l)"
   ]
  },
  {
   "cell_type": "code",
   "execution_count": null,
   "id": "d9ab630b-ad73-40ea-9c3e-913feeaedcc0",
   "metadata": {},
   "outputs": [],
   "source": []
  }
 ],
 "metadata": {
  "kernelspec": {
   "display_name": "Python 3 (ipykernel)",
   "language": "python",
   "name": "python3"
  },
  "language_info": {
   "codemirror_mode": {
    "name": "ipython",
    "version": 3
   },
   "file_extension": ".py",
   "mimetype": "text/x-python",
   "name": "python",
   "nbconvert_exporter": "python",
   "pygments_lexer": "ipython3",
   "version": "3.10.8"
  }
 },
 "nbformat": 4,
 "nbformat_minor": 5
}
