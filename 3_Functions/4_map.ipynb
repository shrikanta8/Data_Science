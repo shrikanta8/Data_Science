{
 "cells": [
  {
   "cell_type": "code",
   "execution_count": 1,
   "id": "2f66019e-1981-46bd-87e1-4858e01cbd78",
   "metadata": {},
   "outputs": [],
   "source": [
    "l= [2,3,5,7,8,9]"
   ]
  },
  {
   "cell_type": "code",
   "execution_count": 2,
   "id": "40b21082-d5f7-49ab-9bf0-4f5949dc8648",
   "metadata": {},
   "outputs": [],
   "source": [
    "def test(l):\n",
    "    l1 = []\n",
    "    for i in l:\n",
    "        l1.append(i*i)\n",
    "    return l1"
   ]
  },
  {
   "cell_type": "code",
   "execution_count": 3,
   "id": "ba545176-b412-47a0-8fda-e656b27e3511",
   "metadata": {},
   "outputs": [
    {
     "data": {
      "text/plain": [
       "[4, 9, 25, 49, 64, 81]"
      ]
     },
     "execution_count": 3,
     "metadata": {},
     "output_type": "execute_result"
    }
   ],
   "source": [
    "test(l)"
   ]
  },
  {
   "cell_type": "code",
   "execution_count": null,
   "id": "55578050-e963-4a54-85ba-ee4f54b5175d",
   "metadata": {},
   "outputs": [],
   "source": []
  },
  {
   "cell_type": "code",
   "execution_count": 5,
   "id": "e5cc491e-2bc9-4120-a7e3-aff47b65f13e",
   "metadata": {},
   "outputs": [],
   "source": [
    "def sq(x):\n",
    "    return x ** 2"
   ]
  },
  {
   "cell_type": "code",
   "execution_count": 6,
   "id": "9891b4d4-ee14-43fb-a715-e23d1b6153a3",
   "metadata": {},
   "outputs": [
    {
     "data": {
      "text/plain": [
       "<map at 0x7fb1c00358d0>"
      ]
     },
     "execution_count": 6,
     "metadata": {},
     "output_type": "execute_result"
    }
   ],
   "source": [
    "map( sq, l )"
   ]
  },
  {
   "cell_type": "code",
   "execution_count": 7,
   "id": "76d35248-08a1-42f6-9936-00799f62dbae",
   "metadata": {},
   "outputs": [
    {
     "data": {
      "text/plain": [
       "[4, 9, 25, 49, 64, 81]"
      ]
     },
     "execution_count": 7,
     "metadata": {},
     "output_type": "execute_result"
    }
   ],
   "source": [
    "list(map( sq, l ))"
   ]
  },
  {
   "cell_type": "code",
   "execution_count": null,
   "id": "ceb3f693-cfe2-45fc-9cbc-0ca40aa0a43c",
   "metadata": {},
   "outputs": [],
   "source": []
  },
  {
   "cell_type": "code",
   "execution_count": 8,
   "id": "7a945a95-6182-4849-85e5-6c4c1884bfc2",
   "metadata": {},
   "outputs": [
    {
     "data": {
      "text/plain": [
       "[4, 9, 25, 49, 64, 81]"
      ]
     },
     "execution_count": 8,
     "metadata": {},
     "output_type": "execute_result"
    }
   ],
   "source": [
    "list( map(lambda x : x ** 2, l) )"
   ]
  },
  {
   "cell_type": "code",
   "execution_count": null,
   "id": "6c5e38e4-4a1b-414c-9c03-8a0e30a37ec4",
   "metadata": {},
   "outputs": [],
   "source": []
  },
  {
   "cell_type": "code",
   "execution_count": 11,
   "id": "42b8836e-5d55-4c6a-9b2a-aa401f94dac7",
   "metadata": {},
   "outputs": [
    {
     "data": {
      "text/plain": [
       "[7, 9, 11, 13, 15]"
      ]
     },
     "execution_count": 11,
     "metadata": {},
     "output_type": "execute_result"
    }
   ],
   "source": [
    "l1 = [1,2,3,4,5]\n",
    "l2 = [6,7,8,9,10]\n",
    "\n",
    "list(map( lambda x, y : x+y , l1, l2) )"
   ]
  },
  {
   "cell_type": "code",
   "execution_count": null,
   "id": "e12099cd-821d-4aae-8db2-01e54eeb2daa",
   "metadata": {},
   "outputs": [],
   "source": []
  },
  {
   "cell_type": "code",
   "execution_count": 12,
   "id": "78dfb206-6665-46ed-a2c0-6f566fbc81f9",
   "metadata": {},
   "outputs": [
    {
     "data": {
      "text/plain": [
       "[7, 9, 11, 13, 15]"
      ]
     },
     "execution_count": 12,
     "metadata": {},
     "output_type": "execute_result"
    }
   ],
   "source": [
    "def add(x,y):\n",
    "    return x+y\n",
    "\n",
    "list(map( add, l1, l2) )"
   ]
  },
  {
   "cell_type": "code",
   "execution_count": null,
   "id": "f926b5f7-9b75-4bdb-ad77-e5bd6837775a",
   "metadata": {},
   "outputs": [],
   "source": []
  },
  {
   "cell_type": "code",
   "execution_count": 17,
   "id": "bdabe2c0-4530-42d3-ad46-733e1bb50964",
   "metadata": {},
   "outputs": [
    {
     "data": {
      "text/plain": [
       "['S', 'H', 'R', 'I', 'J', 'I']"
      ]
     },
     "execution_count": 17,
     "metadata": {},
     "output_type": "execute_result"
    }
   ],
   "source": [
    "s = \"shriji\"\n",
    "\n",
    "list( map(lambda x: x.upper(), s) )"
   ]
  },
  {
   "cell_type": "code",
   "execution_count": null,
   "id": "65330cd6-2dec-4934-81b5-c22f90d8772e",
   "metadata": {},
   "outputs": [],
   "source": []
  }
 ],
 "metadata": {
  "kernelspec": {
   "display_name": "Python 3 (ipykernel)",
   "language": "python",
   "name": "python3"
  },
  "language_info": {
   "codemirror_mode": {
    "name": "ipython",
    "version": 3
   },
   "file_extension": ".py",
   "mimetype": "text/x-python",
   "name": "python",
   "nbconvert_exporter": "python",
   "pygments_lexer": "ipython3",
   "version": "3.10.8"
  }
 },
 "nbformat": 4,
 "nbformat_minor": 5
}
