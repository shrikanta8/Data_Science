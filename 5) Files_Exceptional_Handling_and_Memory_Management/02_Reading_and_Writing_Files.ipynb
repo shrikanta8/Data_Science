{
 "cells": [
  {
   "cell_type": "code",
   "execution_count": null,
   "id": "a6ace6dc-9ef5-4652-9774-f9174afbff62",
   "metadata": {},
   "outputs": [],
   "source": [
    "# json data"
   ]
  },
  {
   "cell_type": "code",
   "execution_count": 2,
   "id": "bd9176d7-a86f-4bb9-8cf9-9b4390ca7978",
   "metadata": {},
   "outputs": [],
   "source": [
    "data = {\n",
    "    \"name\": \"shri\",\n",
    "    \"mail_id\": \"shri@gmail.com\",\n",
    "    \"phone_number\": 9998887765,\n",
    "    \"subject\": [\"data science\",\"big data\",\"analytics\"]\n",
    "}"
   ]
  },
  {
   "cell_type": "code",
   "execution_count": 3,
   "id": "f7f18cd4-f053-4bf1-a56e-75259f6df13a",
   "metadata": {},
   "outputs": [],
   "source": [
    "import json"
   ]
  },
  {
   "cell_type": "code",
   "execution_count": 4,
   "id": "ca0f3dee-982e-4f1e-96d4-c63a2181e24c",
   "metadata": {},
   "outputs": [],
   "source": [
    "with open(\"data_file.json\",\"w\") as f:\n",
    "    json.dump(data, f)"
   ]
  },
  {
   "cell_type": "code",
   "execution_count": 7,
   "id": "69eabc18-e8f4-45f1-bd3d-0dc034d537df",
   "metadata": {},
   "outputs": [],
   "source": [
    "with open(\"data_file.json\",\"r\") as f:\n",
    "    data1 = json.load(f)"
   ]
  },
  {
   "cell_type": "code",
   "execution_count": 8,
   "id": "e19fb2c6-9df2-458f-b5cc-58535d06ece8",
   "metadata": {},
   "outputs": [
    {
     "data": {
      "text/plain": [
       "{'name': 'shri',\n",
       " 'mail_id': 'shri@gmail.com',\n",
       " 'phone_number': 9998887765,\n",
       " 'subject': ['data science', 'big data', 'analytics']}"
      ]
     },
     "execution_count": 8,
     "metadata": {},
     "output_type": "execute_result"
    }
   ],
   "source": [
    "data1"
   ]
  },
  {
   "cell_type": "code",
   "execution_count": 10,
   "id": "1ca929df-bf74-4716-86c2-42e7b40cb4f4",
   "metadata": {},
   "outputs": [
    {
     "data": {
      "text/plain": [
       "'big data'"
      ]
     },
     "execution_count": 10,
     "metadata": {},
     "output_type": "execute_result"
    }
   ],
   "source": [
    "data1[\"subject\"][1]"
   ]
  },
  {
   "cell_type": "code",
   "execution_count": null,
   "id": "95493529-8895-496c-9e5d-62dc237a7b83",
   "metadata": {},
   "outputs": [],
   "source": []
  },
  {
   "cell_type": "code",
   "execution_count": 11,
   "id": "65ceeddc-b924-48c5-80f9-f6efe1307d4c",
   "metadata": {},
   "outputs": [],
   "source": [
    "# comma seperated values(.csv data)"
   ]
  },
  {
   "cell_type": "code",
   "execution_count": 12,
   "id": "e6cb6fa5-571b-4d90-a277-e5e6786ab9cf",
   "metadata": {},
   "outputs": [],
   "source": [
    "import csv"
   ]
  },
  {
   "cell_type": "code",
   "execution_count": 13,
   "id": "62e64d81-1334-40f0-8c58-1e20a557b614",
   "metadata": {},
   "outputs": [],
   "source": [
    "data= [[\"name\",\"email_id\",\"phone_number\"],\n",
    "       [\"shri\",\"s@gmail.com\",8899889988],\n",
    "       [\"radhe\",\"r@gmail.com\",8877883377]\n",
    "]"
   ]
  },
  {
   "cell_type": "code",
   "execution_count": 15,
   "id": "da731c13-8cd0-4114-ac2a-828e27516af8",
   "metadata": {},
   "outputs": [],
   "source": [
    "with open(\"data.csv\",\"w\") as f:\n",
    "    writer = csv.writer(f)\n",
    "    \n",
    "    for i in data:\n",
    "        writer.writerow(i)"
   ]
  },
  {
   "cell_type": "code",
   "execution_count": 17,
   "id": "4073fc3c-c9e8-46c1-91ad-4dbb78a2757a",
   "metadata": {},
   "outputs": [
    {
     "name": "stdout",
     "output_type": "stream",
     "text": [
      "['name', 'email_id', 'phone_number']\n",
      "['shri', 's@gmail.com', '8899889988']\n",
      "['radhe', 'r@gmail.com', '8877883377']\n"
     ]
    }
   ],
   "source": [
    "with open(\"data.csv\",\"r\") as f:\n",
    "    read_data = csv.reader(f)\n",
    "    \n",
    "    for i in read_data:\n",
    "        print(i)"
   ]
  },
  {
   "cell_type": "code",
   "execution_count": null,
   "id": "a97997f4-41c0-4529-9ba5-028521af38d1",
   "metadata": {},
   "outputs": [],
   "source": []
  },
  {
   "cell_type": "code",
   "execution_count": 18,
   "id": "79fa9f61-4b15-4acc-8e07-1d3f5f8908b3",
   "metadata": {},
   "outputs": [],
   "source": [
    "# storing binary data"
   ]
  },
  {
   "cell_type": "code",
   "execution_count": 20,
   "id": "c056de36-4c2d-4ed4-862f-499ce643d933",
   "metadata": {},
   "outputs": [],
   "source": [
    "with open(\"test4.bin\",\"wb\") as f:\n",
    "    f.write(b\"\\x01\\x02\\x03\\x32455\")     \n",
    "\n",
    "#wb is write binary\n",
    "#data is in hexadecimal form\n",
    "# b => binary"
   ]
  },
  {
   "cell_type": "code",
   "execution_count": 21,
   "id": "768828e6-d454-43dd-99ad-d3fd51c0d83a",
   "metadata": {},
   "outputs": [
    {
     "name": "stdout",
     "output_type": "stream",
     "text": [
      "b'\\x01\\x02\\x032455'\n"
     ]
    }
   ],
   "source": [
    "with open(\"test4.bin\",\"rb\") as f:\n",
    "    print(f.read())"
   ]
  },
  {
   "cell_type": "code",
   "execution_count": null,
   "id": "346bb1cc-e91f-4ae7-8f6c-a24deea340d8",
   "metadata": {},
   "outputs": [],
   "source": []
  }
 ],
 "metadata": {
  "kernelspec": {
   "display_name": "Python 3 (ipykernel)",
   "language": "python",
   "name": "python3"
  },
  "language_info": {
   "codemirror_mode": {
    "name": "ipython",
    "version": 3
   },
   "file_extension": ".py",
   "mimetype": "text/x-python",
   "name": "python",
   "nbconvert_exporter": "python",
   "pygments_lexer": "ipython3",
   "version": "3.10.8"
  }
 },
 "nbformat": 4,
 "nbformat_minor": 5
}
