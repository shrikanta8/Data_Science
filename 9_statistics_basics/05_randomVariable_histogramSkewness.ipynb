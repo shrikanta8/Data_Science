{
 "cells": [
  {
   "cell_type": "code",
   "execution_count": 1,
   "id": "66eefd75-5bca-447a-a0e8-8cb2dea892c7",
   "metadata": {},
   "outputs": [],
   "source": [
    "# random variable:\n",
    "    # process of mapping the output of a random process or experiments to a number"
   ]
  },
  {
   "cell_type": "code",
   "execution_count": null,
   "id": "fab4c960-2e5b-4c8d-8bdd-c5949dadefdd",
   "metadata": {},
   "outputs": [],
   "source": [
    "# examples:\n",
    "\n",
    "# tossing a coin={0 if head, 1 if tail}\n",
    "# rolling a dice"
   ]
  },
  {
   "cell_type": "code",
   "execution_count": null,
   "id": "aa3f52ec-054a-40a8-98ac-f8a78db66e1f",
   "metadata": {},
   "outputs": [],
   "source": []
  },
  {
   "cell_type": "code",
   "execution_count": null,
   "id": "01207f9a-baae-465c-a648-ab1fcdf0a1d1",
   "metadata": {},
   "outputs": [],
   "source": []
  },
  {
   "cell_type": "code",
   "execution_count": 1,
   "id": "390f7b24-fefd-445f-9222-a98050ed9042",
   "metadata": {},
   "outputs": [],
   "source": [
    "# histogram skewness"
   ]
  },
  {
   "cell_type": "code",
   "execution_count": 3,
   "id": "b555e133-74a1-42ea-ab2d-c25ceae49cfd",
   "metadata": {},
   "outputs": [],
   "source": [
    "# 1) normal/gaussian distribution (symmetrical)\n",
    "#     mode == median == mean\n",
    "#     no skewness"
   ]
  },
  {
   "cell_type": "code",
   "execution_count": 4,
   "id": "cc298e7e-ff8e-4288-965b-d7636dd14087",
   "metadata": {},
   "outputs": [],
   "source": [
    "# 2) right/positive skewed (log normal distribution)\n",
    "#     mean >= median >= mode"
   ]
  },
  {
   "cell_type": "code",
   "execution_count": null,
   "id": "e47c44fa-fa57-41ec-bffa-5a3c5122f2f8",
   "metadata": {},
   "outputs": [],
   "source": [
    "# 3) left/negative skewed \n",
    "#     mean <= median <= mode"
   ]
  }
 ],
 "metadata": {
  "kernelspec": {
   "display_name": "Python 3 (ipykernel)",
   "language": "python",
   "name": "python3"
  },
  "language_info": {
   "codemirror_mode": {
    "name": "ipython",
    "version": 3
   },
   "file_extension": ".py",
   "mimetype": "text/x-python",
   "name": "python",
   "nbconvert_exporter": "python",
   "pygments_lexer": "ipython3",
   "version": "3.10.8"
  }
 },
 "nbformat": 4,
 "nbformat_minor": 5
}
