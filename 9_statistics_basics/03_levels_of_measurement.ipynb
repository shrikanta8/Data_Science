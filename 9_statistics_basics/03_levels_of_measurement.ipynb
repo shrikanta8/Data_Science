{
 "cells": [
  {
   "cell_type": "code",
   "execution_count": null,
   "id": "970020a8-c287-4bcb-ae60-845c6a73eb17",
   "metadata": {},
   "outputs": [],
   "source": [
    "# Scale of measurement\n",
    "#     1) Nominal scale data\n",
    "#     2) Ordinal scale data\n",
    "#     3) Interval scale data\n",
    "#     4) Ratio scale data"
   ]
  },
  {
   "cell_type": "code",
   "execution_count": null,
   "id": "d969b554-1a65-4fe4-a2dc-3e5e0019c370",
   "metadata": {},
   "outputs": [],
   "source": []
  },
  {
   "cell_type": "code",
   "execution_count": 1,
   "id": "34f38923-bf18-4539-8020-1d590ebc84d6",
   "metadata": {},
   "outputs": [],
   "source": [
    "# 1) Nominal scale data\n",
    "#      qualitative/categorical data\n",
    "#      order does not matter\n",
    "#      (gender, color)"
   ]
  },
  {
   "cell_type": "code",
   "execution_count": null,
   "id": "92740fbf-4df1-4992-817e-2f66b909fcf8",
   "metadata": {},
   "outputs": [],
   "source": [
    "# 2) Ordinal scale data\n",
    "#       order and rank matters\n",
    "#       difference can not be measured (by rank we can't get the difference)\n",
    "#       (customer feedback: bad,good,best)       "
   ]
  },
  {
   "cell_type": "code",
   "execution_count": null,
   "id": "7a09e8a3-8294-4fcd-80f6-b26370c6ad65",
   "metadata": {},
   "outputs": [],
   "source": [
    "# 3) Interval scale data\n",
    "#       order matters\n",
    "#       difference can be measured\n",
    "#       ratio can not be measured (ex. no meaning in ratio of temperature)\n",
    "#       no \"0\" starting point (ex. temp can be -ve also)\n",
    "#       (temprature variable) "
   ]
  },
  {
   "cell_type": "code",
   "execution_count": null,
   "id": "e418dc98-f462-4491-b625-d4c495ca729f",
   "metadata": {},
   "outputs": [],
   "source": [
    "# 4) Ratio scale data\n",
    "#       order matters\n",
    "#       difference is measurable (including ratio)\n",
    "#       contains a 0 starting point\n",
    "#       (students marks in a class)"
   ]
  },
  {
   "cell_type": "code",
   "execution_count": null,
   "id": "d774fb76-4ae3-4e59-96a7-66bb33f2deda",
   "metadata": {},
   "outputs": [],
   "source": []
  },
  {
   "cell_type": "code",
   "execution_count": null,
   "id": "6fda2657-cb67-49d4-a61d-60b4782347b8",
   "metadata": {},
   "outputs": [],
   "source": [
    "# examples:\n",
    "\n",
    "#     1) length of diff rivers in the world: ratio scale\n",
    "#     2) favourite food based on gender: nominal scale\n",
    "#     3) martial status: nominal scale\n",
    "#     4) IQ measurement: Ordinal"
   ]
  }
 ],
 "metadata": {
  "kernelspec": {
   "display_name": "Python 3 (ipykernel)",
   "language": "python",
   "name": "python3"
  },
  "language_info": {
   "codemirror_mode": {
    "name": "ipython",
    "version": 3
   },
   "file_extension": ".py",
   "mimetype": "text/x-python",
   "name": "python",
   "nbconvert_exporter": "python",
   "pygments_lexer": "ipython3",
   "version": "3.10.8"
  }
 },
 "nbformat": 4,
 "nbformat_minor": 5
}
