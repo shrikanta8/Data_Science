{
 "cells": [
  {
   "cell_type": "code",
   "execution_count": null,
   "id": "a25fceb4-2ed0-487e-bf4d-364e5c98552e",
   "metadata": {},
   "outputs": [],
   "source": [
    "# measure of dispersion (spread of the data)\n",
    "#     1) variance\n",
    "#     2) standard deviation"
   ]
  },
  {
   "cell_type": "code",
   "execution_count": null,
   "id": "fa343e9c-3318-4e8e-be97-4d28aa3360a7",
   "metadata": {},
   "outputs": [],
   "source": []
  },
  {
   "cell_type": "code",
   "execution_count": 1,
   "id": "051f41cd-6d5d-4fd6-bea1-a6f0badb9bb3",
   "metadata": {},
   "outputs": [],
   "source": [
    "import numpy as np"
   ]
  },
  {
   "cell_type": "code",
   "execution_count": 19,
   "id": "cea8c911-6c89-48c1-9671-5fc32fa61ec5",
   "metadata": {},
   "outputs": [],
   "source": [
    "ages = [23,45,43,34,23,35,41,22,44,32,41,19,10,18]"
   ]
  },
  {
   "cell_type": "code",
   "execution_count": 20,
   "id": "fc7c089e-bd35-4c4d-a0a5-6cacc78e7514",
   "metadata": {},
   "outputs": [
    {
     "data": {
      "text/plain": [
       "30.714285714285715"
      ]
     },
     "execution_count": 20,
     "metadata": {},
     "output_type": "execute_result"
    }
   ],
   "source": [
    "np.mean(ages)"
   ]
  },
  {
   "cell_type": "code",
   "execution_count": 21,
   "id": "579d43a6-f93a-44d2-8bf0-ac2ea732dab8",
   "metadata": {},
   "outputs": [
    {
     "data": {
      "text/plain": [
       "121.20408163265306"
      ]
     },
     "execution_count": 21,
     "metadata": {},
     "output_type": "execute_result"
    }
   ],
   "source": [
    "np.var(ages)"
   ]
  },
  {
   "cell_type": "code",
   "execution_count": 22,
   "id": "389f01de-821e-41f6-a662-e6659c91daba",
   "metadata": {},
   "outputs": [
    {
     "data": {
      "text/plain": [
       "11.00927252967484"
      ]
     },
     "execution_count": 22,
     "metadata": {},
     "output_type": "execute_result"
    }
   ],
   "source": [
    "np.std(ages)"
   ]
  },
  {
   "cell_type": "code",
   "execution_count": null,
   "id": "f22206cb-4ed0-4f39-b1b9-152f4582d31d",
   "metadata": {},
   "outputs": [],
   "source": []
  },
  {
   "cell_type": "code",
   "execution_count": 23,
   "id": "5b44b108-446f-45c1-b379-0571182ce6bb",
   "metadata": {},
   "outputs": [
    {
     "data": {
      "text/plain": [
       "<AxesSubplot: ylabel='Count'>"
      ]
     },
     "execution_count": 23,
     "metadata": {},
     "output_type": "execute_result"
    },
    {
     "data": {
      "image/png": "[encoded data removed]",
      "text/plain": [
       "<Figure size 640x480 with 1 Axes>"
      ]
     },
     "metadata": {},
     "output_type": "display_data"
    }
   ],
   "source": [
    "import seaborn as sns\n",
    "sns.histplot(ages,kde=True)"
   ]
  },
  {
   "cell_type": "code",
   "execution_count": null,
   "id": "e89096c6-38d8-4a5b-9f1e-fb1c89e4ae41",
   "metadata": {},
   "outputs": [],
   "source": []
  },
  {
   "cell_type": "code",
   "execution_count": 24,
   "id": "5b774b3a-f0bd-4cfe-80af-c5da348d14e7",
   "metadata": {},
   "outputs": [],
   "source": [
    "import pandas as pd"
   ]
  },
  {
   "cell_type": "code",
   "execution_count": 25,
   "id": "d919d7b5-c6a5-45f7-8c31-ce83640fdd09",
   "metadata": {},
   "outputs": [
    {
     "data": {
      "text/plain": [
       "[[10, 12, 14], [35, 32, 43], [44, 33, 22]]"
      ]
     },
     "execution_count": 25,
     "metadata": {},
     "output_type": "execute_result"
    }
   ],
   "source": [
    "data = [[10,12,14],[35,32,43],[44,33,22]]\n",
    "data"
   ]
  },
  {
   "cell_type": "code",
   "execution_count": 27,
   "id": "f45ba2bf-29a7-4bc9-a741-11912e30da69",
   "metadata": {},
   "outputs": [],
   "source": [
    "df = pd.DataFrame(data,columns=[\"A\",\"B\",\"C\"])"
   ]
  },
  {
   "cell_type": "code",
   "execution_count": 28,
   "id": "1deb7eaf-d20f-44c5-a234-685c9fad75df",
   "metadata": {},
   "outputs": [
    {
     "data": {
      "text/html": [
       "<div>\n",
       "<style scoped>\n",
       "    .dataframe tbody tr th:only-of-type {\n",
       "        vertical-align: middle;\n",
       "    }\n",
       "\n",
       "    .dataframe tbody tr th {\n",
       "        vertical-align: top;\n",
       "    }\n",
       "\n",
       "    .dataframe thead th {\n",
       "        text-align: right;\n",
       "    }\n",
       "</style>\n",
       "<table border=\"1\" class=\"dataframe\">\n",
       "  <thead>\n",
       "    <tr style=\"text-align: right;\">\n",
       "      <th></th>\n",
       "      <th>A</th>\n",
       "      <th>B</th>\n",
       "      <th>C</th>\n",
       "    </tr>\n",
       "  </thead>\n",
       "  <tbody>\n",
       "    <tr>\n",
       "      <th>0</th>\n",
       "      <td>10</td>\n",
       "      <td>12</td>\n",
       "      <td>14</td>\n",
       "    </tr>\n",
       "    <tr>\n",
       "      <th>1</th>\n",
       "      <td>35</td>\n",
       "      <td>32</td>\n",
       "      <td>43</td>\n",
       "    </tr>\n",
       "    <tr>\n",
       "      <th>2</th>\n",
       "      <td>44</td>\n",
       "      <td>33</td>\n",
       "      <td>22</td>\n",
       "    </tr>\n",
       "  </tbody>\n",
       "</table>\n",
       "</div>"
      ],
      "text/plain": [
       "    A   B   C\n",
       "0  10  12  14\n",
       "1  35  32  43\n",
       "2  44  33  22"
      ]
     },
     "execution_count": 28,
     "metadata": {},
     "output_type": "execute_result"
    }
   ],
   "source": [
    "df"
   ]
  },
  {
   "cell_type": "code",
   "execution_count": 29,
   "id": "19cf828a-a086-46a5-b616-f1425ad6c17b",
   "metadata": {},
   "outputs": [
    {
     "data": {
      "text/plain": [
       "A    310.333333\n",
       "B    140.333333\n",
       "C    224.333333\n",
       "dtype: float64"
      ]
     },
     "execution_count": 29,
     "metadata": {},
     "output_type": "execute_result"
    }
   ],
   "source": [
    "df.var()"
   ]
  },
  {
   "cell_type": "code",
   "execution_count": 30,
   "id": "a544f184-2c0a-4e85-a82b-5c4eb315a780",
   "metadata": {},
   "outputs": [
    {
     "data": {
      "text/plain": [
       "0      4.000000\n",
       "1     32.333333\n",
       "2    121.000000\n",
       "dtype: float64"
      ]
     },
     "execution_count": 30,
     "metadata": {},
     "output_type": "execute_result"
    }
   ],
   "source": [
    "df.var(axis=1)     #row wise"
   ]
  },
  {
   "cell_type": "code",
   "execution_count": null,
   "id": "9dafb883-7e8b-45ef-84a0-61a296fadf24",
   "metadata": {},
   "outputs": [],
   "source": []
  }
 ],
 "metadata": {
  "kernelspec": {
   "display_name": "Python 3 (ipykernel)",
   "language": "python",
   "name": "python3"
  },
  "language_info": {
   "codemirror_mode": {
    "name": "ipython",
    "version": 3
   },
   "file_extension": ".py",
   "mimetype": "text/x-python",
   "name": "python",
   "nbconvert_exporter": "python",
   "pygments_lexer": "ipython3",
   "version": "3.10.8"
  }
 },
 "nbformat": 4,
 "nbformat_minor": 5
}
