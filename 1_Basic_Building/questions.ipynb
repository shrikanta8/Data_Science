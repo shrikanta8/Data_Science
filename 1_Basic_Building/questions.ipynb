{
 "cells": [
  {
   "cell_type": "code",
   "execution_count": 1,
   "id": "4f0669f4-c53b-49fd-bc6a-4a16108ca098",
   "metadata": {},
   "outputs": [],
   "source": [
    "#Question 1"
   ]
  },
  {
   "cell_type": "code",
   "execution_count": 2,
   "id": "0e7c32cb-8a13-4613-86bf-fb10207388f8",
   "metadata": {},
   "outputs": [],
   "source": [
    "str = \"Shrikanta\""
   ]
  },
  {
   "cell_type": "code",
   "execution_count": 3,
   "id": "ab189ebc-708a-44f8-a481-85cb9276de20",
   "metadata": {},
   "outputs": [
    {
     "data": {
      "text/plain": [
       "'Shrikanta'"
      ]
     },
     "execution_count": 3,
     "metadata": {},
     "output_type": "execute_result"
    }
   ],
   "source": [
    "str"
   ]
  },
  {
   "cell_type": "code",
   "execution_count": 10,
   "id": "0ab2a900-91e8-44cc-8a98-68a14c486b30",
   "metadata": {},
   "outputs": [],
   "source": [
    "li = [3,70,\"hello\",9,8.9]"
   ]
  },
  {
   "cell_type": "code",
   "execution_count": 11,
   "id": "f9519d6a-9989-409b-a8b2-3108eb1c6c11",
   "metadata": {},
   "outputs": [
    {
     "data": {
      "text/plain": [
       "[3, 70, 'hello', 9, 8.9]"
      ]
     },
     "execution_count": 11,
     "metadata": {},
     "output_type": "execute_result"
    }
   ],
   "source": [
    "li"
   ]
  },
  {
   "cell_type": "code",
   "execution_count": 6,
   "id": "35b3f149-50f5-4dc2-9e73-b19d0903a513",
   "metadata": {},
   "outputs": [],
   "source": [
    "num_float = 9.9"
   ]
  },
  {
   "cell_type": "code",
   "execution_count": 7,
   "id": "06bc678f-9320-49a0-a69a-f802c1b42a42",
   "metadata": {},
   "outputs": [
    {
     "data": {
      "text/plain": [
       "9.9"
      ]
     },
     "execution_count": 7,
     "metadata": {},
     "output_type": "execute_result"
    }
   ],
   "source": [
    "num_float"
   ]
  },
  {
   "cell_type": "code",
   "execution_count": 8,
   "id": "07e0c94e-b0b5-44be-b8c7-766fe2840825",
   "metadata": {},
   "outputs": [],
   "source": [
    "tup = (4,\"apple\",9.9)"
   ]
  },
  {
   "cell_type": "code",
   "execution_count": 9,
   "id": "4f3225c6-2fa1-4339-ab12-2370c619dc5a",
   "metadata": {},
   "outputs": [
    {
     "data": {
      "text/plain": [
       "(4, 'apple', 9.9)"
      ]
     },
     "execution_count": 9,
     "metadata": {},
     "output_type": "execute_result"
    }
   ],
   "source": [
    "tup"
   ]
  },
  {
   "cell_type": "code",
   "execution_count": null,
   "id": "432b711c-9c11-4858-a426-dfc0ec17230d",
   "metadata": {},
   "outputs": [],
   "source": [
    "\n"
   ]
  },
  {
   "cell_type": "code",
   "execution_count": 12,
   "id": "e72f6e2c-cf41-4975-bf10-d5b14518198d",
   "metadata": {},
   "outputs": [],
   "source": [
    "#Question 2"
   ]
  },
  {
   "cell_type": "code",
   "execution_count": 13,
   "id": "36b80e6f-c91b-4fbf-bc80-a333a6f84ace",
   "metadata": {},
   "outputs": [],
   "source": [
    "var1=''\n",
    "#string type"
   ]
  },
  {
   "cell_type": "code",
   "execution_count": 15,
   "id": "2982c9ad-da8b-4b2c-8058-fb3eafb21af7",
   "metadata": {},
   "outputs": [],
   "source": [
    "var2='[ DS , ML , Python]'\n",
    "#string type"
   ]
  },
  {
   "cell_type": "code",
   "execution_count": 18,
   "id": "d41d48e3-f37b-425c-8361-2163cd6de749",
   "metadata": {},
   "outputs": [],
   "source": [
    "var3 = [ 'DS' , 'ML' , 'Python' ]\n",
    "#list type"
   ]
  },
  {
   "cell_type": "code",
   "execution_count": 22,
   "id": "819bec08-7a4f-4500-baf9-68172176047b",
   "metadata": {},
   "outputs": [],
   "source": [
    "var4=1\n",
    "#int type"
   ]
  },
  {
   "cell_type": "code",
   "execution_count": null,
   "id": "536c3ebc-b837-45d7-9ef4-a132f5f4f7dd",
   "metadata": {},
   "outputs": [],
   "source": []
  },
  {
   "cell_type": "code",
   "execution_count": 23,
   "id": "5265a02f-10d4-42f2-b34a-27872abb6cac",
   "metadata": {},
   "outputs": [],
   "source": [
    "#Question 3"
   ]
  },
  {
   "cell_type": "code",
   "execution_count": 30,
   "id": "afbb5708-0adf-465f-bf88-8451bd115d32",
   "metadata": {},
   "outputs": [
    {
     "data": {
      "text/plain": [
       "2.5"
      ]
     },
     "execution_count": 30,
     "metadata": {},
     "output_type": "execute_result"
    }
   ],
   "source": [
    "15/6"
   ]
  },
  {
   "cell_type": "code",
   "execution_count": 26,
   "id": "aaa8146e-a608-45b0-82ec-16d202dd9fc1",
   "metadata": {},
   "outputs": [
    {
     "data": {
      "text/plain": [
       "4.0"
      ]
     },
     "execution_count": 26,
     "metadata": {},
     "output_type": "execute_result"
    }
   ],
   "source": [
    "8/2"
   ]
  },
  {
   "cell_type": "code",
   "execution_count": 32,
   "id": "1429c3ed-9637-4043-ac44-9d35ac9dec68",
   "metadata": {},
   "outputs": [
    {
     "data": {
      "text/plain": [
       "1"
      ]
     },
     "execution_count": 32,
     "metadata": {},
     "output_type": "execute_result"
    }
   ],
   "source": [
    "16%3"
   ]
  },
  {
   "cell_type": "code",
   "execution_count": null,
   "id": "e413a770-1ed6-4658-adb0-ee229396f3c0",
   "metadata": {},
   "outputs": [],
   "source": [
    "12%6"
   ]
  },
  {
   "cell_type": "raw",
   "id": "09fc4a8d-fc0d-4d8b-be5c-942336b46ff2",
   "metadata": {},
   "source": [
    " // => floor division\n"
   ]
  },
  {
   "cell_type": "code",
   "execution_count": 29,
   "id": "6697b9c9-ad57-48da-b768-44ba79cd1280",
   "metadata": {},
   "outputs": [
    {
     "data": {
      "text/plain": [
       "2"
      ]
     },
     "execution_count": 29,
     "metadata": {},
     "output_type": "execute_result"
    }
   ],
   "source": [
    "15 // 6"
   ]
  },
  {
   "cell_type": "code",
   "execution_count": 35,
   "id": "010d48d6-6785-44db-b4b3-cee2b80064c2",
   "metadata": {},
   "outputs": [
    {
     "data": {
      "text/plain": [
       "4"
      ]
     },
     "execution_count": 35,
     "metadata": {},
     "output_type": "execute_result"
    }
   ],
   "source": [
    "8//2"
   ]
  },
  {
   "cell_type": "raw",
   "id": "60cc0946-cacc-4f5a-8b76-12bde26ac5ee",
   "metadata": {},
   "source": [
    "** => power"
   ]
  },
  {
   "cell_type": "code",
   "execution_count": 36,
   "id": "8f343ed0-11e2-4f1f-b093-eb3ef029a30c",
   "metadata": {},
   "outputs": [
    {
     "data": {
      "text/plain": [
       "32"
      ]
     },
     "execution_count": 36,
     "metadata": {},
     "output_type": "execute_result"
    }
   ],
   "source": [
    "2 ** 5"
   ]
  },
  {
   "cell_type": "code",
   "execution_count": 37,
   "id": "f6316526-ee4f-4d28-a7ba-41bea42dedab",
   "metadata": {},
   "outputs": [
    {
     "data": {
      "text/plain": [
       "1"
      ]
     },
     "execution_count": 37,
     "metadata": {},
     "output_type": "execute_result"
    }
   ],
   "source": [
    "5 ** 0"
   ]
  },
  {
   "cell_type": "code",
   "execution_count": null,
   "id": "f075a74c-d323-4702-94c3-bb4cadb4486f",
   "metadata": {},
   "outputs": [],
   "source": []
  },
  {
   "cell_type": "code",
   "execution_count": 38,
   "id": "269084e7-bacb-4721-8f32-4c7593ebfce7",
   "metadata": {},
   "outputs": [],
   "source": [
    "#Question 4\n"
   ]
  },
  {
   "cell_type": "code",
   "execution_count": 39,
   "id": "11b7511e-a043-48dd-82d9-c080e386161d",
   "metadata": {},
   "outputs": [],
   "source": [
    "l = [2,4,5,8,9.9,\"radhe\",2.0,0,1,\"shri\"]"
   ]
  },
  {
   "cell_type": "code",
   "execution_count": 40,
   "id": "fcd963ec-45c5-4bf0-beab-0b6ce28fbb37",
   "metadata": {},
   "outputs": [
    {
     "data": {
      "text/plain": [
       "[2, 4, 5, 8, 9.9, 'radhe', 2.0, 0, 1, 'shri']"
      ]
     },
     "execution_count": 40,
     "metadata": {},
     "output_type": "execute_result"
    }
   ],
   "source": [
    "l"
   ]
  },
  {
   "cell_type": "code",
   "execution_count": 46,
   "id": "a58db418-0f6f-4989-bdb4-42b5924000e6",
   "metadata": {},
   "outputs": [
    {
     "name": "stdout",
     "output_type": "stream",
     "text": [
      "2\n",
      "<class 'int'>\n",
      "4\n",
      "<class 'int'>\n",
      "5\n",
      "<class 'int'>\n",
      "8\n",
      "<class 'int'>\n",
      "9.9\n",
      "<class 'float'>\n",
      "radhe\n",
      "<class 'str'>\n",
      "2.0\n",
      "<class 'float'>\n",
      "0\n",
      "<class 'int'>\n",
      "1\n",
      "<class 'int'>\n",
      "shri\n",
      "<class 'str'>\n"
     ]
    }
   ],
   "source": [
    "for val in l:\n",
    "    print(val)\n",
    "    print(type(val))"
   ]
  },
  {
   "cell_type": "code",
   "execution_count": null,
   "id": "f2775e11-e460-46be-a2e1-181222430db6",
   "metadata": {},
   "outputs": [],
   "source": []
  },
  {
   "cell_type": "code",
   "execution_count": null,
   "id": "10d28296-d1c4-4a1e-bfee-4219b0430f89",
   "metadata": {},
   "outputs": [],
   "source": [
    "#Question 5"
   ]
  },
  {
   "cell_type": "code",
   "execution_count": 51,
   "id": "66a0e238-5632-44b4-8bb9-7cf072aeac3c",
   "metadata": {},
   "outputs": [
    {
     "name": "stdin",
     "output_type": "stream",
     "text": [
      " 22\n",
      " 2\n"
     ]
    },
    {
     "name": "stdout",
     "output_type": "stream",
     "text": [
      "11.0\n"
     ]
    }
   ],
   "source": [
    "A = int(input())\n",
    "B = int(input())\n",
    "\n",
    "while A%B==0:\n",
    "    print(A/B)\n",
    "    break"
   ]
  },
  {
   "cell_type": "code",
   "execution_count": null,
   "id": "cfdd81c6-4d14-4141-a494-e5e82db0ab64",
   "metadata": {},
   "outputs": [],
   "source": []
  },
  {
   "cell_type": "code",
   "execution_count": null,
   "id": "1d3528a8-f1e2-4234-82e9-3f0fac0235b0",
   "metadata": {},
   "outputs": [],
   "source": [
    "#Question 6"
   ]
  },
  {
   "cell_type": "code",
   "execution_count": 53,
   "id": "93fd8d4f-c2e0-43db-8482-20662a3b5e57",
   "metadata": {},
   "outputs": [],
   "source": [
    "num_list = list(range(25))"
   ]
  },
  {
   "cell_type": "code",
   "execution_count": 54,
   "id": "50a7e943-8d5a-4b28-93f5-3b8a95ecbb30",
   "metadata": {},
   "outputs": [
    {
     "data": {
      "text/plain": [
       "[0,\n",
       " 1,\n",
       " 2,\n",
       " 3,\n",
       " 4,\n",
       " 5,\n",
       " 6,\n",
       " 7,\n",
       " 8,\n",
       " 9,\n",
       " 10,\n",
       " 11,\n",
       " 12,\n",
       " 13,\n",
       " 14,\n",
       " 15,\n",
       " 16,\n",
       " 17,\n",
       " 18,\n",
       " 19,\n",
       " 20,\n",
       " 21,\n",
       " 22,\n",
       " 23,\n",
       " 24]"
      ]
     },
     "execution_count": 54,
     "metadata": {},
     "output_type": "execute_result"
    }
   ],
   "source": [
    "num_list"
   ]
  },
  {
   "cell_type": "code",
   "execution_count": 59,
   "id": "ba69d438-081b-4a57-ae61-8fea7b7b3bbb",
   "metadata": {},
   "outputs": [
    {
     "name": "stdout",
     "output_type": "stream",
     "text": [
      "0\n",
      "it is divisible by 3\n",
      "1\n",
      "it is not divisible by 3\n",
      "2\n",
      "it is not divisible by 3\n",
      "3\n",
      "it is divisible by 3\n",
      "4\n",
      "it is not divisible by 3\n",
      "5\n",
      "it is not divisible by 3\n",
      "6\n",
      "it is divisible by 3\n",
      "7\n",
      "it is not divisible by 3\n",
      "8\n",
      "it is not divisible by 3\n",
      "9\n",
      "it is divisible by 3\n",
      "10\n",
      "it is not divisible by 3\n",
      "11\n",
      "it is not divisible by 3\n",
      "12\n",
      "it is divisible by 3\n",
      "13\n",
      "it is not divisible by 3\n",
      "14\n",
      "it is not divisible by 3\n",
      "15\n",
      "it is divisible by 3\n",
      "16\n",
      "it is not divisible by 3\n",
      "17\n",
      "it is not divisible by 3\n",
      "18\n",
      "it is divisible by 3\n",
      "19\n",
      "it is not divisible by 3\n",
      "20\n",
      "it is not divisible by 3\n",
      "21\n",
      "it is divisible by 3\n",
      "22\n",
      "it is not divisible by 3\n",
      "23\n",
      "it is not divisible by 3\n",
      "24\n",
      "it is divisible by 3\n"
     ]
    }
   ],
   "source": [
    "for val in num_list:\n",
    "    print(val)\n",
    "    if val%3 == 0:\n",
    "        print(\"it is divisible by 3\")\n",
    "    else:\n",
    "        print(\"it is not divisible by 3\")"
   ]
  },
  {
   "cell_type": "code",
   "execution_count": null,
   "id": "3aa23ad4-17cb-4927-8889-f87c266620a4",
   "metadata": {},
   "outputs": [],
   "source": []
  },
  {
   "cell_type": "code",
   "execution_count": 60,
   "id": "dee222e6-c902-429a-b22b-197f26874d09",
   "metadata": {},
   "outputs": [],
   "source": [
    "#Question 7"
   ]
  },
  {
   "cell_type": "code",
   "execution_count": 61,
   "id": "a6f58f23-33ad-4f9b-a271-a16b2905fe40",
   "metadata": {},
   "outputs": [],
   "source": [
    "l = [3,6,7.8,\"shri\"]\n",
    "#list type"
   ]
  },
  {
   "cell_type": "code",
   "execution_count": 62,
   "id": "21d09498-086d-40da-9fb4-16289e062611",
   "metadata": {},
   "outputs": [
    {
     "data": {
      "text/plain": [
       "[3, 6, 7.8, 'shri']"
      ]
     },
     "execution_count": 62,
     "metadata": {},
     "output_type": "execute_result"
    }
   ],
   "source": [
    "l"
   ]
  },
  {
   "cell_type": "code",
   "execution_count": 63,
   "id": "914b8e12-26e2-48bc-888d-6cd9b0d6e6b1",
   "metadata": {},
   "outputs": [],
   "source": [
    "l[1] = 8.8\n"
   ]
  },
  {
   "cell_type": "code",
   "execution_count": 64,
   "id": "0ea8f708-a928-4a90-a0f7-8dec015f27ae",
   "metadata": {},
   "outputs": [
    {
     "data": {
      "text/plain": [
       "[3, 8.8, 7.8, 'shri']"
      ]
     },
     "execution_count": 64,
     "metadata": {},
     "output_type": "execute_result"
    }
   ],
   "source": [
    "l"
   ]
  },
  {
   "cell_type": "code",
   "execution_count": 70,
   "id": "a8e80f57-b522-4130-a09f-8654dc226b61",
   "metadata": {},
   "outputs": [],
   "source": [
    "#list is mutable object\n"
   ]
  },
  {
   "cell_type": "code",
   "execution_count": null,
   "id": "966c3938-ef50-4e77-90c8-b971deb280b1",
   "metadata": {},
   "outputs": [],
   "source": []
  },
  {
   "cell_type": "code",
   "execution_count": 66,
   "id": "77ea4e15-5e0d-4acb-98d5-5fc280e2aff7",
   "metadata": {},
   "outputs": [],
   "source": [
    "name = \"john\""
   ]
  },
  {
   "cell_type": "code",
   "execution_count": 67,
   "id": "fb1c8003-648e-4daa-99aa-73ecc1ece61f",
   "metadata": {},
   "outputs": [
    {
     "data": {
      "text/plain": [
       "'john'"
      ]
     },
     "execution_count": 67,
     "metadata": {},
     "output_type": "execute_result"
    }
   ],
   "source": [
    "name"
   ]
  },
  {
   "cell_type": "code",
   "execution_count": 69,
   "id": "30ab6dfe-c010-4927-af1c-8a7f44c34035",
   "metadata": {},
   "outputs": [
    {
     "ename": "TypeError",
     "evalue": "'str' object does not support item assignment",
     "output_type": "error",
     "traceback": [
      "\u001b[0;31m---------------------------------------------------------------------------\u001b[0m",
      "\u001b[0;31mTypeError\u001b[0m                                 Traceback (most recent call last)",
      "Cell \u001b[0;32mIn[69], line 1\u001b[0m\n\u001b[0;32m----> 1\u001b[0m \u001b[43mname\u001b[49m\u001b[43m[\u001b[49m\u001b[38;5;241;43m1\u001b[39;49m\u001b[43m]\u001b[49m \u001b[38;5;241m=\u001b[39m \u001b[38;5;124m\"\u001b[39m\u001b[38;5;124ma\u001b[39m\u001b[38;5;124m\"\u001b[39m\n",
      "\u001b[0;31mTypeError\u001b[0m: 'str' object does not support item assignment"
     ]
    }
   ],
   "source": [
    "name[1] = \"a\""
   ]
  },
  {
   "cell_type": "code",
   "execution_count": null,
   "id": "bebb9424-9873-45fe-aacb-bfd51bbc8a40",
   "metadata": {},
   "outputs": [],
   "source": [
    "#string is immutable object"
   ]
  }
 ],
 "metadata": {
  "kernelspec": {
   "display_name": "Python 3 (ipykernel)",
   "language": "python",
   "name": "python3"
  },
  "language_info": {
   "codemirror_mode": {
    "name": "ipython",
    "version": 3
   },
   "file_extension": ".py",
   "mimetype": "text/x-python",
   "name": "python",
   "nbconvert_exporter": "python",
   "pygments_lexer": "ipython3",
   "version": "3.10.8"
  }
 },
 "nbformat": 4,
 "nbformat_minor": 5
}
