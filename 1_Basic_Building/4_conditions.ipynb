{
 "cells": [
  {
   "cell_type": "code",
   "execution_count": 2,
   "id": "61d82bf3-ce0b-45a5-a68b-2381743acfc3",
   "metadata": {},
   "outputs": [
    {
     "name": "stdout",
     "output_type": "stream",
     "text": [
      "yess\n"
     ]
    }
   ],
   "source": [
    "a=30\n",
    "if a<40:\n",
    "    print(\"yess\")\n"
   ]
  },
  {
   "cell_type": "code",
   "execution_count": 5,
   "id": "34464672-448c-45be-a729-4ab18632aa75",
   "metadata": {},
   "outputs": [
    {
     "name": "stdout",
     "output_type": "stream",
     "text": [
      "noo\n"
     ]
    }
   ],
   "source": [
    "a=30\n",
    "if a>70:\n",
    "    print(\"yess\")\n",
    "elif a<70:\n",
    "    print(\"noo\")\n",
    "else:\n",
    "    print(\"i am default\")"
   ]
  },
  {
   "cell_type": "code",
   "execution_count": null,
   "id": "4266a5ce-3f11-4000-85f8-924918e83431",
   "metadata": {},
   "outputs": [],
   "source": []
  },
  {
   "cell_type": "code",
   "execution_count": 9,
   "id": "12840f36-f0fe-4506-8596-792595f341ec",
   "metadata": {},
   "outputs": [
    {
     "name": "stdin",
     "output_type": "stream",
     "text": [
      " 22\n"
     ]
    },
    {
     "data": {
      "text/plain": [
       "'22'"
      ]
     },
     "execution_count": 9,
     "metadata": {},
     "output_type": "execute_result"
    }
   ],
   "source": [
    "input()\n"
   ]
  },
  {
   "cell_type": "code",
   "execution_count": null,
   "id": "15859d26-c3e3-40b2-a2db-7f8ef9cce11a",
   "metadata": {},
   "outputs": [],
   "source": [
    "#input() result is string always"
   ]
  },
  {
   "cell_type": "code",
   "execution_count": 12,
   "id": "91e786aa-3412-4188-a417-f4b3e8dd0fc5",
   "metadata": {},
   "outputs": [
    {
     "name": "stdin",
     "output_type": "stream",
     "text": [
      " 222\n"
     ]
    },
    {
     "name": "stdout",
     "output_type": "stream",
     "text": [
      "yess\n"
     ]
    }
   ],
   "source": [
    "b = int(input())\n",
    "\n",
    "if b>70:\n",
    "    print(\"yess\")\n",
    "elif b>190:\n",
    "    print(\"noo\")\n",
    "else:\n",
    "    print(\"i am default\")"
   ]
  },
  {
   "cell_type": "code",
   "execution_count": null,
   "id": "955a8d5d-f817-43b5-a92c-6d9e242d03b0",
   "metadata": {},
   "outputs": [],
   "source": []
  },
  {
   "cell_type": "code",
   "execution_count": 14,
   "id": "c2f80d7e-0f67-4d1d-93f8-4841b0993d3a",
   "metadata": {},
   "outputs": [
    {
     "name": "stdout",
     "output_type": "stream",
     "text": [
      "1\n",
      "2\n",
      "3\n"
     ]
    }
   ],
   "source": [
    "n=4\n",
    "i=1\n",
    "\n",
    "while i<n:\n",
    "    print(i)\n",
    "    i+=1"
   ]
  },
  {
   "cell_type": "code",
   "execution_count": 15,
   "id": "520e8758-86c0-43ec-a964-3d937d733310",
   "metadata": {},
   "outputs": [
    {
     "name": "stdout",
     "output_type": "stream",
     "text": [
      "1\n",
      "2\n",
      "3\n",
      "i am elsee\n"
     ]
    }
   ],
   "source": [
    "n=4\n",
    "i=1\n",
    "\n",
    "while i<n:\n",
    "    print(i)\n",
    "    i+=1\n",
    "else:\n",
    "    print(\"i am elsee\")"
   ]
  },
  {
   "cell_type": "code",
   "execution_count": 16,
   "id": "48a7a035-be56-4200-b7c6-87ac99da486d",
   "metadata": {},
   "outputs": [],
   "source": [
    "#else only works when while is successfully executed (naturally gets completed)"
   ]
  },
  {
   "cell_type": "code",
   "execution_count": 17,
   "id": "0e91da8b-7927-482e-a9c9-80dfca526c0d",
   "metadata": {},
   "outputs": [
    {
     "name": "stdout",
     "output_type": "stream",
     "text": [
      "1\n",
      "2\n"
     ]
    }
   ],
   "source": [
    "n=4\n",
    "i=1\n",
    "\n",
    "while i<n:\n",
    "    print(i)\n",
    "    i+=1\n",
    "    if i==3:\n",
    "        break\n",
    "else:\n",
    "    print(\"i am elsee\")"
   ]
  },
  {
   "cell_type": "code",
   "execution_count": null,
   "id": "0b6ca804-b709-420b-8904-2ba64758346d",
   "metadata": {},
   "outputs": [],
   "source": []
  },
  {
   "cell_type": "code",
   "execution_count": 18,
   "id": "3cbff147-a378-4cdc-a459-671d4142b192",
   "metadata": {},
   "outputs": [
    {
     "name": "stdout",
     "output_type": "stream",
     "text": [
      "s\n",
      "h\n",
      "r\n",
      "i\n"
     ]
    }
   ],
   "source": [
    "str = \"shri\"\n",
    "for i in str:\n",
    "    print(i)"
   ]
  },
  {
   "cell_type": "code",
   "execution_count": 1,
   "id": "843498fb-fbc7-4f7b-a146-d86e0f246204",
   "metadata": {},
   "outputs": [
    {
     "name": "stdout",
     "output_type": "stream",
     "text": [
      "<class 'int'>\n",
      "<class 'int'>\n",
      "<class 'int'>\n",
      "<class 'str'>\n",
      "<class 'float'>\n"
     ]
    }
   ],
   "source": [
    "l = [3,5,9,\"shri\",5.5]\n",
    "for i in l:\n",
    "    print(type(i))"
   ]
  },
  {
   "cell_type": "code",
   "execution_count": null,
   "id": "50048c0e-dabb-4018-898c-b59caeec3479",
   "metadata": {},
   "outputs": [],
   "source": []
  },
  {
   "cell_type": "code",
   "execution_count": 5,
   "id": "675bfe8c-7f2d-4012-90ff-48d797c84ad5",
   "metadata": {},
   "outputs": [
    {
     "name": "stdout",
     "output_type": "stream",
     "text": [
      "<class 'int'>\n",
      "<class 'int'>\n",
      "<class 'int'>\n"
     ]
    }
   ],
   "source": [
    "l = [3,5,9,\"shri\",5.5]\n",
    "for i in l:\n",
    "    print(type(i))\n",
    "    if i == 9:\n",
    "        break\n",
    "else:\n",
    "    print(\"for loop executed successfully\")"
   ]
  },
  {
   "cell_type": "code",
   "execution_count": null,
   "id": "64b23997-fc7f-443a-a165-583bdfeae501",
   "metadata": {},
   "outputs": [],
   "source": []
  },
  {
   "cell_type": "code",
   "execution_count": null,
   "id": "d14d5165-3ee4-45bd-854c-af8cb3e5aec6",
   "metadata": {},
   "outputs": [],
   "source": []
  },
  {
   "cell_type": "code",
   "execution_count": 7,
   "id": "69854e7b-15b8-4a14-8bc3-b8985b2fc300",
   "metadata": {},
   "outputs": [
    {
     "data": {
      "text/plain": [
       "range(0, 10)"
      ]
     },
     "execution_count": 7,
     "metadata": {},
     "output_type": "execute_result"
    }
   ],
   "source": [
    "range(10)"
   ]
  },
  {
   "cell_type": "code",
   "execution_count": 8,
   "id": "3c4d3eb1-e07d-40f7-8148-9bc6cb0b515c",
   "metadata": {},
   "outputs": [
    {
     "data": {
      "text/plain": [
       "[0, 1, 2, 3, 4, 5, 6, 7, 8, 9]"
      ]
     },
     "execution_count": 8,
     "metadata": {},
     "output_type": "execute_result"
    }
   ],
   "source": [
    "list(range(10))"
   ]
  },
  {
   "cell_type": "code",
   "execution_count": 9,
   "id": "8866da6c-05c7-4ffb-8aea-fd72b211dec0",
   "metadata": {},
   "outputs": [],
   "source": [
    "l = list(range(10))"
   ]
  },
  {
   "cell_type": "code",
   "execution_count": 10,
   "id": "e585de77-0a6a-4a8b-8402-06885185ed70",
   "metadata": {},
   "outputs": [
    {
     "data": {
      "text/plain": [
       "[0, 1, 2, 3, 4, 5, 6, 7, 8, 9]"
      ]
     },
     "execution_count": 10,
     "metadata": {},
     "output_type": "execute_result"
    }
   ],
   "source": [
    "l"
   ]
  },
  {
   "cell_type": "code",
   "execution_count": 11,
   "id": "b0978dc4-4ee9-4641-b532-69bc21adcea2",
   "metadata": {},
   "outputs": [
    {
     "data": {
      "text/plain": [
       "int"
      ]
     },
     "execution_count": 11,
     "metadata": {},
     "output_type": "execute_result"
    }
   ],
   "source": [
    "type(l[0])"
   ]
  },
  {
   "cell_type": "code",
   "execution_count": null,
   "id": "7a7cdf9b-e455-498a-8d21-72885187c3b3",
   "metadata": {},
   "outputs": [],
   "source": []
  }
 ],
 "metadata": {
  "kernelspec": {
   "display_name": "Python 3 (ipykernel)",
   "language": "python",
   "name": "python3"
  },
  "language_info": {
   "codemirror_mode": {
    "name": "ipython",
    "version": 3
   },
   "file_extension": ".py",
   "mimetype": "text/x-python",
   "name": "python",
   "nbconvert_exporter": "python",
   "pygments_lexer": "ipython3",
   "version": "3.10.8"
  }
 },
 "nbformat": 4,
 "nbformat_minor": 5
}
