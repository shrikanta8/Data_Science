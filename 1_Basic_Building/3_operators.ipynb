{
 "cells": [
  {
   "cell_type": "code",
   "execution_count": 2,
   "id": "1fb1a3c4-442b-46dd-96c6-73f322dcbeec",
   "metadata": {},
   "outputs": [
    {
     "data": {
      "text/plain": [
       "1.5"
      ]
     },
     "execution_count": 2,
     "metadata": {},
     "output_type": "execute_result"
    }
   ],
   "source": [
    "6/4"
   ]
  },
  {
   "cell_type": "code",
   "execution_count": 3,
   "id": "2610c0c5-10ad-40e3-a1ad-47eca871b2a8",
   "metadata": {},
   "outputs": [
    {
     "data": {
      "text/plain": [
       "1"
      ]
     },
     "execution_count": 3,
     "metadata": {},
     "output_type": "execute_result"
    }
   ],
   "source": [
    "6//4"
   ]
  },
  {
   "cell_type": "markdown",
   "id": "5ba2c8b1-d0e9-44f5-aa56-25d7ee760634",
   "metadata": {},
   "source": [
    "// does floor division"
   ]
  },
  {
   "cell_type": "code",
   "execution_count": 4,
   "id": "ad7df377-a7b3-49a7-ba42-688e1bb8a98e",
   "metadata": {},
   "outputs": [
    {
     "data": {
      "text/plain": [
       "32"
      ]
     },
     "execution_count": 4,
     "metadata": {},
     "output_type": "execute_result"
    }
   ],
   "source": [
    "2**5"
   ]
  },
  {
   "cell_type": "code",
   "execution_count": null,
   "id": "9b65bfd5-b7ec-444c-98f4-3fd822c73ded",
   "metadata": {},
   "outputs": [],
   "source": []
  },
  {
   "cell_type": "code",
   "execution_count": 5,
   "id": "2ec6647b-27e9-47c7-886b-281bb850a21b",
   "metadata": {},
   "outputs": [
    {
     "data": {
      "text/plain": [
       "True"
      ]
     },
     "execution_count": 5,
     "metadata": {},
     "output_type": "execute_result"
    }
   ],
   "source": [
    "not False"
   ]
  },
  {
   "cell_type": "code",
   "execution_count": 6,
   "id": "e2978d14-9248-4514-9bfb-54db744b267f",
   "metadata": {},
   "outputs": [
    {
     "data": {
      "text/plain": [
       "False"
      ]
     },
     "execution_count": 6,
     "metadata": {},
     "output_type": "execute_result"
    }
   ],
   "source": [
    "not 1"
   ]
  },
  {
   "cell_type": "code",
   "execution_count": 7,
   "id": "fa045e85-c153-4647-bb50-72027e9d8350",
   "metadata": {},
   "outputs": [
    {
     "data": {
      "text/plain": [
       "1"
      ]
     },
     "execution_count": 7,
     "metadata": {},
     "output_type": "execute_result"
    }
   ],
   "source": [
    "1 or 0"
   ]
  },
  {
   "cell_type": "code",
   "execution_count": 8,
   "id": "8983b9ff-07c2-4e62-86ee-909d8ac5bf25",
   "metadata": {},
   "outputs": [
    {
     "data": {
      "text/plain": [
       "0"
      ]
     },
     "execution_count": 8,
     "metadata": {},
     "output_type": "execute_result"
    }
   ],
   "source": [
    "0 and 1"
   ]
  },
  {
   "cell_type": "code",
   "execution_count": null,
   "id": "ad09310d-300c-4f2c-bed4-1e934f68fc99",
   "metadata": {},
   "outputs": [],
   "source": []
  },
  {
   "cell_type": "code",
   "execution_count": 9,
   "id": "437eaf09-5c72-47b7-8a34-d338a426eab0",
   "metadata": {},
   "outputs": [],
   "source": [
    "#bitwise op"
   ]
  },
  {
   "cell_type": "code",
   "execution_count": 10,
   "id": "a8d46b96-bd69-47ac-bae6-8e09bf3b5e3b",
   "metadata": {},
   "outputs": [
    {
     "data": {
      "text/plain": [
       "2"
      ]
     },
     "execution_count": 10,
     "metadata": {},
     "output_type": "execute_result"
    }
   ],
   "source": [
    "10 & 7"
   ]
  },
  {
   "cell_type": "code",
   "execution_count": 11,
   "id": "7a58101d-90fd-4e0b-b890-8064025762c9",
   "metadata": {},
   "outputs": [
    {
     "data": {
      "text/plain": [
       "'0b1010'"
      ]
     },
     "execution_count": 11,
     "metadata": {},
     "output_type": "execute_result"
    }
   ],
   "source": [
    "bin(10)"
   ]
  },
  {
   "cell_type": "code",
   "execution_count": 1,
   "id": "d1d55ff1-7823-4257-94c8-5c5cad64679b",
   "metadata": {},
   "outputs": [
    {
     "data": {
      "text/plain": [
       "'0b111'"
      ]
     },
     "execution_count": 1,
     "metadata": {},
     "output_type": "execute_result"
    }
   ],
   "source": [
    "bin(7)"
   ]
  },
  {
   "cell_type": "code",
   "execution_count": 2,
   "id": "e31f0a73-ffc8-40a9-adb3-14011d5df6ae",
   "metadata": {},
   "outputs": [
    {
     "data": {
      "text/plain": [
       "15"
      ]
     },
     "execution_count": 2,
     "metadata": {},
     "output_type": "execute_result"
    }
   ],
   "source": [
    "11 | 7\n"
   ]
  },
  {
   "cell_type": "code",
   "execution_count": 3,
   "id": "4fa6f94c-2b51-4d83-96be-a121d727d175",
   "metadata": {},
   "outputs": [
    {
     "data": {
      "text/plain": [
       "'0b1011'"
      ]
     },
     "execution_count": 3,
     "metadata": {},
     "output_type": "execute_result"
    }
   ],
   "source": [
    "bin(11)"
   ]
  },
  {
   "cell_type": "code",
   "execution_count": 4,
   "id": "6e90248e-4f28-4ee8-9778-2175f871bb62",
   "metadata": {},
   "outputs": [
    {
     "data": {
      "text/plain": [
       "'0b111'"
      ]
     },
     "execution_count": 4,
     "metadata": {},
     "output_type": "execute_result"
    }
   ],
   "source": [
    "bin(7)"
   ]
  },
  {
   "cell_type": "code",
   "execution_count": 5,
   "id": "2c3f2059-6336-4d6c-8a82-f0a2d386b5c0",
   "metadata": {},
   "outputs": [
    {
     "data": {
      "text/plain": [
       "-6"
      ]
     },
     "execution_count": 5,
     "metadata": {},
     "output_type": "execute_result"
    }
   ],
   "source": [
    "~5"
   ]
  },
  {
   "cell_type": "code",
   "execution_count": null,
   "id": "694dc03c-8054-44af-90a9-eca3f78d0e92",
   "metadata": {},
   "outputs": [],
   "source": []
  },
  {
   "cell_type": "code",
   "execution_count": 6,
   "id": "c0a718b3-30e5-4294-82d6-2dffaec808ea",
   "metadata": {},
   "outputs": [],
   "source": [
    "a=10\n"
   ]
  },
  {
   "cell_type": "code",
   "execution_count": 7,
   "id": "d00d9c58-663c-4078-b8c5-3c1c8ccdc921",
   "metadata": {},
   "outputs": [
    {
     "data": {
      "text/plain": [
       "2"
      ]
     },
     "execution_count": 7,
     "metadata": {},
     "output_type": "execute_result"
    }
   ],
   "source": [
    "a>>2"
   ]
  },
  {
   "cell_type": "code",
   "execution_count": 8,
   "id": "2eebddbc-8c6a-4576-a48f-ded696fcc7b8",
   "metadata": {},
   "outputs": [],
   "source": [
    "b=12"
   ]
  },
  {
   "cell_type": "code",
   "execution_count": 9,
   "id": "e55ef7c7-17fb-4c7b-8d91-3b036660a4ca",
   "metadata": {},
   "outputs": [
    {
     "data": {
      "text/plain": [
       "3"
      ]
     },
     "execution_count": 9,
     "metadata": {},
     "output_type": "execute_result"
    }
   ],
   "source": [
    "b>>2"
   ]
  },
  {
   "cell_type": "code",
   "execution_count": null,
   "id": "bf795e38-cce5-4e63-be8d-f5ebddb8628a",
   "metadata": {},
   "outputs": [],
   "source": []
  },
  {
   "cell_type": "code",
   "execution_count": 10,
   "id": "fef04f94-38a1-49db-9919-418d338c6719",
   "metadata": {},
   "outputs": [],
   "source": [
    "d=6"
   ]
  },
  {
   "cell_type": "code",
   "execution_count": 11,
   "id": "d91ad3ff-3d76-4b01-8c56-6797d1811128",
   "metadata": {},
   "outputs": [],
   "source": [
    "d += 2"
   ]
  },
  {
   "cell_type": "code",
   "execution_count": 12,
   "id": "57bad045-701f-4f1d-b25d-4d55c57effdd",
   "metadata": {},
   "outputs": [
    {
     "data": {
      "text/plain": [
       "8"
      ]
     },
     "execution_count": 12,
     "metadata": {},
     "output_type": "execute_result"
    }
   ],
   "source": [
    "d"
   ]
  },
  {
   "cell_type": "code",
   "execution_count": null,
   "id": "07158f9f-8f30-4ffe-a3ca-c7b87058034d",
   "metadata": {},
   "outputs": [],
   "source": []
  }
 ],
 "metadata": {
  "kernelspec": {
   "display_name": "Python 3 (ipykernel)",
   "language": "python",
   "name": "python3"
  },
  "language_info": {
   "codemirror_mode": {
    "name": "ipython",
    "version": 3
   },
   "file_extension": ".py",
   "mimetype": "text/x-python",
   "name": "python",
   "nbconvert_exporter": "python",
   "pygments_lexer": "ipython3",
   "version": "3.10.8"
  }
 },
 "nbformat": 4,
 "nbformat_minor": 5
}
