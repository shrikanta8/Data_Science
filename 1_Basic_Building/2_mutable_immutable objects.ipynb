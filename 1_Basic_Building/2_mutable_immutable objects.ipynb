{
 "cells": [
  {
   "cell_type": "code",
   "execution_count": 1,
   "id": "cda45a79-496d-4af1-b6f4-8ddc6c922b8e",
   "metadata": {},
   "outputs": [],
   "source": [
    "l = [3,6,7.8,\"shri\"]\n"
   ]
  },
  {
   "cell_type": "code",
   "execution_count": 2,
   "id": "1abeb241-0224-4960-a109-a9a70b9af67f",
   "metadata": {},
   "outputs": [
    {
     "data": {
      "text/plain": [
       "list"
      ]
     },
     "execution_count": 2,
     "metadata": {},
     "output_type": "execute_result"
    }
   ],
   "source": [
    "type(l)"
   ]
  },
  {
   "cell_type": "code",
   "execution_count": 3,
   "id": "14f7d1bf-ef51-47cd-9fc3-5ca42f3dc94d",
   "metadata": {},
   "outputs": [
    {
     "data": {
      "text/plain": [
       "6"
      ]
     },
     "execution_count": 3,
     "metadata": {},
     "output_type": "execute_result"
    }
   ],
   "source": [
    "l[1]\n"
   ]
  },
  {
   "cell_type": "code",
   "execution_count": 4,
   "id": "7bc450b1-f324-4c96-9666-338cd274ece7",
   "metadata": {},
   "outputs": [],
   "source": [
    "l[1] = \"radhe\""
   ]
  },
  {
   "cell_type": "code",
   "execution_count": 5,
   "id": "3aa7982f-6069-4dd1-abd2-4610c9bac54e",
   "metadata": {},
   "outputs": [
    {
     "data": {
      "text/plain": [
       "[3, 'radhe', 7.8, 'shri']"
      ]
     },
     "execution_count": 5,
     "metadata": {},
     "output_type": "execute_result"
    }
   ],
   "source": [
    "l"
   ]
  },
  {
   "cell_type": "code",
   "execution_count": null,
   "id": "3d88dcc8-19bd-4810-bce1-6904c1e1a7a5",
   "metadata": {},
   "outputs": [],
   "source": []
  },
  {
   "cell_type": "code",
   "execution_count": 6,
   "id": "4d64b263-0800-47e8-ab6c-3b58036d5b7a",
   "metadata": {},
   "outputs": [],
   "source": [
    "str = \"apple\""
   ]
  },
  {
   "cell_type": "code",
   "execution_count": 7,
   "id": "a0691070-1717-4ee7-ba23-7cb9eff90f08",
   "metadata": {},
   "outputs": [
    {
     "data": {
      "text/plain": [
       "'apple'"
      ]
     },
     "execution_count": 7,
     "metadata": {},
     "output_type": "execute_result"
    }
   ],
   "source": [
    "str"
   ]
  },
  {
   "cell_type": "code",
   "execution_count": 8,
   "id": "cdab5711-9d27-4087-916a-30c94be566be",
   "metadata": {},
   "outputs": [
    {
     "data": {
      "text/plain": [
       "'p'"
      ]
     },
     "execution_count": 8,
     "metadata": {},
     "output_type": "execute_result"
    }
   ],
   "source": [
    "str[1]"
   ]
  },
  {
   "cell_type": "code",
   "execution_count": 9,
   "id": "5ef480be-7f27-4445-8cd1-b939c177e177",
   "metadata": {},
   "outputs": [
    {
     "ename": "TypeError",
     "evalue": "'str' object does not support item assignment",
     "output_type": "error",
     "traceback": [
      "\u001b[0;31m---------------------------------------------------------------------------\u001b[0m",
      "\u001b[0;31mTypeError\u001b[0m                                 Traceback (most recent call last)",
      "Cell \u001b[0;32mIn[9], line 1\u001b[0m\n\u001b[0;32m----> 1\u001b[0m \u001b[38;5;28;43mstr\u001b[39;49m\u001b[43m[\u001b[49m\u001b[38;5;241;43m1\u001b[39;49m\u001b[43m]\u001b[49m \u001b[38;5;241m=\u001b[39m \u001b[38;5;124m\"\u001b[39m\u001b[38;5;124mk\u001b[39m\u001b[38;5;124m\"\u001b[39m\n",
      "\u001b[0;31mTypeError\u001b[0m: 'str' object does not support item assignment"
     ]
    }
   ],
   "source": [
    "str[1] = \"k\""
   ]
  },
  {
   "cell_type": "code",
   "execution_count": 10,
   "id": "1a68cf61-3c84-4a2b-88f5-773a3a7818a6",
   "metadata": {},
   "outputs": [],
   "source": [
    "#string is immutable object"
   ]
  },
  {
   "cell_type": "code",
   "execution_count": 11,
   "id": "31af4f25-d2ff-4996-b583-b841ae5841aa",
   "metadata": {},
   "outputs": [],
   "source": [
    "#list is mutable object\n"
   ]
  },
  {
   "cell_type": "code",
   "execution_count": null,
   "id": "0f0bebbf-88ba-45e3-88af-711194ebd71c",
   "metadata": {},
   "outputs": [],
   "source": [
    "#mutablity concept comes when we change on index"
   ]
  }
 ],
 "metadata": {
  "kernelspec": {
   "display_name": "Python 3 (ipykernel)",
   "language": "python",
   "name": "python3"
  },
  "language_info": {
   "codemirror_mode": {
    "name": "ipython",
    "version": 3
   },
   "file_extension": ".py",
   "mimetype": "text/x-python",
   "name": "python",
   "nbconvert_exporter": "python",
   "pygments_lexer": "ipython3",
   "version": "3.10.8"
  }
 },
 "nbformat": 4,
 "nbformat_minor": 5
}
