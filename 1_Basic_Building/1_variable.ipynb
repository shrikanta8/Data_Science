{
 "cells": [
  {
   "cell_type": "code",
   "execution_count": 1,
   "id": "6e6dc2c5-2484-48af-b711-519cd679cddc",
   "metadata": {},
   "outputs": [],
   "source": [
    "a=1"
   ]
  },
  {
   "cell_type": "code",
   "execution_count": 2,
   "id": "8544f06f-b063-42bc-80bb-4ff4d04551d2",
   "metadata": {},
   "outputs": [
    {
     "data": {
      "text/plain": [
       "1"
      ]
     },
     "execution_count": 2,
     "metadata": {},
     "output_type": "execute_result"
    }
   ],
   "source": [
    "a"
   ]
  },
  {
   "cell_type": "code",
   "execution_count": 3,
   "id": "c326ff05-11da-4ed4-a17f-763f4fa8af1f",
   "metadata": {},
   "outputs": [
    {
     "data": {
      "text/plain": [
       "int"
      ]
     },
     "execution_count": 3,
     "metadata": {},
     "output_type": "execute_result"
    }
   ],
   "source": [
    "type(a)"
   ]
  },
  {
   "cell_type": "code",
   "execution_count": 4,
   "id": "eac55ecb-929c-4d5a-9f97-a1dbbed45325",
   "metadata": {},
   "outputs": [],
   "source": [
    "b=\"shri\""
   ]
  },
  {
   "cell_type": "code",
   "execution_count": 5,
   "id": "d208b0bf-6bc1-4b88-868b-bdc3e1ae1d25",
   "metadata": {},
   "outputs": [
    {
     "data": {
      "text/plain": [
       "str"
      ]
     },
     "execution_count": 5,
     "metadata": {},
     "output_type": "execute_result"
    }
   ],
   "source": [
    "type(b)"
   ]
  },
  {
   "cell_type": "code",
   "execution_count": 6,
   "id": "8d6111af-865f-4ab2-bdeb-b2c069c8921b",
   "metadata": {},
   "outputs": [],
   "source": [
    "c=True"
   ]
  },
  {
   "cell_type": "code",
   "execution_count": 7,
   "id": "49e18635-f40c-4a1b-b802-989e8955416a",
   "metadata": {},
   "outputs": [
    {
     "data": {
      "text/plain": [
       "bool"
      ]
     },
     "execution_count": 7,
     "metadata": {},
     "output_type": "execute_result"
    }
   ],
   "source": [
    "type(c)"
   ]
  },
  {
   "cell_type": "code",
   "execution_count": 8,
   "id": "e2b508da-0304-4def-8120-5ed92509cc15",
   "metadata": {},
   "outputs": [
    {
     "data": {
      "text/plain": [
       "1"
      ]
     },
     "execution_count": 8,
     "metadata": {},
     "output_type": "execute_result"
    }
   ],
   "source": [
    "True- False"
   ]
  },
  {
   "cell_type": "code",
   "execution_count": 9,
   "id": "f99e5e63-97d7-427a-a441-86e33fc1e2c7",
   "metadata": {},
   "outputs": [
    {
     "data": {
      "text/plain": [
       "0"
      ]
     },
     "execution_count": 9,
     "metadata": {},
     "output_type": "execute_result"
    }
   ],
   "source": [
    "True * False"
   ]
  },
  {
   "cell_type": "code",
   "execution_count": 1,
   "id": "efcfc8c9-5ae1-4207-95a8-ac11271f3251",
   "metadata": {},
   "outputs": [
    {
     "ename": "ZeroDivisionError",
     "evalue": "division by zero",
     "output_type": "error",
     "traceback": [
      "\u001b[0;31m---------------------------------------------------------------------------\u001b[0m",
      "\u001b[0;31mZeroDivisionError\u001b[0m                         Traceback (most recent call last)",
      "Cell \u001b[0;32mIn[1], line 1\u001b[0m\n\u001b[0;32m----> 1\u001b[0m \u001b[38;5;28;43;01mTrue\u001b[39;49;00m\u001b[43m \u001b[49m\u001b[38;5;241;43m/\u001b[39;49m\u001b[43m \u001b[49m\u001b[38;5;28;43;01mFalse\u001b[39;49;00m\n",
      "\u001b[0;31mZeroDivisionError\u001b[0m: division by zero"
     ]
    }
   ],
   "source": [
    "True / False"
   ]
  },
  {
   "cell_type": "code",
   "execution_count": 2,
   "id": "dc5ebfc9-18f5-4c1e-b909-50ab06eba71f",
   "metadata": {},
   "outputs": [],
   "source": [
    "f=5+4j"
   ]
  },
  {
   "cell_type": "code",
   "execution_count": 3,
   "id": "79f64359-b212-4e21-afbd-6bdbc7b6709b",
   "metadata": {},
   "outputs": [
    {
     "data": {
      "text/plain": [
       "(5+4j)"
      ]
     },
     "execution_count": 3,
     "metadata": {},
     "output_type": "execute_result"
    }
   ],
   "source": [
    "f"
   ]
  },
  {
   "cell_type": "code",
   "execution_count": 4,
   "id": "86541d45-53c8-4b2d-8f74-43e7d3ccaeb9",
   "metadata": {},
   "outputs": [
    {
     "data": {
      "text/plain": [
       "complex"
      ]
     },
     "execution_count": 4,
     "metadata": {},
     "output_type": "execute_result"
    }
   ],
   "source": [
    "type(f)"
   ]
  },
  {
   "cell_type": "code",
   "execution_count": 5,
   "id": "2de1d387-1068-48b8-b84d-95bea6d340f8",
   "metadata": {},
   "outputs": [
    {
     "ename": "SyntaxError",
     "evalue": "invalid decimal literal (2561945073.py, line 1)",
     "output_type": "error",
     "traceback": [
      "\u001b[0;36m  Cell \u001b[0;32mIn[5], line 1\u001b[0;36m\u001b[0m\n\u001b[0;31m    e= 5+6i\u001b[0m\n\u001b[0m         ^\u001b[0m\n\u001b[0;31mSyntaxError\u001b[0m\u001b[0;31m:\u001b[0m invalid decimal literal\n"
     ]
    }
   ],
   "source": [
    "e= 5+6i"
   ]
  },
  {
   "cell_type": "code",
   "execution_count": 6,
   "id": "0841835b-2349-48dd-be24-5013ce201625",
   "metadata": {},
   "outputs": [],
   "source": [
    "#j should only be used as imaginary "
   ]
  },
  {
   "cell_type": "code",
   "execution_count": 7,
   "id": "9990b333-a5de-4966-adf7-911bd5846e52",
   "metadata": {},
   "outputs": [
    {
     "ename": "SyntaxError",
     "evalue": "cannot assign to literal here. Maybe you meant '==' instead of '='? (914537592.py, line 1)",
     "output_type": "error",
     "traceback": [
      "\u001b[0;36m  Cell \u001b[0;32mIn[7], line 1\u001b[0;36m\u001b[0m\n\u001b[0;31m    345 = 9\u001b[0m\n\u001b[0m    ^\u001b[0m\n\u001b[0;31mSyntaxError\u001b[0m\u001b[0;31m:\u001b[0m cannot assign to literal here. Maybe you meant '==' instead of '='?\n"
     ]
    }
   ],
   "source": [
    "345 = 9"
   ]
  },
  {
   "cell_type": "code",
   "execution_count": 8,
   "id": "b2f51b1d-c821-4492-89e4-700609c1811d",
   "metadata": {},
   "outputs": [],
   "source": [
    "a8 = 99"
   ]
  },
  {
   "cell_type": "code",
   "execution_count": 9,
   "id": "9d64942c-414a-44d2-ba23-904c0104ec75",
   "metadata": {},
   "outputs": [
    {
     "data": {
      "text/plain": [
       "99"
      ]
     },
     "execution_count": 9,
     "metadata": {},
     "output_type": "execute_result"
    }
   ],
   "source": [
    "a8"
   ]
  },
  {
   "cell_type": "code",
   "execution_count": 10,
   "id": "04345dfb-2ff2-495d-8dc6-dba71352bd61",
   "metadata": {},
   "outputs": [
    {
     "ename": "SyntaxError",
     "evalue": "invalid decimal literal (2931292745.py, line 1)",
     "output_type": "error",
     "traceback": [
      "\u001b[0;36m  Cell \u001b[0;32mIn[10], line 1\u001b[0;36m\u001b[0m\n\u001b[0;31m    44rr = 9\u001b[0m\n\u001b[0m     ^\u001b[0m\n\u001b[0;31mSyntaxError\u001b[0m\u001b[0;31m:\u001b[0m invalid decimal literal\n"
     ]
    }
   ],
   "source": [
    "44rr = 9"
   ]
  },
  {
   "cell_type": "code",
   "execution_count": 12,
   "id": "485c0941-25cb-4b70-bc41-5055d6018c40",
   "metadata": {},
   "outputs": [
    {
     "ename": "SyntaxError",
     "evalue": "invalid decimal literal (3362197580.py, line 1)",
     "output_type": "error",
     "traceback": [
      "\u001b[0;36m  Cell \u001b[0;32mIn[12], line 1\u001b[0;36m\u001b[0m\n\u001b[0;31m    $667t = 3\u001b[0m\n\u001b[0m       ^\u001b[0m\n\u001b[0;31mSyntaxError\u001b[0m\u001b[0;31m:\u001b[0m invalid decimal literal\n"
     ]
    }
   ],
   "source": [
    "$667t = 3"
   ]
  },
  {
   "cell_type": "code",
   "execution_count": 13,
   "id": "e4f8b9f0-c684-4b72-8461-1bea932ba6c0",
   "metadata": {},
   "outputs": [],
   "source": [
    "_apple = 99"
   ]
  },
  {
   "cell_type": "code",
   "execution_count": 14,
   "id": "cecdbbce-4e76-4cdd-8c1e-129768069b4a",
   "metadata": {},
   "outputs": [
    {
     "data": {
      "text/plain": [
       "99"
      ]
     },
     "execution_count": 14,
     "metadata": {},
     "output_type": "execute_result"
    }
   ],
   "source": [
    "_apple"
   ]
  },
  {
   "cell_type": "code",
   "execution_count": null,
   "id": "383a07a8-9bc1-4a0b-b999-0544ba404504",
   "metadata": {},
   "outputs": [],
   "source": []
  },
  {
   "cell_type": "code",
   "execution_count": 16,
   "id": "47c238dc-e4d9-4dbd-b6fc-56f3d3f0072a",
   "metadata": {},
   "outputs": [],
   "source": [
    "#seperating values of complex number"
   ]
  },
  {
   "cell_type": "code",
   "execution_count": 18,
   "id": "8f282d8c-d848-4ebb-b6b0-c6fd5c969a14",
   "metadata": {},
   "outputs": [
    {
     "data": {
      "text/plain": [
       "(5+4j)"
      ]
     },
     "execution_count": 18,
     "metadata": {},
     "output_type": "execute_result"
    }
   ],
   "source": [
    "f"
   ]
  },
  {
   "cell_type": "code",
   "execution_count": 19,
   "id": "c69309db-bf8e-4d3d-ae35-c75cde57270b",
   "metadata": {},
   "outputs": [
    {
     "data": {
      "text/plain": [
       "5.0"
      ]
     },
     "execution_count": 19,
     "metadata": {},
     "output_type": "execute_result"
    }
   ],
   "source": [
    "f.real"
   ]
  },
  {
   "cell_type": "code",
   "execution_count": 20,
   "id": "f0478c04-e7de-4139-89ca-37d155496acb",
   "metadata": {},
   "outputs": [
    {
     "data": {
      "text/plain": [
       "4.0"
      ]
     },
     "execution_count": 20,
     "metadata": {},
     "output_type": "execute_result"
    }
   ],
   "source": [
    "f.imag"
   ]
  },
  {
   "cell_type": "code",
   "execution_count": null,
   "id": "67652739-a5bf-4b93-989c-4f380073b692",
   "metadata": {},
   "outputs": [],
   "source": []
  }
 ],
 "metadata": {
  "kernelspec": {
   "display_name": "Python 3 (ipykernel)",
   "language": "python",
   "name": "python3"
  },
  "language_info": {
   "codemirror_mode": {
    "name": "ipython",
    "version": 3
   },
   "file_extension": ".py",
   "mimetype": "text/x-python",
   "name": "python",
   "nbconvert_exporter": "python",
   "pygments_lexer": "ipython3",
   "version": "3.10.8"
  }
 },
 "nbformat": 4,
 "nbformat_minor": 5
}
