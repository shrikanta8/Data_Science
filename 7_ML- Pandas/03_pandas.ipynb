{
 "cells": [
  {
   "cell_type": "code",
   "execution_count": 1,
   "id": "c8c1c116-2913-4795-b391-0f6eec1e3a6c",
   "metadata": {},
   "outputs": [],
   "source": [
    "import pandas as pd"
   ]
  },
  {
   "cell_type": "code",
   "execution_count": 2,
   "id": "c19b4515-fddc-48c0-93ab-a9b8ee3ece6c",
   "metadata": {},
   "outputs": [],
   "source": [
    "df = pd.read_csv(\"https://raw.githubusercontent.com/datasciencedojo/datasets/master/titanic.csv\")"
   ]
  },
  {
   "cell_type": "code",
   "execution_count": 3,
   "id": "052237a0-c5ea-466e-9325-4127772029ba",
   "metadata": {},
   "outputs": [
    {
     "data": {
      "text/plain": [
       "Index(['PassengerId', 'Survived', 'Pclass', 'Name', 'Sex', 'Age', 'SibSp',\n",
       "       'Parch', 'Ticket', 'Fare', 'Cabin', 'Embarked'],\n",
       "      dtype='object')"
      ]
     },
     "execution_count": 3,
     "metadata": {},
     "output_type": "execute_result"
    }
   ],
   "source": [
    "df.columns"
   ]
  },
  {
   "cell_type": "code",
   "execution_count": 10,
   "id": "edb8a7e0-1493-4a32-aa8a-9ba25df8dfa0",
   "metadata": {},
   "outputs": [],
   "source": [
    "s = df['Name'][0:10]"
   ]
  },
  {
   "cell_type": "code",
   "execution_count": 11,
   "id": "d1396e67-47ae-4af5-beeb-8aea95f6cec0",
   "metadata": {},
   "outputs": [
    {
     "data": {
      "text/plain": [
       "0                              Braund, Mr. Owen Harris\n",
       "1    Cumings, Mrs. John Bradley (Florence Briggs Th...\n",
       "2                               Heikkinen, Miss. Laina\n",
       "3         Futrelle, Mrs. Jacques Heath (Lily May Peel)\n",
       "4                             Allen, Mr. William Henry\n",
       "5                                     Moran, Mr. James\n",
       "6                              McCarthy, Mr. Timothy J\n",
       "7                       Palsson, Master. Gosta Leonard\n",
       "8    Johnson, Mrs. Oscar W (Elisabeth Vilhelmina Berg)\n",
       "9                  Nasser, Mrs. Nicholas (Adele Achem)\n",
       "Name: Name, dtype: object"
      ]
     },
     "execution_count": 11,
     "metadata": {},
     "output_type": "execute_result"
    }
   ],
   "source": [
    "s    "
   ]
  },
  {
   "cell_type": "code",
   "execution_count": 13,
   "id": "9a1c12f1-75b0-4605-802c-1df6c2b4e11e",
   "metadata": {},
   "outputs": [
    {
     "data": {
      "text/plain": [
       "pandas.core.series.Series"
      ]
     },
     "execution_count": 13,
     "metadata": {},
     "output_type": "execute_result"
    }
   ],
   "source": [
    "type(s)"
   ]
  },
  {
   "cell_type": "code",
   "execution_count": null,
   "id": "7107869a-5bb6-41f1-be50-dd3879e0a3fc",
   "metadata": {},
   "outputs": [],
   "source": []
  },
  {
   "cell_type": "code",
   "execution_count": 14,
   "id": "a99cbf36-965d-413a-a5ef-207196e564ad",
   "metadata": {},
   "outputs": [],
   "source": [
    "# adding our own index"
   ]
  },
  {
   "cell_type": "code",
   "execution_count": 19,
   "id": "4a9a8772-b384-4ff5-81e5-739c067aec33",
   "metadata": {},
   "outputs": [],
   "source": [
    "l = ['a','b','shri','d','e','f','g','h','i','j']"
   ]
  },
  {
   "cell_type": "code",
   "execution_count": 21,
   "id": "f13bc2cf-0548-4470-8c7f-8aed766cbbee",
   "metadata": {},
   "outputs": [],
   "source": [
    "s1 = pd.Series(list(s),index=l)"
   ]
  },
  {
   "cell_type": "code",
   "execution_count": 23,
   "id": "cb70d63c-b4ce-41b1-8a8d-bf7607839cda",
   "metadata": {},
   "outputs": [
    {
     "data": {
      "text/plain": [
       "a                                 Braund, Mr. Owen Harris\n",
       "b       Cumings, Mrs. John Bradley (Florence Briggs Th...\n",
       "shri                               Heikkinen, Miss. Laina\n",
       "d            Futrelle, Mrs. Jacques Heath (Lily May Peel)\n",
       "e                                Allen, Mr. William Henry\n",
       "f                                        Moran, Mr. James\n",
       "g                                 McCarthy, Mr. Timothy J\n",
       "h                          Palsson, Master. Gosta Leonard\n",
       "i       Johnson, Mrs. Oscar W (Elisabeth Vilhelmina Berg)\n",
       "j                     Nasser, Mrs. Nicholas (Adele Achem)\n",
       "dtype: object"
      ]
     },
     "execution_count": 23,
     "metadata": {},
     "output_type": "execute_result"
    }
   ],
   "source": [
    "s1"
   ]
  },
  {
   "cell_type": "code",
   "execution_count": 24,
   "id": "e5130f1d-1d7c-45ed-bf47-f2af067ef9d8",
   "metadata": {},
   "outputs": [
    {
     "data": {
      "text/plain": [
       "0                              Braund, Mr. Owen Harris\n",
       "1    Cumings, Mrs. John Bradley (Florence Briggs Th...\n",
       "2                               Heikkinen, Miss. Laina\n",
       "3         Futrelle, Mrs. Jacques Heath (Lily May Peel)\n",
       "4                             Allen, Mr. William Henry\n",
       "5                                     Moran, Mr. James\n",
       "6                              McCarthy, Mr. Timothy J\n",
       "7                       Palsson, Master. Gosta Leonard\n",
       "8    Johnson, Mrs. Oscar W (Elisabeth Vilhelmina Berg)\n",
       "9                  Nasser, Mrs. Nicholas (Adele Achem)\n",
       "Name: Name, dtype: object"
      ]
     },
     "execution_count": 24,
     "metadata": {},
     "output_type": "execute_result"
    }
   ],
   "source": [
    "s"
   ]
  },
  {
   "cell_type": "code",
   "execution_count": 25,
   "id": "f4621a87-79dc-43c8-9f87-a7a4f50b90a8",
   "metadata": {},
   "outputs": [
    {
     "data": {
      "text/plain": [
       "'Braund, Mr. Owen Harris'"
      ]
     },
     "execution_count": 25,
     "metadata": {},
     "output_type": "execute_result"
    }
   ],
   "source": [
    "s[0]"
   ]
  },
  {
   "cell_type": "code",
   "execution_count": 26,
   "id": "7fb2c8c7-7c4e-44e3-9185-eddce71cd56a",
   "metadata": {},
   "outputs": [
    {
     "data": {
      "text/plain": [
       "'Braund, Mr. Owen Harris'"
      ]
     },
     "execution_count": 26,
     "metadata": {},
     "output_type": "execute_result"
    }
   ],
   "source": [
    "s1[0]    # it rembembers it's default index "
   ]
  },
  {
   "cell_type": "code",
   "execution_count": 27,
   "id": "39cab0b9-a5ed-45d5-95c5-9f63cc7ba6ea",
   "metadata": {},
   "outputs": [
    {
     "data": {
      "text/plain": [
       "'Braund, Mr. Owen Harris'"
      ]
     },
     "execution_count": 27,
     "metadata": {},
     "output_type": "execute_result"
    }
   ],
   "source": [
    "s1['a']"
   ]
  },
  {
   "cell_type": "code",
   "execution_count": 29,
   "id": "bb2a0f26-511c-4b91-b9c5-375f3245826b",
   "metadata": {},
   "outputs": [
    {
     "name": "stderr",
     "output_type": "stream",
     "text": [
      "/tmp/ipykernel_880/2451741888.py:1: FutureWarning: The series.append method is deprecated and will be removed from pandas in a future version. Use pandas.concat instead.\n",
      "  s2 = s1.append(s)\n"
     ]
    }
   ],
   "source": [
    "s2 = s1.append(s)"
   ]
  },
  {
   "cell_type": "code",
   "execution_count": 30,
   "id": "d7f61a9d-0c6f-4b73-884f-1e27a4021441",
   "metadata": {},
   "outputs": [
    {
     "data": {
      "text/plain": [
       "a                                 Braund, Mr. Owen Harris\n",
       "b       Cumings, Mrs. John Bradley (Florence Briggs Th...\n",
       "shri                               Heikkinen, Miss. Laina\n",
       "d            Futrelle, Mrs. Jacques Heath (Lily May Peel)\n",
       "e                                Allen, Mr. William Henry\n",
       "f                                        Moran, Mr. James\n",
       "g                                 McCarthy, Mr. Timothy J\n",
       "h                          Palsson, Master. Gosta Leonard\n",
       "i       Johnson, Mrs. Oscar W (Elisabeth Vilhelmina Berg)\n",
       "j                     Nasser, Mrs. Nicholas (Adele Achem)\n",
       "0                                 Braund, Mr. Owen Harris\n",
       "1       Cumings, Mrs. John Bradley (Florence Briggs Th...\n",
       "2                                  Heikkinen, Miss. Laina\n",
       "3            Futrelle, Mrs. Jacques Heath (Lily May Peel)\n",
       "4                                Allen, Mr. William Henry\n",
       "5                                        Moran, Mr. James\n",
       "6                                 McCarthy, Mr. Timothy J\n",
       "7                          Palsson, Master. Gosta Leonard\n",
       "8       Johnson, Mrs. Oscar W (Elisabeth Vilhelmina Berg)\n",
       "9                     Nasser, Mrs. Nicholas (Adele Achem)\n",
       "dtype: object"
      ]
     },
     "execution_count": 30,
     "metadata": {},
     "output_type": "execute_result"
    }
   ],
   "source": [
    "s2"
   ]
  },
  {
   "cell_type": "code",
   "execution_count": 31,
   "id": "61486ce8-0d0b-4966-9290-e2b99a2af348",
   "metadata": {},
   "outputs": [
    {
     "data": {
      "text/plain": [
       "'Braund, Mr. Owen Harris'"
      ]
     },
     "execution_count": 31,
     "metadata": {},
     "output_type": "execute_result"
    }
   ],
   "source": [
    "s2[0]"
   ]
  },
  {
   "cell_type": "code",
   "execution_count": null,
   "id": "7c548179-f208-4292-b3f0-8c7a5e0da518",
   "metadata": {},
   "outputs": [],
   "source": []
  },
  {
   "cell_type": "code",
   "execution_count": 34,
   "id": "9aeef1e6-cb42-42dd-b7f5-0e765802cb79",
   "metadata": {},
   "outputs": [],
   "source": [
    "s4 = pd.Series([33,44,55,66,77], index=[2,4,5,6,1])"
   ]
  },
  {
   "cell_type": "code",
   "execution_count": 37,
   "id": "22809073-5e67-4296-8f51-99018f00aa74",
   "metadata": {},
   "outputs": [],
   "source": [
    "s5 = pd.Series([330,440,550,660,770], index=[9,6,4,8,0])"
   ]
  },
  {
   "cell_type": "code",
   "execution_count": 39,
   "id": "9113020e-f7c1-4bd8-badb-c7e6eec52044",
   "metadata": {},
   "outputs": [
    {
     "name": "stderr",
     "output_type": "stream",
     "text": [
      "/tmp/ipykernel_880/937876903.py:1: FutureWarning: The series.append method is deprecated and will be removed from pandas in a future version. Use pandas.concat instead.\n",
      "  s6 = s4.append(s5)\n"
     ]
    }
   ],
   "source": [
    "s6 = s4.append(s5)"
   ]
  },
  {
   "cell_type": "code",
   "execution_count": 40,
   "id": "38454cfa-daaa-48ff-9ba8-b13cb5463675",
   "metadata": {},
   "outputs": [
    {
     "data": {
      "text/plain": [
       "2     33\n",
       "4     44\n",
       "5     55\n",
       "6     66\n",
       "1     77\n",
       "9    330\n",
       "6    440\n",
       "4    550\n",
       "8    660\n",
       "0    770\n",
       "dtype: int64"
      ]
     },
     "execution_count": 40,
     "metadata": {},
     "output_type": "execute_result"
    }
   ],
   "source": [
    "s6"
   ]
  },
  {
   "cell_type": "code",
   "execution_count": 41,
   "id": "43f41a26-f81d-4852-a7e9-a9e5172a56db",
   "metadata": {},
   "outputs": [
    {
     "data": {
      "text/plain": [
       "4     44\n",
       "4    550\n",
       "dtype: int64"
      ]
     },
     "execution_count": 41,
     "metadata": {},
     "output_type": "execute_result"
    }
   ],
   "source": [
    "s6[4]"
   ]
  },
  {
   "cell_type": "code",
   "execution_count": 42,
   "id": "80ac3c12-9909-4618-af91-d024297cdbf2",
   "metadata": {},
   "outputs": [
    {
     "data": {
      "text/plain": [
       "55"
      ]
     },
     "execution_count": 42,
     "metadata": {},
     "output_type": "execute_result"
    }
   ],
   "source": [
    "s6[5]"
   ]
  },
  {
   "cell_type": "code",
   "execution_count": 45,
   "id": "91d5bfd4-aae9-4696-a210-1ac44b4c0978",
   "metadata": {},
   "outputs": [
    {
     "name": "stderr",
     "output_type": "stream",
     "text": [
      "/tmp/ipykernel_880/2671872114.py:1: FutureWarning: The behavior of `series[i:j]` with an integer-dtype index is deprecated. In a future version, this will be treated as *label-based* indexing, consistent with e.g. `series[i]` lookups. To retain the old behavior, use `series.iloc[i:j]`. To get the future behavior, use `series.loc[i:j]`.\n",
      "  s6[0:5]\n"
     ]
    },
    {
     "data": {
      "text/plain": [
       "2    33\n",
       "4    44\n",
       "5    55\n",
       "6    66\n",
       "1    77\n",
       "dtype: int64"
      ]
     },
     "execution_count": 45,
     "metadata": {},
     "output_type": "execute_result"
    }
   ],
   "source": [
    "s6[0:5]"
   ]
  },
  {
   "cell_type": "code",
   "execution_count": null,
   "id": "987b9aa7-1cf7-419b-92f5-d15add6629e6",
   "metadata": {},
   "outputs": [],
   "source": []
  },
  {
   "cell_type": "code",
   "execution_count": 46,
   "id": "9779a161-b3c8-4a1f-be61-03b3e6e1a7c3",
   "metadata": {},
   "outputs": [
    {
     "data": {
      "text/plain": [
       "2    33\n",
       "4    44\n",
       "5    55\n",
       "6    66\n",
       "1    77\n",
       "dtype: int64"
      ]
     },
     "execution_count": 46,
     "metadata": {},
     "output_type": "execute_result"
    }
   ],
   "source": [
    "s4"
   ]
  },
  {
   "cell_type": "code",
   "execution_count": 47,
   "id": "522d103b-a72a-45d8-99fa-7dfc611c1573",
   "metadata": {},
   "outputs": [
    {
     "data": {
      "text/plain": [
       "9    330\n",
       "6    440\n",
       "4    550\n",
       "8    660\n",
       "0    770\n",
       "dtype: int64"
      ]
     },
     "execution_count": 47,
     "metadata": {},
     "output_type": "execute_result"
    }
   ],
   "source": [
    "s5"
   ]
  },
  {
   "cell_type": "code",
   "execution_count": 48,
   "id": "46411495-37e5-4d3f-81b9-831bcd6d8a5b",
   "metadata": {},
   "outputs": [
    {
     "data": {
      "text/plain": [
       "0        NaN\n",
       "1        NaN\n",
       "2        NaN\n",
       "4    24200.0\n",
       "5        NaN\n",
       "6    29040.0\n",
       "8        NaN\n",
       "9        NaN\n",
       "dtype: float64"
      ]
     },
     "execution_count": 48,
     "metadata": {},
     "output_type": "execute_result"
    }
   ],
   "source": [
    "s4*s5"
   ]
  },
  {
   "cell_type": "code",
   "execution_count": 49,
   "id": "6a3a1f1b-e5b1-489c-8db4-2fa1a5c960bf",
   "metadata": {},
   "outputs": [
    {
     "data": {
      "text/plain": [
       "0      NaN\n",
       "1      NaN\n",
       "2      NaN\n",
       "4    594.0\n",
       "5      NaN\n",
       "6    506.0\n",
       "8      NaN\n",
       "9      NaN\n",
       "dtype: float64"
      ]
     },
     "execution_count": 49,
     "metadata": {},
     "output_type": "execute_result"
    }
   ],
   "source": [
    "s4+s5"
   ]
  },
  {
   "cell_type": "code",
   "execution_count": null,
   "id": "878001bb-bb95-4d66-bbc2-671ee3b90600",
   "metadata": {},
   "outputs": [],
   "source": []
  }
 ],
 "metadata": {
  "kernelspec": {
   "display_name": "Python 3 (ipykernel)",
   "language": "python",
   "name": "python3"
  },
  "language_info": {
   "codemirror_mode": {
    "name": "ipython",
    "version": 3
   },
   "file_extension": ".py",
   "mimetype": "text/x-python",
   "name": "python",
   "nbconvert_exporter": "python",
   "pygments_lexer": "ipython3",
   "version": "3.10.8"
  }
 },
 "nbformat": 4,
 "nbformat_minor": 5
}
