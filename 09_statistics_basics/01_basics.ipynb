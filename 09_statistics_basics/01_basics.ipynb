{
 "cells": [
  {
   "cell_type": "code",
   "execution_count": 2,
   "id": "73629ffb-0d5b-4739-accd-91400b5417fc",
   "metadata": {},
   "outputs": [],
   "source": [
    "# types of statistics:\n",
    "\n",
    "# 1) descriptive- organizing & summarizing data\n",
    "       # i) measure of central tendency (mean,mode,median)\n",
    "       # ii) measure of dispersion (variance,std)\n",
    "       # iii) diff type of distribution of data\n",
    "    \n",
    "# 2) inferential- using data we have measured to form conclusion\n",
    "       # techniques like:  z-test, t-test, CHIsquare"
   ]
  },
  {
   "cell_type": "code",
   "execution_count": null,
   "id": "f0540dec-5ff9-4b70-bcdc-1302036bc6e3",
   "metadata": {},
   "outputs": [],
   "source": []
  },
  {
   "cell_type": "code",
   "execution_count": null,
   "id": "320b6861-a8c5-4b78-bf90-d0736d2f049a",
   "metadata": {},
   "outputs": [],
   "source": [
    "# types of  DATA\n",
    "\n",
    "#                    DATA\n",
    "#                  /     \\\n",
    "#      quantitative       qualitative\n",
    "#     /        \\              /      \\\n",
    "#   discrete  continuous   nominal   ordinary "
   ]
  },
  {
   "cell_type": "code",
   "execution_count": null,
   "id": "266468b4-4fc6-4953-b5cd-f65178639716",
   "metadata": {},
   "outputs": [],
   "source": [
    "# quantitative: numerical data\n",
    "    # discrete: it is whole number and have a range (no. of bank acc, no. of children)\n",
    "    # continuous: height, weight, temp, speed\n",
    "\n",
    "# qualitative: categorical data\n",
    "    # nominal: no rank (gender, blood group) \n",
    "    # ordinary: rank (customer feedback: bad,good,better) "
   ]
  },
  {
   "cell_type": "code",
   "execution_count": null,
   "id": "8ce63c53-7989-4002-bebe-b1edd4751628",
   "metadata": {},
   "outputs": [],
   "source": []
  },
  {
   "cell_type": "code",
   "execution_count": 1,
   "id": "b0cb06d5-8f69-4af0-add8-2cdcf6f47123",
   "metadata": {},
   "outputs": [],
   "source": [
    "# Population(N)\n",
    "# Sample(n)\n",
    "\n",
    "# 1) Mean \n",
    "#       population mean (μ)\n",
    "#       sample mean (x̄)\n",
    "\n",
    "# 2) Median: \n",
    "#      specially used to find central tendency where outlier is present\n",
    "#      first sort the variable then the middle one is our answer\n",
    "\n",
    "# 3) Mode :\n",
    "#      maximum occuring element"
   ]
  },
  {
   "cell_type": "code",
   "execution_count": null,
   "id": "4938c381-39ce-48d1-9af2-00dce0f72b94",
   "metadata": {},
   "outputs": [],
   "source": []
  }
 ],
 "metadata": {
  "kernelspec": {
   "display_name": "Python 3 (ipykernel)",
   "language": "python",
   "name": "python3"
  },
  "language_info": {
   "codemirror_mode": {
    "name": "ipython",
    "version": 3
   },
   "file_extension": ".py",
   "mimetype": "text/x-python",
   "name": "python",
   "nbconvert_exporter": "python",
   "pygments_lexer": "ipython3",
   "version": "3.10.8"
  }
 },
 "nbformat": 4,
 "nbformat_minor": 5
}
