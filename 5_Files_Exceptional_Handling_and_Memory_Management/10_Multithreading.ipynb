{
 "cells": [
  {
   "cell_type": "code",
   "execution_count": 1,
   "id": "233aeb01-3f3a-40d2-8ff0-2a69a6099ca7",
   "metadata": {},
   "outputs": [],
   "source": [
    "import threading"
   ]
  },
  {
   "cell_type": "code",
   "execution_count": 2,
   "id": "2e106055-82e6-4087-9181-62daa3d5e5a8",
   "metadata": {},
   "outputs": [],
   "source": [
    "def test(id):\n",
    "    print(\"program start %d\"% id)"
   ]
  },
  {
   "cell_type": "code",
   "execution_count": 3,
   "id": "15c1989d-9221-4ec9-b1a0-dd134fbac254",
   "metadata": {},
   "outputs": [
    {
     "name": "stdout",
     "output_type": "stream",
     "text": [
      "program start 45\n"
     ]
    }
   ],
   "source": [
    "test(45)"
   ]
  },
  {
   "cell_type": "code",
   "execution_count": 4,
   "id": "e3b9a73b-c868-4a31-b5b0-ff16ac148360",
   "metadata": {},
   "outputs": [],
   "source": [
    "#in a core we are making mutiple programs"
   ]
  },
  {
   "cell_type": "code",
   "execution_count": 7,
   "id": "49349855-290e-420e-bdf5-8689511be787",
   "metadata": {},
   "outputs": [],
   "source": [
    "thread = [ threading.Thread(target=test, args=(i,)) for i in range(10) ]"
   ]
  },
  {
   "cell_type": "code",
   "execution_count": 8,
   "id": "11a57fc8-4873-4d2a-9ca3-9c33b59803cd",
   "metadata": {},
   "outputs": [
    {
     "name": "stdout",
     "output_type": "stream",
     "text": [
      "program start 0\n",
      "program start 1\n",
      "program start 2\n",
      "program start 3\n",
      "program start 4\n",
      "program start 5\n",
      "program start 6\n",
      "program start 7\n",
      "program start 8\n",
      "program start 9\n"
     ]
    }
   ],
   "source": [
    "for t in thread:\n",
    "    t.start()"
   ]
  },
  {
   "cell_type": "code",
   "execution_count": 9,
   "id": "6986d670-7983-4f84-8ea6-6818d03a746f",
   "metadata": {},
   "outputs": [
    {
     "data": {
      "text/plain": [
       "[<Thread(Thread-25 (test), stopped 140016038688320)>,\n",
       " <Thread(Thread-26 (test), stopped 140016038688320)>,\n",
       " <Thread(Thread-27 (test), stopped 140016038688320)>,\n",
       " <Thread(Thread-28 (test), stopped 140016038688320)>,\n",
       " <Thread(Thread-29 (test), stopped 140016038688320)>,\n",
       " <Thread(Thread-30 (test), stopped 140016038688320)>,\n",
       " <Thread(Thread-31 (test), stopped 140016038688320)>,\n",
       " <Thread(Thread-32 (test), stopped 140016038688320)>,\n",
       " <Thread(Thread-33 (test), stopped 140016038688320)>,\n",
       " <Thread(Thread-34 (test), stopped 140016038688320)>]"
      ]
     },
     "execution_count": 9,
     "metadata": {},
     "output_type": "execute_result"
    }
   ],
   "source": [
    "thread"
   ]
  },
  {
   "cell_type": "code",
   "execution_count": 10,
   "id": "e35afb4a-20d9-456a-b76e-d37db64199e2",
   "metadata": {},
   "outputs": [
    {
     "data": {
      "text/plain": [
       "140016404775424"
      ]
     },
     "execution_count": 10,
     "metadata": {},
     "output_type": "execute_result"
    }
   ],
   "source": [
    "id(thread)"
   ]
  },
  {
   "cell_type": "code",
   "execution_count": 1,
   "id": "5e66a858-f152-4d8b-8c4e-72bcb68a8fe7",
   "metadata": {},
   "outputs": [],
   "source": [
    "# this threads are running in a single process"
   ]
  },
  {
   "cell_type": "code",
   "execution_count": null,
   "id": "6034175d-2912-469b-aec5-944f4cb3170a",
   "metadata": {},
   "outputs": [],
   "source": []
  },
  {
   "cell_type": "code",
   "execution_count": 2,
   "id": "bbaff24e-0b40-4d5e-aab8-912775588043",
   "metadata": {},
   "outputs": [],
   "source": [
    "# in this code we are storing multiple files in multiple files by fetching them"
   ]
  },
  {
   "cell_type": "code",
   "execution_count": 3,
   "id": "49948150-067b-4e39-be59-fdb7a2a6bf57",
   "metadata": {},
   "outputs": [],
   "source": [
    "import threading\n",
    "import urllib.request    #helps in taking files from internet\n",
    "\n",
    "def file_download(url, filename):\n",
    "    urllib.request.urlretrieve(url,filename)\n",
    "    #it simply add the data which is there in url to filename"
   ]
  },
  {
   "cell_type": "code",
   "execution_count": 6,
   "id": "554f05ab-85ec-452c-ba1d-bd75ea24524d",
   "metadata": {},
   "outputs": [],
   "source": [
    "file_download('https://github.com/itsfoss/text-files/blob/master/agatha.txt','output.txt')"
   ]
  },
  {
   "cell_type": "code",
   "execution_count": 7,
   "id": "3259840b-85c3-43cc-adfa-564f860f15cf",
   "metadata": {},
   "outputs": [],
   "source": [
    "url_list = ['https://github.com/itsfoss/text-files/blob/master/agatha.txt','https://github.com/itsfoss/text-files/blob/master/sherlock.txt','https://github.com/itsfoss/text-files/blob/master/agatha_complete.txt']"
   ]
  },
  {
   "cell_type": "code",
   "execution_count": 8,
   "id": "c67b5cf2-738a-4b08-b957-5a1dcfb31498",
   "metadata": {},
   "outputs": [
    {
     "data": {
      "text/plain": [
       "['https://github.com/itsfoss/text-files/blob/master/agatha.txt',\n",
       " 'https://github.com/itsfoss/text-files/blob/master/sherlock.txt',\n",
       " 'https://github.com/itsfoss/text-files/blob/master/agatha_complete.txt']"
      ]
     },
     "execution_count": 8,
     "metadata": {},
     "output_type": "execute_result"
    }
   ],
   "source": [
    "url_list"
   ]
  },
  {
   "cell_type": "code",
   "execution_count": 9,
   "id": "39bfe10c-d6f6-445e-b489-7566ae4f00ac",
   "metadata": {},
   "outputs": [],
   "source": [
    "file_name_list = ['data1.txt','data2.txt','data3.txt']     #data will get stored here in this files"
   ]
  },
  {
   "cell_type": "code",
   "execution_count": 11,
   "id": "9688e0dc-97f4-4b0d-b2cc-a55ee69a5deb",
   "metadata": {},
   "outputs": [],
   "source": [
    "ther= [threading.Thread(target = file_download, args= (url_list[i], file_name_list[i] )) for i in range(len(url_list)) ]"
   ]
  },
  {
   "cell_type": "code",
   "execution_count": 12,
   "id": "25159bc6-f6f5-444e-a5f0-a49f86ea3357",
   "metadata": {},
   "outputs": [
    {
     "data": {
      "text/plain": [
       "[<Thread(Thread-5 (file_download), initial)>,\n",
       " <Thread(Thread-6 (file_download), initial)>,\n",
       " <Thread(Thread-7 (file_download), initial)>]"
      ]
     },
     "execution_count": 12,
     "metadata": {},
     "output_type": "execute_result"
    }
   ],
   "source": [
    "ther"
   ]
  },
  {
   "cell_type": "code",
   "execution_count": 14,
   "id": "1d966b43-f549-4b63-87ca-7e39954c56ec",
   "metadata": {},
   "outputs": [],
   "source": [
    "for t in ther:\n",
    "    t.start()"
   ]
  },
  {
   "cell_type": "code",
   "execution_count": null,
   "id": "2c93da60-d9c2-4285-baae-79674541eea8",
   "metadata": {},
   "outputs": [],
   "source": [
    "# link 1 data is stored in data1.txt  and so on.."
   ]
  },
  {
   "cell_type": "code",
   "execution_count": null,
   "id": "913c5686-441d-4c1c-b6e9-19da08c3b18c",
   "metadata": {},
   "outputs": [],
   "source": []
  },
  {
   "cell_type": "code",
   "execution_count": null,
   "id": "e2ffbbc4-817d-4b94-a97a-0caa1e7e1c52",
   "metadata": {},
   "outputs": [],
   "source": [
    "#resource is utilized"
   ]
  },
  {
   "cell_type": "code",
   "execution_count": 15,
   "id": "bc3437d3-da98-40fb-b418-d16b340713db",
   "metadata": {},
   "outputs": [],
   "source": [
    "import time"
   ]
  },
  {
   "cell_type": "code",
   "execution_count": 31,
   "id": "bbe08aff-f7d7-4296-b434-4024502ec5bd",
   "metadata": {},
   "outputs": [],
   "source": [
    "def test1(id):\n",
    "    for i in range(10):\n",
    "        print(\"test1 %d printing %d %s\" %(id,i,time.ctime()))\n",
    "        time.sleep(1)"
   ]
  },
  {
   "cell_type": "code",
   "execution_count": 32,
   "id": "fdcc527c-1280-48ac-88b5-3dfa88c9854a",
   "metadata": {},
   "outputs": [
    {
     "name": "stdout",
     "output_type": "stream",
     "text": [
      "test1 1 printing 0 Tue Jun 20 19:15:35 2023\n",
      "test1 1 printing 1 Tue Jun 20 19:15:36 2023\n",
      "test1 1 printing 2 Tue Jun 20 19:15:37 2023\n",
      "test1 1 printing 3 Tue Jun 20 19:15:38 2023\n",
      "test1 1 printing 4 Tue Jun 20 19:15:39 2023\n",
      "test1 1 printing 5 Tue Jun 20 19:15:40 2023\n",
      "test1 1 printing 6 Tue Jun 20 19:15:41 2023\n",
      "test1 1 printing 7 Tue Jun 20 19:15:42 2023\n",
      "test1 1 printing 8 Tue Jun 20 19:15:43 2023\n",
      "test1 1 printing 9 Tue Jun 20 19:15:44 2023\n"
     ]
    }
   ],
   "source": [
    "test1(1)"
   ]
  },
  {
   "cell_type": "code",
   "execution_count": 42,
   "id": "af322fb7-809d-4885-9456-0f7868ccde6b",
   "metadata": {},
   "outputs": [],
   "source": [
    "thread1 = [ threading.Thread(target=test1, args=(i,)) for i in range(3) ]"
   ]
  },
  {
   "cell_type": "code",
   "execution_count": 43,
   "id": "a4cf763d-d7c5-41d0-8c51-e905a7dd1d62",
   "metadata": {},
   "outputs": [
    {
     "name": "stdout",
     "output_type": "stream",
     "text": [
      "test1 0 printing 0 Tue Jun 20 19:24:09 2023\n",
      "test1 1 printing 0 Tue Jun 20 19:24:09 2023\n",
      "test1 2 printing 0 Tue Jun 20 19:24:09 2023\n",
      "test1 0 printing 1 Tue Jun 20 19:24:10 2023\n",
      "test1 1 printing 1 Tue Jun 20 19:24:10 2023\n",
      "test1 2 printing 1 Tue Jun 20 19:24:10 2023\n",
      "test1 0 printing 2 Tue Jun 20 19:24:11 2023\n",
      "test1 1 printing 2 Tue Jun 20 19:24:11 2023\n",
      "test1 2 printing 2 Tue Jun 20 19:24:11 2023\n",
      "test1 0 printing 3 Tue Jun 20 19:24:12 2023\n",
      "test1 1 printing 3 Tue Jun 20 19:24:12 2023\n",
      "test1 2 printing 3 Tue Jun 20 19:24:12 2023\n",
      "test1 0 printing 4 Tue Jun 20 19:24:13 2023\n",
      "test1 1 printing 4 Tue Jun 20 19:24:13 2023\n",
      "test1 2 printing 4 Tue Jun 20 19:24:13 2023\n",
      "test1 0 printing 5 Tue Jun 20 19:24:14 2023\n",
      "test1 1 printing 5 Tue Jun 20 19:24:14 2023\n",
      "test1 2 printing 5 Tue Jun 20 19:24:14 2023\n",
      "test1 0 printing 6 Tue Jun 20 19:24:15 2023\n",
      "test1 1 printing 6 Tue Jun 20 19:24:15 2023\n",
      "test1 2 printing 6 Tue Jun 20 19:24:15 2023\n",
      "test1 0 printing 7 Tue Jun 20 19:24:16 2023\n",
      "test1 1 printing 7 Tue Jun 20 19:24:16 2023\n",
      "test1 2 printing 7 Tue Jun 20 19:24:16 2023\n",
      "test1 0 printing 8 Tue Jun 20 19:24:17 2023\n",
      "test1 1 printing 8 Tue Jun 20 19:24:17 2023\n",
      "test1 2 printing 8 Tue Jun 20 19:24:17 2023\n",
      "test1 0 printing 9 Tue Jun 20 19:24:18 2023\n",
      "test1 1 printing 9 Tue Jun 20 19:24:18 2023\n",
      "test1 2 printing 9 Tue Jun 20 19:24:18 2023\n"
     ]
    }
   ],
   "source": [
    "for t in thread1:\n",
    "    t.start()"
   ]
  },
  {
   "cell_type": "code",
   "execution_count": null,
   "id": "b292745e-0010-44f8-9378-ce75038722ea",
   "metadata": {},
   "outputs": [],
   "source": []
  },
  {
   "cell_type": "code",
   "execution_count": 36,
   "id": "40bc69a8-81be-4b05-9488-f1fb20abfe75",
   "metadata": {},
   "outputs": [],
   "source": [
    "#sharing of resource"
   ]
  },
  {
   "cell_type": "code",
   "execution_count": 53,
   "id": "b1f88634-f62e-422c-a6e5-e192e5f4f6a5",
   "metadata": {},
   "outputs": [
    {
     "name": "stdout",
     "output_type": "stream",
     "text": [
      "test2 id is 0, has increased the shared variable to 1 \n",
      "test2 id is 1, has increased the shared variable to 2 \n",
      "test2 id is 2, has increased the shared variable to 3 \n"
     ]
    }
   ],
   "source": [
    "shared_var = 0\n",
    "lock_var = threading.Lock()\n",
    "\n",
    "def test2(id):\n",
    "    global shared_var     #all the threads can access it\n",
    "    with lock_var:\n",
    "        shared_var = shared_var + 1\n",
    "        print(\"test2 id is %d, has increased the shared variable to %d \" % (id, shared_var))\n",
    "        \n",
    "ther3 = [ threading.Thread(target=test2, args = (id,) ) for id in range(3) ]\n",
    "\n",
    "for t in ther3:\n",
    "    t.start()"
   ]
  },
  {
   "cell_type": "code",
   "execution_count": 46,
   "id": "8fc8fcab-6d61-41e3-88ef-41cc315dbcab",
   "metadata": {},
   "outputs": [
    {
     "data": {
      "text/plain": [
       "[<Thread(Thread-26 (test2), initial)>,\n",
       " <Thread(Thread-27 (test2), initial)>,\n",
       " <Thread(Thread-28 (test2), initial)>]"
      ]
     },
     "execution_count": 46,
     "metadata": {},
     "output_type": "execute_result"
    }
   ],
   "source": [
    "ther3"
   ]
  },
  {
   "cell_type": "code",
   "execution_count": 54,
   "id": "b5d68a64-0aa4-431c-b990-60471ed24377",
   "metadata": {},
   "outputs": [
    {
     "name": "stdout",
     "output_type": "stream",
     "text": [
      "test2 id is 0, has increased the shared variable to 4 \n"
     ]
    }
   ],
   "source": [
    "test2(0)"
   ]
  },
  {
   "cell_type": "code",
   "execution_count": null,
   "id": "4653664a-37b3-4807-bcf7-a48ae06e782f",
   "metadata": {},
   "outputs": [],
   "source": []
  }
 ],
 "metadata": {
  "kernelspec": {
   "display_name": "Python 3 (ipykernel)",
   "language": "python",
   "name": "python3"
  },
  "language_info": {
   "codemirror_mode": {
    "name": "ipython",
    "version": 3
   },
   "file_extension": ".py",
   "mimetype": "text/x-python",
   "name": "python",
   "nbconvert_exporter": "python",
   "pygments_lexer": "ipython3",
   "version": "3.10.8"
  }
 },
 "nbformat": 4,
 "nbformat_minor": 5
}
