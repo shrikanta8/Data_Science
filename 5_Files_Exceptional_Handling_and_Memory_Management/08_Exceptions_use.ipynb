{
 "cells": [
  {
   "cell_type": "code",
   "execution_count": 1,
   "id": "60088dc1-3eee-46cb-909e-cab1b9e1a18b",
   "metadata": {},
   "outputs": [
    {
     "name": "stdout",
     "output_type": "stream",
     "text": [
      "division by zero\n"
     ]
    }
   ],
   "source": [
    "try:\n",
    "    a = 10/0\n",
    "except ZeroDivisionError as e:\n",
    "    print(e)"
   ]
  },
  {
   "cell_type": "code",
   "execution_count": 2,
   "id": "f45d6e61-4dc0-4477-9917-b97093e17cf6",
   "metadata": {},
   "outputs": [
    {
     "name": "stdout",
     "output_type": "stream",
     "text": [
      "invalid literal for int() with base 10: 'shri'\n"
     ]
    }
   ],
   "source": [
    "try:\n",
    "    int(\"shri\")\n",
    "except (ValueError, TypeError) as e:\n",
    "    print(e)"
   ]
  },
  {
   "cell_type": "code",
   "execution_count": 4,
   "id": "1a07574d-df50-47c8-ba1a-30605bf80ca9",
   "metadata": {},
   "outputs": [
    {
     "name": "stdout",
     "output_type": "stream",
     "text": [
      "this will catch an error\n"
     ]
    }
   ],
   "source": [
    "try:\n",
    "    int(\"shri\")\n",
    "except:\n",
    "    print(\"this will catch an error\")"
   ]
  },
  {
   "cell_type": "code",
   "execution_count": 5,
   "id": "8084dcc2-c8fa-4039-bec3-c530df0cf209",
   "metadata": {},
   "outputs": [
    {
     "name": "stdout",
     "output_type": "stream",
     "text": [
      "No module named 'shri'\n"
     ]
    },
    {
     "data": {
      "text/plain": [
       "2.0"
      ]
     },
     "execution_count": 5,
     "metadata": {},
     "output_type": "execute_result"
    }
   ],
   "source": [
    "try:\n",
    "    import shri\n",
    "except ImportError as e:\n",
    "    print(e)\n",
    "10/5"
   ]
  },
  {
   "cell_type": "code",
   "execution_count": 11,
   "id": "e042ad37-13f3-41c1-8b6a-7a60be38cc89",
   "metadata": {},
   "outputs": [
    {
     "name": "stdout",
     "output_type": "stream",
     "text": [
      "'keycc2'\n"
     ]
    }
   ],
   "source": [
    "try:\n",
    "    d = {\"key\":\"shri\", 1: [3,4,56,7]}\n",
    "    print(d[\"keycc2\"])\n",
    "except KeyError as e:\n",
    "    print(e)"
   ]
  },
  {
   "cell_type": "code",
   "execution_count": 17,
   "id": "0ffb9f4a-3354-4ed2-b7f7-a0d311f333d5",
   "metadata": {},
   "outputs": [
    {
     "name": "stdout",
     "output_type": "stream",
     "text": [
      "'str' object has no attribute 'test'\n"
     ]
    }
   ],
   "source": [
    "try:\n",
    "    \"shri\".test()\n",
    "except AttributeError as e:\n",
    "    print(e)"
   ]
  },
  {
   "cell_type": "code",
   "execution_count": 19,
   "id": "9aba370b-23c2-4eb2-ab17-14254f1fc995",
   "metadata": {},
   "outputs": [
    {
     "name": "stdout",
     "output_type": "stream",
     "text": [
      "list index out of range\n"
     ]
    }
   ],
   "source": [
    "try:\n",
    "    l = [2,3,4,5]\n",
    "    print(l[6])\n",
    "except IndexError as e:\n",
    "    print(e)    "
   ]
  },
  {
   "cell_type": "code",
   "execution_count": 21,
   "id": "1b458bb8-8d9d-48e4-9d59-06aacc9a6b6a",
   "metadata": {},
   "outputs": [
    {
     "name": "stdout",
     "output_type": "stream",
     "text": [
      "unsupported operand type(s) for +: 'int' and 'str'\n"
     ]
    }
   ],
   "source": [
    "try:\n",
    "    123 + \"shri\"\n",
    "except TypeError as e:\n",
    "    print(e)"
   ]
  },
  {
   "cell_type": "code",
   "execution_count": null,
   "id": "b78507b1-8080-404f-8dcb-8c74d2715875",
   "metadata": {},
   "outputs": [],
   "source": []
  },
  {
   "cell_type": "code",
   "execution_count": 27,
   "id": "8abe1403-412f-4b81-bb9c-38f9cb5e589d",
   "metadata": {},
   "outputs": [
    {
     "name": "stdout",
     "output_type": "stream",
     "text": [
      "[Errno 2] No such file or directory: 'data.txt'\n"
     ]
    }
   ],
   "source": [
    "try:\n",
    "    with open(\"data.txt\",'r') as f:\n",
    "        f.read()\n",
    "except FileNotFoundError as e:\n",
    "        print(e)"
   ]
  },
  {
   "cell_type": "code",
   "execution_count": 28,
   "id": "47614cf8-70ac-4d4c-8379-e22197fbc22a",
   "metadata": {},
   "outputs": [
    {
     "name": "stdout",
     "output_type": "stream",
     "text": [
      "[Errno 2] No such file or directory: 'data.txt'\n"
     ]
    }
   ],
   "source": [
    "# NEVER write super class (Exception) on the top\n",
    "#as it will only get executed\n",
    "try:\n",
    "    with open(\"data.txt\",'r') as f:\n",
    "        f.read()\n",
    "except Exception as e:        #always first one is preferred\n",
    "    print(e)\n",
    "except FileNotFoundError as e:\n",
    "        print(\"test\",e)"
   ]
  },
  {
   "cell_type": "code",
   "execution_count": null,
   "id": "77d066f9-0008-41fb-b16a-5a257aa5a336",
   "metadata": {},
   "outputs": [],
   "source": []
  },
  {
   "cell_type": "code",
   "execution_count": 26,
   "id": "88ab61db-d6c8-4a91-9fd0-f93ef37fcc2e",
   "metadata": {},
   "outputs": [
    {
     "data": {
      "text/plain": [
       "['__cause__',\n",
       " '__class__',\n",
       " '__context__',\n",
       " '__delattr__',\n",
       " '__dict__',\n",
       " '__dir__',\n",
       " '__doc__',\n",
       " '__eq__',\n",
       " '__format__',\n",
       " '__ge__',\n",
       " '__getattribute__',\n",
       " '__gt__',\n",
       " '__hash__',\n",
       " '__init__',\n",
       " '__init_subclass__',\n",
       " '__le__',\n",
       " '__lt__',\n",
       " '__ne__',\n",
       " '__new__',\n",
       " '__reduce__',\n",
       " '__reduce_ex__',\n",
       " '__repr__',\n",
       " '__setattr__',\n",
       " '__setstate__',\n",
       " '__sizeof__',\n",
       " '__str__',\n",
       " '__subclasshook__',\n",
       " '__suppress_context__',\n",
       " '__traceback__',\n",
       " 'args',\n",
       " 'with_traceback']"
      ]
     },
     "execution_count": 26,
     "metadata": {},
     "output_type": "execute_result"
    }
   ],
   "source": [
    "dir(Exception)"
   ]
  },
  {
   "cell_type": "code",
   "execution_count": null,
   "id": "ad0bd014-ab48-4da7-867f-b4937e663830",
   "metadata": {},
   "outputs": [],
   "source": []
  }
 ],
 "metadata": {
  "kernelspec": {
   "display_name": "Python 3 (ipykernel)",
   "language": "python",
   "name": "python3"
  },
  "language_info": {
   "codemirror_mode": {
    "name": "ipython",
    "version": 3
   },
   "file_extension": ".py",
   "mimetype": "text/x-python",
   "name": "python",
   "nbconvert_exporter": "python",
   "pygments_lexer": "ipython3",
   "version": "3.10.8"
  }
 },
 "nbformat": 4,
 "nbformat_minor": 5
}
