{
 "cells": [
  {
   "cell_type": "code",
   "execution_count": null,
   "id": "e9b70114-d5b5-40b6-b066-56aaa76a7aa0",
   "metadata": {},
   "outputs": [],
   "source": [
    "#multiprocessing with process example"
   ]
  },
  {
   "cell_type": "code",
   "execution_count": 5,
   "id": "905b0f43-f692-42fa-8e8c-a75dc8142a96",
   "metadata": {},
   "outputs": [
    {
     "name": "stdout",
     "output_type": "stream",
     "text": [
      "this is my main program\n",
      "this is my multiprocessing prog\n"
     ]
    }
   ],
   "source": [
    "import multiprocessing\n",
    "def test():\n",
    "    print(\"this is my multiprocessing prog\")\n",
    "    \n",
    "if __name__ == '__main__':\n",
    "    m = multiprocessing.Process(target = test)\n",
    "    print(\"this is my main program\")\n",
    "    m.start()   # to execute test program\n",
    "    m.join()   #as soon as child process is over it will release all the resources to main"
   ]
  },
  {
   "cell_type": "code",
   "execution_count": 6,
   "id": "a69fb6d1-38d4-4cfa-aed1-d5eb466cba4b",
   "metadata": {},
   "outputs": [
    {
     "name": "stdout",
     "output_type": "stream",
     "text": [
      "this is my multiprocessing prog\n"
     ]
    }
   ],
   "source": [
    "test()"
   ]
  },
  {
   "cell_type": "code",
   "execution_count": null,
   "id": "fc44a9b8-7c69-43c8-b04d-34522828574b",
   "metadata": {},
   "outputs": [],
   "source": []
  },
  {
   "cell_type": "code",
   "execution_count": null,
   "id": "eec21c35-4f8b-485c-917f-8dad3c8af364",
   "metadata": {},
   "outputs": [],
   "source": [
    "#multiprocessing with pool example\n",
    "# it is taking many processes(dividing it in pool) and running our single task\n",
    "#helps when data is in bulk"
   ]
  },
  {
   "cell_type": "code",
   "execution_count": 8,
   "id": "46557287-a82d-4f67-85ed-3df5cedf321b",
   "metadata": {},
   "outputs": [
    {
     "name": "stdout",
     "output_type": "stream",
     "text": [
      "[1, 4, 16, 25, 36, 49, 81]\n"
     ]
    }
   ],
   "source": [
    "def square(n):\n",
    "    return n*n\n",
    "\n",
    "if __name__ == '__main__':\n",
    "    with multiprocessing.Pool(processes=4) as pool :\n",
    "        out = pool.map(square, [1,2,4,5,6,7,9])\n",
    "        print(out)"
   ]
  },
  {
   "cell_type": "code",
   "execution_count": null,
   "id": "2c5fb605-6ed2-4a13-a2b2-987e7b1e7548",
   "metadata": {},
   "outputs": [],
   "source": []
  },
  {
   "cell_type": "code",
   "execution_count": 9,
   "id": "d141d2b1-6c05-4494-bd60-71d71f231c5c",
   "metadata": {},
   "outputs": [],
   "source": [
    "#multiprocessing with queue example"
   ]
  },
  {
   "cell_type": "code",
   "execution_count": null,
   "id": "3ae4df4b-023d-417d-a629-236c75390670",
   "metadata": {},
   "outputs": [
    {
     "name": "stdout",
     "output_type": "stream",
     "text": [
      "0\n",
      "1\n",
      "2\n",
      "3\n",
      "4\n",
      "5\n",
      "6\n",
      "7\n",
      "8\n",
      "9\n",
      "shri\n"
     ]
    }
   ],
   "source": [
    "def producer(q):\n",
    "    for i in range(10):\n",
    "        q.put(i)\n",
    "       \n",
    "def consume(q):\n",
    "    while True :\n",
    "        item = q.get()\n",
    "        if item is None:\n",
    "            break\n",
    "        print(item)\n",
    "        \n",
    "if __name__ == '__main__':\n",
    "    queue = multiprocessing.Queue()\n",
    "    m1 = multiprocessing.Process(target=producer, args=(queue,))\n",
    "    m2 = multiprocessing.Process(target=consume, args=(queue,))\n",
    "    m1.start()\n",
    "    m2.start()\n",
    "    queue.put(\"shri\")\n",
    "    m1.join()\n",
    "    m2.join()"
   ]
  },
  {
   "cell_type": "code",
   "execution_count": null,
   "id": "4caa01da-aa93-4d30-b557-77115a685902",
   "metadata": {},
   "outputs": [],
   "source": []
  },
  {
   "cell_type": "code",
   "execution_count": 13,
   "id": "8cdb61c1-380c-47a7-a5ef-eecfb363d1c9",
   "metadata": {},
   "outputs": [
    {
     "name": "stdout",
     "output_type": "stream",
     "text": [
      "[16, 25, 36, 64, 81, 121, 144]\n"
     ]
    }
   ],
   "source": [
    "def square(index, value):\n",
    "    value[index] = value[index]**2\n",
    "    \n",
    "if __name__ == '__main__':\n",
    "    arr = multiprocessing.Array('i',[4,5,6,8,9,11,12])\n",
    "    process=[]\n",
    "    for i in range(7):\n",
    "        m = multiprocessing.Process(target=square, args=(i, arr))\n",
    "        process.append(m)\n",
    "        m.start()\n",
    "    for m in process:\n",
    "        m.join()\n",
    "    print(list(arr))"
   ]
  },
  {
   "cell_type": "code",
   "execution_count": null,
   "id": "bfaedbf0-46c5-4c9e-bcf7-f5e1b4d418df",
   "metadata": {},
   "outputs": [],
   "source": []
  },
  {
   "cell_type": "code",
   "execution_count": 15,
   "id": "62362219-aca3-409c-b844-885d9ea78264",
   "metadata": {},
   "outputs": [],
   "source": [
    "#communicating throug pipe\n",
    "#we are calling two different functions in diff diff processes"
   ]
  },
  {
   "cell_type": "code",
   "execution_count": null,
   "id": "523201a7-e55f-48aa-bb3e-d3ad9939634e",
   "metadata": {},
   "outputs": [
    {
     "name": "stdout",
     "output_type": "stream",
     "text": [
      "keep smiling\n",
      "life is too short\n",
      "enjoy before it melts:)\n"
     ]
    }
   ],
   "source": [
    "import multiprocessing\n",
    "\n",
    "def sender(conn, msg):\n",
    "    for i in msg:\n",
    "        conn.send(i)\n",
    "    conn.close()\n",
    "    \n",
    "def receive(conn):\n",
    "    while True:\n",
    "        try:\n",
    "            msg = conn.recv()\n",
    "        except Exception as e:\n",
    "            print(e)\n",
    "            break\n",
    "        print(msg)\n",
    "        \n",
    "if __name__ == '__main__':\n",
    "    msg = [\"keep smiling\",\"life is too short\", \"enjoy before it melts:)\"]\n",
    "    parent_con , child_con = multiprocessing.Pipe()             #returns two connection object\n",
    "    m1 = multiprocessing.Process(target=sender, args=(child_con, msg))\n",
    "    m2 = multiprocessing.Process(target=receive, args=(parent_con,))\n",
    "    m1.start()\n",
    "    m2.start()\n",
    "    m1.join()\n",
    "    child_con.close()\n",
    "    m2.join()\n",
    "    parent_con.close()"
   ]
  },
  {
   "cell_type": "code",
   "execution_count": null,
   "id": "42e4bad3-0d50-482f-83e5-f7051454c039",
   "metadata": {},
   "outputs": [],
   "source": []
  }
 ],
 "metadata": {
  "kernelspec": {
   "display_name": "Python 3 (ipykernel)",
   "language": "python",
   "name": "python3"
  },
  "language_info": {
   "codemirror_mode": {
    "name": "ipython",
    "version": 3
   },
   "file_extension": ".py",
   "mimetype": "text/x-python",
   "name": "python",
   "nbconvert_exporter": "python",
   "pygments_lexer": "ipython3",
   "version": "3.10.8"
  }
 },
 "nbformat": 4,
 "nbformat_minor": 5
}
