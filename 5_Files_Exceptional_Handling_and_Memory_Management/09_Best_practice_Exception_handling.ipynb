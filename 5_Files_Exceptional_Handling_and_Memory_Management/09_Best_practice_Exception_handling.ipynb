{
 "cells": [
  {
   "cell_type": "code",
   "execution_count": null,
   "id": "32cccc76-fd3a-4b9a-84b7-5a1e4cd9ca2d",
   "metadata": {},
   "outputs": [],
   "source": [
    "#always use a specific exception"
   ]
  },
  {
   "cell_type": "code",
   "execution_count": 13,
   "id": "6e7556fd-f07e-4361-bda0-e2f5302476f7",
   "metadata": {},
   "outputs": [
    {
     "name": "stdout",
     "output_type": "stream",
     "text": [
      "division by zero\n"
     ]
    }
   ],
   "source": [
    "try:\n",
    "    10/0\n",
    "except Exception as e:\n",
    "    print(e)    "
   ]
  },
  {
   "cell_type": "code",
   "execution_count": 14,
   "id": "81667c14-ac49-4406-a62f-25d7a07f52b2",
   "metadata": {},
   "outputs": [
    {
     "name": "stdout",
     "output_type": "stream",
     "text": [
      "division by zero\n"
     ]
    }
   ],
   "source": [
    "try:\n",
    "    10/0\n",
    "except ZeroDivisionError as e:\n",
    "    print(e) "
   ]
  },
  {
   "cell_type": "code",
   "execution_count": null,
   "id": "2c0d9616-469b-4a2c-a50d-395415ad1d84",
   "metadata": {},
   "outputs": [],
   "source": []
  },
  {
   "cell_type": "code",
   "execution_count": 15,
   "id": "84252d91-fd32-48ca-b6e5-d62800029d94",
   "metadata": {},
   "outputs": [],
   "source": [
    "# print always a proper message"
   ]
  },
  {
   "cell_type": "code",
   "execution_count": 16,
   "id": "c3d7dce0-6ff3-4b19-9da5-8c7b858aea4d",
   "metadata": {},
   "outputs": [
    {
     "name": "stdout",
     "output_type": "stream",
     "text": [
      "i am handling a zero division error:  division by zero\n"
     ]
    }
   ],
   "source": [
    "try:\n",
    "    10/0\n",
    "except ZeroDivisionError as e:\n",
    "    print(\"i am handling a zero division error: \", e) "
   ]
  },
  {
   "cell_type": "code",
   "execution_count": null,
   "id": "a463041b-b276-48e4-8101-742ba18b2be2",
   "metadata": {},
   "outputs": [],
   "source": []
  },
  {
   "cell_type": "code",
   "execution_count": 5,
   "id": "d140547d-282a-4d31-88bb-0c0987b282a9",
   "metadata": {},
   "outputs": [],
   "source": [
    "#always  log your error"
   ]
  },
  {
   "cell_type": "code",
   "execution_count": 1,
   "id": "e3be14a1-91bf-4e94-8314-e3e3a4b9c9c0",
   "metadata": {},
   "outputs": [],
   "source": [
    "import logging\n",
    "logging.basicConfig(filename = \"error.log\", level= logging.ERROR)\n",
    "\n",
    "try:\n",
    "    10/0\n",
    "except ZeroDivisionError as e:\n",
    "    logging.error(\"i am handling a zero division error: {}\".format(e)) "
   ]
  },
  {
   "cell_type": "code",
   "execution_count": null,
   "id": "904db7ca-df3b-4b27-8160-0409737c0016",
   "metadata": {},
   "outputs": [],
   "source": []
  },
  {
   "cell_type": "code",
   "execution_count": 17,
   "id": "bab80b96-41aa-470f-aa0a-531d0abd191f",
   "metadata": {},
   "outputs": [],
   "source": [
    "# always avoid to write multiple exception handling"
   ]
  },
  {
   "cell_type": "code",
   "execution_count": 2,
   "id": "7b5fcd86-4bb8-46f7-ae8f-057b09e26f4e",
   "metadata": {},
   "outputs": [],
   "source": [
    "try:\n",
    "    10/0\n",
    "except FileNotFoundError as e:\n",
    "    logging.error(\"i am handling a file not found error: {}\".format(e)) \n",
    "except AttributeError as e:\n",
    "    logging.error(\"i am handling Attribute Error error: {}\".format(e)) \n",
    "except ZeroDivisionError as e:\n",
    "    logging.error(\"i am handling a zero division error: {}\".format(e)) "
   ]
  },
  {
   "cell_type": "code",
   "execution_count": null,
   "id": "2c1b92d1-48b4-4f8f-9df2-10b9a4f707c1",
   "metadata": {},
   "outputs": [],
   "source": []
  },
  {
   "cell_type": "code",
   "execution_count": 5,
   "id": "f92dc02a-5be5-48d0-a3ff-4427e8d09112",
   "metadata": {},
   "outputs": [],
   "source": [
    "# document all the error"
   ]
  },
  {
   "cell_type": "code",
   "execution_count": null,
   "id": "0460350b-fbfd-4d70-8949-7661981be22a",
   "metadata": {},
   "outputs": [],
   "source": []
  },
  {
   "cell_type": "code",
   "execution_count": 4,
   "id": "a178c7ea-df7c-4bba-8dfc-c590fa7465d8",
   "metadata": {},
   "outputs": [],
   "source": [
    "#cleanup all the resources\n",
    "#always close the file at the end"
   ]
  },
  {
   "cell_type": "code",
   "execution_count": 6,
   "id": "f8da6064-7572-40e9-8645-03d6e3e47aec",
   "metadata": {},
   "outputs": [],
   "source": [
    "try: \n",
    "    with open(\"test.txt\", 'w') as f:\n",
    "        f.write(\"this is my data to file\")\n",
    "except FileNotFoundError as e:\n",
    "    logging.error(\"i am handling a file not found error: {}\".format(e)) \n",
    "finally: \n",
    "    f.close()"
   ]
  },
  {
   "cell_type": "code",
   "execution_count": null,
   "id": "2b24048f-d130-46ee-9625-d126d48cf83e",
   "metadata": {},
   "outputs": [],
   "source": []
  }
 ],
 "metadata": {
  "kernelspec": {
   "display_name": "Python 3 (ipykernel)",
   "language": "python",
   "name": "python3"
  },
  "language_info": {
   "codemirror_mode": {
    "name": "ipython",
    "version": 3
   },
   "file_extension": ".py",
   "mimetype": "text/x-python",
   "name": "python",
   "nbconvert_exporter": "python",
   "pygments_lexer": "ipython3",
   "version": "3.10.8"
  }
 },
 "nbformat": 4,
 "nbformat_minor": 5
}
