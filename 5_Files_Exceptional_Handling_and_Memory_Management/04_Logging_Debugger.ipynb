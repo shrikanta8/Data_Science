{
 "cells": [
  {
   "cell_type": "code",
   "execution_count": 1,
   "id": "977f49e2-e266-40ad-823b-7b6279d91bfd",
   "metadata": {},
   "outputs": [
    {
     "name": "stdout",
     "output_type": "stream",
     "text": [
      "this is my print\n"
     ]
    }
   ],
   "source": [
    "print(\"this is my print\")"
   ]
  },
  {
   "cell_type": "code",
   "execution_count": null,
   "id": "56fee2e0-6edf-4596-b005-ce8a8096a8f2",
   "metadata": {},
   "outputs": [],
   "source": [
    "#by logging everything gets stored so that it can be used for further investigation"
   ]
  },
  {
   "cell_type": "code",
   "execution_count": 2,
   "id": "c3d21206-f7fc-4a21-aa4b-07dca78e024e",
   "metadata": {},
   "outputs": [],
   "source": [
    "#logging creates a file and there everything gets stored"
   ]
  },
  {
   "cell_type": "code",
   "execution_count": 2,
   "id": "30d5b6e3-62e1-4555-a5e8-683c0cec18f1",
   "metadata": {},
   "outputs": [],
   "source": [
    "import logging"
   ]
  },
  {
   "cell_type": "code",
   "execution_count": 16,
   "id": "d9e85f6f-7189-4761-83e7-209fcd649664",
   "metadata": {},
   "outputs": [],
   "source": [
    "logging.basicConfig(filename= \"test.log\", level = logging.INFO )"
   ]
  },
  {
   "cell_type": "code",
   "execution_count": 17,
   "id": "2a0c6054-830e-48df-8ec4-c255232345eb",
   "metadata": {},
   "outputs": [],
   "source": [
    "logging.info(\"log this line of execution\")"
   ]
  },
  {
   "cell_type": "code",
   "execution_count": 18,
   "id": "f15ac292-cd06-4d1c-8b9e-5fbd07a1b78a",
   "metadata": {},
   "outputs": [],
   "source": [
    "logging.info(\"this is my print\")"
   ]
  },
  {
   "cell_type": "code",
   "execution_count": null,
   "id": "1cf35d9d-f8e5-4efa-b180-1e098802b6de",
   "metadata": {},
   "outputs": [],
   "source": []
  },
  {
   "cell_type": "code",
   "execution_count": null,
   "id": "2c16686f-9192-48c6-beca-e5f4b3498dbd",
   "metadata": {},
   "outputs": [],
   "source": [
    "# there are multiple levels in logging\n",
    "\n",
    "# 1. NOTSET\n",
    "# 2. DEBUG\n",
    "# 3. INFO\n",
    "# 4. WARNING\n",
    "# 5. ERROR\n",
    "# 6. CRITICAL\n",
    "\n",
    "#if we set any level(we did here INFO in prev example),\n",
    "# so we won't be able to call the upper levels. only we can call levels below that particular level\n"
   ]
  },
  {
   "cell_type": "code",
   "execution_count": 19,
   "id": "a3e5f252-40e9-442d-b399-f483e0f40ca3",
   "metadata": {},
   "outputs": [],
   "source": [
    "logging.debug(\"this is my msg of debug\")    #it won't print as our level is info"
   ]
  },
  {
   "cell_type": "code",
   "execution_count": 20,
   "id": "f02808cc-54a8-41c5-9c03-848b8db4d0d4",
   "metadata": {},
   "outputs": [],
   "source": [
    "logging.warning(\"this is my msg of warning\")"
   ]
  },
  {
   "cell_type": "code",
   "execution_count": 21,
   "id": "36796715-cd26-488c-85bc-578ffdb83a69",
   "metadata": {},
   "outputs": [],
   "source": [
    "logging.error(\"this is my msg of error\")"
   ]
  },
  {
   "cell_type": "code",
   "execution_count": 22,
   "id": "ff83a09b-9470-4bf0-9b63-6bd156348d52",
   "metadata": {},
   "outputs": [],
   "source": [
    "logging.critical(\"this is my msg of critical\")"
   ]
  },
  {
   "cell_type": "code",
   "execution_count": 23,
   "id": "300524bf-dbcd-4d11-826e-c0c89ef20244",
   "metadata": {},
   "outputs": [],
   "source": [
    "logging.shutdown()"
   ]
  },
  {
   "cell_type": "code",
   "execution_count": null,
   "id": "91e05bd3-b099-47da-ba5c-dcab865d2743",
   "metadata": {},
   "outputs": [],
   "source": []
  },
  {
   "cell_type": "code",
   "execution_count": null,
   "id": "87c37a0a-4ce3-4a80-9aad-c9c45d2863c3",
   "metadata": {},
   "outputs": [],
   "source": [
    "#how is message getting stored"
   ]
  },
  {
   "cell_type": "code",
   "execution_count": 1,
   "id": "ff31b720-7afd-4c11-b881-08205cdee9ec",
   "metadata": {},
   "outputs": [],
   "source": [
    "import logging"
   ]
  },
  {
   "cell_type": "code",
   "execution_count": 4,
   "id": "8e22dee3-cf22-4aba-9ceb-75dfb6d1f968",
   "metadata": {},
   "outputs": [],
   "source": [
    "logging.basicConfig(filename = \"test0.log\", level = logging.DEBUG, format= '%(asctime)s %(message)s' )\n",
    " \n",
    "    # asctime is system time \n",
    "    # s =>string"
   ]
  },
  {
   "cell_type": "code",
   "execution_count": 5,
   "id": "c5f2b61e-6276-45b1-bb97-7d3c9d466ee1",
   "metadata": {},
   "outputs": [],
   "source": [
    "logging.info(\"this is my info msg\")\n",
    "logging.error(\"this is my error msg\")\n",
    "logging.critical(\"this is my critical msg\")"
   ]
  },
  {
   "cell_type": "code",
   "execution_count": 7,
   "id": "aacbe5cd-3c03-4faf-a0e7-037436a19765",
   "metadata": {},
   "outputs": [],
   "source": [
    "logging.shutdown()"
   ]
  },
  {
   "cell_type": "code",
   "execution_count": null,
   "id": "d8af00ed-de84-4dee-b892-5fc4cf5e9583",
   "metadata": {},
   "outputs": [],
   "source": []
  },
  {
   "cell_type": "code",
   "execution_count": 2,
   "id": "48d8cfdd-583b-416c-aef0-9379d27b3818",
   "metadata": {},
   "outputs": [],
   "source": [
    "logging.basicConfig(filename = \"test2.log\", level= logging.DEBUG, format ='%(asctime)s %(name)s %(levelname)s %(message)s ' ) "
   ]
  },
  {
   "cell_type": "code",
   "execution_count": 3,
   "id": "ac5ed6b1-40a8-42b3-a869-940a21fb6ae1",
   "metadata": {},
   "outputs": [],
   "source": [
    "logging.info(\"this is my info msg\")\n",
    "logging.error(\"this is my error msg\")\n",
    "logging.critical(\"this is my critical msg\")"
   ]
  },
  {
   "cell_type": "code",
   "execution_count": null,
   "id": "5d01c8ec-f497-4ca2-b7d2-59e204be541c",
   "metadata": {},
   "outputs": [],
   "source": []
  },
  {
   "cell_type": "code",
   "execution_count": 5,
   "id": "42bcd039-11e4-4ba9-b3b7-fff767f0568e",
   "metadata": {},
   "outputs": [],
   "source": [
    "#example"
   ]
  },
  {
   "cell_type": "code",
   "execution_count": 4,
   "id": "c2e2c8fd-1cfb-4892-84fc-5f7730414ec7",
   "metadata": {},
   "outputs": [],
   "source": [
    "l = [1,2,3,4,55,[3,5,7],\"shri\",\"radhe\"]"
   ]
  },
  {
   "cell_type": "code",
   "execution_count": 7,
   "id": "1c45327b-ef3a-4a90-a04f-5587106136ea",
   "metadata": {},
   "outputs": [],
   "source": [
    "l1_int = []\n",
    "l2_str = []\n",
    "for i in l:\n",
    "    logging.info(\"we are iterating through our list and local variabl is {} \".format(l))\n",
    "    if type(i) == list:\n",
    "        logging.info(\"i am inside if statement and i am trying to check list type \" + str(i))\n",
    "        for j in i:\n",
    "            logging.info(\"i am inside another for loop for list inside list \")\n",
    "            if type(j) == int:\n",
    "                logging.info(\"inside if statement \")\n",
    "                l1_int.append(j)\n",
    "    elif type(i) == int:\n",
    "        l1_int.append(i)\n",
    "    else:\n",
    "        if type(i) == str:\n",
    "            l2_str.append(i)\n",
    "                    \n",
    "logging.info(\"RESULT FOR INT IS {l1} and str is {l2}\".format(l1 = l1_int, l2=l2_str))"
   ]
  },
  {
   "cell_type": "code",
   "execution_count": 8,
   "id": "afe19f66-e7f6-4db2-bfb5-c5b27c328e7b",
   "metadata": {},
   "outputs": [
    {
     "data": {
      "text/plain": [
       "[1, 2, 3, 4, 55, 3, 5, 7]"
      ]
     },
     "execution_count": 8,
     "metadata": {},
     "output_type": "execute_result"
    }
   ],
   "source": [
    "l1_int"
   ]
  },
  {
   "cell_type": "code",
   "execution_count": 9,
   "id": "bf1aa1ae-e847-4622-a9b7-fd6b89b008e5",
   "metadata": {},
   "outputs": [
    {
     "data": {
      "text/plain": [
       "['shri', 'radhe']"
      ]
     },
     "execution_count": 9,
     "metadata": {},
     "output_type": "execute_result"
    }
   ],
   "source": [
    "l2_str"
   ]
  },
  {
   "cell_type": "code",
   "execution_count": null,
   "id": "169e039f-022d-4151-9615-01797dad046f",
   "metadata": {},
   "outputs": [],
   "source": []
  }
 ],
 "metadata": {
  "kernelspec": {
   "display_name": "Python 3 (ipykernel)",
   "language": "python",
   "name": "python3"
  },
  "language_info": {
   "codemirror_mode": {
    "name": "ipython",
    "version": 3
   },
   "file_extension": ".py",
   "mimetype": "text/x-python",
   "name": "python",
   "nbconvert_exporter": "python",
   "pygments_lexer": "ipython3",
   "version": "3.10.8"
  }
 },
 "nbformat": 4,
 "nbformat_minor": 5
}
