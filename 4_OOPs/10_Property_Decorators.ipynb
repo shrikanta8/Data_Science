{
 "cells": [
  {
   "cell_type": "code",
   "execution_count": 1,
   "id": "fb205a45-d21c-498c-b24c-6e84dfcf5f88",
   "metadata": {},
   "outputs": [],
   "source": [
    "class pwskills:\n",
    "    def __init__(self, course_price, course_name):\n",
    "        self.__course_price = course_price    #private variable\n",
    "        self.course_name = course_name"
   ]
  },
  {
   "cell_type": "code",
   "execution_count": null,
   "id": "7e5bdec7-479b-4e80-98b9-c0e0aaca03af",
   "metadata": {},
   "outputs": [],
   "source": [
    "# _ single underscore => protected\n",
    "## __ double underscore => private"
   ]
  },
  {
   "cell_type": "code",
   "execution_count": 2,
   "id": "b8553dec-9c19-417c-8cbb-ad8732413523",
   "metadata": {},
   "outputs": [],
   "source": [
    "pw = pwskills(5000,\"data science\")"
   ]
  },
  {
   "cell_type": "code",
   "execution_count": null,
   "id": "40637048-c101-417a-969e-5d290de78c01",
   "metadata": {},
   "outputs": [],
   "source": [
    "pw.__course_price\n",
    "#give error"
   ]
  },
  {
   "cell_type": "code",
   "execution_count": 5,
   "id": "02d7e453-0344-4262-9fb4-4b215b64f53b",
   "metadata": {},
   "outputs": [
    {
     "data": {
      "text/plain": [
       "5000"
      ]
     },
     "execution_count": 5,
     "metadata": {},
     "output_type": "execute_result"
    }
   ],
   "source": [
    "pw._pwskills__course_price"
   ]
  },
  {
   "cell_type": "code",
   "execution_count": null,
   "id": "034d4f5c-2756-4e09-84cf-07d2fabce585",
   "metadata": {},
   "outputs": [],
   "source": []
  },
  {
   "cell_type": "code",
   "execution_count": null,
   "id": "da87c060-ec70-459a-bd87-5f72b417a16e",
   "metadata": {},
   "outputs": [],
   "source": [
    "# if we want to give access of private variable to user => we will write decorator property"
   ]
  },
  {
   "cell_type": "code",
   "execution_count": 1,
   "id": "8b91c791-eaee-4996-bc55-c5628fb19402",
   "metadata": {},
   "outputs": [],
   "source": [
    "class pwskills1:\n",
    "    def __init__(self, course_price, course_name):\n",
    "        self.__course_price = course_price    \n",
    "        self.course_name = course_name\n",
    "    \n",
    "    @property\n",
    "    def course_price_access(self):\n",
    "        return self.__course_price\n",
    "        \n",
    "    #user will be able to modify __course_price\n",
    "    @course_price_access.setter\n",
    "    def course_price_set(self, price):\n",
    "        if price <= 3500:\n",
    "            pass\n",
    "        else:\n",
    "            self.__course_price = price\n",
    "            \n",
    "    #user will be able to delete __course_price\n",
    "    @course_price_access.deleter\n",
    "    def delete_course_price(self):\n",
    "        del self.__course_price"
   ]
  },
  {
   "cell_type": "code",
   "execution_count": 2,
   "id": "3ddaba96-13ec-4475-8999-e0e5e72b855d",
   "metadata": {},
   "outputs": [],
   "source": [
    "pw1 = pwskills1(5000,\"data science\")"
   ]
  },
  {
   "cell_type": "code",
   "execution_count": 3,
   "id": "8227fa26-4a7f-468d-a6a5-ef1f6237d2dc",
   "metadata": {},
   "outputs": [
    {
     "data": {
      "text/plain": [
       "5000"
      ]
     },
     "execution_count": 3,
     "metadata": {},
     "output_type": "execute_result"
    }
   ],
   "source": [
    "pw1.course_price_access"
   ]
  },
  {
   "cell_type": "code",
   "execution_count": 4,
   "id": "400b2360-6f20-4097-a2a9-2a36581de91f",
   "metadata": {},
   "outputs": [],
   "source": [
    "pw1.course_price_set= 4500"
   ]
  },
  {
   "cell_type": "code",
   "execution_count": 5,
   "id": "0b995bd1-3920-414a-809f-fb8ac38fb8ca",
   "metadata": {},
   "outputs": [
    {
     "data": {
      "text/plain": [
       "4500"
      ]
     },
     "execution_count": 5,
     "metadata": {},
     "output_type": "execute_result"
    }
   ],
   "source": [
    "pw1.course_price_access"
   ]
  },
  {
   "cell_type": "code",
   "execution_count": 6,
   "id": "8986726b-a8a6-4713-b686-d83e9e18f87e",
   "metadata": {},
   "outputs": [],
   "source": [
    "del pw1.delete_course_price"
   ]
  },
  {
   "cell_type": "code",
   "execution_count": null,
   "id": "b50bb39e-0234-4dca-aaea-f37d4a5c485d",
   "metadata": {},
   "outputs": [],
   "source": [
    "pw1.course_price_access\n",
    "#give error"
   ]
  },
  {
   "cell_type": "code",
   "execution_count": null,
   "id": "bd46572c-46fd-40f3-bdb1-fd679e00ce4c",
   "metadata": {},
   "outputs": [],
   "source": []
  }
 ],
 "metadata": {
  "kernelspec": {
   "display_name": "Python 3 (ipykernel)",
   "language": "python",
   "name": "python3"
  },
  "language_info": {
   "codemirror_mode": {
    "name": "ipython",
    "version": 3
   },
   "file_extension": ".py",
   "mimetype": "text/x-python",
   "name": "python",
   "nbconvert_exporter": "python",
   "pygments_lexer": "ipython3",
   "version": "3.10.8"
  }
 },
 "nbformat": 4,
 "nbformat_minor": 5
}
