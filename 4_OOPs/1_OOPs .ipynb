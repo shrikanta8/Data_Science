{
 "cells": [
  {
   "cell_type": "code",
   "execution_count": 4,
   "id": "515446ff-a88b-4ef1-916f-0df8ec86d23c",
   "metadata": {},
   "outputs": [
    {
     "name": "stdout",
     "output_type": "stream",
     "text": [
      "<class 'int'>\n"
     ]
    }
   ],
   "source": [
    "num=5\n",
    "print(type(num))"
   ]
  },
  {
   "cell_type": "code",
   "execution_count": 6,
   "id": "e8b4d537-38e1-4ce8-b85a-715e6e30307f",
   "metadata": {},
   "outputs": [
    {
     "name": "stdout",
     "output_type": "stream",
     "text": [
      "<class 'str'>\n"
     ]
    }
   ],
   "source": [
    "print(type(\"shriji\"))"
   ]
  },
  {
   "cell_type": "code",
   "execution_count": null,
   "id": "024e4bba-82e8-4400-afe2-1ef20ad30e9b",
   "metadata": {},
   "outputs": [],
   "source": []
  },
  {
   "cell_type": "code",
   "execution_count": 1,
   "id": "6cfb2c45-ab36-4b1e-b678-94e22cba3731",
   "metadata": {},
   "outputs": [],
   "source": [
    "class test :\n",
    "    pass"
   ]
  },
  {
   "cell_type": "code",
   "execution_count": 2,
   "id": "a4a3f78a-38f6-4983-940a-70341910f5dc",
   "metadata": {},
   "outputs": [],
   "source": [
    "a = test()"
   ]
  },
  {
   "cell_type": "code",
   "execution_count": 3,
   "id": "fe9b231c-041b-4248-9ede-a69c109e97ec",
   "metadata": {},
   "outputs": [
    {
     "data": {
      "text/plain": [
       "__main__.test"
      ]
     },
     "execution_count": 3,
     "metadata": {},
     "output_type": "execute_result"
    }
   ],
   "source": [
    "type(a)"
   ]
  },
  {
   "cell_type": "code",
   "execution_count": 7,
   "id": "3320e974-c51c-40df-b0d4-5e4966507e49",
   "metadata": {},
   "outputs": [
    {
     "name": "stdout",
     "output_type": "stream",
     "text": [
      "<class '__main__.test'>\n"
     ]
    }
   ],
   "source": [
    "print(type(a))"
   ]
  },
  {
   "cell_type": "code",
   "execution_count": null,
   "id": "ee67ab91-364c-4699-88eb-e7a341a7f47d",
   "metadata": {},
   "outputs": [],
   "source": []
  },
  {
   "cell_type": "code",
   "execution_count": 12,
   "id": "1cdc3eb8-f990-4603-ba01-845caac7afc8",
   "metadata": {},
   "outputs": [],
   "source": [
    "class pwskills:\n",
    "    \n",
    "    def welcome_msg(self):\n",
    "        print(\"welcome \")\n",
    "    #we have to bind function written in class to class(pwskills)\n",
    "    #hence we write self"
   ]
  },
  {
   "cell_type": "code",
   "execution_count": 13,
   "id": "ab6eda32-3c27-4c31-871f-7950528429c7",
   "metadata": {},
   "outputs": [],
   "source": [
    "rohan = pwskills()"
   ]
  },
  {
   "cell_type": "code",
   "execution_count": 14,
   "id": "611bebff-3bf6-4d68-9689-9d64367ce129",
   "metadata": {},
   "outputs": [
    {
     "name": "stdout",
     "output_type": "stream",
     "text": [
      "<class '__main__.pwskills'>\n"
     ]
    }
   ],
   "source": [
    "print(type(rohan))"
   ]
  },
  {
   "cell_type": "code",
   "execution_count": 15,
   "id": "1b488efb-7745-4965-a309-3ee8ea7bca88",
   "metadata": {},
   "outputs": [
    {
     "name": "stdout",
     "output_type": "stream",
     "text": [
      "welcome \n"
     ]
    }
   ],
   "source": [
    "rohan.welcome_msg()\n"
   ]
  },
  {
   "cell_type": "code",
   "execution_count": 19,
   "id": "91ad89e0-6420-40cc-ae17-1585573f6411",
   "metadata": {},
   "outputs": [],
   "source": [
    "shri = pwskills()"
   ]
  },
  {
   "cell_type": "code",
   "execution_count": 20,
   "id": "137f2555-1c60-4a4e-b5e0-16588c3a2f0e",
   "metadata": {},
   "outputs": [
    {
     "name": "stdout",
     "output_type": "stream",
     "text": [
      "welcome \n"
     ]
    }
   ],
   "source": [
    "shri.welcome_msg()"
   ]
  },
  {
   "cell_type": "code",
   "execution_count": null,
   "id": "7244df58-77d3-41d0-af24-e03dd6d5a438",
   "metadata": {},
   "outputs": [],
   "source": []
  },
  {
   "cell_type": "code",
   "execution_count": 5,
   "id": "e7783324-b2f7-4d09-b4cb-9f6eb1b4e6df",
   "metadata": {},
   "outputs": [],
   "source": [
    "class pwskills1:\n",
    "    def __init__(self,phone, email, s_id):\n",
    "        self.phone = phone \n",
    "        self.email = email \n",
    "        self.s_id = s_id\n",
    "        \n",
    "    def return_student_details(self):\n",
    "        return self.s_id, self.phone, self.email\n",
    "    "
   ]
  },
  {
   "cell_type": "code",
   "execution_count": 6,
   "id": "5c82418c-8be7-430d-8ea4-6fff15e34d54",
   "metadata": {},
   "outputs": [
    {
     "ename": "TypeError",
     "evalue": "pwskills1.__init__() missing 3 required positional arguments: 'phone', 'email', and 's_id'",
     "output_type": "error",
     "traceback": [
      "\u001b[0;31m---------------------------------------------------------------------------\u001b[0m",
      "\u001b[0;31mTypeError\u001b[0m                                 Traceback (most recent call last)",
      "Cell \u001b[0;32mIn[6], line 1\u001b[0m\n\u001b[0;32m----> 1\u001b[0m rohan \u001b[38;5;241m=\u001b[39m \u001b[43mpwskills1\u001b[49m\u001b[43m(\u001b[49m\u001b[43m)\u001b[49m\n\u001b[1;32m      2\u001b[0m \u001b[38;5;66;03m#have to pass parameters\u001b[39;00m\n",
      "\u001b[0;31mTypeError\u001b[0m: pwskills1.__init__() missing 3 required positional arguments: 'phone', 'email', and 's_id'"
     ]
    }
   ],
   "source": [
    "rohan = pwskills1()\n",
    "#have to pass parameters"
   ]
  },
  {
   "cell_type": "code",
   "execution_count": 7,
   "id": "3ca9bb5e-8c75-4f38-809a-cfcf7374bd68",
   "metadata": {},
   "outputs": [],
   "source": [
    "rohan = pwskills1(256565622,\"r@gmail.com\", 3)"
   ]
  },
  {
   "cell_type": "code",
   "execution_count": 8,
   "id": "d959aaf0-531b-4d0d-ae74-7d24e03612ee",
   "metadata": {},
   "outputs": [
    {
     "data": {
      "text/plain": [
       "(3, 256565622, 'r@gmail.com')"
      ]
     },
     "execution_count": 8,
     "metadata": {},
     "output_type": "execute_result"
    }
   ],
   "source": [
    "rohan.return_student_details()"
   ]
  },
  {
   "cell_type": "code",
   "execution_count": 9,
   "id": "e919ca7e-2fc4-4b61-809a-7696cb726653",
   "metadata": {},
   "outputs": [
    {
     "data": {
      "text/plain": [
       "256565622"
      ]
     },
     "execution_count": 9,
     "metadata": {},
     "output_type": "execute_result"
    }
   ],
   "source": [
    "rohan.phone"
   ]
  },
  {
   "cell_type": "code",
   "execution_count": 10,
   "id": "95932d28-f11f-4d32-b7da-078464f312ba",
   "metadata": {},
   "outputs": [
    {
     "data": {
      "text/plain": [
       "'r@gmail.com'"
      ]
     },
     "execution_count": 10,
     "metadata": {},
     "output_type": "execute_result"
    }
   ],
   "source": [
    "rohan.email"
   ]
  },
  {
   "cell_type": "code",
   "execution_count": null,
   "id": "6d06e4aa-5547-4e37-8ee9-91cd298133bc",
   "metadata": {},
   "outputs": [],
   "source": []
  },
  {
   "cell_type": "code",
   "execution_count": 11,
   "id": "b0f4adeb-00b0-4430-8911-f5d04e909745",
   "metadata": {},
   "outputs": [],
   "source": [
    "gourav = pwskills1(999899998,\"g@gmail.com\", 102)"
   ]
  },
  {
   "cell_type": "code",
   "execution_count": 12,
   "id": "c3866c67-28e9-4e95-9424-176f425fa692",
   "metadata": {},
   "outputs": [
    {
     "data": {
      "text/plain": [
       "(102, 999899998, 'g@gmail.com')"
      ]
     },
     "execution_count": 12,
     "metadata": {},
     "output_type": "execute_result"
    }
   ],
   "source": [
    "gourav.return_student_details()"
   ]
  },
  {
   "cell_type": "code",
   "execution_count": null,
   "id": "61b5e756-3716-4c4f-9a49-ea11d150f727",
   "metadata": {},
   "outputs": [],
   "source": []
  },
  {
   "cell_type": "code",
   "execution_count": 2,
   "id": "b398280b-30cf-4e97-b658-94f5ea29db73",
   "metadata": {},
   "outputs": [],
   "source": [
    "class pwskills2:\n",
    "    def __init__(self,phone, email, s_id):\n",
    "        self.phone1 = phone \n",
    "        self.email1 = email \n",
    "        self.s_id1 = s_id\n",
    "        \n",
    "    def return_student_details(self):\n",
    "        return self.s_id, self.phone, self.s_id\n",
    "    "
   ]
  },
  {
   "cell_type": "code",
   "execution_count": 3,
   "id": "337f7d82-e317-41cd-9d1f-118e484cfdfa",
   "metadata": {},
   "outputs": [],
   "source": [
    "gourav = pwskills2(999899998,\"g@gmail.com\", 102)"
   ]
  },
  {
   "cell_type": "code",
   "execution_count": null,
   "id": "4522f6c0-7ff1-47f0-8383-c95e92449036",
   "metadata": {},
   "outputs": [],
   "source": [
    "gourav.return_student_details()\n",
    "#give error"
   ]
  },
  {
   "cell_type": "code",
   "execution_count": null,
   "id": "330b4b83-31f9-452f-a714-d14adabe1b51",
   "metadata": {},
   "outputs": [],
   "source": [
    "gourav.phone\n",
    "#give error"
   ]
  },
  {
   "cell_type": "code",
   "execution_count": 6,
   "id": "2c54fa86-b1cd-4e44-9d71-ef9dcbed7e84",
   "metadata": {},
   "outputs": [
    {
     "data": {
      "text/plain": [
       "999899998"
      ]
     },
     "execution_count": 6,
     "metadata": {},
     "output_type": "execute_result"
    }
   ],
   "source": [
    "gourav.phone1"
   ]
  },
  {
   "cell_type": "code",
   "execution_count": null,
   "id": "a95a2878-2c7e-4a62-8018-2d04a011657d",
   "metadata": {},
   "outputs": [],
   "source": []
  },
  {
   "cell_type": "code",
   "execution_count": null,
   "id": "98c959ea-c103-4548-b4fd-cd93002c597a",
   "metadata": {},
   "outputs": [],
   "source": [
    "#self is not a reserved keyword"
   ]
  },
  {
   "cell_type": "code",
   "execution_count": 7,
   "id": "e994d685-4ff1-4ad7-94aa-f230ff219a7f",
   "metadata": {},
   "outputs": [],
   "source": [
    "class pwskills3:\n",
    "    def __init__(shri,phone, email, s_id):\n",
    "        shri.phone1 = phone \n",
    "        shri.email1 = email \n",
    "        shri.s_id1 = s_id\n",
    "        \n",
    "    def return_student_details(self):\n",
    "        return shri.s_id, shri.phone, shri.s_id\n",
    "    "
   ]
  },
  {
   "cell_type": "code",
   "execution_count": 8,
   "id": "fdbba781-613d-47cb-853a-444dd89462da",
   "metadata": {},
   "outputs": [],
   "source": [
    "shrikanta = pwskills3(999899998,\"s@gmail.com\", 108)"
   ]
  },
  {
   "cell_type": "code",
   "execution_count": 9,
   "id": "9d09284a-7674-40b2-86a6-cd5747ed44ee",
   "metadata": {},
   "outputs": [
    {
     "data": {
      "text/plain": [
       "999899998"
      ]
     },
     "execution_count": 9,
     "metadata": {},
     "output_type": "execute_result"
    }
   ],
   "source": [
    "shrikanta.phone1"
   ]
  },
  {
   "cell_type": "code",
   "execution_count": null,
   "id": "a45c9a87-c5c2-48a8-8091-a124f6451422",
   "metadata": {},
   "outputs": [],
   "source": []
  }
 ],
 "metadata": {
  "kernelspec": {
   "display_name": "Python 3 (ipykernel)",
   "language": "python",
   "name": "python3"
  },
  "language_info": {
   "codemirror_mode": {
    "name": "ipython",
    "version": 3
   },
   "file_extension": ".py",
   "mimetype": "text/x-python",
   "name": "python",
   "nbconvert_exporter": "python",
   "pygments_lexer": "ipython3",
   "version": "3.10.8"
  }
 },
 "nbformat": 4,
 "nbformat_minor": 5
}
