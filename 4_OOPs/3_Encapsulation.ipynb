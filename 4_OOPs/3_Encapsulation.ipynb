{
 "cells": [
  {
   "cell_type": "code",
   "execution_count": 1,
   "id": "6c620b76-f04b-4e59-bc9c-3c595fb14409",
   "metadata": {},
   "outputs": [],
   "source": [
    "class test:\n",
    "    \n",
    "    def __init__(self, a, b):\n",
    "        self.a = a\n",
    "        self.b = b"
   ]
  },
  {
   "cell_type": "code",
   "execution_count": 2,
   "id": "2feee206-6258-45f7-8fc9-d8bbf23652d7",
   "metadata": {},
   "outputs": [],
   "source": [
    "t = test(23,44)"
   ]
  },
  {
   "cell_type": "code",
   "execution_count": 3,
   "id": "ee51b446-cc9d-4588-8b79-4986819681b3",
   "metadata": {},
   "outputs": [
    {
     "data": {
      "text/plain": [
       "23"
      ]
     },
     "execution_count": 3,
     "metadata": {},
     "output_type": "execute_result"
    }
   ],
   "source": [
    "t.a"
   ]
  },
  {
   "cell_type": "code",
   "execution_count": 4,
   "id": "cb18accc-9e5d-4fa6-b0ce-5d8625ca4974",
   "metadata": {},
   "outputs": [],
   "source": [
    "t.a= 55555"
   ]
  },
  {
   "cell_type": "code",
   "execution_count": 5,
   "id": "541d7684-9566-4f9c-8ad0-93e389fb02a9",
   "metadata": {},
   "outputs": [
    {
     "data": {
      "text/plain": [
       "55555"
      ]
     },
     "execution_count": 5,
     "metadata": {},
     "output_type": "execute_result"
    }
   ],
   "source": [
    "t.a"
   ]
  },
  {
   "cell_type": "code",
   "execution_count": null,
   "id": "84013bc8-8328-4f65-a5a9-b6e4597ba269",
   "metadata": {},
   "outputs": [],
   "source": []
  },
  {
   "cell_type": "code",
   "execution_count": null,
   "id": "401dd7cd-3cbd-4959-ad72-03359cc00925",
   "metadata": {},
   "outputs": [],
   "source": [
    "#hiding implementation using encapsulation"
   ]
  },
  {
   "cell_type": "code",
   "execution_count": 13,
   "id": "4d7db009-2ccc-4ae9-b07f-b30bf39c12e3",
   "metadata": {},
   "outputs": [],
   "source": [
    "class car:\n",
    "    \n",
    "    def __init__(self, year, make, model, speed):\n",
    "        self.__year = year     #private\n",
    "        self.__make = make\n",
    "        self.__model = model\n",
    "        self.__speed = 0\n",
    "        \n",
    "    #set the private values\n",
    "    def set_speed(self, speed):\n",
    "        self.__speed = 0 if speed < 0 else speed\n",
    "    \n",
    "    def get_speed(self):\n",
    "        return self.__speed"
   ]
  },
  {
   "cell_type": "code",
   "execution_count": 14,
   "id": "4fe4e76a-72ac-48f2-9223-a6b77feded6c",
   "metadata": {},
   "outputs": [],
   "source": [
    "c = car(2021, \"toyata\", \"innova\", 12)"
   ]
  },
  {
   "cell_type": "code",
   "execution_count": null,
   "id": "fd40962d-eb1e-45cd-84e1-8a1ca662b810",
   "metadata": {},
   "outputs": [],
   "source": [
    "c.__year\n",
    "#give error"
   ]
  },
  {
   "cell_type": "code",
   "execution_count": 16,
   "id": "a236ed0e-2076-43e6-97bb-b4a466cc051c",
   "metadata": {},
   "outputs": [
    {
     "data": {
      "text/plain": [
       "2021"
      ]
     },
     "execution_count": 16,
     "metadata": {},
     "output_type": "execute_result"
    }
   ],
   "source": [
    "#accessible like this\n",
    "c._car__year"
   ]
  },
  {
   "cell_type": "code",
   "execution_count": 17,
   "id": "222eb0cd-99f8-459e-b693-4aa70c2001dc",
   "metadata": {},
   "outputs": [],
   "source": [
    "c.set_speed(-229)"
   ]
  },
  {
   "cell_type": "code",
   "execution_count": 18,
   "id": "4698cb8c-fab5-4341-9ff0-3b87263c87da",
   "metadata": {},
   "outputs": [
    {
     "data": {
      "text/plain": [
       "0"
      ]
     },
     "execution_count": 18,
     "metadata": {},
     "output_type": "execute_result"
    }
   ],
   "source": [
    "c.get_speed()"
   ]
  },
  {
   "cell_type": "code",
   "execution_count": 19,
   "id": "11377a32-1752-4a3b-a75c-40e159c07573",
   "metadata": {},
   "outputs": [],
   "source": [
    "c.set_speed(29)"
   ]
  },
  {
   "cell_type": "code",
   "execution_count": 20,
   "id": "b4b5babc-e5ec-4198-a38a-bf099bcbbf5c",
   "metadata": {},
   "outputs": [
    {
     "data": {
      "text/plain": [
       "29"
      ]
     },
     "execution_count": 20,
     "metadata": {},
     "output_type": "execute_result"
    }
   ],
   "source": [
    "c.get_speed()"
   ]
  },
  {
   "cell_type": "code",
   "execution_count": null,
   "id": "4e17d3a1-bd5b-402d-b2c1-4519d1aaf294",
   "metadata": {},
   "outputs": [],
   "source": []
  },
  {
   "cell_type": "code",
   "execution_count": 22,
   "id": "88353251-9ef9-4f34-aab9-eca4b8edfcb8",
   "metadata": {},
   "outputs": [],
   "source": [
    "class bank_account:\n",
    "    \n",
    "    def __init__(self,balance):\n",
    "        self.__balance = balance\n",
    "        \n",
    "    def deposit(self, amount):\n",
    "        self.__balance = self.__balance + amount\n",
    "        \n",
    "    def withdraw(self, amount):\n",
    "        if self.__balance >= amount :\n",
    "            self.__balance = self.__balance - amount\n",
    "            return True\n",
    "        else:\n",
    "            return False\n",
    "        \n",
    "    def get_balance(self):\n",
    "        return self.__balance"
   ]
  },
  {
   "cell_type": "code",
   "execution_count": 24,
   "id": "22e0b782-c7f5-4de8-a740-a6c6a0585e11",
   "metadata": {},
   "outputs": [],
   "source": [
    "shri  = bank_account(1000)"
   ]
  },
  {
   "cell_type": "code",
   "execution_count": 25,
   "id": "0ccea29f-97af-4a61-a717-199e83749b68",
   "metadata": {},
   "outputs": [
    {
     "data": {
      "text/plain": [
       "1000"
      ]
     },
     "execution_count": 25,
     "metadata": {},
     "output_type": "execute_result"
    }
   ],
   "source": [
    "shri.get_balance()"
   ]
  },
  {
   "cell_type": "code",
   "execution_count": 26,
   "id": "8993d8fc-4058-4a35-aac2-50f24c583b69",
   "metadata": {},
   "outputs": [],
   "source": [
    "shri.deposit(5000)"
   ]
  },
  {
   "cell_type": "code",
   "execution_count": 27,
   "id": "93ab6b4e-4764-42d6-bda0-56a0d9378170",
   "metadata": {},
   "outputs": [
    {
     "data": {
      "text/plain": [
       "6000"
      ]
     },
     "execution_count": 27,
     "metadata": {},
     "output_type": "execute_result"
    }
   ],
   "source": [
    "shri.get_balance()"
   ]
  },
  {
   "cell_type": "code",
   "execution_count": 28,
   "id": "6b7b9672-92f7-484f-b2c7-6fbdb7713dd7",
   "metadata": {},
   "outputs": [],
   "source": [
    "shri.deposit(1000)"
   ]
  },
  {
   "cell_type": "code",
   "execution_count": 29,
   "id": "c358ef5e-5458-4764-8f9e-97bdafe7a7dd",
   "metadata": {},
   "outputs": [
    {
     "data": {
      "text/plain": [
       "7000"
      ]
     },
     "execution_count": 29,
     "metadata": {},
     "output_type": "execute_result"
    }
   ],
   "source": [
    "shri.get_balance()"
   ]
  },
  {
   "cell_type": "code",
   "execution_count": 31,
   "id": "9a9ec431-fe1e-4b23-966c-94af6fb529d6",
   "metadata": {},
   "outputs": [
    {
     "data": {
      "text/plain": [
       "False"
      ]
     },
     "execution_count": 31,
     "metadata": {},
     "output_type": "execute_result"
    }
   ],
   "source": [
    "shri.withdraw(9000)"
   ]
  },
  {
   "cell_type": "code",
   "execution_count": 32,
   "id": "65874ac0-aba3-44e2-bba1-a5bc67865b87",
   "metadata": {},
   "outputs": [
    {
     "data": {
      "text/plain": [
       "True"
      ]
     },
     "execution_count": 32,
     "metadata": {},
     "output_type": "execute_result"
    }
   ],
   "source": [
    "shri.withdraw(2)"
   ]
  },
  {
   "cell_type": "code",
   "execution_count": 33,
   "id": "ea816ea5-f68b-41f0-90a0-43da047eabdb",
   "metadata": {},
   "outputs": [
    {
     "data": {
      "text/plain": [
       "6998"
      ]
     },
     "execution_count": 33,
     "metadata": {},
     "output_type": "execute_result"
    }
   ],
   "source": [
    "shri.get_balance()"
   ]
  },
  {
   "cell_type": "code",
   "execution_count": null,
   "id": "f3220183-959a-4c1d-a50e-fbe1c5cae109",
   "metadata": {},
   "outputs": [],
   "source": []
  }
 ],
 "metadata": {
  "kernelspec": {
   "display_name": "Python 3 (ipykernel)",
   "language": "python",
   "name": "python3"
  },
  "language_info": {
   "codemirror_mode": {
    "name": "ipython",
    "version": 3
   },
   "file_extension": ".py",
   "mimetype": "text/x-python",
   "name": "python",
   "nbconvert_exporter": "python",
   "pygments_lexer": "ipython3",
   "version": "3.10.8"
  }
 },
 "nbformat": 4,
 "nbformat_minor": 5
}
