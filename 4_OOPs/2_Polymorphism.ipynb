{
 "cells": [
  {
   "cell_type": "code",
   "execution_count": 1,
   "id": "6d1e3095-ac09-4931-86da-6c025cf5ed5f",
   "metadata": {},
   "outputs": [],
   "source": [
    "def test(a,b):\n",
    "    return a+b"
   ]
  },
  {
   "cell_type": "code",
   "execution_count": 2,
   "id": "2be403ed-1a7a-4cd6-b5fc-f6f737625e55",
   "metadata": {},
   "outputs": [
    {
     "data": {
      "text/plain": [
       "7"
      ]
     },
     "execution_count": 2,
     "metadata": {},
     "output_type": "execute_result"
    }
   ],
   "source": [
    "test(3,4)"
   ]
  },
  {
   "cell_type": "code",
   "execution_count": 3,
   "id": "d832176d-f356-4b70-858e-d1b33da5d6f6",
   "metadata": {},
   "outputs": [
    {
     "data": {
      "text/plain": [
       "[3, 4, 5, 6, 2, 3, 6]"
      ]
     },
     "execution_count": 3,
     "metadata": {},
     "output_type": "execute_result"
    }
   ],
   "source": [
    "test([3,4,5,6],[2,3,6])"
   ]
  },
  {
   "cell_type": "code",
   "execution_count": null,
   "id": "1751b15c-2939-440e-9448-95a2ac846b8a",
   "metadata": {},
   "outputs": [],
   "source": []
  },
  {
   "cell_type": "code",
   "execution_count": 8,
   "id": "0d7fec2c-78f0-4ae4-a98b-fe671af0ebb3",
   "metadata": {},
   "outputs": [],
   "source": [
    "class data_science:\n",
    "    \n",
    "    def syllabus(self):\n",
    "        print(\"my ds syllabus\")"
   ]
  },
  {
   "cell_type": "code",
   "execution_count": 9,
   "id": "6716b9f3-0aff-4ae8-a26f-05d98dfb0042",
   "metadata": {},
   "outputs": [],
   "source": [
    "class web_dev:\n",
    "    \n",
    "    def syllabus(self):\n",
    "        print(\"my wd syllabus\")"
   ]
  },
  {
   "cell_type": "code",
   "execution_count": 10,
   "id": "680f86e0-1c2f-476f-8674-cfea325e4f7a",
   "metadata": {},
   "outputs": [],
   "source": [
    "def class_parcer(class_obj):\n",
    "    for i in class_obj:\n",
    "        i.syllabus()"
   ]
  },
  {
   "cell_type": "code",
   "execution_count": 11,
   "id": "c0e7cc9a-4cda-43b8-b832-aedf4dc8bf22",
   "metadata": {},
   "outputs": [],
   "source": [
    "data_science = data_science()"
   ]
  },
  {
   "cell_type": "code",
   "execution_count": 12,
   "id": "55c10a78-ea74-4fd0-8bf4-f7d449ffd7af",
   "metadata": {},
   "outputs": [],
   "source": [
    "web_dev = web_dev()"
   ]
  },
  {
   "cell_type": "code",
   "execution_count": 13,
   "id": "af64dd18-3f0e-4cc5-8f9f-1071415525ad",
   "metadata": {},
   "outputs": [],
   "source": [
    "class_obj = [data_science, web_dev]"
   ]
  },
  {
   "cell_type": "code",
   "execution_count": 14,
   "id": "f9e3165a-c7a3-4c41-ade9-895789b9dbab",
   "metadata": {},
   "outputs": [
    {
     "name": "stdout",
     "output_type": "stream",
     "text": [
      "my ds syllabus\n",
      "my wd syllabus\n"
     ]
    }
   ],
   "source": [
    "class_parcer(class_obj)"
   ]
  },
  {
   "cell_type": "code",
   "execution_count": null,
   "id": "b6a5950b-097f-4f11-8915-ebdbdeadf3d3",
   "metadata": {},
   "outputs": [],
   "source": []
  }
 ],
 "metadata": {
  "kernelspec": {
   "display_name": "Python 3 (ipykernel)",
   "language": "python",
   "name": "python3"
  },
  "language_info": {
   "codemirror_mode": {
    "name": "ipython",
    "version": 3
   },
   "file_extension": ".py",
   "mimetype": "text/x-python",
   "name": "python",
   "nbconvert_exporter": "python",
   "pygments_lexer": "ipython3",
   "version": "3.10.8"
  }
 },
 "nbformat": 4,
 "nbformat_minor": 5
}
