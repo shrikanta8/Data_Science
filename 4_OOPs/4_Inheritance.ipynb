{
 "cells": [
  {
   "cell_type": "code",
   "execution_count": 1,
   "id": "d0b84915-3cd7-4dd9-8faf-32582fae65dd",
   "metadata": {},
   "outputs": [],
   "source": [
    "class test:\n",
    "    \n",
    "    def test_method(self):\n",
    "        return \"this is my first class\""
   ]
  },
  {
   "cell_type": "code",
   "execution_count": 2,
   "id": "c8d5905d-7fd3-48ad-ad9c-3b2065265e22",
   "metadata": {},
   "outputs": [],
   "source": [
    "class child_test(test):\n",
    "    pass"
   ]
  },
  {
   "cell_type": "code",
   "execution_count": 3,
   "id": "30384832-a59a-44d8-9c25-1842f55c8c44",
   "metadata": {},
   "outputs": [],
   "source": [
    "child_test_obj = child_test()"
   ]
  },
  {
   "cell_type": "code",
   "execution_count": 4,
   "id": "41cedae1-1cb3-46f1-b813-4d9f5080ceb6",
   "metadata": {},
   "outputs": [
    {
     "data": {
      "text/plain": [
       "'this is my first class'"
      ]
     },
     "execution_count": 4,
     "metadata": {},
     "output_type": "execute_result"
    }
   ],
   "source": [
    "child_test_obj.test_method()"
   ]
  },
  {
   "cell_type": "code",
   "execution_count": null,
   "id": "ee6fde22-d498-49b7-99b7-ed12e1a0c2a9",
   "metadata": {},
   "outputs": [],
   "source": []
  },
  {
   "cell_type": "code",
   "execution_count": null,
   "id": "eeecd900-09e0-42de-9af9-e11de685d402",
   "metadata": {},
   "outputs": [],
   "source": [
    "#multilevel inheritance"
   ]
  },
  {
   "cell_type": "code",
   "execution_count": 5,
   "id": "1e391054-b3ed-4ebc-9152-5b4d325880bb",
   "metadata": {},
   "outputs": [],
   "source": [
    "class class1:\n",
    "    def test_class1(self):\n",
    "        return \"method from class1\""
   ]
  },
  {
   "cell_type": "code",
   "execution_count": 6,
   "id": "4d969f85-9e14-4823-b31f-9382305c227c",
   "metadata": {},
   "outputs": [],
   "source": [
    "class class2(class1):\n",
    "    def test_class2(self):\n",
    "        return \"method from class2\""
   ]
  },
  {
   "cell_type": "code",
   "execution_count": 9,
   "id": "ede36b02-4520-46fd-a3d8-67617971cf73",
   "metadata": {},
   "outputs": [],
   "source": [
    "class class3(class2):\n",
    "    pass"
   ]
  },
  {
   "cell_type": "code",
   "execution_count": 10,
   "id": "36dad422-c430-4a60-b61d-13c87a52883f",
   "metadata": {},
   "outputs": [],
   "source": [
    "obj_class3 = class3()"
   ]
  },
  {
   "cell_type": "code",
   "execution_count": 11,
   "id": "824069c7-0573-4251-8a08-35ff4e4f7b5d",
   "metadata": {},
   "outputs": [
    {
     "data": {
      "text/plain": [
       "'method from class2'"
      ]
     },
     "execution_count": 11,
     "metadata": {},
     "output_type": "execute_result"
    }
   ],
   "source": [
    "obj_class3.test_class2()"
   ]
  },
  {
   "cell_type": "code",
   "execution_count": null,
   "id": "d56b2415-2f47-4aa5-b839-aeaae5b1336c",
   "metadata": {},
   "outputs": [],
   "source": []
  },
  {
   "cell_type": "code",
   "execution_count": 12,
   "id": "57392772-5c87-4660-9d95-daef8ae94c14",
   "metadata": {},
   "outputs": [],
   "source": [
    " #multiple inheritance"
   ]
  },
  {
   "cell_type": "code",
   "execution_count": 13,
   "id": "617b2b37-e741-4b2f-968b-52cda1f6838e",
   "metadata": {},
   "outputs": [],
   "source": [
    "class class1:\n",
    "    def test_class1(self):\n",
    "        return \"method from class1\""
   ]
  },
  {
   "cell_type": "code",
   "execution_count": 14,
   "id": "1769da3f-384d-44a9-9950-94fbe9d8f7d7",
   "metadata": {},
   "outputs": [],
   "source": [
    "class class2:\n",
    "    def test_class2(self):\n",
    "        return \"method from class2\""
   ]
  },
  {
   "cell_type": "code",
   "execution_count": 15,
   "id": "63af18e8-b2ab-42c4-88da-faf298e63b10",
   "metadata": {},
   "outputs": [],
   "source": [
    "class class3(class1, class2):\n",
    "    pass"
   ]
  },
  {
   "cell_type": "code",
   "execution_count": 16,
   "id": "e811c78e-b215-4966-b67d-b86495736811",
   "metadata": {},
   "outputs": [],
   "source": [
    "obj_class3 = class3()"
   ]
  },
  {
   "cell_type": "code",
   "execution_count": 17,
   "id": "4dab7b1d-4dd7-4b2a-bf76-854cc862e5fa",
   "metadata": {},
   "outputs": [
    {
     "data": {
      "text/plain": [
       "'method from class1'"
      ]
     },
     "execution_count": 17,
     "metadata": {},
     "output_type": "execute_result"
    }
   ],
   "source": [
    "obj_class3.test_class1()"
   ]
  },
  {
   "cell_type": "code",
   "execution_count": 18,
   "id": "767f5c2d-2c2b-4d79-878b-2f67799c23b7",
   "metadata": {},
   "outputs": [
    {
     "data": {
      "text/plain": [
       "'method from class2'"
      ]
     },
     "execution_count": 18,
     "metadata": {},
     "output_type": "execute_result"
    }
   ],
   "source": [
    "obj_class3.test_class2()"
   ]
  },
  {
   "cell_type": "code",
   "execution_count": null,
   "id": "5b473d66-58c9-4297-942f-ecd2c67ed8c3",
   "metadata": {},
   "outputs": [],
   "source": []
  }
 ],
 "metadata": {
  "kernelspec": {
   "display_name": "Python 3 (ipykernel)",
   "language": "python",
   "name": "python3"
  },
  "language_info": {
   "codemirror_mode": {
    "name": "ipython",
    "version": 3
   },
   "file_extension": ".py",
   "mimetype": "text/x-python",
   "name": "python",
   "nbconvert_exporter": "python",
   "pygments_lexer": "ipython3",
   "version": "3.10.8"
  }
 },
 "nbformat": 4,
 "nbformat_minor": 5
}
