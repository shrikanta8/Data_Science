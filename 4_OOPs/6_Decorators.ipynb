{
 "cells": [
  {
   "cell_type": "code",
   "execution_count": 2,
   "id": "6a54d434-2dcd-4221-8370-b37df99d44c1",
   "metadata": {},
   "outputs": [],
   "source": [
    "def test():\n",
    "    print(\"start here\")\n",
    "    print(\"this is test func\")\n",
    "    print(4+5)\n",
    "    print(\"end here\")   "
   ]
  },
  {
   "cell_type": "code",
   "execution_count": 3,
   "id": "4a487f41-b381-4eef-869f-f3f78634a65c",
   "metadata": {},
   "outputs": [
    {
     "name": "stdout",
     "output_type": "stream",
     "text": [
      "start here\n",
      "this is test func\n",
      "9\n",
      "end here\n"
     ]
    }
   ],
   "source": [
    "test()"
   ]
  },
  {
   "cell_type": "code",
   "execution_count": null,
   "id": "f69c8dc8-cf27-4fd3-a114-829a50fa33a3",
   "metadata": {},
   "outputs": [],
   "source": []
  },
  {
   "cell_type": "code",
   "execution_count": 4,
   "id": "47269c3e-0b36-490b-95cc-3009005f7158",
   "metadata": {},
   "outputs": [],
   "source": [
    "#decorator function"
   ]
  },
  {
   "cell_type": "code",
   "execution_count": 5,
   "id": "5e25c5e0-1ed1-4e34-a640-ca5bfc9636ae",
   "metadata": {},
   "outputs": [],
   "source": [
    "def deco(func):\n",
    "    def inner_dec():\n",
    "        print(\"start here\")\n",
    "        func()\n",
    "        print(\"end here\")       \n",
    "    return inner_dec"
   ]
  },
  {
   "cell_type": "code",
   "execution_count": 6,
   "id": "78678bc0-317e-4b1e-ba6c-329919c30415",
   "metadata": {},
   "outputs": [],
   "source": [
    "@deco\n",
    "def test1():\n",
    "    print(5+5)"
   ]
  },
  {
   "cell_type": "code",
   "execution_count": 7,
   "id": "27291afb-5f0c-44cc-901e-2c366f2a223b",
   "metadata": {},
   "outputs": [
    {
     "name": "stdout",
     "output_type": "stream",
     "text": [
      "start here\n",
      "10\n",
      "end here\n"
     ]
    }
   ],
   "source": [
    "test1()"
   ]
  },
  {
   "cell_type": "code",
   "execution_count": null,
   "id": "0bce3aeb-a7bb-4ced-9ba3-d51946deffbc",
   "metadata": {},
   "outputs": [],
   "source": []
  },
  {
   "cell_type": "code",
   "execution_count": 1,
   "id": "b396fc65-1c18-44e2-98cb-730549a8730e",
   "metadata": {},
   "outputs": [],
   "source": [
    "import time\n",
    "\n",
    "def timer_test(func):\n",
    "    def timer_test_inner():\n",
    "        start = time.time()\n",
    "        func()\n",
    "        end = time.time()\n",
    "        print(end-start)\n",
    "    return timer_test_inner()"
   ]
  },
  {
   "cell_type": "code",
   "execution_count": 2,
   "id": "82aae16b-d359-4e43-9812-a9bfbef067cc",
   "metadata": {},
   "outputs": [],
   "source": [
    "def test2():\n",
    "    print(3+44)"
   ]
  },
  {
   "cell_type": "code",
   "execution_count": 3,
   "id": "d712bb1b-b3c6-420e-95e1-3b7e3f2f9317",
   "metadata": {},
   "outputs": [
    {
     "name": "stdout",
     "output_type": "stream",
     "text": [
      "47\n"
     ]
    }
   ],
   "source": [
    "test2()"
   ]
  },
  {
   "cell_type": "code",
   "execution_count": 16,
   "id": "9fba0a4e-efcf-4e2b-b935-01f3180773ea",
   "metadata": {},
   "outputs": [
    {
     "name": "stdout",
     "output_type": "stream",
     "text": [
      "47\n",
      "6.103515625e-05\n"
     ]
    }
   ],
   "source": [
    "@timer_test\n",
    "def test3():\n",
    "    print(3+44)"
   ]
  },
  {
   "cell_type": "code",
   "execution_count": null,
   "id": "3a933bee-60b7-42aa-92aa-1613ce8af32c",
   "metadata": {},
   "outputs": [],
   "source": []
  },
  {
   "cell_type": "code",
   "execution_count": 17,
   "id": "c8d7e0c6-a6bb-4064-aeaf-9008a941b70d",
   "metadata": {},
   "outputs": [
    {
     "name": "stdout",
     "output_type": "stream",
     "text": [
      "0.2548251152038574\n"
     ]
    }
   ],
   "source": [
    "@timer_test\n",
    "def test5():\n",
    "    for i in range(10000000):\n",
    "        pass"
   ]
  },
  {
   "cell_type": "code",
   "execution_count": null,
   "id": "e9e1fbb9-6985-4a9d-9021-92bc9984670d",
   "metadata": {},
   "outputs": [],
   "source": []
  },
  {
   "cell_type": "code",
   "execution_count": null,
   "id": "d4f48a89-a37a-4cb0-a307-d2da4ce5b9b5",
   "metadata": {},
   "outputs": [],
   "source": []
  }
 ],
 "metadata": {
  "kernelspec": {
   "display_name": "Python 3 (ipykernel)",
   "language": "python",
   "name": "python3"
  },
  "language_info": {
   "codemirror_mode": {
    "name": "ipython",
    "version": 3
   },
   "file_extension": ".py",
   "mimetype": "text/x-python",
   "name": "python",
   "nbconvert_exporter": "python",
   "pygments_lexer": "ipython3",
   "version": "3.10.8"
  }
 },
 "nbformat": 4,
 "nbformat_minor": 5
}
