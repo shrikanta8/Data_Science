{
 "cells": [
  {
   "cell_type": "code",
   "execution_count": 19,
   "id": "6a4c88dc-e2eb-4c20-91cc-642261e79b2b",
   "metadata": {},
   "outputs": [],
   "source": [
    "class pwskills:\n",
    "    \n",
    "    def __init__(self, name, email):\n",
    "        self.name = name\n",
    "        self.email = email\n",
    "        \n",
    "    def students_details(self):\n",
    "        print(self.name, self.email)"
   ]
  },
  {
   "cell_type": "code",
   "execution_count": 16,
   "id": "6ac96fef-7164-4846-8db6-f58fd50d7f59",
   "metadata": {},
   "outputs": [],
   "source": [
    "pw = pwskills(\"mohan\",\"m@gmail.com\")"
   ]
  },
  {
   "cell_type": "code",
   "execution_count": 17,
   "id": "a256faf5-04a9-490d-93bd-23fcf21c4e70",
   "metadata": {},
   "outputs": [
    {
     "data": {
      "text/plain": [
       "'m@gmail.com'"
      ]
     },
     "execution_count": 17,
     "metadata": {},
     "output_type": "execute_result"
    }
   ],
   "source": [
    "pw.email"
   ]
  },
  {
   "cell_type": "code",
   "execution_count": 18,
   "id": "508ac74b-d5ce-48bb-8365-29c8cea523a5",
   "metadata": {},
   "outputs": [
    {
     "name": "stdout",
     "output_type": "stream",
     "text": [
      "mohan m@gmail.com\n"
     ]
    }
   ],
   "source": [
    "pw.students_details()"
   ]
  },
  {
   "cell_type": "code",
   "execution_count": null,
   "id": "86cd4c1e-99eb-4880-b654-4781c4a877ed",
   "metadata": {},
   "outputs": [],
   "source": []
  },
  {
   "cell_type": "code",
   "execution_count": null,
   "id": "35f654fd-6c7b-43c3-8a95-f1517e7b2afe",
   "metadata": {},
   "outputs": [],
   "source": [
    "# we haven't created an object here!\n",
    "# we have overloaded __init__ method"
   ]
  },
  {
   "cell_type": "code",
   "execution_count": 1,
   "id": "76c11d08-bd94-445e-bb73-7cdc34bbab83",
   "metadata": {},
   "outputs": [],
   "source": [
    "class pwskills1:\n",
    "    \n",
    "    def __init__(self, name, email):\n",
    "        self.name = name\n",
    "        self.email = email\n",
    "    \n",
    "    @classmethod    #decorator\n",
    "    def details(cls, name, email):\n",
    "        return cls(name, email)\n",
    "        #cls is  reference which is pointing to our class pwskills1\n",
    "        #it is giving name and email to  class\n",
    "    \n",
    "    def students_details(self):\n",
    "        print(self.name, self.email)"
   ]
  },
  {
   "cell_type": "code",
   "execution_count": 6,
   "id": "b097a947-cbf5-429e-8067-d6ef3a38d46c",
   "metadata": {},
   "outputs": [],
   "source": [
    "pw1 = pwskills1.details(\"shri\", \"s@gmail.com\")"
   ]
  },
  {
   "cell_type": "code",
   "execution_count": 7,
   "id": "b65612ce-36b6-4ccc-bc1a-a24ba93dab9b",
   "metadata": {},
   "outputs": [
    {
     "data": {
      "text/plain": [
       "'shri'"
      ]
     },
     "execution_count": 7,
     "metadata": {},
     "output_type": "execute_result"
    }
   ],
   "source": [
    "pw1.name"
   ]
  },
  {
   "cell_type": "code",
   "execution_count": 8,
   "id": "68bd1f85-7aae-4e52-aee9-2b9878645a72",
   "metadata": {},
   "outputs": [
    {
     "data": {
      "text/plain": [
       "'s@gmail.com'"
      ]
     },
     "execution_count": 8,
     "metadata": {},
     "output_type": "execute_result"
    }
   ],
   "source": [
    "pw1.email"
   ]
  },
  {
   "cell_type": "code",
   "execution_count": 9,
   "id": "094ade43-54dd-43c5-8a4e-be07d462f891",
   "metadata": {},
   "outputs": [
    {
     "name": "stdout",
     "output_type": "stream",
     "text": [
      "shri s@gmail.com\n"
     ]
    }
   ],
   "source": [
    "pw1.students_details()"
   ]
  },
  {
   "cell_type": "code",
   "execution_count": null,
   "id": "e1f03e24-033e-4ea0-b6ab-31d9c13199fa",
   "metadata": {},
   "outputs": [],
   "source": []
  },
  {
   "cell_type": "code",
   "execution_count": 23,
   "id": "a2a3d9d3-38d9-49e7-899d-bc059bcbf34b",
   "metadata": {},
   "outputs": [],
   "source": [
    "class pwskills2:\n",
    "    \n",
    "    mobile_num = 9988776655\n",
    "    \n",
    "    def __init__(self, name, email):\n",
    "        self.name = name\n",
    "        self.email = email\n",
    "    \n",
    "    @classmethod  \n",
    "    def change_number(cls, mobile):\n",
    "        pwskills2.mobile_num = mobile\n",
    "    \n",
    "    @classmethod    #decorator\n",
    "    def details(cls, name, email):\n",
    "        return cls(name, email)\n",
    "    \n",
    "    def students_details(self):\n",
    "        print(self.name, self.email, pwskills2.mobile_num)"
   ]
  },
  {
   "cell_type": "code",
   "execution_count": 24,
   "id": "6607473b-15c6-49ed-8c95-4c8ab7c7fe32",
   "metadata": {},
   "outputs": [
    {
     "data": {
      "text/plain": [
       "9988776655"
      ]
     },
     "execution_count": 24,
     "metadata": {},
     "output_type": "execute_result"
    }
   ],
   "source": [
    "pwskills2.mobile_num"
   ]
  },
  {
   "cell_type": "code",
   "execution_count": 25,
   "id": "0ac9e839-c889-498e-83e1-dc72ef13c926",
   "metadata": {},
   "outputs": [],
   "source": [
    "pwskills2.change_number(2213312213)"
   ]
  },
  {
   "cell_type": "code",
   "execution_count": 26,
   "id": "e2385c17-5928-4c41-bd16-56a339be862d",
   "metadata": {},
   "outputs": [
    {
     "data": {
      "text/plain": [
       "2213312213"
      ]
     },
     "execution_count": 26,
     "metadata": {},
     "output_type": "execute_result"
    }
   ],
   "source": [
    "pwskills2.mobile_num"
   ]
  },
  {
   "cell_type": "code",
   "execution_count": 27,
   "id": "a8199857-a92a-41df-b348-2e77cc8ad493",
   "metadata": {},
   "outputs": [],
   "source": [
    "#accessing students_details via:"
   ]
  },
  {
   "cell_type": "code",
   "execution_count": 28,
   "id": "ca581084-48d7-4c15-a991-b283aa88369b",
   "metadata": {},
   "outputs": [],
   "source": [
    "#object\n",
    "pw_obj = pwskills2(\"kk\",\"k@gmail.com\")"
   ]
  },
  {
   "cell_type": "code",
   "execution_count": 29,
   "id": "279cc79b-e607-4974-bb34-db7aee561b63",
   "metadata": {},
   "outputs": [
    {
     "name": "stdout",
     "output_type": "stream",
     "text": [
      "kk k@gmail.com 2213312213\n"
     ]
    }
   ],
   "source": [
    "pw_obj.students_details()"
   ]
  },
  {
   "cell_type": "code",
   "execution_count": 30,
   "id": "30812259-e1ca-4757-b565-10ec75f9048c",
   "metadata": {},
   "outputs": [],
   "source": [
    "#via class method\n",
    "pw= pwskills2.details(\"rohan\",\"r@gmail.com\")\n"
   ]
  },
  {
   "cell_type": "code",
   "execution_count": 31,
   "id": "5f70b2ef-12be-4b20-b8ec-a5ba70de730b",
   "metadata": {},
   "outputs": [
    {
     "name": "stdout",
     "output_type": "stream",
     "text": [
      "rohan r@gmail.com 2213312213\n"
     ]
    }
   ],
   "source": [
    "pw.students_details()"
   ]
  },
  {
   "cell_type": "code",
   "execution_count": null,
   "id": "538c6a73-23d0-40ec-a557-7e9217457053",
   "metadata": {},
   "outputs": [],
   "source": []
  },
  {
   "cell_type": "code",
   "execution_count": null,
   "id": "3bd4aa31-a1de-4b44-83f2-2f7c9be54891",
   "metadata": {},
   "outputs": [],
   "source": [
    "# how to add external function  as part of our class method =>"
   ]
  },
  {
   "cell_type": "code",
   "execution_count": 2,
   "id": "de2fca8b-aaa8-4b24-8484-425296e1757d",
   "metadata": {},
   "outputs": [],
   "source": [
    "class pwskills3:\n",
    "    \n",
    "    mobile_num = 9988776655\n",
    "    \n",
    "    def __init__(self, name, email):\n",
    "        self.name = name\n",
    "        self.email = email\n",
    "    \n",
    "    @classmethod  \n",
    "    def change_number(cls, mobile):\n",
    "        pwskills2.mobile_num = mobile\n",
    "    \n",
    "    @classmethod    #decorator\n",
    "    def details(cls, name, email):\n",
    "        return cls(name, email)\n",
    "    \n",
    "    def students_details(self):\n",
    "        print(self.name, self.email, pwskills2.mobile_num)"
   ]
  },
  {
   "cell_type": "code",
   "execution_count": 3,
   "id": "bdc70a65-0e4d-4248-8cf1-82306d5afca4",
   "metadata": {},
   "outputs": [],
   "source": [
    "#external function\n",
    "def course_details(cls, course_name):\n",
    "    print(\"course is :\", course_name)"
   ]
  },
  {
   "cell_type": "code",
   "execution_count": 4,
   "id": "205bae67-7fdf-4d3e-900b-18e072cea6d7",
   "metadata": {},
   "outputs": [],
   "source": [
    "pwskills3.course_details = classmethod(course_details)"
   ]
  },
  {
   "cell_type": "code",
   "execution_count": 5,
   "id": "a1176e95-bae3-4cfa-bc41-8dbc1ef3ced9",
   "metadata": {},
   "outputs": [
    {
     "name": "stdout",
     "output_type": "stream",
     "text": [
      "course is : data science\n"
     ]
    }
   ],
   "source": [
    "pwskills3.course_details(\"data science\")"
   ]
  },
  {
   "cell_type": "code",
   "execution_count": null,
   "id": "73c66ed7-4003-4ca2-958c-cbce2594fa5d",
   "metadata": {},
   "outputs": [],
   "source": []
  },
  {
   "cell_type": "code",
   "execution_count": 6,
   "id": "06a8f3fd-44a3-4c42-8d70-0551f623c9ba",
   "metadata": {},
   "outputs": [],
   "source": [
    "def mentor(cls, list_of_mentor):\n",
    "    print(list_of_mentor)"
   ]
  },
  {
   "cell_type": "code",
   "execution_count": 7,
   "id": "29dd8d09-e208-4ccf-9c7d-4f492d843f76",
   "metadata": {},
   "outputs": [],
   "source": [
    "pwskills3.mentor = classmethod(mentor)"
   ]
  },
  {
   "cell_type": "code",
   "execution_count": 8,
   "id": "3cd6a1b0-9d1a-4bb1-b2af-2b256310d96e",
   "metadata": {},
   "outputs": [
    {
     "name": "stdout",
     "output_type": "stream",
     "text": [
      "['sudhanshu', 'krish']\n"
     ]
    }
   ],
   "source": [
    "pwskills3.mentor([\"sudhanshu\",\"krish\"])"
   ]
  },
  {
   "cell_type": "code",
   "execution_count": null,
   "id": "769ad42f-920e-4209-ab99-478c72440950",
   "metadata": {},
   "outputs": [],
   "source": []
  },
  {
   "cell_type": "code",
   "execution_count": null,
   "id": "707e6af7-c290-4bd7-9d62-d953c5be3e48",
   "metadata": {},
   "outputs": [],
   "source": [
    "#delete function"
   ]
  },
  {
   "cell_type": "code",
   "execution_count": 17,
   "id": "cf5e4c3f-d0b8-4c40-bee9-0e658ebce50e",
   "metadata": {},
   "outputs": [],
   "source": [
    "class pwskills4:\n",
    "    \n",
    "    mobile_num = 9988776655\n",
    "    \n",
    "    def __init__(self, name, email):\n",
    "        self.name = name\n",
    "        self.email = email\n",
    "    \n",
    "    @classmethod  \n",
    "    def change_number(cls, mobile):\n",
    "        pwskills2.mobile_num = mobile\n",
    "    \n",
    "    @classmethod    #decorator\n",
    "    def details(cls, name, email):\n",
    "        return cls(name, email)\n",
    "    \n",
    "    def students_details(self):\n",
    "        print(self.name, self.email, pwskills2.mobile_num)"
   ]
  },
  {
   "cell_type": "code",
   "execution_count": 18,
   "id": "6d575acf-b8c2-43e0-8488-3b8bc70d26dd",
   "metadata": {},
   "outputs": [],
   "source": [
    "del pwskills4.change_number"
   ]
  },
  {
   "cell_type": "code",
   "execution_count": null,
   "id": "af4a530b-b501-4391-8f5f-b1b7e7c88a29",
   "metadata": {},
   "outputs": [],
   "source": [
    "pwskills4.change_number(323232323)\n",
    "# giveerror"
   ]
  },
  {
   "cell_type": "code",
   "execution_count": null,
   "id": "3988e07e-05b3-4b75-8072-f04162448d6e",
   "metadata": {},
   "outputs": [],
   "source": []
  },
  {
   "cell_type": "code",
   "execution_count": 20,
   "id": "ee5a6bf4-ad69-4435-9035-0db48a6c39c1",
   "metadata": {},
   "outputs": [],
   "source": [
    "delattr(pwskills4, \"details\")"
   ]
  },
  {
   "cell_type": "code",
   "execution_count": 21,
   "id": "97157808-ec18-4ccb-9065-b72d2aba67d7",
   "metadata": {},
   "outputs": [],
   "source": [
    "# we can also delete a method which is not directly a class method\n",
    "delattr(pwskills4, \"students_details\")"
   ]
  },
  {
   "cell_type": "code",
   "execution_count": null,
   "id": "448855a3-7859-4972-9a8e-95e861c216c4",
   "metadata": {},
   "outputs": [],
   "source": []
  },
  {
   "cell_type": "code",
   "execution_count": 22,
   "id": "4596f63d-4626-43e7-89b4-d02eedf066e2",
   "metadata": {},
   "outputs": [],
   "source": [
    "delattr(pwskills4, \"mobile_num\")"
   ]
  },
  {
   "cell_type": "code",
   "execution_count": null,
   "id": "f9ff6843-d88a-4f2a-9b7f-070060958472",
   "metadata": {},
   "outputs": [],
   "source": []
  }
 ],
 "metadata": {
  "kernelspec": {
   "display_name": "Python 3 (ipykernel)",
   "language": "python",
   "name": "python3"
  },
  "language_info": {
   "codemirror_mode": {
    "name": "ipython",
    "version": 3
   },
   "file_extension": ".py",
   "mimetype": "text/x-python",
   "name": "python",
   "nbconvert_exporter": "python",
   "pygments_lexer": "ipython3",
   "version": "3.10.8"
  }
 },
 "nbformat": 4,
 "nbformat_minor": 5
}
