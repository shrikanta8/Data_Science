{
 "cells": [
  {
   "cell_type": "code",
   "execution_count": 1,
   "id": "ec1c80f7-de04-4769-9ef4-9f1a21d3e00e",
   "metadata": {},
   "outputs": [],
   "source": [
    "class pwskills:\n",
    "    \n",
    "    def details(self, name,mail,number):\n",
    "        print(name,mail,number)"
   ]
  },
  {
   "cell_type": "code",
   "execution_count": 2,
   "id": "e712d919-b73a-4380-8116-5d20b46409b7",
   "metadata": {},
   "outputs": [],
   "source": [
    "pw = pwskills()"
   ]
  },
  {
   "cell_type": "code",
   "execution_count": 4,
   "id": "11feaa2e-b76f-41cc-865c-4befe5c4b082",
   "metadata": {},
   "outputs": [
    {
     "name": "stdout",
     "output_type": "stream",
     "text": [
      "shri s@gmail.com 9223322332\n"
     ]
    }
   ],
   "source": [
    "pw.details(\"shri\", \"s@gmail.com\",9223322332)"
   ]
  },
  {
   "cell_type": "code",
   "execution_count": null,
   "id": "60f0d6ab-3a83-48bc-a0b1-c00cf8a21400",
   "metadata": {},
   "outputs": [],
   "source": []
  },
  {
   "cell_type": "code",
   "execution_count": null,
   "id": "e8c71c04-b84e-482b-a922-2193af6a4816",
   "metadata": {},
   "outputs": [],
   "source": [
    "#we don't  bind static method like   class method\n",
    "#we call static method via class name\n",
    "#instead of creating repetative object functions we create static methods"
   ]
  },
  {
   "cell_type": "code",
   "execution_count": 8,
   "id": "6d941f9d-d148-4c42-a408-7347ecbd80e1",
   "metadata": {},
   "outputs": [],
   "source": [
    "class pwskills1:\n",
    "    \n",
    "    def student_details(self, name,mail,number):\n",
    "        print(name,mail,number)\n",
    "    \n",
    "    @staticmethod\n",
    "    def mentor_class(list_mentor):\n",
    "        print(list_mentor)\n",
    "    \n",
    "    def mentor(self, mentor_list):\n",
    "        print(mentor_list)"
   ]
  },
  {
   "cell_type": "code",
   "execution_count": 9,
   "id": "8cbfa036-0032-4e16-a330-bd8970892646",
   "metadata": {},
   "outputs": [
    {
     "name": "stdout",
     "output_type": "stream",
     "text": [
      "['sudh', 'krish']\n"
     ]
    }
   ],
   "source": [
    "pwskills1.mentor_class([\"sudh\",\"krish\"])"
   ]
  },
  {
   "cell_type": "code",
   "execution_count": null,
   "id": "aad73452-1883-4d00-8900-a4804c606a52",
   "metadata": {},
   "outputs": [],
   "source": []
  },
  {
   "cell_type": "code",
   "execution_count": null,
   "id": "db352cac-c284-4bb3-ab20-caa8fcbf0326",
   "metadata": {},
   "outputs": [],
   "source": [
    "# how to use static method inside a class method"
   ]
  },
  {
   "cell_type": "code",
   "execution_count": 15,
   "id": "9c899f09-37b2-48ab-9924-29adf705f7ed",
   "metadata": {},
   "outputs": [],
   "source": [
    "class pwskills2:\n",
    "    \n",
    "    def student_details(self, name,mail,number):\n",
    "        print(name,mail,number)\n",
    "    \n",
    "    @staticmethod\n",
    "    def mentor_class(list_mentor):\n",
    "        print(list_mentor)\n",
    "    \n",
    "    @classmethod\n",
    "    def class_name(cls):\n",
    "        cls.mentor_class([\"shri\",\"krishna\"])\n",
    "        \n",
    "    def mentor(self, mentor_list):\n",
    "        print(mentor_list)"
   ]
  },
  {
   "cell_type": "code",
   "execution_count": 16,
   "id": "bbeb0003-9096-438e-82b3-617a0c8a7779",
   "metadata": {},
   "outputs": [
    {
     "name": "stdout",
     "output_type": "stream",
     "text": [
      "['shri', 'krishna']\n"
     ]
    }
   ],
   "source": [
    "pwskills2.class_name()"
   ]
  },
  {
   "cell_type": "code",
   "execution_count": null,
   "id": "0ef9721e-4dca-4a64-8e68-d4bb4a2b2d33",
   "metadata": {},
   "outputs": [],
   "source": []
  },
  {
   "cell_type": "code",
   "execution_count": 17,
   "id": "25037893-b8b2-4cce-9545-53de2e9a9e35",
   "metadata": {},
   "outputs": [],
   "source": [
    "#calling static method in another static method"
   ]
  },
  {
   "cell_type": "code",
   "execution_count": 21,
   "id": "85ab452f-6891-4cc2-aa5b-ae6ccbfb70ac",
   "metadata": {},
   "outputs": [],
   "source": [
    "class pwskills3:\n",
    "    \n",
    "    def student_details(self, name,mail,number):\n",
    "        print(name,mail,number)\n",
    "    \n",
    "    @staticmethod\n",
    "    def mentor_mail_id(mail_id_mentor):\n",
    "        print(mail_id_mentor)\n",
    "    \n",
    "    @staticmethod\n",
    "    def mentor_class(list_mentor):\n",
    "        pwskills3.mentor_mail_id([\"s@gmail.com\",\"k@gmail.com\"])\n",
    "        print(list_mentor)\n",
    "    \n",
    "    def mentor(self, mentor_list):\n",
    "        print(mentor_list)"
   ]
  },
  {
   "cell_type": "code",
   "execution_count": 22,
   "id": "7269eb90-2310-4554-bb3c-bbe05686ae3d",
   "metadata": {},
   "outputs": [
    {
     "name": "stdout",
     "output_type": "stream",
     "text": [
      "['s@gmail.com', 'k@gmail.com']\n",
      "['shri', 'krishna']\n"
     ]
    }
   ],
   "source": [
    "pwskills3.mentor_class(['shri', 'krishna'])"
   ]
  },
  {
   "cell_type": "code",
   "execution_count": null,
   "id": "6961b1c4-d622-46bf-80b4-8d0638c869f4",
   "metadata": {},
   "outputs": [],
   "source": []
  },
  {
   "cell_type": "code",
   "execution_count": 23,
   "id": "76ecf60b-4b57-47c6-8805-04d5c84e87bc",
   "metadata": {},
   "outputs": [],
   "source": [
    "#calling static method in instance method"
   ]
  },
  {
   "cell_type": "code",
   "execution_count": 24,
   "id": "8ca3bc0b-d0b4-4280-af72-d1f93ba8fbb2",
   "metadata": {},
   "outputs": [],
   "source": [
    "class pwskills3:\n",
    "    \n",
    "    def student_details(self, name,mail,number):\n",
    "        print(name,mail,number)\n",
    "    \n",
    "    @staticmethod\n",
    "    def mentor_mail_id(mail_id_mentor):\n",
    "        print(mail_id_mentor)\n",
    "    \n",
    "    @staticmethod\n",
    "    def mentor_class(list_mentor):\n",
    "        pwskills3.mentor_mail_id([\"s@gmail.com\",\"k@gmail.com\"])\n",
    "        print(list_mentor)\n",
    "    \n",
    "    def mentor(self, mentor_list):\n",
    "        print(mentor_list)\n",
    "        self.mentor_class(['shri', 'krishna'])"
   ]
  },
  {
   "cell_type": "code",
   "execution_count": 25,
   "id": "ee917a15-3d96-4fb1-bdcb-97f41e9a2147",
   "metadata": {},
   "outputs": [],
   "source": [
    "pw = pwskills3()"
   ]
  },
  {
   "cell_type": "code",
   "execution_count": 27,
   "id": "42722028-b3b4-47de-a9a8-5689e0faf523",
   "metadata": {},
   "outputs": [
    {
     "name": "stdout",
     "output_type": "stream",
     "text": [
      "['govinda', 'kuresh']\n",
      "['s@gmail.com', 'k@gmail.com']\n",
      "['shri', 'krishna']\n"
     ]
    }
   ],
   "source": [
    "pw.mentor([\"govinda\",\"kuresh\"])"
   ]
  },
  {
   "cell_type": "code",
   "execution_count": null,
   "id": "59fe90e7-ff66-4571-89ca-e0b92f382838",
   "metadata": {},
   "outputs": [],
   "source": []
  }
 ],
 "metadata": {
  "kernelspec": {
   "display_name": "Python 3 (ipykernel)",
   "language": "python",
   "name": "python3"
  },
  "language_info": {
   "codemirror_mode": {
    "name": "ipython",
    "version": 3
   },
   "file_extension": ".py",
   "mimetype": "text/x-python",
   "name": "python",
   "nbconvert_exporter": "python",
   "pygments_lexer": "ipython3",
   "version": "3.10.8"
  }
 },
 "nbformat": 4,
 "nbformat_minor": 5
}
