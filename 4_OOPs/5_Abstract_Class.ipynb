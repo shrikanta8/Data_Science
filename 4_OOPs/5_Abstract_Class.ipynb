{
 "cells": [
  {
   "cell_type": "code",
   "execution_count": 1,
   "id": "d880e8b5-f41f-4e92-9bb4-a2536ecc2a48",
   "metadata": {},
   "outputs": [],
   "source": [
    "# helps in creating skeleton or bluprint"
   ]
  },
  {
   "cell_type": "code",
   "execution_count": 4,
   "id": "29ddaef9-6e07-4e49-8d4b-6b946229dd2f",
   "metadata": {},
   "outputs": [],
   "source": [
    "import abc\n",
    "# we have to write this if we want to inherit pwskills class\n",
    "\n",
    "class pwskills:\n",
    "    \n",
    "    @abc.abstractmethod    #if we want to make them bluprint, we have to write this\n",
    "    def student_details(self):\n",
    "        pass\n",
    "    \n",
    "    @abc.abstractmethod\n",
    "    def student_assignment(self):\n",
    "        pass\n",
    "    \n",
    "    @abc.abstractmethod\n",
    "    def student_marks(self):\n",
    "        pass   \n",
    "    \n",
    "#this is only the skeleton, we are not giving the definition"
   ]
  },
  {
   "cell_type": "code",
   "execution_count": 17,
   "id": "9d6c47dd-b6ac-45db-b785-d95d85041fe0",
   "metadata": {
    "tags": []
   },
   "outputs": [],
   "source": [
    "class student_details(pwskills):\n",
    "    \n",
    "    def student_details(self):\n",
    "        return \"taking details\"\n",
    "    \n",
    "    def student_assignment(self):\n",
    "        return \"taking assignments\"    "
   ]
  },
  {
   "cell_type": "code",
   "execution_count": 18,
   "id": "45c3336d-f941-4560-9b37-fab0469f4eb4",
   "metadata": {},
   "outputs": [],
   "source": [
    "class data_science(pwskills):\n",
    "    \n",
    "    def student_details(self):\n",
    "        return \"taking details of ds\"\n",
    "    \n",
    "    def student_assignment(self):\n",
    "        return \"taking assignments of ds\"    "
   ]
  },
  {
   "cell_type": "code",
   "execution_count": 19,
   "id": "ee600760-2a27-48e4-a52e-aaf3f0cf73ae",
   "metadata": {},
   "outputs": [
    {
     "data": {
      "text/plain": [
       "'taking details of ds'"
      ]
     },
     "execution_count": 19,
     "metadata": {},
     "output_type": "execute_result"
    }
   ],
   "source": [
    "ds =data_science()\n",
    "ds.student_details()"
   ]
  },
  {
   "cell_type": "code",
   "execution_count": 20,
   "id": "aeb7dcbe-0c0a-44b2-a951-91f10fda3b61",
   "metadata": {},
   "outputs": [
    {
     "data": {
      "text/plain": [
       "'taking details'"
      ]
     },
     "execution_count": 20,
     "metadata": {},
     "output_type": "execute_result"
    }
   ],
   "source": [
    "sd = student_details()\n",
    "sd.student_details()"
   ]
  },
  {
   "cell_type": "code",
   "execution_count": null,
   "id": "b0740d68-844e-4a77-95ce-bf32ae3b18f5",
   "metadata": {},
   "outputs": [],
   "source": []
  }
 ],
 "metadata": {
  "kernelspec": {
   "display_name": "Python 3 (ipykernel)",
   "language": "python",
   "name": "python3"
  },
  "language_info": {
   "codemirror_mode": {
    "name": "ipython",
    "version": 3
   },
   "file_extension": ".py",
   "mimetype": "text/x-python",
   "name": "python",
   "nbconvert_exporter": "python",
   "pygments_lexer": "ipython3",
   "version": "3.10.8"
  }
 },
 "nbformat": 4,
 "nbformat_minor": 5
}
